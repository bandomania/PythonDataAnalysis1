{
 "cells": [
  {
   "cell_type": "markdown",
   "id": "a97a133f",
   "metadata": {},
   "source": [
    "## 데이터 입출력"
   ]
  },
  {
   "cell_type": "markdown",
   "id": "6112dd7f",
   "metadata": {},
   "source": [
    "### 관련 라이브러리 호출"
   ]
  },
  {
   "cell_type": "code",
   "execution_count": null,
   "id": "119f04a1",
   "metadata": {},
   "outputs": [],
   "source": [
    "# 관련 라이브러리를 호출합니다.\n",
    "import os\n",
    "import chardet\n",
    "import numpy as np\n",
    "import pandas as pd\n",
    "import joblib"
   ]
  },
  {
   "cell_type": "markdown",
   "id": "7cfe26c4",
   "metadata": {},
   "source": [
    "### 작업 경로 확인 및 변경"
   ]
  },
  {
   "cell_type": "code",
   "execution_count": null,
   "id": "a2915472",
   "metadata": {},
   "outputs": [],
   "source": [
    "# 현재 작업 경로를 확인합니다.\n",
    "os.getcwd()"
   ]
  },
  {
   "cell_type": "code",
   "execution_count": null,
   "id": "793dc43c",
   "metadata": {},
   "outputs": [],
   "source": [
    "# 데이터 파일이 있는 폴더로 작업 경로를 변경합니다.(절대 경로)\n",
    "os.chdir(path = '여기에 data 폴더를 지정하세요.')\n",
    "os.getcwd()"
   ]
  },
  {
   "cell_type": "code",
   "execution_count": null,
   "id": "175403cf",
   "metadata": {},
   "outputs": [],
   "source": [
    "# 현재 작업 경로의 부모 폴더로 작업 경로를 변경합니다.(상대 경로)\n",
    "os.chdir(path = '..')\n",
    "os.getcwd()"
   ]
  },
  {
   "cell_type": "code",
   "execution_count": null,
   "id": "dc0f5f20",
   "metadata": {},
   "outputs": [],
   "source": [
    "# 현재 작업 경로의 자식 폴더로 작업 경로를 변경합니다.(상대 경로)\n",
    "# [참고] './'를 생략할 수 있습니다.\n",
    "os.chdir(path = './code')\n",
    "os.getcwd()"
   ]
  },
  {
   "cell_type": "code",
   "execution_count": null,
   "id": "ddab53dc",
   "metadata": {},
   "outputs": [],
   "source": [
    "# 현재 작업 경로의 형제 폴더로 작업 경로를 변경합니다.(상대 경로)\n",
    "# [주의] '..'은 생략할 수 없습니다.\n",
    "os.chdir(path = '../data')\n",
    "os.getcwd()"
   ]
  },
  {
   "cell_type": "markdown",
   "id": "24d583b6",
   "metadata": {},
   "source": [
    "### 작업 경로에 있는 폴더명, 파일명 확인"
   ]
  },
  {
   "cell_type": "code",
   "execution_count": null,
   "id": "3e57e1ad",
   "metadata": {},
   "outputs": [],
   "source": [
    "# 현재 작업 경로에 있는 폴더명과 파일명을 출력합니다.\n",
    "os.listdir()"
   ]
  },
  {
   "cell_type": "code",
   "execution_count": null,
   "id": "deb74835",
   "metadata": {},
   "outputs": [],
   "source": [
    "# [참고] MacOS 사용자는 아래 코드를 대신 실행합니다.\n",
    "sorted(os.listdir())"
   ]
  },
  {
   "cell_type": "code",
   "execution_count": null,
   "id": "da4ca252",
   "metadata": {},
   "outputs": [],
   "source": [
    "# 반복문으로 'xlsx'을 포함하는 파일명을 출력합니다.\n",
    "for file in os.listdir():\n",
    "    if 'xlsx' in file:\n",
    "        print(file)"
   ]
  },
  {
   "cell_type": "code",
   "execution_count": null,
   "id": "1b35f53e",
   "metadata": {},
   "outputs": [],
   "source": [
    "# 'xlsx'을 포함하는 파일명을 리스트로 반환합니다.\n",
    "[file for file in os.listdir() if 'xlsx' in file]"
   ]
  },
  {
   "cell_type": "markdown",
   "id": "a9a27e9e",
   "metadata": {},
   "source": [
    "### xlsx 파일 읽기"
   ]
  },
  {
   "cell_type": "code",
   "execution_count": null,
   "id": "sustained-blank",
   "metadata": {
    "scrolled": true
   },
   "outputs": [],
   "source": [
    "# xlsx 파일을 읽고 데이터프레임을 생성합니다.\n",
    "pd.read_excel(io = 'APT_Price_Seoul_2020_2022.xlsx')"
   ]
  },
  {
   "cell_type": "markdown",
   "id": "d798afe1",
   "metadata": {},
   "source": [
    "### xlsx 파일 읽을 때 옵션 추가"
   ]
  },
  {
   "cell_type": "code",
   "execution_count": null,
   "id": "f11053ea",
   "metadata": {
    "scrolled": true
   },
   "outputs": [],
   "source": [
    "# xlsx 파일을 읽을 때 필요한 옵션을 추가합니다.\n",
    "pd.read_excel(io = 'APT_Price_Seoul_2020_2022.xlsx', \n",
    "              sheet_name = '2022년', \n",
    "              usecols = range(1, 12), \n",
    "              skiprows = 3, \n",
    "              thousands = ',')"
   ]
  },
  {
   "cell_type": "markdown",
   "id": "israeli-water",
   "metadata": {},
   "source": [
    "### xlsx 파일 입출력"
   ]
  },
  {
   "cell_type": "code",
   "execution_count": null,
   "id": "7ad8a3cb",
   "metadata": {},
   "outputs": [],
   "source": [
    "# xlsx 파일을 읽고 df1에 할당합니다.\n",
    "# [참고] 다음 행을 연결하려면 백슬래시를 추가해야 합니다.\n",
    "# [주의] 백슬래시 뒤에 공백이 있으면 에러를 반환합니다.\n",
    "%time df1 = pd.read_excel(io = 'APT_Price_Seoul_2020_2022.xlsx', \\\n",
    "                          sheet_name = '2020~2022년')"
   ]
  },
  {
   "cell_type": "code",
   "execution_count": null,
   "id": "18773439",
   "metadata": {},
   "outputs": [],
   "source": [
    "# df1의 정보를 확인합니다.\n",
    "df1.info()"
   ]
  },
  {
   "cell_type": "code",
   "execution_count": null,
   "id": "derived-result",
   "metadata": {},
   "outputs": [],
   "source": [
    "# df1을 xlsx 파일로 저장합니다.\n",
    "%time df1.to_excel(excel_writer = 'test.xlsx', index = False)"
   ]
  },
  {
   "cell_type": "markdown",
   "id": "75d7495f",
   "metadata": {},
   "source": [
    "### [참고] 여러 시트를 데이터프레임으로 결합"
   ]
  },
  {
   "cell_type": "code",
   "execution_count": null,
   "id": "427de288",
   "metadata": {},
   "outputs": [],
   "source": [
    "# 최종 결과를 저장할 빈 데이터프레임을 생성합니다.\n",
    "dfAll = pd.DataFrame()"
   ]
  },
  {
   "cell_type": "code",
   "execution_count": null,
   "id": "da9d2a75",
   "metadata": {},
   "outputs": [],
   "source": [
    "# 반복문으로 각 시트를 읽고 행(세로) 방향으로 결합합니다.\n",
    "for i in range(3):\n",
    "    df = pd.read_excel(io = 'APT_Price_Seoul_2020_2022.xlsx', \n",
    "                       sheet_name = i, \n",
    "                       usecols = range(1, 12), \n",
    "                       skiprows = 3)\n",
    "    dfAll = pd.concat(objs = [dfAll, df], ignore_index = True)"
   ]
  },
  {
   "cell_type": "markdown",
   "id": "b14579d6",
   "metadata": {},
   "source": [
    "### [참고] 데이터프레임 행/열 최대 출력 옵션 변경"
   ]
  },
  {
   "cell_type": "code",
   "execution_count": null,
   "id": "2768aacc-6078-4c2d-8e3d-8915052380bc",
   "metadata": {
    "scrolled": true
   },
   "outputs": [],
   "source": [
    "# 최대 행 출력 옵션을 확인합니다.\n",
    "pd.get_option('display.max_rows')"
   ]
  },
  {
   "cell_type": "code",
   "execution_count": null,
   "id": "80c1da14",
   "metadata": {},
   "outputs": [],
   "source": [
    "# 전체 행을 출력하도록 최대 행 출력 옵션을 변경합니다.\n",
    "pd.set_option('display.max_rows', None)"
   ]
  },
  {
   "cell_type": "raw",
   "id": "270e493b",
   "metadata": {},
   "source": [
    "# 이제 데이터프레임을 실행하면 전체 행을 출력합니다.\n",
    "# [주의] 전체 행을 출력하면 Jupyter Notebook이 느려지고 경우에 따라 다운됩니다.\n",
    "df1"
   ]
  },
  {
   "cell_type": "code",
   "execution_count": null,
   "id": "056a5fe8-ad52-47f5-ac52-1cd6e7d6bd14",
   "metadata": {},
   "outputs": [],
   "source": [
    "# 최대 행 출력 옵션을 초기화합니다.\n",
    "# [참고] 전체 옵션을 초기화하려면 'display.max_rows' 대신 'all'을 지정합니다.\n",
    "pd.reset_option('display.max_rows')"
   ]
  },
  {
   "cell_type": "markdown",
   "id": "8c5abbc0",
   "metadata": {},
   "source": [
    "### 데이터프레임 미리보기"
   ]
  },
  {
   "cell_type": "code",
   "execution_count": null,
   "id": "fcab08cb",
   "metadata": {},
   "outputs": [],
   "source": [
    "# df1의 처음 5행을 출력합니다.\n",
    "df1.head()"
   ]
  },
  {
   "cell_type": "code",
   "execution_count": null,
   "id": "4360bfc1",
   "metadata": {},
   "outputs": [],
   "source": [
    "# df1의 처음 10행을 출력합니다.\n",
    "df1.head(n = 10)"
   ]
  },
  {
   "cell_type": "code",
   "execution_count": null,
   "id": "a0f2902e",
   "metadata": {},
   "outputs": [],
   "source": [
    "# df1의 마지막 5행을 출력합니다.\n",
    "df1.tail()"
   ]
  },
  {
   "cell_type": "code",
   "execution_count": null,
   "id": "7238ce41",
   "metadata": {},
   "outputs": [],
   "source": [
    "# df1에서 무작위로 1행을 선택합니다.\n",
    "df1.sample()"
   ]
  },
  {
   "cell_type": "markdown",
   "id": "e0fbc2e7",
   "metadata": {},
   "source": [
    "### csv 파일 읽기"
   ]
  },
  {
   "cell_type": "code",
   "execution_count": null,
   "id": "887fb7f7",
   "metadata": {},
   "outputs": [],
   "source": [
    "# 'csv'를 포함하는 파일명을 리스트로 반환합니다.\n",
    "[file for file in os.listdir() if 'csv' in file]"
   ]
  },
  {
   "cell_type": "code",
   "execution_count": null,
   "id": "f213d37d",
   "metadata": {},
   "outputs": [],
   "source": [
    "# csv 파일명을 재사용할 수 있도록 변수에 할당합니다.\n",
    "fileName = 'APT_Price_Seoul_2020_2022.csv'"
   ]
  },
  {
   "cell_type": "code",
   "execution_count": null,
   "id": "d41f243f",
   "metadata": {
    "scrolled": true
   },
   "outputs": [],
   "source": [
    "# csv 파일을 읽고 데이터프레임을 생성합니다.\n",
    "pd.read_csv(filepath_or_buffer = fileName)"
   ]
  },
  {
   "cell_type": "markdown",
   "id": "d81853cb",
   "metadata": {},
   "source": [
    "### csv 파일의 문자 인코딩 방식 확인"
   ]
  },
  {
   "cell_type": "code",
   "execution_count": null,
   "id": "willing-transcription",
   "metadata": {},
   "outputs": [],
   "source": [
    "# csv 파일을 bytes로 읽고 text에 할당합니다.\n",
    "with open(file = fileName, mode = 'rb') as file:\n",
    "    text = file.read()"
   ]
  },
  {
   "cell_type": "code",
   "execution_count": null,
   "id": "bdd2fa21",
   "metadata": {},
   "outputs": [],
   "source": [
    "# text의 일부를 확인합니다.\n",
    "# text는 ASCII로 인코딩된 문자열이므로 사람이 읽을 수 없습니다.\n",
    "# [참고] 따옴표 왼쪽에 b가 보이면 bytes입니다.\n",
    "text[:100]"
   ]
  },
  {
   "cell_type": "code",
   "execution_count": null,
   "id": "45aae9ba",
   "metadata": {},
   "outputs": [],
   "source": [
    "# text의 일부로 문자 인코딩 방식을 확인합니다.\n",
    "# [주의] 지정한 문자열에 따라 결과가 달라질 수 있습니다.\n",
    "%time chardet.detect(text[:100])"
   ]
  },
  {
   "cell_type": "code",
   "execution_count": null,
   "id": "consecutive-inspiration",
   "metadata": {},
   "outputs": [],
   "source": [
    "# text의 전체로 문자 인코딩 방식을 확인합니다.\n",
    "# [참고] text의 글자 개수에 따라 함수 실행 소요 시간이 달라집니다.\n",
    "%time chardet.detect(text)"
   ]
  },
  {
   "cell_type": "markdown",
   "id": "b7b7fcc8",
   "metadata": {},
   "source": [
    "### csv 파일 읽을 때 옵션 추가"
   ]
  },
  {
   "cell_type": "code",
   "execution_count": null,
   "id": "a76106a6",
   "metadata": {
    "scrolled": true
   },
   "outputs": [],
   "source": [
    "# csv 파일을 읽을 때 필요한 옵션을 추가합니다.\n",
    "pd.read_csv(filepath_or_buffer = fileName, \n",
    "            encoding = 'CP949', \n",
    "            sep = ',', \n",
    "            parse_dates = ['거래일'],\n",
    "            thousands = ',')"
   ]
  },
  {
   "cell_type": "markdown",
   "id": "664c4ced",
   "metadata": {},
   "source": [
    "### csv 파일 입출력"
   ]
  },
  {
   "cell_type": "code",
   "execution_count": null,
   "id": "3d3ce0d3",
   "metadata": {},
   "outputs": [],
   "source": [
    "# csv 파일을 읽고 df2에 할당합니다.\n",
    "# [참고] 데이터 전처리 실습을 위해 거래일과 거래금액의 자료형을 변경하지 않습니다.\n",
    "%time df2 = pd.read_csv(filepath_or_buffer = fileName, \\\n",
    "                        encoding = 'CP949')"
   ]
  },
  {
   "cell_type": "code",
   "execution_count": null,
   "id": "755dbbf5",
   "metadata": {},
   "outputs": [],
   "source": [
    "# df2의 정보를 확인합니다.\n",
    "df2.info()"
   ]
  },
  {
   "cell_type": "code",
   "execution_count": null,
   "id": "endless-operator",
   "metadata": {},
   "outputs": [],
   "source": [
    "# df2를 csv 파일로 저장합니다.\n",
    "%time df2.to_csv(path_or_buf = 'test.csv', index = False)"
   ]
  },
  {
   "cell_type": "markdown",
   "id": "7cdcbc16",
   "metadata": {},
   "source": [
    "### 압축 파일 입출력"
   ]
  },
  {
   "cell_type": "code",
   "execution_count": null,
   "id": "75ea3245",
   "metadata": {},
   "outputs": [],
   "source": [
    "# df2를 확장자가 z인 압축 파일로 저장합니다.\n",
    "%time joblib.dump(value = df2, filename = 'test.z')"
   ]
  },
  {
   "cell_type": "code",
   "execution_count": null,
   "id": "2ebedc2e",
   "metadata": {},
   "outputs": [],
   "source": [
    "# z 파일을 읽고 df3에 할당합니다.\n",
    "%time df3 = joblib.load(filename = 'test.z')"
   ]
  },
  {
   "cell_type": "code",
   "execution_count": null,
   "id": "03985f03",
   "metadata": {},
   "outputs": [],
   "source": [
    "# df3의 정보를 확인합니다.\n",
    "df3.info()"
   ]
  },
  {
   "cell_type": "markdown",
   "id": "983e9fef",
   "metadata": {},
   "source": [
    "### [참고] 실습 파일 삭제"
   ]
  },
  {
   "cell_type": "code",
   "execution_count": null,
   "id": "73b35402",
   "metadata": {},
   "outputs": [],
   "source": [
    "# 현재 작업 경로에서 'test'를 포함하는 파일명으로 리스트를 생성합니다.\n",
    "files = [file for file in os.listdir() if 'test' in file]\n",
    "files"
   ]
  },
  {
   "cell_type": "code",
   "execution_count": null,
   "id": "ec7f1f6c",
   "metadata": {},
   "outputs": [],
   "source": [
    "# 반복문으로 해당 파일을 모두 삭제합니다.\n",
    "for file in files:\n",
    "    os.remove(path = file)"
   ]
  },
  {
   "cell_type": "code",
   "execution_count": null,
   "id": "5c423d25",
   "metadata": {},
   "outputs": [],
   "source": [
    "# 현재 작업 경로에 있는 폴더명과 파일명을 출력합니다.\n",
    "sorted(os.listdir())"
   ]
  },
  {
   "cell_type": "markdown",
   "id": "vocational-sacrifice",
   "metadata": {},
   "source": [
    "## End of Document"
   ]
  }
 ],
 "metadata": {
  "kernelspec": {
   "display_name": "Python 3 (ipykernel)",
   "language": "python",
   "name": "python3"
  },
  "language_info": {
   "codemirror_mode": {
    "name": "ipython",
    "version": 3
   },
   "file_extension": ".py",
   "mimetype": "text/x-python",
   "name": "python",
   "nbconvert_exporter": "python",
   "pygments_lexer": "ipython3",
   "version": "3.11.1"
  },
  "toc": {
   "base_numbering": 1,
   "nav_menu": {},
   "number_sections": false,
   "sideBar": true,
   "skip_h1_title": false,
   "title_cell": "Table of Contents",
   "title_sidebar": "Contents",
   "toc_cell": false,
   "toc_position": {},
   "toc_section_display": true,
   "toc_window_display": false
  },
  "varInspector": {
   "cols": {
    "lenName": 16,
    "lenType": 16,
    "lenVar": 40
   },
   "kernels_config": {
    "python": {
     "delete_cmd_postfix": "",
     "delete_cmd_prefix": "del ",
     "library": "var_list.py",
     "varRefreshCmd": "print(var_dic_list())"
    },
    "r": {
     "delete_cmd_postfix": ") ",
     "delete_cmd_prefix": "rm(",
     "library": "var_list.r",
     "varRefreshCmd": "cat(var_dic_list()) "
    }
   },
   "types_to_exclude": [
    "module",
    "function",
    "builtin_function_or_method",
    "instance",
    "_Feature"
   ],
   "window_display": false
  }
 },
 "nbformat": 4,
 "nbformat_minor": 5
}
