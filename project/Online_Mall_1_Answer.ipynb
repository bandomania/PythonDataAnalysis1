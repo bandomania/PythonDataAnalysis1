{
 "cells": [
  {
   "cell_type": "markdown",
   "id": "48935d6b",
   "metadata": {},
   "source": [
    "## 데이터 전처리"
   ]
  },
  {
   "cell_type": "markdown",
   "id": "c7ff2b2b",
   "metadata": {},
   "source": [
    "### 실습 데이터셋 안내\n",
    "\n",
    "- 2022년 1~12월 간 lg.com의 마케팅 실적 데이터입니다.<br><br>\n",
    "- 변수(열)에 대한 간단한 설명입니다.\n",
    "\n",
    "| 열이름 | 설명 | 특징 |\n",
    "| :----- | :--- | :--- |\n",
    "| country | 국가 코드 | au: 호주, br: 브라질, de: 독일, fr: 프랑스, it: 이탈리아, <br> uk: 영국 |\n",
    "| date | 웹 행동 발생 일자 | 2022.01.01~2022.12.31 |\n",
    "| product_category | 제품 대분류 | HE, HA, BS(LG전자 사업부별 분류) |\n",
    "| product_subcategory | 제품 소분류 | 13개 카테고리(제품별 분류) |\n",
    "| product_detail_page | 제품 상세 페이지 유입 수 | 수치형 |\n",
    "| add_to_cart | 장바구니 추가 클릭 수 | 수치형 |\n",
    "| sales_amt | 판매대수 | 수치형(대) |\n",
    "| sales_usd | 판매금액 | 수치형(USD) |\n",
    "\n",
    "- 실습 데이터인 csv 파일은 data 폴더에 있습니다.\n",
    "  - 구분자는 콤마(,)이고 인코딩 방식은 **ASCII**입니다."
   ]
  },
  {
   "cell_type": "markdown",
   "id": "56bedabd",
   "metadata": {},
   "source": [
    "### 관련 라이브러리 호출"
   ]
  },
  {
   "cell_type": "code",
   "execution_count": null,
   "id": "bc1e38b3",
   "metadata": {},
   "outputs": [],
   "source": [
    "# 관련 라이브러리를 호출합니다.\n",
    "import os\n",
    "import chardet\n",
    "import numpy as np\n",
    "import pandas as pd\n",
    "import joblib"
   ]
  },
  {
   "cell_type": "code",
   "execution_count": null,
   "id": "1f596b4e",
   "metadata": {},
   "outputs": [],
   "source": [
    "# Jupyter Notebook에서 실수를 소수점 셋째 자리까지 출력하도록 설정합니다.\n",
    "%precision 3"
   ]
  },
  {
   "cell_type": "code",
   "execution_count": null,
   "id": "85d45183",
   "metadata": {},
   "outputs": [],
   "source": [
    "# pandas 객체에서 실수를 소수점 셋째 자리까지 출력하도록 설정합니다.\n",
    "pd.options.display.precision = 3"
   ]
  },
  {
   "cell_type": "markdown",
   "id": "040f24b0",
   "metadata": {},
   "source": [
    "### 작업 경로 확인 및 변경"
   ]
  },
  {
   "cell_type": "code",
   "execution_count": null,
   "id": "8d48444e",
   "metadata": {},
   "outputs": [],
   "source": [
    "# 현재 작업 경로를 확인합니다.\n",
    "os.getcwd()"
   ]
  },
  {
   "cell_type": "code",
   "execution_count": null,
   "id": "7df8f595",
   "metadata": {},
   "outputs": [],
   "source": [
    "# data 폴더로 작업 경로를 변경합니다.\n",
    "os.chdir(path = '../data')"
   ]
  },
  {
   "cell_type": "code",
   "execution_count": null,
   "id": "2c79487f",
   "metadata": {},
   "outputs": [],
   "source": [
    "# 작업 경로에 있는 폴더명과 파일명을 출력합니다.\n",
    "sorted(os.listdir())"
   ]
  },
  {
   "cell_type": "markdown",
   "id": "420d76e7",
   "metadata": {},
   "source": [
    "### 인코딩 방식 확인"
   ]
  },
  {
   "cell_type": "code",
   "execution_count": null,
   "id": "d11deebf",
   "metadata": {},
   "outputs": [],
   "source": [
    "# csv 파일명을 변수에 할당합니다. 여러 번 재사용하기 위함입니다.\n",
    "fileName = 'online_mall.csv'"
   ]
  },
  {
   "cell_type": "code",
   "execution_count": null,
   "id": "dbdd695c",
   "metadata": {},
   "outputs": [],
   "source": [
    "# csv 파일을 bytes 문자열로 읽고 text에 할당합니다.\n",
    "# [힌트] open(), read() 함수를 사용하세요.\n",
    "text = open(file = fileName, mode = 'rb').read()"
   ]
  },
  {
   "cell_type": "code",
   "execution_count": null,
   "id": "ce16705c",
   "metadata": {},
   "outputs": [],
   "source": [
    "# 바이너리 텍스트의 인코딩 방식을 확인합니다.\n",
    "# [힌트] chardet.detect() 함수를 사용하세요.\n",
    "chardet.detect(text)"
   ]
  },
  {
   "cell_type": "markdown",
   "id": "1c5d239c",
   "metadata": {},
   "source": [
    "### 실습 데이터셋 준비"
   ]
  },
  {
   "cell_type": "code",
   "execution_count": null,
   "id": "081193e8",
   "metadata": {},
   "outputs": [],
   "source": [
    "# 링크를 읽고 데이터프레임 rawdat를 생성합니다.\n",
    "# [힌트] pd.read_csv() 함수를 사용하세요.\n",
    "# [참고] EUC-KR은 CP949의 부분집합입니다.\n",
    "rawdat = pd.read_csv(filepath_or_buffer = fileName)"
   ]
  },
  {
   "cell_type": "code",
   "execution_count": null,
   "id": "366f9cce",
   "metadata": {},
   "outputs": [],
   "source": [
    "# rawdat의 정보를 확인합니다.\n",
    "# [힌트] info() 함수를 사용하세요.\n",
    "rawdat.info()"
   ]
  },
  {
   "cell_type": "code",
   "execution_count": null,
   "id": "b07f555b",
   "metadata": {},
   "outputs": [],
   "source": [
    "# rawdat의 처음 5행을 출력합니다.\n",
    "# [힌트] head() 함수를 사용하세요.\n",
    "rawdat.head()"
   ]
  },
  {
   "cell_type": "code",
   "execution_count": null,
   "id": "fad3a3e6",
   "metadata": {},
   "outputs": [],
   "source": [
    "# rawdat의 마지막 5행을 출력합니다.\n",
    "# [힌트] tail() 함수를 사용하세요.\n",
    "rawdat.tail()"
   ]
  },
  {
   "cell_type": "markdown",
   "id": "b641539e",
   "metadata": {},
   "source": [
    "### 실습 데이터셋 전처리"
   ]
  },
  {
   "cell_type": "code",
   "execution_count": null,
   "id": "c1a5bd5a",
   "metadata": {},
   "outputs": [],
   "source": [
    "# 불필요한 열을 삭제합니다.\n",
    "# [힌트] drop() 함수를 실행한 결과를 데이터프레임에 재할당해야 합니다.\n",
    "rawdat = rawdat.drop(columns = ['Unnamed: 0'])"
   ]
  },
  {
   "cell_type": "code",
   "execution_count": null,
   "id": "79c06d3c",
   "metadata": {},
   "outputs": [],
   "source": [
    "# rawdat의 처음 5행을 출력합니다.\n",
    "rawdat.head()"
   ]
  },
  {
   "cell_type": "code",
   "execution_count": null,
   "id": "100db0f6",
   "metadata": {},
   "outputs": [],
   "source": [
    "# rawdat의 열이름을 출력합니다.\n",
    "rawdat.columns"
   ]
  },
  {
   "cell_type": "code",
   "execution_count": null,
   "id": "8e4b41eb",
   "metadata": {},
   "outputs": [],
   "source": [
    "# rawdat의 열이름에서 'product_'를 삭제한 결과를 출력합니다.\n",
    "rawdat.columns.str.replace('product_', '')"
   ]
  },
  {
   "cell_type": "code",
   "execution_count": null,
   "id": "e8fb54ba",
   "metadata": {},
   "outputs": [],
   "source": [
    "# 위 코드 실행 결과를 rawdat 열이름에 할당하여 변경합니다.\n",
    "rawdat.columns = rawdat.columns.str.replace('product_', '')"
   ]
  },
  {
   "cell_type": "code",
   "execution_count": null,
   "id": "6e036591",
   "metadata": {},
   "outputs": [],
   "source": [
    "# rawdat의 처음 5행을 출력합니다.\n",
    "rawdat.head()"
   ]
  },
  {
   "cell_type": "code",
   "execution_count": null,
   "id": "8cd28b47",
   "metadata": {},
   "outputs": [],
   "source": [
    "# rawdat의 열별 자료형을 확인합니다.\n",
    "rawdat.dtypes"
   ]
  },
  {
   "cell_type": "code",
   "execution_count": null,
   "id": "44c265d6",
   "metadata": {},
   "outputs": [],
   "source": [
    "# date를 날짜시간형(np.datetime64)으로 변환합니다.\n",
    "# [주의] 날짜시간형으로 변환하려면 정수를 문자열로 먼저 변환해야 합니다.\n",
    "rawdat['date'] = rawdat['date'].astype(str).astype(np.datetime64)"
   ]
  },
  {
   "cell_type": "code",
   "execution_count": null,
   "id": "a95e1e22",
   "metadata": {},
   "outputs": [],
   "source": [
    "# date에서 월(month)을 정수로 추출하여 새로운 열로 추가합니다.\n",
    "rawdat['month'] = rawdat['date'].dt.month"
   ]
  },
  {
   "cell_type": "code",
   "execution_count": null,
   "id": "22afec88",
   "metadata": {},
   "outputs": [],
   "source": [
    "# date에서 월을 정수 대신 숫자(문자열)로 추출할 수 있습니다.\n",
    "# [힌트] dt.strftime() 함수를 사용하세요.\n",
    "rawdat['date'].dt.strftime('%m')"
   ]
  },
  {
   "cell_type": "code",
   "execution_count": null,
   "id": "fec8adca",
   "metadata": {},
   "outputs": [],
   "source": [
    "# date에서 월을 정수 대신 영문자(문자열)로 추출할 수 있습니다.\n",
    "# [힌트] dt.strftime() 함수를 사용하세요.\n",
    "rawdat['date'].dt.strftime('%b')"
   ]
  },
  {
   "cell_type": "markdown",
   "id": "350f56fa",
   "metadata": {},
   "source": [
    "### 기술통계량 확인"
   ]
  },
  {
   "cell_type": "code",
   "execution_count": null,
   "id": "a82e736b",
   "metadata": {},
   "outputs": [],
   "source": [
    "# rawdat의 수치(정수 또는 실수)형 변수의 기술통계량을 확인합니다.\n",
    "# [힌트] describe() 함수를 사용하세요.\n",
    "rawdat.describe()"
   ]
  },
  {
   "cell_type": "code",
   "execution_count": null,
   "id": "0e04e068",
   "metadata": {},
   "outputs": [],
   "source": [
    "# rawdat의 범주형 변수의 기술통계량을 확인합니다.\n",
    "# [힌트] describe() 함수의 include 매개변수에 자료형을 지정하세요.\n",
    "rawdat.describe(include = object)"
   ]
  },
  {
   "cell_type": "code",
   "execution_count": null,
   "id": "64a28f14",
   "metadata": {},
   "outputs": [],
   "source": [
    "# country의 빈도수를 확인합니다.\n",
    "# [힌트] value_counts() 함수를 사용하세요.\n",
    "rawdat['country'].value_counts()"
   ]
  },
  {
   "cell_type": "code",
   "execution_count": null,
   "id": "a8c1557d",
   "metadata": {},
   "outputs": [],
   "source": [
    "# country의 상대도수를 확인합니다.\n",
    "# [힌트] value_counts() 함수에 normalize 매개변수를 추가하세요.\n",
    "rawdat['country'].value_counts(normalize = True)"
   ]
  },
  {
   "cell_type": "code",
   "execution_count": null,
   "id": "b27b7122",
   "metadata": {},
   "outputs": [],
   "source": [
    "# category와 subcategory로 리스트 cols를 생성합니다.\n",
    "cols = ['category', 'subcategory']"
   ]
  },
  {
   "cell_type": "code",
   "execution_count": null,
   "id": "23760950",
   "metadata": {},
   "outputs": [],
   "source": [
    "# category와 subcategory의 빈도수를 인덱스로 정렬하여 출력합니다.\n",
    "# [힌트] value_counts(), sort_index() 함수를 사용하세요.\n",
    "rawdat[cols].value_counts().sort_index()"
   ]
  },
  {
   "cell_type": "code",
   "execution_count": null,
   "id": "0b9d630e",
   "metadata": {},
   "outputs": [],
   "source": [
    "# category와 subcategory의 상대도수를 인덱스로 정렬하여 출력합니다.\n",
    "rawdat[cols].value_counts(normalize = True).sort_index()"
   ]
  },
  {
   "cell_type": "code",
   "execution_count": null,
   "id": "c61373ab",
   "metadata": {},
   "outputs": [],
   "source": [
    "# rawdat에서 빈도수 100 미만인 HE & Monitor 행을 삭제합니다.\n",
    "# [힌트] 비트 연산자 &와 ~를 사용하세요.\n",
    "rawdat = rawdat[~ (rawdat['category'].eq('HE') & rawdat['subcategory'].eq('Monitor'))]"
   ]
  },
  {
   "cell_type": "code",
   "execution_count": null,
   "id": "fd39be44",
   "metadata": {},
   "outputs": [],
   "source": [
    "# rawdat의 행 개수를 출력합니다.\n",
    "# [힌트] shape 속성 결과에 0번 인덱스 원소를 선택하세요.\n",
    "rawdat.shape[0]"
   ]
  },
  {
   "cell_type": "markdown",
   "id": "924b5621",
   "metadata": {},
   "source": [
    "### 국가별 페이지 유입, 장바구니 담기 및 구매 건수 확인"
   ]
  },
  {
   "cell_type": "code",
   "execution_count": null,
   "id": "79ba485b",
   "metadata": {},
   "outputs": [],
   "source": [
    "# 아래 조건을 만족하는 피벗 테이블을 funnel_nat에 할당합니다.\n",
    "# [힌트] pd.pivot_table() 함수를 사용하세요.\n",
    "# 데이터(data)는 rawdat, \n",
    "# 값(values)은 detail_page, add_to_cart와 sales_amt, \n",
    "# 행이름(index)은 country, \n",
    "# 열이름(columns)은 생략, \n",
    "# 집계함수(aggfunc)에 np.sum을 지정하세요.\n",
    "funnel_nat = pd.pivot_table(\n",
    "    data = rawdat, \n",
    "    values = ['detail_page', 'add_to_cart', 'sales_amt'],\n",
    "    index = 'country',\n",
    "    columns = None, \n",
    "    aggfunc = np.sum\n",
    ")"
   ]
  },
  {
   "cell_type": "code",
   "execution_count": null,
   "id": "6542a3cd",
   "metadata": {},
   "outputs": [],
   "source": [
    "# funnel_nat을 출력합니다.\n",
    "funnel_nat"
   ]
  },
  {
   "cell_type": "code",
   "execution_count": null,
   "id": "df877d90",
   "metadata": {},
   "outputs": [],
   "source": [
    "# funnel_nat의 열이름이 자동으로 정렬되었습니다.\n",
    "# 열의 순서를 변경하기 위해 열이름으로 cols를 생성합니다.\n",
    "cols = ['detail_page', 'add_to_cart', 'sales_amt']"
   ]
  },
  {
   "cell_type": "code",
   "execution_count": null,
   "id": "3e2377cb",
   "metadata": {},
   "outputs": [],
   "source": [
    "# funnel_nat에 cols로 열의 순서를 변경한 결과를 출력합니다.\n",
    "funnel_nat[cols]"
   ]
  },
  {
   "cell_type": "code",
   "execution_count": null,
   "id": "c36f0348",
   "metadata": {},
   "outputs": [],
   "source": [
    "# funnel_nat에 cols로 열의 순서를 변경한 결과를 funnel_nat에 재할당합니다.\n",
    "funnel_nat = funnel_nat[cols]"
   ]
  },
  {
   "cell_type": "code",
   "execution_count": null,
   "id": "18d222d9",
   "metadata": {},
   "outputs": [],
   "source": [
    "# add_to_cart를 detail_page로 나누고 100을 곱한 cart_rate를 생성합니다.\n",
    "funnel_nat['cart_rate'] = funnel_nat['add_to_cart'] / funnel_nat['detail_page'] * 100"
   ]
  },
  {
   "cell_type": "code",
   "execution_count": null,
   "id": "ca1af621",
   "metadata": {},
   "outputs": [],
   "source": [
    "# sales_amt를 add_to_cart로 나누고 100을 곱한 buy_rate1을 생성합니다.\n",
    "funnel_nat['buy_rate1'] = funnel_nat['sales_amt'] / funnel_nat['add_to_cart'] * 100"
   ]
  },
  {
   "cell_type": "code",
   "execution_count": null,
   "id": "fa3370d0",
   "metadata": {},
   "outputs": [],
   "source": [
    "# sales_amt를 detail_page로 나누고 100을 곱한 buy_rate2를 생성합니다.\n",
    "funnel_nat['buy_rate2'] = funnel_nat['sales_amt'] / funnel_nat['detail_page'] * 100"
   ]
  },
  {
   "cell_type": "code",
   "execution_count": null,
   "id": "e492676c",
   "metadata": {},
   "outputs": [],
   "source": [
    "# funnel_nat을 출력합니다.\n",
    "funnel_nat"
   ]
  },
  {
   "cell_type": "code",
   "execution_count": null,
   "id": "70cc9263",
   "metadata": {},
   "outputs": [],
   "source": [
    "# funnel_nat을 cart_rate로 내림차순 정렬한 결과를 출력합니다.\n",
    "funnel_nat.sort_values(by = ['cart_rate'], ascending = False)"
   ]
  },
  {
   "cell_type": "code",
   "execution_count": null,
   "id": "fee0068e",
   "metadata": {},
   "outputs": [],
   "source": [
    "# funnel_nat을 buy_rate1으로 내림차순 정렬한 결과를 출력합니다.\n",
    "funnel_nat.sort_values(by = ['buy_rate1'], ascending = False)"
   ]
  },
  {
   "cell_type": "code",
   "execution_count": null,
   "id": "b35fc5d9",
   "metadata": {},
   "outputs": [],
   "source": [
    "# funnel_nat을 buy_rate2로 내림차순 정렬한 결과를 출력합니다.\n",
    "funnel_nat.sort_values(by = ['buy_rate2'], ascending = False)"
   ]
  },
  {
   "cell_type": "markdown",
   "id": "e9d5cd26",
   "metadata": {},
   "source": [
    "### 제품별 페이지 유입, 장바구니 담기 및 구매 건수 확인"
   ]
  },
  {
   "cell_type": "code",
   "execution_count": null,
   "id": "c57f87f1",
   "metadata": {},
   "outputs": [],
   "source": [
    "# 아래 조건을 만족하는 피벗 테이블을 funnel_prd에 할당합니다.\n",
    "# [힌트] pd.pivot_table() 함수를 사용하세요.\n",
    "# 데이터(data)는 rawdat, \n",
    "# 값(values)은 detail_page, add_to_cart와 sales_amt, \n",
    "# 행이름(index)은 category, subcategory, \n",
    "# 열이름(columns)은 생략, \n",
    "# 집계함수(aggfunc)에 np.sum, \n",
    "# 정렬(sort)에 False를 지정하세요.\n",
    "funnel_prd = pd.pivot_table(\n",
    "    data = rawdat, \n",
    "    values = ['detail_page', 'add_to_cart', 'sales_amt'],\n",
    "    index = ['category', 'subcategory'],\n",
    "    columns = None, \n",
    "    aggfunc = np.sum, \n",
    "    sort = False\n",
    ")"
   ]
  },
  {
   "cell_type": "code",
   "execution_count": null,
   "id": "eebf2de0",
   "metadata": {},
   "outputs": [],
   "source": [
    "# funnel_prd을 출력합니다.\n",
    "funnel_prd"
   ]
  },
  {
   "cell_type": "code",
   "execution_count": null,
   "id": "8338bb58",
   "metadata": {},
   "outputs": [],
   "source": [
    "# add_to_cart를 detail_page로 나누고 100을 곱한 cart_rate를 생성합니다.\n",
    "funnel_prd['cart_rate'] = funnel_prd['add_to_cart'] / funnel_prd['detail_page'] * 100"
   ]
  },
  {
   "cell_type": "code",
   "execution_count": null,
   "id": "658c134a",
   "metadata": {},
   "outputs": [],
   "source": [
    "# sales_amt를 add_to_cart로 나누고 100을 곱한 buy_rate1을 생성합니다.\n",
    "funnel_prd['buy_rate1'] = funnel_prd['sales_amt'] / funnel_prd['add_to_cart'] * 100"
   ]
  },
  {
   "cell_type": "code",
   "execution_count": null,
   "id": "cd7fbf97",
   "metadata": {},
   "outputs": [],
   "source": [
    "# sales_amt를 detail_page로 나누고 100을 곱한 buy_rate2를 생성합니다.\n",
    "funnel_prd['buy_rate2'] = funnel_prd['sales_amt'] / funnel_prd['detail_page'] * 100"
   ]
  },
  {
   "cell_type": "code",
   "execution_count": null,
   "id": "269db680",
   "metadata": {},
   "outputs": [],
   "source": [
    "# funnel_prd을 출력합니다.\n",
    "funnel_prd"
   ]
  },
  {
   "cell_type": "code",
   "execution_count": null,
   "id": "7f2964d9",
   "metadata": {},
   "outputs": [],
   "source": [
    "# funnel_prd을 cart_rate로 내림차순 정렬한 결과를 출력합니다.\n",
    "funnel_prd.sort_values(by = ['cart_rate'], ascending = False)"
   ]
  },
  {
   "cell_type": "code",
   "execution_count": null,
   "id": "30c554ce",
   "metadata": {},
   "outputs": [],
   "source": [
    "# funnel_prd을 buy_rate1으로 내림차순 정렬한 결과를 출력합니다.\n",
    "funnel_prd.sort_values(by = ['buy_rate1'], ascending = False)"
   ]
  },
  {
   "cell_type": "code",
   "execution_count": null,
   "id": "873a66ee",
   "metadata": {},
   "outputs": [],
   "source": [
    "# funnel_prd을 buy_rate2로 내림차순 정렬한 결과를 출력합니다.\n",
    "funnel_prd.sort_values(by = ['buy_rate2'], ascending = False)"
   ]
  },
  {
   "cell_type": "markdown",
   "id": "e2357205",
   "metadata": {},
   "source": [
    "### 국가별 판매대수와 판매금액 합계 계산"
   ]
  },
  {
   "cell_type": "code",
   "execution_count": null,
   "id": "efb0a2d4",
   "metadata": {},
   "outputs": [],
   "source": [
    "# 아래 조건을 만족하는 피벗 테이블을 price_nat에 할당합니다.\n",
    "# [힌트] pd.pivot_table() 함수를 사용하세요.\n",
    "# 데이터(data)는 rawdat, \n",
    "# 값(values)은 sales_amt와 sales_usd, \n",
    "# 행이름(index)은 country, \n",
    "# 열이름(columns)은 생략, \n",
    "# 집계함수(aggfunc)에 np.sum을 지정하세요.\n",
    "price_nat = pd.pivot_table(\n",
    "    data = rawdat, \n",
    "    values = ['sales_amt', 'sales_usd'],\n",
    "    index = 'country',\n",
    "    columns = None, \n",
    "    aggfunc = np.sum\n",
    ")"
   ]
  },
  {
   "cell_type": "code",
   "execution_count": null,
   "id": "ff0d307b",
   "metadata": {},
   "outputs": [],
   "source": [
    "# price_nat을 출력합니다.\n",
    "price_nat"
   ]
  },
  {
   "cell_type": "code",
   "execution_count": null,
   "id": "104da3c9",
   "metadata": {},
   "outputs": [],
   "source": [
    "# sales_usd를 sales_amt로 나눈 avg_price를 생성합니다.\n",
    "price_nat['avg_price'] = price_nat['sales_usd'] / price_nat['sales_amt']"
   ]
  },
  {
   "cell_type": "code",
   "execution_count": null,
   "id": "6a8e736f",
   "metadata": {},
   "outputs": [],
   "source": [
    "# price_nat을 sales_amt로 내림차순 정렬한 결과를 출력합니다.\n",
    "price_nat.sort_values(by = ['sales_amt'], ascending = False)"
   ]
  },
  {
   "cell_type": "code",
   "execution_count": null,
   "id": "a1f9e71b",
   "metadata": {},
   "outputs": [],
   "source": [
    "# price_nat을 sales_usd로 내림차순 정렬한 결과를 출력합니다.\n",
    "price_nat.sort_values(by = ['sales_usd'], ascending = False)"
   ]
  },
  {
   "cell_type": "code",
   "execution_count": null,
   "id": "32d9ee88",
   "metadata": {},
   "outputs": [],
   "source": [
    "# price_nat을 avg_price로 내림차순 정렬한 결과를 출력합니다.\n",
    "price_nat.sort_values(by = ['avg_price'], ascending = False)"
   ]
  },
  {
   "cell_type": "markdown",
   "id": "78371d3e",
   "metadata": {},
   "source": [
    "### 제품별 판매대수와 판매금액 합계 계산"
   ]
  },
  {
   "cell_type": "code",
   "execution_count": null,
   "id": "841d38bc",
   "metadata": {},
   "outputs": [],
   "source": [
    "# 아래 조건을 만족하는 피벗 테이블을 price_prd에 할당합니다.\n",
    "# [힌트] pd.pivot_table() 함수를 사용하세요.\n",
    "# 데이터(data)는 rawdat에서 country가 'au'인 행을 선택, \n",
    "# 값(values)은 sales_amt와 sales_usd, \n",
    "# 행이름(index)은 category와 subcategory, \n",
    "# 열이름(columns)은 생략, \n",
    "# 집계함수(aggfunc)에 np.sum을 지정하세요.\n",
    "price_prd = pd.pivot_table(\n",
    "    data = rawdat[rawdat['country'].eq('au')], \n",
    "    values = ['sales_amt', 'sales_usd'],\n",
    "    index = ['category', 'subcategory'],\n",
    "    columns = None, \n",
    "    aggfunc = np.sum\n",
    ")"
   ]
  },
  {
   "cell_type": "code",
   "execution_count": null,
   "id": "4c78d6e5",
   "metadata": {},
   "outputs": [],
   "source": [
    "# price_prd의 처음 5행을 출력합니다.\n",
    "price_prd.head()"
   ]
  },
  {
   "cell_type": "code",
   "execution_count": null,
   "id": "e3d34f3a",
   "metadata": {},
   "outputs": [],
   "source": [
    "# price_prd의 행 개수를 출력합니다.\n",
    "# [힌트] shape 속성 결과에 0번 인덱스 원소를 선택하세요.\n",
    "price_prd.shape[0]"
   ]
  },
  {
   "cell_type": "code",
   "execution_count": null,
   "id": "1aceecae",
   "metadata": {},
   "outputs": [],
   "source": [
    "# price_prd의 열별 결측값 개수를 확인합니다.\n",
    "# [힌트] isna() 함수를 사용하세요.\n",
    "price_prd.isna().sum()"
   ]
  },
  {
   "cell_type": "code",
   "execution_count": null,
   "id": "9b6e1c9f",
   "metadata": {},
   "outputs": [],
   "source": [
    "# price_prd에 있는 결측값을 0으로 대체하고 price_prd에 재할당합니다.\n",
    "# [힌트] fillna() 함수를 사용하세요.\n",
    "price_prd = price_prd.fillna(value = 0)"
   ]
  },
  {
   "cell_type": "code",
   "execution_count": null,
   "id": "785370c9",
   "metadata": {},
   "outputs": [],
   "source": [
    "# sales_usd를 sales_amt로 나눈 avg_price를 생성합니다.\n",
    "price_prd['avg_price'] = price_prd['sales_usd'] / price_prd['sales_amt']"
   ]
  },
  {
   "cell_type": "code",
   "execution_count": null,
   "id": "1d3774d6",
   "metadata": {},
   "outputs": [],
   "source": [
    "# price_prd를 avg_price로 내림차순 정렬하고 price_prd에 재할당합니다.\n",
    "# [힌트] sort_values() 함수를 사용하세요.\n",
    "price_prd = price_prd.sort_values(by = ['avg_price'], ascending = False)"
   ]
  },
  {
   "cell_type": "code",
   "execution_count": null,
   "id": "b1990903",
   "metadata": {},
   "outputs": [],
   "source": [
    "# price_prd를 출력합니다.\n",
    "price_prd"
   ]
  },
  {
   "cell_type": "code",
   "execution_count": null,
   "id": "01c50811",
   "metadata": {},
   "outputs": [],
   "source": [
    "# price_prd의 행이름을 초기화한 결과를 출력합니다.\n",
    "# [힌트] reset_index() 함수를 사용하세요.\n",
    "# [참고] 기존 행이름을 맨 처음 열로 추가합니다.\n",
    "# [참고] drop = True를 추가하면 기존 행이름을 삭제합니다.\n",
    "price_prd.reset_index()"
   ]
  },
  {
   "cell_type": "code",
   "execution_count": null,
   "id": "25f22d56",
   "metadata": {},
   "outputs": [],
   "source": [
    "# price_prd의 행이름을 초기화하고 price_prd에 재할당합니다.\n",
    "price_prd = price_prd.reset_index()"
   ]
  },
  {
   "cell_type": "code",
   "execution_count": null,
   "id": "3327a356",
   "metadata": {},
   "outputs": [],
   "source": [
    "# price_prd의 처음 7행을 출력합니다.(평균 가격 상위 7개)\n",
    "price_prd.head(n = 7)"
   ]
  },
  {
   "cell_type": "code",
   "execution_count": null,
   "id": "e384a39a",
   "metadata": {},
   "outputs": [],
   "source": [
    "# price_prd의 마지막 7행을 출력합니다.(평균 가격 하위 7개)\n",
    "price_prd.tail(n = 7)"
   ]
  },
  {
   "cell_type": "markdown",
   "id": "ab0058b8",
   "metadata": {},
   "source": [
    "### 지정한 국가의 제품별 평균 가격을 반환하는 함수 생성"
   ]
  },
  {
   "cell_type": "code",
   "execution_count": null,
   "id": "7ef15054",
   "metadata": {},
   "outputs": [],
   "source": [
    "# 국가명을 지정하면 수산물품목별 무역수지를 반환하는 함수를 생성합니다.\n",
    "def getAvgPrice(nation):\n",
    "    \n",
    "    # rawdat에서 contry가 nation인 행을 선택한 다음\n",
    "    # 피벗 테이블을 생성하고 price_prd에 할당합니다.\n",
    "    price_prd = pd.pivot_table(\n",
    "        data = rawdat[rawdat['country'].eq(nation)], \n",
    "        values = ['sales_amt', 'sales_usd'],\n",
    "        index = ['category', 'subcategory'],\n",
    "        columns = None, \n",
    "        aggfunc = np.sum\n",
    "    )\n",
    "    \n",
    "    # price_prd에 있는 결측값을 0으로 대체하고 price_prd에 재할당합니다.\n",
    "    price_prd = price_prd.fillna(value = 0)\n",
    "    \n",
    "    # sales_usd를 sales_amt로 나눈 avg_price를 생성합니다.\n",
    "    price_prd['avg_price'] = price_prd['sales_usd'] / price_prd['sales_amt']\n",
    "    \n",
    "    # price_prd를 avg_price로 내림차순 정렬하고 price_prd에 재할당합니다.\n",
    "    # [힌트] sort_values() 함수를 사용하세요.\n",
    "    price_prd = price_prd.sort_values(by = ['avg_price'], ascending = False)\n",
    "    \n",
    "    # price_prd의 행이름을 초기화하고 price_prd에 재할당합니다.\n",
    "    price_prd = price_prd.reset_index()\n",
    "\n",
    "    # 결과를 반환합니다.\n",
    "    return price_prd"
   ]
  },
  {
   "cell_type": "code",
   "execution_count": null,
   "id": "ff81f9ec",
   "metadata": {},
   "outputs": [],
   "source": [
    "# 호주의 제품별 평균 가격을 출력합니다.\n",
    "getAvgPrice(nation = 'au')"
   ]
  },
  {
   "cell_type": "code",
   "execution_count": null,
   "id": "15a95f08",
   "metadata": {},
   "outputs": [],
   "source": [
    "# 브라질의 제품별 평균 가격을 출력합니다.\n",
    "getAvgPrice(nation = 'br')"
   ]
  },
  {
   "cell_type": "code",
   "execution_count": null,
   "id": "55f9a1ff",
   "metadata": {},
   "outputs": [],
   "source": [
    "# 독일의 제품별 평균 가격을 출력합니다.\n",
    "getAvgPrice(nation = 'de')"
   ]
  },
  {
   "cell_type": "code",
   "execution_count": null,
   "id": "435aa04a",
   "metadata": {},
   "outputs": [],
   "source": [
    "# 프랑스의 제품별 평균 가격을 출력합니다.\n",
    "getAvgPrice(nation = 'fr')"
   ]
  },
  {
   "cell_type": "code",
   "execution_count": null,
   "id": "99f9cf91",
   "metadata": {},
   "outputs": [],
   "source": [
    "# 이탈리아의 제품별 평균 가격을 출력합니다.\n",
    "getAvgPrice(nation = 'it')"
   ]
  },
  {
   "cell_type": "code",
   "execution_count": null,
   "id": "71e51055",
   "metadata": {},
   "outputs": [],
   "source": [
    "# 영국의 제품별 평균 가격을 출력합니다.\n",
    "getAvgPrice(nation = 'uk')"
   ]
  },
  {
   "cell_type": "markdown",
   "id": "3b612196",
   "metadata": {},
   "source": [
    "### 데이터 병합"
   ]
  },
  {
   "cell_type": "code",
   "execution_count": null,
   "id": "cb949dcb",
   "metadata": {},
   "outputs": [],
   "source": [
    "# rawdat에서 category와 subcategory의 빈도수를 계산하여 merged에 할당합니다.\n",
    "merged = rawdat[['category', 'subcategory']].value_counts()"
   ]
  },
  {
   "cell_type": "code",
   "execution_count": null,
   "id": "03cef68f",
   "metadata": {},
   "outputs": [],
   "source": [
    "# merged를 출력합니다.\n",
    "merged"
   ]
  },
  {
   "cell_type": "code",
   "execution_count": null,
   "id": "cf6d4141",
   "metadata": {},
   "outputs": [],
   "source": [
    "# merged의 행이름을 초기화한 결과를 출력합니다.\n",
    "# [참고] 시리즈의 행이름을 초기화하면 데이터프레임을 반환합니다.\n",
    "merged.reset_index()"
   ]
  },
  {
   "cell_type": "code",
   "execution_count": null,
   "id": "fdc9fab6",
   "metadata": {},
   "outputs": [],
   "source": [
    "# merged의 행이름을 초기화한 결과를 merged에 재할당합니다.\n",
    "merged = merged.reset_index()"
   ]
  },
  {
   "cell_type": "code",
   "execution_count": null,
   "id": "cf9da294",
   "metadata": {},
   "outputs": [],
   "source": [
    "# merged에서 정수 0인 열이름을 삭제합니다.\n",
    "merged = merged.drop(columns = [0])"
   ]
  },
  {
   "cell_type": "code",
   "execution_count": null,
   "id": "7ee5052a",
   "metadata": {},
   "outputs": [],
   "source": [
    "# 호주의 국가명을 nation에 할당합니다.\n",
    "nation = 'au'"
   ]
  },
  {
   "cell_type": "code",
   "execution_count": null,
   "id": "bd35a6d3",
   "metadata": {},
   "outputs": [],
   "source": [
    "# 호주의 제품별 평균 가격 데이터를 price_prd로 생성합니다.\n",
    "price_prd = getAvgPrice(nation = nation)"
   ]
  },
  {
   "cell_type": "code",
   "execution_count": null,
   "id": "7ce11d1c",
   "metadata": {},
   "outputs": [],
   "source": [
    "# price_prd를 출력합니다.\n",
    "price_prd"
   ]
  },
  {
   "cell_type": "code",
   "execution_count": null,
   "id": "10e47ef7",
   "metadata": {},
   "outputs": [],
   "source": [
    "# price_prd의 일부 열이름을 아래와 같이 변경합니다.\n",
    "# sales_amt -> amt_au\n",
    "# sales_usd -> usd_au\n",
    "# avg_price -> avg_au\n",
    "# [힌트] rename() 함수와 f-문자열을 사용하세요.\n",
    "price_prd = price_prd.rename(columns = {\n",
    "    'sales_amt': f'amt_{nation}', \n",
    "    'sales_usd': f'usd_{nation}', \n",
    "    'avg_price': f'avg_{nation}'\n",
    "})"
   ]
  },
  {
   "cell_type": "code",
   "execution_count": null,
   "id": "503d916b",
   "metadata": {},
   "outputs": [],
   "source": [
    "# merged와 price_prd의 제품별 평균 가격 데이터를 외부병합합니다.\n",
    "# [참고] 결측값(NaN)은 해당 국가에 관련 데이터가 없다는 것을 의미합니다.\n",
    "pd.merge(\n",
    "    left = merged, \n",
    "    right = price_prd, \n",
    "    how = 'outer', \n",
    "    on = ['category', 'subcategory']\n",
    ")"
   ]
  },
  {
   "cell_type": "code",
   "execution_count": null,
   "id": "f772fc26",
   "metadata": {},
   "outputs": [],
   "source": [
    "# 반복문을 실행할 범위(국가명 리스트)를 nations에 할당합니다.\n",
    "# [힌트] unique() 함수를 사용하세요.\n",
    "nations = rawdat['country'].unique()"
   ]
  },
  {
   "cell_type": "code",
   "execution_count": null,
   "id": "26c8e009",
   "metadata": {},
   "outputs": [],
   "source": [
    "# nations을 출력합니다.\n",
    "nations"
   ]
  },
  {
   "cell_type": "code",
   "execution_count": null,
   "id": "ff39e871",
   "metadata": {},
   "outputs": [],
   "source": [
    "# nations의 원소를 출력하는 for 반복문을 실행합니다.\n",
    "for nation in nations:\n",
    "    print(nation)"
   ]
  },
  {
   "cell_type": "code",
   "execution_count": null,
   "id": "1a6ae989",
   "metadata": {},
   "outputs": [],
   "source": [
    "# nations의 원소를 바꿔가면서 merged에 병합합니다.\n",
    "for nation in nations:\n",
    "    \n",
    "    # nation의 제품별 평균 가격 데이터를 price_prd로 생성합니다.\n",
    "    price_prd = getAvgPrice(nation = nation)\n",
    "    \n",
    "    # price_prd의 일부 열이름을 변경합니다.\n",
    "    price_prd = price_prd.rename(columns = {\n",
    "        'sales_amt': f'amt_{nation}', \n",
    "        'sales_usd': f'usd_{nation}', \n",
    "        'avg_price': f'avg_{nation}'\n",
    "    })\n",
    "    \n",
    "    # merged와 price_prd의 제품별 평균 가격 데이터를 외부병합합니다.\n",
    "    merged = pd.merge(\n",
    "        left = merged, \n",
    "        right = price_prd, \n",
    "        how = 'outer', \n",
    "        on = ['category', 'subcategory']\n",
    "    )"
   ]
  },
  {
   "cell_type": "code",
   "execution_count": null,
   "id": "330bc881",
   "metadata": {},
   "outputs": [],
   "source": [
    "# merged를 출력합니다.\n",
    "merged"
   ]
  },
  {
   "cell_type": "code",
   "execution_count": null,
   "id": "da3a27e1",
   "metadata": {},
   "outputs": [],
   "source": [
    "# merged에서 category와 subcategory를 인덱스로 설정합니다.\n",
    "# [힌트] set_index() 함수를 사용하세요.\n",
    "merged = merged.set_index(keys = ['category', 'subcategory'])"
   ]
  },
  {
   "cell_type": "code",
   "execution_count": null,
   "id": "a554a794",
   "metadata": {},
   "outputs": [],
   "source": [
    "# merged의 열이름을 출력합니다.\n",
    "merged.columns"
   ]
  },
  {
   "cell_type": "markdown",
   "id": "b6aa9976",
   "metadata": {},
   "source": [
    "### 데이터 결합"
   ]
  },
  {
   "cell_type": "code",
   "execution_count": null,
   "id": "da0f7e16",
   "metadata": {},
   "outputs": [],
   "source": [
    "# merged의 열이름에서 'amt'를 포함하는 원소만 남겨 col_amt에 할당합니다.\n",
    "# [힌트] 리스트 컴프리헨션을 사용하세요.\n",
    "col_amt = [col for col in merged.columns if 'amt' in col]"
   ]
  },
  {
   "cell_type": "code",
   "execution_count": null,
   "id": "98416078",
   "metadata": {},
   "outputs": [],
   "source": [
    "# col_amt를 출력합니다.\n",
    "col_amt"
   ]
  },
  {
   "cell_type": "code",
   "execution_count": null,
   "id": "10b73c1f",
   "metadata": {},
   "outputs": [],
   "source": [
    "# merged에서 열이름이 col_amt인 원소를 선택하여 merged_amt에 할당합니다.\n",
    "merged_amt = merged[col_amt]"
   ]
  },
  {
   "cell_type": "code",
   "execution_count": null,
   "id": "6cbec974",
   "metadata": {},
   "outputs": [],
   "source": [
    "# merged_amt를 출력합니다.\n",
    "merged_amt"
   ]
  },
  {
   "cell_type": "code",
   "execution_count": null,
   "id": "2429d377",
   "metadata": {},
   "outputs": [],
   "source": [
    "# merged의 열이름에서 'usd'를 포함하는 원소만 남겨 col_usd에 할당합니다.\n",
    "col_usd = [col for col in merged.columns if 'usd' in col]"
   ]
  },
  {
   "cell_type": "code",
   "execution_count": null,
   "id": "a1706a84",
   "metadata": {},
   "outputs": [],
   "source": [
    "# col_usd를 출력합니다.\n",
    "col_usd"
   ]
  },
  {
   "cell_type": "code",
   "execution_count": null,
   "id": "6ac744db",
   "metadata": {},
   "outputs": [],
   "source": [
    "# merged에서 열이름이 col_usd인 원소를 선택하여 merged_usd에 할당합니다.\n",
    "merged_usd = merged[col_usd]"
   ]
  },
  {
   "cell_type": "code",
   "execution_count": null,
   "id": "27e2d6b7",
   "metadata": {},
   "outputs": [],
   "source": [
    "# merged_usd를 출력합니다.\n",
    "merged_usd"
   ]
  },
  {
   "cell_type": "code",
   "execution_count": null,
   "id": "180e9954",
   "metadata": {},
   "outputs": [],
   "source": [
    "# merged의 열이름에서 'avg'를 포함하는 원소만 남겨 col_avg에 할당합니다.\n",
    "col_avg = [col for col in merged.columns if 'avg' in col]"
   ]
  },
  {
   "cell_type": "code",
   "execution_count": null,
   "id": "1266c796",
   "metadata": {},
   "outputs": [],
   "source": [
    "# col_avg를 출력합니다.\n",
    "col_avg"
   ]
  },
  {
   "cell_type": "code",
   "execution_count": null,
   "id": "d3e51015",
   "metadata": {},
   "outputs": [],
   "source": [
    "# merged에서 열이름이 col_avg인 원소를 선택하여 merged_avg에 할당합니다.\n",
    "merged_avg = merged[col_avg]"
   ]
  },
  {
   "cell_type": "code",
   "execution_count": null,
   "id": "44322982",
   "metadata": {},
   "outputs": [],
   "source": [
    "# merged_avg를 출력합니다.\n",
    "merged_avg"
   ]
  },
  {
   "cell_type": "code",
   "execution_count": null,
   "id": "fdbe608c",
   "metadata": {},
   "outputs": [],
   "source": [
    "# merged_amt, merged_usd, merged_avg를 열 방향으로 결합하고 merged에 할당합니다.\n",
    "# [힌트] pd.concat() 함수를 사용하세요.\n",
    "# [주의] axis 매개변수의 기본값은 0(행)이므로 1(열)을 지정해야 합니다.\n",
    "merged = pd.concat(objs = [merged_amt, merged_usd, merged_avg], axis = 1)"
   ]
  },
  {
   "cell_type": "code",
   "execution_count": null,
   "id": "1793f98e",
   "metadata": {},
   "outputs": [],
   "source": [
    "# merged를 출력합니다.\n",
    "merged"
   ]
  },
  {
   "cell_type": "code",
   "execution_count": null,
   "id": "c886dad8",
   "metadata": {},
   "outputs": [],
   "source": [
    "# merged를 인덱스로 오름차순 정렬한 결과를 출력합니다.\n",
    "merged.sort_index()"
   ]
  },
  {
   "cell_type": "code",
   "execution_count": null,
   "id": "aaa58419",
   "metadata": {},
   "outputs": [],
   "source": [
    "# merged를 인덱스로 오름차순 정렬한 결과를 merged에 재할당합니다.\n",
    "merged = merged.sort_index()"
   ]
  },
  {
   "cell_type": "markdown",
   "id": "5dcb715f",
   "metadata": {},
   "source": [
    "### 외부 파일로 저장"
   ]
  },
  {
   "cell_type": "code",
   "execution_count": null,
   "id": "996b33c0",
   "metadata": {},
   "outputs": [],
   "source": [
    "# 현재 작업 경로를 확인합니다.\n",
    "os.getcwd()"
   ]
  },
  {
   "cell_type": "code",
   "execution_count": null,
   "id": "588e7f05",
   "metadata": {},
   "outputs": [],
   "source": [
    "# 여러 객체를 하나의 압축 파일로 저장합니다.\n",
    "# 파일명은 'Online_Mall.z'으로 지정하세요.\n",
    "# [힌트] joblib.dump() 함수를 사용하세요.\n",
    "%time joblib.dump(value = [rawdat, merged], filename = 'Online_Mall.z')"
   ]
  },
  {
   "cell_type": "code",
   "execution_count": null,
   "id": "e6f18b83",
   "metadata": {},
   "outputs": [],
   "source": [
    "# rawdat를 xlsx 파일로 저장합니다.\n",
    "# [참고] 데이터프레임의 인덱스를 추가하지 않도록 설정합니다.\n",
    "%time rawdat.to_excel(excel_writer = 'Online_Mall_Rawdat.xlsx', index = False)"
   ]
  },
  {
   "cell_type": "code",
   "execution_count": null,
   "id": "1784fecf",
   "metadata": {},
   "outputs": [],
   "source": [
    "# merged를 xlsx 파일로 저장합니다.\n",
    "# [참고] 데이터프레임의 인덱스를 추가도록 설정합니다.\n",
    "%time merged.to_excel(excel_writer = 'Online_Mall_Merged.xlsx', index = True)"
   ]
  },
  {
   "cell_type": "code",
   "execution_count": null,
   "id": "5acba19f",
   "metadata": {},
   "outputs": [],
   "source": [
    "# 작업 경로에 있는 폴더명과 파일명을 출력합니다.\n",
    "sorted(os.listdir())"
   ]
  },
  {
   "cell_type": "markdown",
   "id": "e3fd69c0",
   "metadata": {},
   "source": [
    "## End of Document"
   ]
  }
 ],
 "metadata": {
  "kernelspec": {
   "display_name": "Python 3",
   "language": "python",
   "name": "python3"
  },
  "language_info": {
   "codemirror_mode": {
    "name": "ipython",
    "version": 3
   },
   "file_extension": ".py",
   "mimetype": "text/x-python",
   "name": "python",
   "nbconvert_exporter": "python",
   "pygments_lexer": "ipython3",
   "version": "3.10.9"
  },
  "varInspector": {
   "cols": {
    "lenName": 16,
    "lenType": 16,
    "lenVar": 40
   },
   "kernels_config": {
    "python": {
     "delete_cmd_postfix": "",
     "delete_cmd_prefix": "del ",
     "library": "var_list.py",
     "varRefreshCmd": "print(var_dic_list())"
    },
    "r": {
     "delete_cmd_postfix": ") ",
     "delete_cmd_prefix": "rm(",
     "library": "var_list.r",
     "varRefreshCmd": "cat(var_dic_list()) "
    }
   },
   "types_to_exclude": [
    "module",
    "function",
    "builtin_function_or_method",
    "instance",
    "_Feature"
   ],
   "window_display": false
  }
 },
 "nbformat": 4,
 "nbformat_minor": 5
}
