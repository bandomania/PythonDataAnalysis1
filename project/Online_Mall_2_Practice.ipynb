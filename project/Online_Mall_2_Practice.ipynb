{
 "cells": [
  {
   "cell_type": "markdown",
   "id": "861f0fd3",
   "metadata": {},
   "source": [
    "## 데이터 시각화"
   ]
  },
  {
   "cell_type": "markdown",
   "id": "a3e88f3e",
   "metadata": {},
   "source": [
    "### 실습 데이터셋 안내\n",
    "\n",
    "- 2022년 1~12월 간 lg.com의 마케팅 실적 데이터(df_raw)와 <br>\n",
    "  국가의 제품별 평균 가격을 계산한 피벗 테이블(merged)을 읽습니다.<br><br>\n",
    "\n",
    "- 위 데이터프레임으로 다양한 그래프를 시각화합니다."
   ]
  },
  {
   "cell_type": "markdown",
   "id": "a7c3038e",
   "metadata": {},
   "source": [
    "### 관련 라이브러리 호출"
   ]
  },
  {
   "cell_type": "code",
   "execution_count": null,
   "id": "cb520902",
   "metadata": {},
   "outputs": [],
   "source": [
    "# 관련 라이브러리를 호출합니다.\n",
    "import os\n",
    "import joblib\n",
    "import numpy as np\n",
    "import pandas as pd"
   ]
  },
  {
   "cell_type": "code",
   "execution_count": null,
   "id": "ade74e7e",
   "metadata": {},
   "outputs": [],
   "source": [
    "# 시각화 관련 모듈을 호출합니다.\n",
    "from GraphicSetting import *"
   ]
  },
  {
   "cell_type": "markdown",
   "id": "1ed22451",
   "metadata": {},
   "source": [
    "### 작업 경로 확인 및 변경"
   ]
  },
  {
   "cell_type": "code",
   "execution_count": null,
   "id": "d204b752",
   "metadata": {},
   "outputs": [],
   "source": [
    "# 현재 작업 경로를 확인합니다.\n"
   ]
  },
  {
   "cell_type": "code",
   "execution_count": null,
   "id": "8146e160",
   "metadata": {},
   "outputs": [],
   "source": [
    "# data 폴더로 작업 경로를 변경합니다.\n"
   ]
  },
  {
   "cell_type": "code",
   "execution_count": null,
   "id": "85deaf38",
   "metadata": {},
   "outputs": [],
   "source": [
    "# 작업 경로에 있는 폴더명과 파일명을 출력합니다.\n"
   ]
  },
  {
   "cell_type": "markdown",
   "id": "b5d425d9",
   "metadata": {},
   "source": [
    "### 실습 데이터셋 준비"
   ]
  },
  {
   "cell_type": "code",
   "execution_count": null,
   "id": "ea95f8fd",
   "metadata": {
    "scrolled": true
   },
   "outputs": [],
   "source": [
    "# 'Online_Mall.z' 파일을 호출합니다.\n",
    "# [힌트] joblib.load() 함수를 사용하세요.\n",
    "# [참고] 두 데이터프레임을 원소로 갖는 리스트를 반환합니다.\n"
   ]
  },
  {
   "cell_type": "code",
   "execution_count": null,
   "id": "31dc3ba6",
   "metadata": {},
   "outputs": [],
   "source": [
    "# 압축 파일을 호출하고 rawdat, merged에 할당합니다.\n",
    "rawdat, merged = "
   ]
  },
  {
   "cell_type": "code",
   "execution_count": null,
   "id": "a6498d3b",
   "metadata": {},
   "outputs": [],
   "source": [
    "# rawdat의 정보를 확인합니다.\n"
   ]
  },
  {
   "cell_type": "code",
   "execution_count": null,
   "id": "303e28b6",
   "metadata": {},
   "outputs": [],
   "source": [
    "# rawdat의 처음 5행을 출력합니다.\n"
   ]
  },
  {
   "cell_type": "code",
   "execution_count": null,
   "id": "690e528d",
   "metadata": {},
   "outputs": [],
   "source": [
    "# merged의 정보를 확인합니다.\n"
   ]
  },
  {
   "cell_type": "code",
   "execution_count": null,
   "id": "fe0bc0ab",
   "metadata": {},
   "outputs": [],
   "source": [
    "# merged를 출력합니다.\n"
   ]
  },
  {
   "cell_type": "markdown",
   "id": "f74b8fab",
   "metadata": {},
   "source": [
    "### [참고] rawdat와 merged의 행 개수와 열 개수가 다를 때 실행"
   ]
  },
  {
   "cell_type": "code",
   "execution_count": null,
   "id": "7cfb7e38",
   "metadata": {},
   "outputs": [],
   "source": [
    "# rawdat를 생성합니다.\n",
    "rawdat = pd.read_excel(io = 'Online_Mall_Rawdat.xlsx')"
   ]
  },
  {
   "cell_type": "code",
   "execution_count": null,
   "id": "0bc3fbfe",
   "metadata": {},
   "outputs": [],
   "source": [
    "# rawdat의 정보를 확인합니다.\n",
    "rawdat.info()"
   ]
  },
  {
   "cell_type": "code",
   "execution_count": null,
   "id": "fcadb8fb",
   "metadata": {},
   "outputs": [],
   "source": [
    "# rawdat의 처음 5행을 출력합니다.\n",
    "rawdat.head()"
   ]
  },
  {
   "cell_type": "code",
   "execution_count": null,
   "id": "65e1f8a8",
   "metadata": {},
   "outputs": [],
   "source": [
    "# merged를 생성합니다.\n",
    "merged = pd.read_excel(io = 'Online_Mall_Merged.xlsx')"
   ]
  },
  {
   "cell_type": "code",
   "execution_count": null,
   "id": "046a0ab3",
   "metadata": {},
   "outputs": [],
   "source": [
    "# merged의 정보를 확인합니다.\n",
    "merged.info()"
   ]
  },
  {
   "cell_type": "code",
   "execution_count": null,
   "id": "dc106a65",
   "metadata": {},
   "outputs": [],
   "source": [
    "# merged를 출력합니다.\n",
    "merged"
   ]
  },
  {
   "cell_type": "code",
   "execution_count": null,
   "id": "dd2f2307",
   "metadata": {},
   "outputs": [],
   "source": [
    "# merged의 category에 있는 결측값을 이전 값으로 채워넣습니다.\n",
    "merged['category'] = merged['category'].fillna(method = 'ffill')"
   ]
  },
  {
   "cell_type": "code",
   "execution_count": null,
   "id": "7e64ead1",
   "metadata": {},
   "outputs": [],
   "source": [
    "# merged의 category와 subcategory를 인덱스로 설정합니다.\n",
    "merged = merged.set_index(keys = ['category', 'subcategory'])"
   ]
  },
  {
   "cell_type": "code",
   "execution_count": null,
   "id": "86bbb0f3",
   "metadata": {},
   "outputs": [],
   "source": [
    "# merged를 출력합니다.\n",
    "merged"
   ]
  },
  {
   "cell_type": "markdown",
   "id": "ad53b255",
   "metadata": {},
   "source": [
    "### 히스토그램 시각화"
   ]
  },
  {
   "cell_type": "code",
   "execution_count": null,
   "id": "53011a2b",
   "metadata": {},
   "outputs": [],
   "source": [
    "# rawdat에서 subcategory가 TV인 행을 선택하여 raw_tv에 할당합니다.\n",
    "raw_tv = "
   ]
  },
  {
   "cell_type": "code",
   "execution_count": null,
   "id": "03072804",
   "metadata": {},
   "outputs": [],
   "source": [
    "# raw_tv의 행 개수를 확인합니다.\n"
   ]
  },
  {
   "cell_type": "code",
   "execution_count": null,
   "id": "e77ba161",
   "metadata": {},
   "outputs": [],
   "source": [
    "# raw_tv의 sales_usd에 대한 기술통계량을 확인합니다.\n",
    "# [참고] 히스토그램을 그리기 전에 연속형 변수의 최솟값과 최댓값을 확인합니다.\n"
   ]
  },
  {
   "cell_type": "code",
   "execution_count": null,
   "id": "d37d45ec",
   "metadata": {},
   "outputs": [],
   "source": [
    "# raw_tv의 sales_usd로 히스토그램을 그립니다.\n",
    "# [힌트] sns.histplot() 함수를 사용하세요.\n",
    "# [참고] binrange와 binwidth 매개변수를 추가하면 계급을 지정할 수 있습니다.\n",
    "# [참고] fc(채우기색) 및 ec(테두리색) 매개변수를 추가하면 색을 지정할 수 있습니다.\n",
    "\n",
    "\n",
    "# 그래프 제목을 'TV의 매출금액(USD) 분포'로 지정합니다.\n",
    ";"
   ]
  },
  {
   "cell_type": "code",
   "execution_count": null,
   "id": "e61371ef",
   "metadata": {},
   "outputs": [],
   "source": [
    "# raw_tv에서 sales_usd를 sales_amt로 나눈 avg_price를 생성합니다.\n",
    "raw_tv['avg_price'] = "
   ]
  },
  {
   "cell_type": "code",
   "execution_count": null,
   "id": "0a9cdfdb",
   "metadata": {},
   "outputs": [],
   "source": [
    "# raw_tv의 avg_price에 대한 기술통계량을 확인합니다.\n"
   ]
  },
  {
   "cell_type": "code",
   "execution_count": null,
   "id": "e051a2d0",
   "metadata": {},
   "outputs": [],
   "source": [
    "# raw_tv의 avg_price로 히스토그램을 그립니다.\n",
    "\n",
    "\n",
    "# 그래프 제목을 'TV의 평균 가격 분포'로 지정합니다.\n",
    ";"
   ]
  },
  {
   "cell_type": "markdown",
   "id": "f1304372",
   "metadata": {},
   "source": [
    "### 상자 수염 그림 그리기"
   ]
  },
  {
   "cell_type": "code",
   "execution_count": null,
   "id": "7f8db392",
   "metadata": {},
   "outputs": [],
   "source": [
    "# raw_tv의 국가별 sales_usd로 상자 수염 그림을 그립니다.\n",
    "# [힌트] sns.boxplot() 함수를 사용하세요.\n",
    "# [참고] x 매개변수에 범주형, y 매개변수에 연속형 변수를 지정합니다.\n",
    "\n",
    "\n",
    "# 그래프 제목을 '국가별 TV 매출금액(USD) 분포 비교'로 지정합니다.\n",
    ";"
   ]
  },
  {
   "cell_type": "code",
   "execution_count": null,
   "id": "9d5980ed",
   "metadata": {},
   "outputs": [],
   "source": [
    "# raw_tv의 국가별 avg_price로 상자 수염 그림을 그립니다.\n",
    "\n",
    "\n",
    "# 그래프 제목을 '국가별 TV 평균 가격 분포 비교'로 지정합니다.\n",
    ";"
   ]
  },
  {
   "cell_type": "code",
   "execution_count": null,
   "id": "0a964e47",
   "metadata": {},
   "outputs": [],
   "source": [
    "# raw_tv의 국가별 avg_price로 상자 수염 그림을 그립니다.\n",
    "\n",
    "\n",
    "# y축을 0 ~ 7000으로 제한합니다.\n",
    "\n",
    "\n",
    "# 그래프 제목을 '국가별 TV 평균 가격 분포 비교'로 지정합니다.\n",
    ";"
   ]
  },
  {
   "cell_type": "markdown",
   "id": "595c5310",
   "metadata": {},
   "source": [
    "### 막대 그래프 그리기"
   ]
  },
  {
   "cell_type": "code",
   "execution_count": null,
   "id": "96ab2934",
   "metadata": {},
   "outputs": [],
   "source": [
    "# merged를 출력합니다.\n",
    "merged"
   ]
  },
  {
   "cell_type": "code",
   "execution_count": null,
   "id": "099ce6c7",
   "metadata": {},
   "outputs": [],
   "source": [
    "# merged의 행이름에서 'TV'를 포함하는 행이름을 남겨 lab_tv에 할당합니다.\n",
    "# [힌트] 리스트 컴프리헨션을 사용하세요.\n",
    "lab_tv = "
   ]
  },
  {
   "cell_type": "code",
   "execution_count": null,
   "id": "2c4b56d5",
   "metadata": {},
   "outputs": [],
   "source": [
    "# lab_tv를 출력합니다.\n",
    "lab_tv"
   ]
  },
  {
   "cell_type": "code",
   "execution_count": null,
   "id": "18a0106e",
   "metadata": {},
   "outputs": [],
   "source": [
    "# merged에서 행이름이 lab_tv인 행을 선택하여 mgd_tv에 할당합니다.\n",
    "# [주의] 행이름으로 인덱싱하려면 반드시 loc 인덱서를 사용해야 합니다!\n",
    "mgd_tv = "
   ]
  },
  {
   "cell_type": "code",
   "execution_count": null,
   "id": "ebb2ea17",
   "metadata": {},
   "outputs": [],
   "source": [
    "# mgd_tv를 출력합니다.\n",
    "mgd_tv"
   ]
  },
  {
   "cell_type": "code",
   "execution_count": null,
   "id": "c027cb4a",
   "metadata": {},
   "outputs": [],
   "source": [
    "# mgd_tv의 열이름을 출력합니다.\n"
   ]
  },
  {
   "cell_type": "code",
   "execution_count": null,
   "id": "e76f738e",
   "metadata": {},
   "outputs": [],
   "source": [
    "# mgd_tv의 열이름에서 'avg'를 포함하는 열이름을 남겨 lab_avg에 할당합니다.\n",
    "# [힌트] 리스트 컴프리헨션을 사용하세요.\n",
    "lab_avg = "
   ]
  },
  {
   "cell_type": "code",
   "execution_count": null,
   "id": "8396dbac",
   "metadata": {},
   "outputs": [],
   "source": [
    "# lab_avg를 출력합니다.\n",
    "lab_avg"
   ]
  },
  {
   "cell_type": "code",
   "execution_count": null,
   "id": "852a1489",
   "metadata": {},
   "outputs": [],
   "source": [
    "# mgd_tv의 열이름에서 'avg'를 포함하는 열만 선택한 결과를 출력합니다.\n"
   ]
  },
  {
   "cell_type": "code",
   "execution_count": null,
   "id": "84076bce",
   "metadata": {},
   "outputs": [],
   "source": [
    "# mgd_tv의 열이름에서 'avg'를 포함하는 열을 Long Type으로 변환합니다.\n",
    "# [힌트] melt() 함수를 사용하세요.\n"
   ]
  },
  {
   "cell_type": "code",
   "execution_count": null,
   "id": "9c7aa8b0",
   "metadata": {},
   "outputs": [],
   "source": [
    "# 위 코드 실행 결과를 mgd_tv_avg에 할당합니다.\n",
    "mgd_tv_avg = "
   ]
  },
  {
   "cell_type": "code",
   "execution_count": null,
   "id": "59d540d8",
   "metadata": {},
   "outputs": [],
   "source": [
    "# mgd_tv_avg의 열이름을 country와 avg_price로 변경합니다.\n"
   ]
  },
  {
   "cell_type": "code",
   "execution_count": null,
   "id": "bb008d5f",
   "metadata": {},
   "outputs": [],
   "source": [
    "# mgd_tv_avg의 country에서 문자열 'avg_'를 삭제합니다.\n",
    "# [힌트] str.replace() 함수를 사용하세요.\n",
    "mgd_tv_avg['country'] = "
   ]
  },
  {
   "cell_type": "code",
   "execution_count": null,
   "id": "2133a6e0",
   "metadata": {},
   "outputs": [],
   "source": [
    "# mgd_tv_avg로 막대 그래프를 그립니다.\n",
    "# [힌트] sns.barplot() 함수를 사용하세요.\n",
    "# [참고] x 매개변수에 범주형, y 매개변수에 연속형 변수를 지정합니다.\n",
    "\n",
    "\n",
    "# 그래프 제목을 '국가별 TV 평균 가격 비교'로 지정합니다.\n",
    "\n",
    "\n",
    "# y축을 0 ~ 1800로 제한합니다.\n",
    "\n",
    "\n",
    "# 막대 위에 평균 가격을 텍스트로 추가합니다.\n",
    "# [참고] f-문자열로 평균 가격을 소수점 둘째 자리까지 남기면 보기에 좋습니다.\n",
    ";"
   ]
  },
  {
   "cell_type": "markdown",
   "id": "4b71298b",
   "metadata": {},
   "source": [
    "### 선 그래프 그리기"
   ]
  },
  {
   "cell_type": "code",
   "execution_count": null,
   "id": "311c91b0",
   "metadata": {},
   "outputs": [],
   "source": [
    "# raw_tv의 month별 국가의 sales_usd 평균을 선 그래프로 그립니다.\n",
    "# [힌트] sns.lineplot() 함수를 사용하세요.\n",
    "\n",
    "\n",
    "# 그래프 제목을 '월별 TV 매출금액(USD) 평균'으로 지정합니다.\n",
    "\n",
    "\n",
    "# 범례의 위치를 오른쪽 상단으로 지정합니다.\n",
    ";"
   ]
  },
  {
   "cell_type": "markdown",
   "id": "f4394ed1",
   "metadata": {},
   "source": [
    "## End of Document"
   ]
  }
 ],
 "metadata": {
  "kernelspec": {
   "display_name": "Python 3",
   "language": "python",
   "name": "python3"
  },
  "language_info": {
   "codemirror_mode": {
    "name": "ipython",
    "version": 3
   },
   "file_extension": ".py",
   "mimetype": "text/x-python",
   "name": "python",
   "nbconvert_exporter": "python",
   "pygments_lexer": "ipython3",
   "version": "3.10.9"
  },
  "varInspector": {
   "cols": {
    "lenName": 16,
    "lenType": 16,
    "lenVar": 40
   },
   "kernels_config": {
    "python": {
     "delete_cmd_postfix": "",
     "delete_cmd_prefix": "del ",
     "library": "var_list.py",
     "varRefreshCmd": "print(var_dic_list())"
    },
    "r": {
     "delete_cmd_postfix": ") ",
     "delete_cmd_prefix": "rm(",
     "library": "var_list.r",
     "varRefreshCmd": "cat(var_dic_list()) "
    }
   },
   "types_to_exclude": [
    "module",
    "function",
    "builtin_function_or_method",
    "instance",
    "_Feature"
   ],
   "window_display": false
  }
 },
 "nbformat": 4,
 "nbformat_minor": 5
}
