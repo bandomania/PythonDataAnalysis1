{
 "cells": [
  {
   "cell_type": "code",
   "execution_count": null,
   "id": "4621b3e5",
   "metadata": {},
   "outputs": [],
   "source": [
    "import numpy as np\n",
    "import pandas as pd"
   ]
  },
  {
   "cell_type": "code",
   "execution_count": null,
   "id": "19b21aef",
   "metadata": {},
   "outputs": [],
   "source": [
    "a = [ [1, 2], [3, 4], [5, 6] ]"
   ]
  },
  {
   "cell_type": "code",
   "execution_count": null,
   "id": "c4eaddb3",
   "metadata": {},
   "outputs": [],
   "source": [
    "np.array(a)"
   ]
  },
  {
   "cell_type": "code",
   "execution_count": null,
   "id": "55698708",
   "metadata": {},
   "outputs": [],
   "source": [
    "df = pd.DataFrame(data = a)\n",
    "df"
   ]
  },
  {
   "cell_type": "code",
   "execution_count": null,
   "id": "9076eb2e",
   "metadata": {},
   "outputs": [],
   "source": [
    "type(df)"
   ]
  },
  {
   "cell_type": "code",
   "execution_count": null,
   "id": "80a4b917",
   "metadata": {},
   "outputs": [],
   "source": [
    "df = pd.DataFrame(data = a, index = range(1, 4), columns = ['A', 'B'])\n",
    "df"
   ]
  },
  {
   "cell_type": "code",
   "execution_count": null,
   "id": "e00f190d",
   "metadata": {},
   "outputs": [],
   "source": [
    "df.shape"
   ]
  },
  {
   "cell_type": "code",
   "execution_count": null,
   "id": "38e11968",
   "metadata": {},
   "outputs": [],
   "source": [
    "df.dtypes"
   ]
  },
  {
   "cell_type": "code",
   "execution_count": null,
   "id": "34525e47",
   "metadata": {},
   "outputs": [],
   "source": [
    "df.values"
   ]
  },
  {
   "cell_type": "code",
   "execution_count": null,
   "id": "5d574b3d",
   "metadata": {},
   "outputs": [],
   "source": [
    "df.index"
   ]
  },
  {
   "cell_type": "code",
   "execution_count": null,
   "id": "512eef0a",
   "metadata": {},
   "outputs": [],
   "source": [
    "df.columns"
   ]
  },
  {
   "cell_type": "code",
   "execution_count": null,
   "id": "524218c4",
   "metadata": {},
   "outputs": [],
   "source": [
    "df.info"
   ]
  },
  {
   "cell_type": "code",
   "execution_count": null,
   "id": "dddb7f24",
   "metadata": {},
   "outputs": [],
   "source": [
    "df.info()"
   ]
  },
  {
   "cell_type": "code",
   "execution_count": null,
   "id": "4416efb2",
   "metadata": {},
   "outputs": [],
   "source": [
    "df"
   ]
  },
  {
   "cell_type": "code",
   "execution_count": null,
   "id": "207b5a4f",
   "metadata": {},
   "outputs": [],
   "source": [
    "df.iloc[0]"
   ]
  },
  {
   "cell_type": "code",
   "execution_count": null,
   "id": "ee1fa72e",
   "metadata": {},
   "outputs": [],
   "source": [
    "df.iloc[[0]]"
   ]
  },
  {
   "cell_type": "code",
   "execution_count": null,
   "id": "95d71414",
   "metadata": {},
   "outputs": [],
   "source": [
    "df.iloc[0:2]"
   ]
  },
  {
   "cell_type": "code",
   "execution_count": null,
   "id": "db0ca817",
   "metadata": {},
   "outputs": [],
   "source": [
    "df.iloc[0:2, :]"
   ]
  },
  {
   "cell_type": "code",
   "execution_count": null,
   "id": "ba1c5dd3",
   "metadata": {},
   "outputs": [],
   "source": [
    "df.iloc[:, 0:2]"
   ]
  },
  {
   "cell_type": "code",
   "execution_count": null,
   "id": "2576a925",
   "metadata": {},
   "outputs": [],
   "source": [
    "df.iloc[:, [1, 0]]"
   ]
  },
  {
   "cell_type": "code",
   "execution_count": null,
   "id": "cee890b4",
   "metadata": {},
   "outputs": [],
   "source": [
    "df"
   ]
  },
  {
   "cell_type": "code",
   "execution_count": null,
   "id": "8dc0cd5a",
   "metadata": {},
   "outputs": [],
   "source": [
    "df.loc[1]"
   ]
  },
  {
   "cell_type": "code",
   "execution_count": null,
   "id": "300d7816",
   "metadata": {},
   "outputs": [],
   "source": [
    "df.loc[[1]]"
   ]
  },
  {
   "cell_type": "code",
   "execution_count": null,
   "id": "94a417af",
   "metadata": {},
   "outputs": [],
   "source": [
    "df.loc[1:3]"
   ]
  },
  {
   "cell_type": "code",
   "execution_count": null,
   "id": "368883e8",
   "metadata": {},
   "outputs": [],
   "source": [
    "df.loc[1:3, :]"
   ]
  },
  {
   "cell_type": "code",
   "execution_count": null,
   "id": "c02cbedf",
   "metadata": {},
   "outputs": [],
   "source": [
    "df.loc[:, 'A':'B']"
   ]
  },
  {
   "cell_type": "code",
   "execution_count": null,
   "id": "fd4274ad",
   "metadata": {},
   "outputs": [],
   "source": [
    "df.loc[:, ['B', 'A']]"
   ]
  },
  {
   "cell_type": "code",
   "execution_count": null,
   "id": "9418970c",
   "metadata": {},
   "outputs": [],
   "source": [
    "'C:\\\\Users\\\\hdsce\\\\Documents\\\\PythonDataAnalysis1\\\\data'"
   ]
  },
  {
   "cell_type": "code",
   "execution_count": null,
   "id": "acf2083b",
   "metadata": {},
   "outputs": [],
   "source": [
    "'C:/Users/hdsce/Documents/PythonDataAnalysis1/data'"
   ]
  },
  {
   "cell_type": "code",
   "execution_count": null,
   "id": "9836eafe",
   "metadata": {},
   "outputs": [],
   "source": [
    "r'C:\\Users\\hdsce\\Documents\\PythonDataAnalysis1\\data'"
   ]
  },
  {
   "cell_type": "code",
   "execution_count": null,
   "id": "bfbc8062",
   "metadata": {},
   "outputs": [],
   "source": [
    "'I\\'m a boy'"
   ]
  },
  {
   "cell_type": "code",
   "execution_count": null,
   "id": "38fdf5b1",
   "metadata": {},
   "outputs": [],
   "source": [
    "import sys"
   ]
  },
  {
   "cell_type": "code",
   "execution_count": null,
   "id": "701a5f09",
   "metadata": {},
   "outputs": [],
   "source": [
    "sys.version"
   ]
  },
  {
   "cell_type": "code",
   "execution_count": null,
   "id": "5d5ef251",
   "metadata": {},
   "outputs": [],
   "source": []
  },
  {
   "cell_type": "code",
   "execution_count": null,
   "id": "4fe99adc",
   "metadata": {},
   "outputs": [],
   "source": [
    "import os\n",
    "import chardet\n",
    "import numpy as np\n",
    "import pandas as pd\n",
    "import joblib"
   ]
  },
  {
   "cell_type": "code",
   "execution_count": null,
   "id": "f99692a6",
   "metadata": {},
   "outputs": [],
   "source": [
    "os.getcwd()"
   ]
  },
  {
   "cell_type": "code",
   "execution_count": null,
   "id": "c9ce9767",
   "metadata": {},
   "outputs": [],
   "source": [
    "os.chdir('C:\\\\Users\\\\hdsce\\\\Documents\\\\PythonDataAnalysis1\\\\data')"
   ]
  },
  {
   "cell_type": "code",
   "execution_count": null,
   "id": "ea94e398",
   "metadata": {},
   "outputs": [],
   "source": [
    "os.getcwd()"
   ]
  },
  {
   "cell_type": "code",
   "execution_count": null,
   "id": "3e4195d0",
   "metadata": {},
   "outputs": [],
   "source": [
    "os.chdir('..')"
   ]
  },
  {
   "cell_type": "code",
   "execution_count": null,
   "id": "9c0c0e42",
   "metadata": {},
   "outputs": [],
   "source": [
    "os.getcwd()"
   ]
  },
  {
   "cell_type": "code",
   "execution_count": null,
   "id": "98a98030",
   "metadata": {},
   "outputs": [],
   "source": [
    "os.chdir('./live')"
   ]
  },
  {
   "cell_type": "code",
   "execution_count": null,
   "id": "030b16ac",
   "metadata": {},
   "outputs": [],
   "source": [
    "os.getcwd()"
   ]
  },
  {
   "cell_type": "code",
   "execution_count": null,
   "id": "a45f1409",
   "metadata": {},
   "outputs": [],
   "source": [
    "os.chdir('../data')"
   ]
  },
  {
   "cell_type": "code",
   "execution_count": null,
   "id": "0172a477",
   "metadata": {},
   "outputs": [],
   "source": [
    "os.getcwd()"
   ]
  },
  {
   "cell_type": "code",
   "execution_count": null,
   "id": "98f66bd6",
   "metadata": {},
   "outputs": [],
   "source": [
    "os.listdir()"
   ]
  },
  {
   "cell_type": "code",
   "execution_count": null,
   "id": "d58802a1",
   "metadata": {},
   "outputs": [],
   "source": [
    "os.mkdir('./temp')"
   ]
  },
  {
   "cell_type": "code",
   "execution_count": null,
   "id": "9be62063",
   "metadata": {},
   "outputs": [],
   "source": [
    "os.listdir()"
   ]
  },
  {
   "cell_type": "code",
   "execution_count": null,
   "id": "4a0bc127",
   "metadata": {},
   "outputs": [],
   "source": [
    "os.path.isdir('Online_Mall.csv')"
   ]
  },
  {
   "cell_type": "code",
   "execution_count": null,
   "id": "44f0652f",
   "metadata": {},
   "outputs": [],
   "source": [
    "for file in os.listdir():\n",
    "    if '.xlsx' in file:\n",
    "        print(file)"
   ]
  },
  {
   "cell_type": "code",
   "execution_count": null,
   "id": "0f0fd829",
   "metadata": {},
   "outputs": [],
   "source": [
    "result = []\n",
    "for file in os.listdir():\n",
    "    if ('.xlsx' in file) or ('.csv' in file):\n",
    "        result.append(file)"
   ]
  },
  {
   "cell_type": "code",
   "execution_count": null,
   "id": "eaddb632",
   "metadata": {},
   "outputs": [],
   "source": [
    "result"
   ]
  },
  {
   "cell_type": "code",
   "execution_count": null,
   "id": "b74e44d7",
   "metadata": {},
   "outputs": [],
   "source": [
    "[file for file in os.listdir() if 'Price' in file]"
   ]
  },
  {
   "cell_type": "code",
   "execution_count": null,
   "id": "b6423000",
   "metadata": {},
   "outputs": [],
   "source": [
    "pd.read_excel('APT_Price_Seoul_2020_2022.xlsx')"
   ]
  },
  {
   "cell_type": "code",
   "execution_count": null,
   "id": "9ce23e65",
   "metadata": {},
   "outputs": [],
   "source": [
    "pd.read_excel(io = 'APT_Price_Seoul_2020_2022.xlsx', \\\n",
    "              sheet_name = '2022년', \\\n",
    "              usecols = range(1, 12), \\\n",
    "              skiprows = 3, \\\n",
    "              thousands = ',')"
   ]
  },
  {
   "cell_type": "code",
   "execution_count": null,
   "id": "18dd905a",
   "metadata": {},
   "outputs": [],
   "source": [
    "%time df1 = pd.read_excel(io = 'APT_Price_Seoul_2020_2022.xlsx', \\\n",
    "                          sheet_name = '2020~2022년')"
   ]
  },
  {
   "cell_type": "code",
   "execution_count": null,
   "id": "b5de9eb0",
   "metadata": {},
   "outputs": [],
   "source": [
    "df1.info()"
   ]
  },
  {
   "cell_type": "code",
   "execution_count": null,
   "id": "d2bb0544",
   "metadata": {},
   "outputs": [],
   "source": [
    "%time df1.to_excel('test.xlsx', index = False)"
   ]
  },
  {
   "cell_type": "code",
   "execution_count": null,
   "id": "cd71c4af",
   "metadata": {},
   "outputs": [],
   "source": [
    "os.mkdir('◆긴급')"
   ]
  },
  {
   "cell_type": "code",
   "execution_count": null,
   "id": "1dcb8b23",
   "metadata": {},
   "outputs": [],
   "source": [
    "os.mkdir('2021년')"
   ]
  },
  {
   "cell_type": "code",
   "execution_count": null,
   "id": "03c46e4d",
   "metadata": {},
   "outputs": [],
   "source": [
    "os.listdir()"
   ]
  },
  {
   "cell_type": "code",
   "execution_count": null,
   "id": "8c637456",
   "metadata": {},
   "outputs": [],
   "source": [
    "%%time\n",
    "df1 = pd.read_excel(io = 'APT_Price_Seoul_2020_2022.xlsx', \n",
    "                    sheet_name = '2020~2022년')"
   ]
  },
  {
   "cell_type": "code",
   "execution_count": null,
   "id": "5e384677",
   "metadata": {},
   "outputs": [],
   "source": [
    "import time"
   ]
  },
  {
   "cell_type": "code",
   "execution_count": null,
   "id": "09124de3",
   "metadata": {},
   "outputs": [],
   "source": [
    "start = time.time()\n",
    "df1 = pd.read_excel(io = 'APT_Price_Seoul_2020_2022.xlsx', \n",
    "                    sheet_name = '2020~2022년')\n",
    "end = time.time()"
   ]
  },
  {
   "cell_type": "code",
   "execution_count": null,
   "id": "1773a7e9",
   "metadata": {},
   "outputs": [],
   "source": [
    "f'코드 실행 소요 시간: {(end - start):.2f}초'"
   ]
  },
  {
   "cell_type": "code",
   "execution_count": null,
   "id": "14ab6714",
   "metadata": {},
   "outputs": [],
   "source": [
    "start"
   ]
  },
  {
   "cell_type": "code",
   "execution_count": null,
   "id": "a13e5392",
   "metadata": {},
   "outputs": [],
   "source": [
    "os.listdir()"
   ]
  },
  {
   "cell_type": "raw",
   "id": "1e27d2b9",
   "metadata": {},
   "source": [
    "!pip install tqdm"
   ]
  },
  {
   "cell_type": "code",
   "execution_count": null,
   "id": "32ec0b0c",
   "metadata": {},
   "outputs": [],
   "source": [
    "from tqdm import tqdm"
   ]
  },
  {
   "cell_type": "code",
   "execution_count": null,
   "id": "b391034e",
   "metadata": {},
   "outputs": [],
   "source": [
    "dfAll = pd.DataFrame()\n",
    "\n",
    "for i in tqdm(range(3)):\n",
    "    df = pd.read_excel(io = 'APT_Price_Seoul_2020_2022.xlsx',\n",
    "                       sheet_name = i, \n",
    "                       skiprows = 3, \n",
    "                       usecols = range(1, 12), \n",
    "                       thousands = ',')\n",
    "    dfAll = pd.concat(objs = [dfAll, df], ignore_index = True)"
   ]
  },
  {
   "cell_type": "code",
   "execution_count": null,
   "id": "beec074a",
   "metadata": {},
   "outputs": [],
   "source": [
    "dfAll.info()"
   ]
  },
  {
   "cell_type": "code",
   "execution_count": null,
   "id": "c86f9651",
   "metadata": {},
   "outputs": [],
   "source": [
    "df1.info()"
   ]
  },
  {
   "cell_type": "code",
   "execution_count": null,
   "id": "756e4ca0",
   "metadata": {},
   "outputs": [],
   "source": [
    "df1.head()"
   ]
  },
  {
   "cell_type": "code",
   "execution_count": null,
   "id": "b2ad0705",
   "metadata": {},
   "outputs": [],
   "source": [
    "dfAll"
   ]
  },
  {
   "cell_type": "code",
   "execution_count": null,
   "id": "15e80b73",
   "metadata": {},
   "outputs": [],
   "source": [
    "df.head(n = 10)"
   ]
  },
  {
   "cell_type": "code",
   "execution_count": null,
   "id": "b662b6c3",
   "metadata": {},
   "outputs": [],
   "source": [
    "df.tail(n = 10)"
   ]
  },
  {
   "cell_type": "code",
   "execution_count": null,
   "id": "6aebe1f3",
   "metadata": {},
   "outputs": [],
   "source": [
    "df.sample()"
   ]
  },
  {
   "cell_type": "code",
   "execution_count": null,
   "id": "344690c6",
   "metadata": {},
   "outputs": [],
   "source": [
    "df.sample(random_state = 1234)"
   ]
  },
  {
   "cell_type": "code",
   "execution_count": null,
   "id": "56c73ce2",
   "metadata": {},
   "outputs": [],
   "source": [
    "os.listdir()"
   ]
  },
  {
   "cell_type": "code",
   "execution_count": null,
   "id": "f8e5fabc",
   "metadata": {},
   "outputs": [],
   "source": [
    "pd.read_excel(io = 'APT_Price_Seoul_2020_2022.xlsx', nrows = 10)"
   ]
  },
  {
   "cell_type": "code",
   "execution_count": null,
   "id": "8d2265dc",
   "metadata": {},
   "outputs": [],
   "source": [
    "?pd.read_excel"
   ]
  },
  {
   "cell_type": "code",
   "execution_count": null,
   "id": "95ae982b",
   "metadata": {},
   "outputs": [],
   "source": [
    "??pd.read_excel"
   ]
  },
  {
   "cell_type": "code",
   "execution_count": null,
   "id": "bf0b5fd5",
   "metadata": {},
   "outputs": [],
   "source": [
    "[file for file in os.listdir() if '.csv' in file]"
   ]
  },
  {
   "cell_type": "code",
   "execution_count": null,
   "id": "58a1eb57",
   "metadata": {},
   "outputs": [],
   "source": [
    "fileName = 'APT_Price_Seoul_2020_2022.csv'"
   ]
  },
  {
   "cell_type": "code",
   "execution_count": null,
   "id": "8be85a10",
   "metadata": {},
   "outputs": [],
   "source": [
    "pd.read_csv(fileName, encoding = 'CP949')"
   ]
  },
  {
   "cell_type": "code",
   "execution_count": null,
   "id": "4e560f85",
   "metadata": {},
   "outputs": [],
   "source": [
    "with open(file = fileName, mode = 'rb') as file:\n",
    "    text = file.read()"
   ]
  },
  {
   "cell_type": "code",
   "execution_count": null,
   "id": "980ae854",
   "metadata": {},
   "outputs": [],
   "source": [
    "text[:100]"
   ]
  },
  {
   "cell_type": "code",
   "execution_count": null,
   "id": "cd4527ef",
   "metadata": {},
   "outputs": [],
   "source": [
    "chardet.detect(text[:100])"
   ]
  },
  {
   "cell_type": "code",
   "execution_count": null,
   "id": "941fbe5c",
   "metadata": {},
   "outputs": [],
   "source": [
    "chardet.detect(text)"
   ]
  },
  {
   "cell_type": "code",
   "execution_count": null,
   "id": "56b762d2",
   "metadata": {},
   "outputs": [],
   "source": [
    "pd.read_csv(fileName, encoding = 'CP949')"
   ]
  },
  {
   "cell_type": "code",
   "execution_count": null,
   "id": "23d844a1",
   "metadata": {},
   "outputs": [],
   "source": [
    "os.listdir()"
   ]
  },
  {
   "cell_type": "code",
   "execution_count": null,
   "id": "8cf94962",
   "metadata": {},
   "outputs": [],
   "source": [
    "dfs = pd.read_excel(\n",
    "    io = 'APT_Price_Seoul_2020_2022.xlsx', \n",
    "    sheet_name = None, \n",
    "    nrows = 10\n",
    ")"
   ]
  },
  {
   "cell_type": "code",
   "execution_count": null,
   "id": "6104eb44",
   "metadata": {},
   "outputs": [],
   "source": [
    "type(dfs)"
   ]
  },
  {
   "cell_type": "code",
   "execution_count": null,
   "id": "38e8c10f",
   "metadata": {},
   "outputs": [],
   "source": [
    "dfs"
   ]
  },
  {
   "cell_type": "code",
   "execution_count": null,
   "id": "4be65dad",
   "metadata": {},
   "outputs": [],
   "source": [
    "dfs.keys()"
   ]
  },
  {
   "cell_type": "code",
   "execution_count": null,
   "id": "41a69c87",
   "metadata": {},
   "outputs": [],
   "source": [
    "dfAll = pd.DataFrame()\n",
    "for key in dfs.keys():\n",
    "    df = dfs[key]\n",
    "    dfAll = pd.concat(objs = [dfAll, df], ignore_index = True)"
   ]
  },
  {
   "cell_type": "code",
   "execution_count": null,
   "id": "fb00052c",
   "metadata": {},
   "outputs": [],
   "source": [
    "dfAll.info()"
   ]
  },
  {
   "cell_type": "code",
   "execution_count": null,
   "id": "bd79b2fc",
   "metadata": {},
   "outputs": [],
   "source": [
    "os.listdir()"
   ]
  },
  {
   "cell_type": "code",
   "execution_count": null,
   "id": "bb22cca6",
   "metadata": {},
   "outputs": [],
   "source": [
    "pd.read_csv('APT_Price_Seoul_2020_2022.csv', \n",
    "            encoding = 'CP949', \n",
    "            sep = ',', \n",
    "            parse_dates = ['거래일'], \n",
    "            thousands = ',')"
   ]
  },
  {
   "cell_type": "code",
   "execution_count": null,
   "id": "9d68688c",
   "metadata": {},
   "outputs": [],
   "source": [
    "%%time\n",
    "df2 = pd.read_csv(fileName, encoding = 'CP949', parse_dates = ['거래일'])"
   ]
  },
  {
   "cell_type": "code",
   "execution_count": null,
   "id": "fa566f04",
   "metadata": {},
   "outputs": [],
   "source": [
    "df2.info()"
   ]
  },
  {
   "cell_type": "code",
   "execution_count": null,
   "id": "4fa76963",
   "metadata": {},
   "outputs": [],
   "source": [
    "%%time\n",
    "df2.to_csv('test.csv', index = False)"
   ]
  },
  {
   "cell_type": "code",
   "execution_count": null,
   "id": "9ebdeca6",
   "metadata": {},
   "outputs": [],
   "source": [
    "%time joblib.dump(value = df2, filename = 'test.z')"
   ]
  },
  {
   "cell_type": "code",
   "execution_count": null,
   "id": "4f20e16f",
   "metadata": {},
   "outputs": [],
   "source": [
    "%time df3 = joblib.load(filename = 'test.z')"
   ]
  },
  {
   "cell_type": "code",
   "execution_count": null,
   "id": "a063780f",
   "metadata": {},
   "outputs": [],
   "source": [
    "df3.info()"
   ]
  },
  {
   "cell_type": "code",
   "execution_count": null,
   "id": "ee5fa486",
   "metadata": {},
   "outputs": [],
   "source": [
    "df4 = pd.read_csv('test.csv')"
   ]
  },
  {
   "cell_type": "code",
   "execution_count": null,
   "id": "fea84fa4",
   "metadata": {},
   "outputs": [],
   "source": [
    "df4.info()"
   ]
  },
  {
   "cell_type": "code",
   "execution_count": null,
   "id": "7577f1d2",
   "metadata": {},
   "outputs": [],
   "source": [
    "joblib.dump(value = [df1, df2, df3], filename = 'test2.z')"
   ]
  },
  {
   "cell_type": "code",
   "execution_count": null,
   "id": "432f4449",
   "metadata": {},
   "outputs": [],
   "source": [
    "df1, df2, df3 = joblib.load(filename = 'test2.z')"
   ]
  },
  {
   "cell_type": "code",
   "execution_count": null,
   "id": "2e108858",
   "metadata": {},
   "outputs": [],
   "source": [
    "files = [file for file in os.listdir() if 'test' in file]\n",
    "files"
   ]
  },
  {
   "cell_type": "code",
   "execution_count": null,
   "id": "2659e9af",
   "metadata": {},
   "outputs": [],
   "source": [
    "for file in files:\n",
    "    os.remove(file)"
   ]
  },
  {
   "cell_type": "code",
   "execution_count": null,
   "id": "0bae54a0",
   "metadata": {},
   "outputs": [],
   "source": [
    "folders = [folder for folder in os.listdir() if os.path.isdir(folder)]\n",
    "folders"
   ]
  },
  {
   "cell_type": "code",
   "execution_count": null,
   "id": "701e14fc",
   "metadata": {},
   "outputs": [],
   "source": [
    "for folder in folders:\n",
    "    os.rmdir(folder)"
   ]
  },
  {
   "cell_type": "code",
   "execution_count": null,
   "id": "7e9364db",
   "metadata": {},
   "outputs": [],
   "source": []
  },
  {
   "cell_type": "code",
   "execution_count": 1,
   "id": "7c72d395",
   "metadata": {},
   "outputs": [],
   "source": [
    "import os\n",
    "import joblib\n",
    "import numpy as np\n",
    "import pandas as pd"
   ]
  },
  {
   "cell_type": "code",
   "execution_count": 2,
   "id": "09cf6dc5",
   "metadata": {},
   "outputs": [
    {
     "data": {
      "text/plain": [
       "'C:\\\\Users\\\\hdsce\\\\Documents\\\\PythonDataAnalysis1\\\\live'"
      ]
     },
     "execution_count": 2,
     "metadata": {},
     "output_type": "execute_result"
    }
   ],
   "source": [
    "os.getcwd()"
   ]
  },
  {
   "cell_type": "code",
   "execution_count": 3,
   "id": "d02288b8",
   "metadata": {},
   "outputs": [],
   "source": [
    "os.chdir('../data')"
   ]
  },
  {
   "cell_type": "code",
   "execution_count": 4,
   "id": "5b37b675",
   "metadata": {
    "collapsed": true
   },
   "outputs": [
    {
     "data": {
      "text/plain": [
       "['App_Usage.csv',\n",
       " 'APT_Detail_Seoul_2022.csv',\n",
       " 'APT_Detail_Seoul_2022.xlsx',\n",
       " 'APT_Merged.csv',\n",
       " 'APT_Merged.xlsx',\n",
       " 'APT_Price_Seoul_2020_2022.csv',\n",
       " 'APT_Price_Seoul_2020_2022.xlsx',\n",
       " 'APT_Price_Seoul_Copy.xlsx',\n",
       " 'NA_Sample.xlsx',\n",
       " 'Online_Mall.csv']"
      ]
     },
     "execution_count": 4,
     "metadata": {},
     "output_type": "execute_result"
    }
   ],
   "source": [
    "os.listdir()"
   ]
  },
  {
   "cell_type": "code",
   "execution_count": 5,
   "id": "08d17626",
   "metadata": {},
   "outputs": [],
   "source": [
    "price = pd.read_csv('APT_Price_Seoul_2020_2022.csv', encoding = 'CP949')"
   ]
  },
  {
   "cell_type": "code",
   "execution_count": 6,
   "id": "5ae33920",
   "metadata": {},
   "outputs": [
    {
     "name": "stdout",
     "output_type": "stream",
     "text": [
      "<class 'pandas.core.frame.DataFrame'>\n",
      "RangeIndex: 139919 entries, 0 to 139918\n",
      "Data columns (total 11 columns):\n",
      " #   Column  Non-Null Count   Dtype  \n",
      "---  ------  --------------   -----  \n",
      " 0   지역코드    139919 non-null  int64  \n",
      " 1   아파트     139919 non-null  object \n",
      " 2   시도명     139919 non-null  object \n",
      " 3   시군구     139919 non-null  object \n",
      " 4   법정동     139919 non-null  object \n",
      " 5   지번      139879 non-null  object \n",
      " 6   건축년도    139917 non-null  float64\n",
      " 7   거래일     139919 non-null  object \n",
      " 8   전용면적    139919 non-null  float64\n",
      " 9   층       139919 non-null  int64  \n",
      " 10  거래금액    139919 non-null  object \n",
      "dtypes: float64(2), int64(2), object(7)\n",
      "memory usage: 11.7+ MB\n"
     ]
    }
   ],
   "source": [
    "price.info()"
   ]
  },
  {
   "cell_type": "code",
   "execution_count": 7,
   "id": "e1278eae",
   "metadata": {},
   "outputs": [
    {
     "data": {
      "text/html": [
       "<div>\n",
       "<style scoped>\n",
       "    .dataframe tbody tr th:only-of-type {\n",
       "        vertical-align: middle;\n",
       "    }\n",
       "\n",
       "    .dataframe tbody tr th {\n",
       "        vertical-align: top;\n",
       "    }\n",
       "\n",
       "    .dataframe thead th {\n",
       "        text-align: right;\n",
       "    }\n",
       "</style>\n",
       "<table border=\"1\" class=\"dataframe\">\n",
       "  <thead>\n",
       "    <tr style=\"text-align: right;\">\n",
       "      <th></th>\n",
       "      <th>지역코드</th>\n",
       "      <th>아파트</th>\n",
       "      <th>시도명</th>\n",
       "      <th>시군구</th>\n",
       "      <th>법정동</th>\n",
       "      <th>지번</th>\n",
       "      <th>건축년도</th>\n",
       "      <th>거래일</th>\n",
       "      <th>전용면적</th>\n",
       "      <th>층</th>\n",
       "      <th>거래금액</th>\n",
       "    </tr>\n",
       "  </thead>\n",
       "  <tbody>\n",
       "    <tr>\n",
       "      <th>0</th>\n",
       "      <td>11110</td>\n",
       "      <td>신동아블루아광화문의꿈</td>\n",
       "      <td>서울특별시</td>\n",
       "      <td>종로구</td>\n",
       "      <td>필운동</td>\n",
       "      <td>254</td>\n",
       "      <td>2007.0</td>\n",
       "      <td>2020-01-03</td>\n",
       "      <td>111.97</td>\n",
       "      <td>6</td>\n",
       "      <td>100,000</td>\n",
       "    </tr>\n",
       "    <tr>\n",
       "      <th>1</th>\n",
       "      <td>11110</td>\n",
       "      <td>광화문스페이스본(106동)</td>\n",
       "      <td>서울특별시</td>\n",
       "      <td>종로구</td>\n",
       "      <td>사직동</td>\n",
       "      <td>9-1</td>\n",
       "      <td>2008.0</td>\n",
       "      <td>2020-01-02</td>\n",
       "      <td>163.33</td>\n",
       "      <td>2</td>\n",
       "      <td>162,000</td>\n",
       "    </tr>\n",
       "    <tr>\n",
       "      <th>2</th>\n",
       "      <td>11110</td>\n",
       "      <td>세종로대우</td>\n",
       "      <td>서울특별시</td>\n",
       "      <td>종로구</td>\n",
       "      <td>내수동</td>\n",
       "      <td>167</td>\n",
       "      <td>1994.0</td>\n",
       "      <td>2020-01-06</td>\n",
       "      <td>109.91</td>\n",
       "      <td>11</td>\n",
       "      <td>88,000</td>\n",
       "    </tr>\n",
       "    <tr>\n",
       "      <th>3</th>\n",
       "      <td>11110</td>\n",
       "      <td>킹스매너</td>\n",
       "      <td>서울특별시</td>\n",
       "      <td>종로구</td>\n",
       "      <td>내수동</td>\n",
       "      <td>110-15</td>\n",
       "      <td>2004.0</td>\n",
       "      <td>2020-01-09</td>\n",
       "      <td>194.43</td>\n",
       "      <td>4</td>\n",
       "      <td>130,000</td>\n",
       "    </tr>\n",
       "    <tr>\n",
       "      <th>4</th>\n",
       "      <td>11110</td>\n",
       "      <td>경희궁파크팰리스</td>\n",
       "      <td>서울특별시</td>\n",
       "      <td>종로구</td>\n",
       "      <td>내수동</td>\n",
       "      <td>95</td>\n",
       "      <td>2003.0</td>\n",
       "      <td>2020-01-20</td>\n",
       "      <td>148.09</td>\n",
       "      <td>8</td>\n",
       "      <td>149,000</td>\n",
       "    </tr>\n",
       "  </tbody>\n",
       "</table>\n",
       "</div>"
      ],
      "text/plain": [
       "    지역코드             아파트    시도명  시군구  법정동      지번    건축년도         거래일    전용면적  \\\n",
       "0  11110     신동아블루아광화문의꿈  서울특별시  종로구  필운동     254  2007.0  2020-01-03  111.97   \n",
       "1  11110  광화문스페이스본(106동)  서울특별시  종로구  사직동     9-1  2008.0  2020-01-02  163.33   \n",
       "2  11110           세종로대우  서울특별시  종로구  내수동     167  1994.0  2020-01-06  109.91   \n",
       "3  11110            킹스매너  서울특별시  종로구  내수동  110-15  2004.0  2020-01-09  194.43   \n",
       "4  11110        경희궁파크팰리스  서울특별시  종로구  내수동      95  2003.0  2020-01-20  148.09   \n",
       "\n",
       "    층     거래금액  \n",
       "0   6  100,000  \n",
       "1   2  162,000  \n",
       "2  11   88,000  \n",
       "3   4  130,000  \n",
       "4   8  149,000  "
      ]
     },
     "execution_count": 7,
     "metadata": {},
     "output_type": "execute_result"
    }
   ],
   "source": [
    "price.head()"
   ]
  },
  {
   "cell_type": "code",
   "execution_count": 8,
   "id": "fbaf002d",
   "metadata": {},
   "outputs": [
    {
     "data": {
      "text/plain": [
       "0         11110\n",
       "1         11110\n",
       "2         11110\n",
       "3         11110\n",
       "4         11110\n",
       "          ...  \n",
       "139914    11740\n",
       "139915    11740\n",
       "139916    11740\n",
       "139917    11740\n",
       "139918    11740\n",
       "Name: 지역코드, Length: 139919, dtype: int64"
      ]
     },
     "execution_count": 8,
     "metadata": {},
     "output_type": "execute_result"
    }
   ],
   "source": [
    "price['지역코드']"
   ]
  },
  {
   "cell_type": "code",
   "execution_count": 9,
   "id": "7a117e44",
   "metadata": {},
   "outputs": [
    {
     "data": {
      "text/html": [
       "<div>\n",
       "<style scoped>\n",
       "    .dataframe tbody tr th:only-of-type {\n",
       "        vertical-align: middle;\n",
       "    }\n",
       "\n",
       "    .dataframe tbody tr th {\n",
       "        vertical-align: top;\n",
       "    }\n",
       "\n",
       "    .dataframe thead th {\n",
       "        text-align: right;\n",
       "    }\n",
       "</style>\n",
       "<table border=\"1\" class=\"dataframe\">\n",
       "  <thead>\n",
       "    <tr style=\"text-align: right;\">\n",
       "      <th></th>\n",
       "      <th>지역코드</th>\n",
       "    </tr>\n",
       "  </thead>\n",
       "  <tbody>\n",
       "    <tr>\n",
       "      <th>0</th>\n",
       "      <td>11110</td>\n",
       "    </tr>\n",
       "    <tr>\n",
       "      <th>1</th>\n",
       "      <td>11110</td>\n",
       "    </tr>\n",
       "    <tr>\n",
       "      <th>2</th>\n",
       "      <td>11110</td>\n",
       "    </tr>\n",
       "    <tr>\n",
       "      <th>3</th>\n",
       "      <td>11110</td>\n",
       "    </tr>\n",
       "    <tr>\n",
       "      <th>4</th>\n",
       "      <td>11110</td>\n",
       "    </tr>\n",
       "    <tr>\n",
       "      <th>...</th>\n",
       "      <td>...</td>\n",
       "    </tr>\n",
       "    <tr>\n",
       "      <th>139914</th>\n",
       "      <td>11740</td>\n",
       "    </tr>\n",
       "    <tr>\n",
       "      <th>139915</th>\n",
       "      <td>11740</td>\n",
       "    </tr>\n",
       "    <tr>\n",
       "      <th>139916</th>\n",
       "      <td>11740</td>\n",
       "    </tr>\n",
       "    <tr>\n",
       "      <th>139917</th>\n",
       "      <td>11740</td>\n",
       "    </tr>\n",
       "    <tr>\n",
       "      <th>139918</th>\n",
       "      <td>11740</td>\n",
       "    </tr>\n",
       "  </tbody>\n",
       "</table>\n",
       "<p>139919 rows × 1 columns</p>\n",
       "</div>"
      ],
      "text/plain": [
       "         지역코드\n",
       "0       11110\n",
       "1       11110\n",
       "2       11110\n",
       "3       11110\n",
       "4       11110\n",
       "...       ...\n",
       "139914  11740\n",
       "139915  11740\n",
       "139916  11740\n",
       "139917  11740\n",
       "139918  11740\n",
       "\n",
       "[139919 rows x 1 columns]"
      ]
     },
     "execution_count": 9,
     "metadata": {},
     "output_type": "execute_result"
    }
   ],
   "source": [
    "price[['지역코드']]"
   ]
  },
  {
   "cell_type": "code",
   "execution_count": 10,
   "id": "dd124178",
   "metadata": {},
   "outputs": [
    {
     "data": {
      "text/html": [
       "<div>\n",
       "<style scoped>\n",
       "    .dataframe tbody tr th:only-of-type {\n",
       "        vertical-align: middle;\n",
       "    }\n",
       "\n",
       "    .dataframe tbody tr th {\n",
       "        vertical-align: top;\n",
       "    }\n",
       "\n",
       "    .dataframe thead th {\n",
       "        text-align: right;\n",
       "    }\n",
       "</style>\n",
       "<table border=\"1\" class=\"dataframe\">\n",
       "  <thead>\n",
       "    <tr style=\"text-align: right;\">\n",
       "      <th></th>\n",
       "      <th>아파트</th>\n",
       "      <th>지역코드</th>\n",
       "    </tr>\n",
       "  </thead>\n",
       "  <tbody>\n",
       "    <tr>\n",
       "      <th>0</th>\n",
       "      <td>신동아블루아광화문의꿈</td>\n",
       "      <td>11110</td>\n",
       "    </tr>\n",
       "    <tr>\n",
       "      <th>1</th>\n",
       "      <td>광화문스페이스본(106동)</td>\n",
       "      <td>11110</td>\n",
       "    </tr>\n",
       "    <tr>\n",
       "      <th>2</th>\n",
       "      <td>세종로대우</td>\n",
       "      <td>11110</td>\n",
       "    </tr>\n",
       "    <tr>\n",
       "      <th>3</th>\n",
       "      <td>킹스매너</td>\n",
       "      <td>11110</td>\n",
       "    </tr>\n",
       "    <tr>\n",
       "      <th>4</th>\n",
       "      <td>경희궁파크팰리스</td>\n",
       "      <td>11110</td>\n",
       "    </tr>\n",
       "    <tr>\n",
       "      <th>...</th>\n",
       "      <td>...</td>\n",
       "      <td>...</td>\n",
       "    </tr>\n",
       "    <tr>\n",
       "      <th>139914</th>\n",
       "      <td>중앙하이츠</td>\n",
       "      <td>11740</td>\n",
       "    </tr>\n",
       "    <tr>\n",
       "      <th>139915</th>\n",
       "      <td>롯데캐슬퍼스트</td>\n",
       "      <td>11740</td>\n",
       "    </tr>\n",
       "    <tr>\n",
       "      <th>139916</th>\n",
       "      <td>선사현대아파트</td>\n",
       "      <td>11740</td>\n",
       "    </tr>\n",
       "    <tr>\n",
       "      <th>139917</th>\n",
       "      <td>파크뷰진도맨션</td>\n",
       "      <td>11740</td>\n",
       "    </tr>\n",
       "    <tr>\n",
       "      <th>139918</th>\n",
       "      <td>강동리버스트4단지</td>\n",
       "      <td>11740</td>\n",
       "    </tr>\n",
       "  </tbody>\n",
       "</table>\n",
       "<p>139919 rows × 2 columns</p>\n",
       "</div>"
      ],
      "text/plain": [
       "                   아파트   지역코드\n",
       "0          신동아블루아광화문의꿈  11110\n",
       "1       광화문스페이스본(106동)  11110\n",
       "2                세종로대우  11110\n",
       "3                 킹스매너  11110\n",
       "4             경희궁파크팰리스  11110\n",
       "...                ...    ...\n",
       "139914           중앙하이츠  11740\n",
       "139915         롯데캐슬퍼스트  11740\n",
       "139916         선사현대아파트  11740\n",
       "139917         파크뷰진도맨션  11740\n",
       "139918       강동리버스트4단지  11740\n",
       "\n",
       "[139919 rows x 2 columns]"
      ]
     },
     "execution_count": 10,
     "metadata": {},
     "output_type": "execute_result"
    }
   ],
   "source": [
    "price[['아파트', '지역코드']]"
   ]
  },
  {
   "cell_type": "code",
   "execution_count": 13,
   "id": "5e19f658",
   "metadata": {},
   "outputs": [
    {
     "data": {
      "text/plain": [
       "Index(['지역코드', '아파트', '시도명', '시군구', '법정동', '지번', '건축년도', '거래일', '전용면적', '층',\n",
       "       '거래금액'],\n",
       "      dtype='object')"
      ]
     },
     "execution_count": 13,
     "metadata": {},
     "output_type": "execute_result"
    }
   ],
   "source": [
    "price.columns"
   ]
  },
  {
   "cell_type": "code",
   "execution_count": 14,
   "id": "889930cc",
   "metadata": {},
   "outputs": [
    {
     "data": {
      "text/html": [
       "<div>\n",
       "<style scoped>\n",
       "    .dataframe tbody tr th:only-of-type {\n",
       "        vertical-align: middle;\n",
       "    }\n",
       "\n",
       "    .dataframe tbody tr th {\n",
       "        vertical-align: top;\n",
       "    }\n",
       "\n",
       "    .dataframe thead th {\n",
       "        text-align: right;\n",
       "    }\n",
       "</style>\n",
       "<table border=\"1\" class=\"dataframe\">\n",
       "  <thead>\n",
       "    <tr style=\"text-align: right;\">\n",
       "      <th></th>\n",
       "      <th>거래일</th>\n",
       "      <th>전용면적</th>\n",
       "      <th>층</th>\n",
       "      <th>거래금액</th>\n",
       "    </tr>\n",
       "  </thead>\n",
       "  <tbody>\n",
       "    <tr>\n",
       "      <th>0</th>\n",
       "      <td>2020-01-03</td>\n",
       "      <td>111.97</td>\n",
       "      <td>6</td>\n",
       "      <td>100,000</td>\n",
       "    </tr>\n",
       "    <tr>\n",
       "      <th>1</th>\n",
       "      <td>2020-01-02</td>\n",
       "      <td>163.33</td>\n",
       "      <td>2</td>\n",
       "      <td>162,000</td>\n",
       "    </tr>\n",
       "    <tr>\n",
       "      <th>2</th>\n",
       "      <td>2020-01-06</td>\n",
       "      <td>109.91</td>\n",
       "      <td>11</td>\n",
       "      <td>88,000</td>\n",
       "    </tr>\n",
       "    <tr>\n",
       "      <th>3</th>\n",
       "      <td>2020-01-09</td>\n",
       "      <td>194.43</td>\n",
       "      <td>4</td>\n",
       "      <td>130,000</td>\n",
       "    </tr>\n",
       "    <tr>\n",
       "      <th>4</th>\n",
       "      <td>2020-01-20</td>\n",
       "      <td>148.09</td>\n",
       "      <td>8</td>\n",
       "      <td>149,000</td>\n",
       "    </tr>\n",
       "    <tr>\n",
       "      <th>...</th>\n",
       "      <td>...</td>\n",
       "      <td>...</td>\n",
       "      <td>...</td>\n",
       "      <td>...</td>\n",
       "    </tr>\n",
       "    <tr>\n",
       "      <th>139914</th>\n",
       "      <td>2022-12-03</td>\n",
       "      <td>59.52</td>\n",
       "      <td>8</td>\n",
       "      <td>53,000</td>\n",
       "    </tr>\n",
       "    <tr>\n",
       "      <th>139915</th>\n",
       "      <td>2022-12-06</td>\n",
       "      <td>111.22</td>\n",
       "      <td>10</td>\n",
       "      <td>135,000</td>\n",
       "    </tr>\n",
       "    <tr>\n",
       "      <th>139916</th>\n",
       "      <td>2022-12-10</td>\n",
       "      <td>59.64</td>\n",
       "      <td>17</td>\n",
       "      <td>77,000</td>\n",
       "    </tr>\n",
       "    <tr>\n",
       "      <th>139917</th>\n",
       "      <td>2022-12-06</td>\n",
       "      <td>208.92</td>\n",
       "      <td>18</td>\n",
       "      <td>145,500</td>\n",
       "    </tr>\n",
       "    <tr>\n",
       "      <th>139918</th>\n",
       "      <td>2022-12-29</td>\n",
       "      <td>59.99</td>\n",
       "      <td>7</td>\n",
       "      <td>55,000</td>\n",
       "    </tr>\n",
       "  </tbody>\n",
       "</table>\n",
       "<p>139919 rows × 4 columns</p>\n",
       "</div>"
      ],
      "text/plain": [
       "               거래일    전용면적   층     거래금액\n",
       "0       2020-01-03  111.97   6  100,000\n",
       "1       2020-01-02  163.33   2  162,000\n",
       "2       2020-01-06  109.91  11   88,000\n",
       "3       2020-01-09  194.43   4  130,000\n",
       "4       2020-01-20  148.09   8  149,000\n",
       "...            ...     ...  ..      ...\n",
       "139914  2022-12-03   59.52   8   53,000\n",
       "139915  2022-12-06  111.22  10  135,000\n",
       "139916  2022-12-10   59.64  17   77,000\n",
       "139917  2022-12-06  208.92  18  145,500\n",
       "139918  2022-12-29   59.99   7   55,000\n",
       "\n",
       "[139919 rows x 4 columns]"
      ]
     },
     "execution_count": 14,
     "metadata": {},
     "output_type": "execute_result"
    }
   ],
   "source": [
    "price[['거래일', '전용면적', '층', '거래금액']]"
   ]
  },
  {
   "cell_type": "code",
   "execution_count": 15,
   "id": "97d89540",
   "metadata": {
    "collapsed": true
   },
   "outputs": [
    {
     "ename": "TypeError",
     "evalue": "cannot do slice indexing on RangeIndex with these indexers [거래일] of type str",
     "output_type": "error",
     "traceback": [
      "\u001b[1;31m---------------------------------------------------------------------------\u001b[0m",
      "\u001b[1;31mTypeError\u001b[0m                                 Traceback (most recent call last)",
      "Cell \u001b[1;32mIn[15], line 1\u001b[0m\n\u001b[1;32m----> 1\u001b[0m \u001b[43mprice\u001b[49m\u001b[43m[\u001b[49m\u001b[38;5;124;43m'\u001b[39;49m\u001b[38;5;124;43m거래일\u001b[39;49m\u001b[38;5;124;43m'\u001b[39;49m\u001b[43m:\u001b[49m\u001b[38;5;124;43m'\u001b[39;49m\u001b[38;5;124;43m거래금액\u001b[39;49m\u001b[38;5;124;43m'\u001b[39;49m\u001b[43m]\u001b[49m\n",
      "File \u001b[1;32m~\\ve311\\Lib\\site-packages\\pandas\\core\\frame.py:3779\u001b[0m, in \u001b[0;36mDataFrame.__getitem__\u001b[1;34m(self, key)\u001b[0m\n\u001b[0;32m   3777\u001b[0m         \u001b[38;5;28;01mreturn\u001b[39;00m \u001b[38;5;28mself\u001b[39m\u001b[38;5;241m.\u001b[39m_getitem_multilevel(key)\n\u001b[0;32m   3778\u001b[0m \u001b[38;5;66;03m# Do we have a slicer (on rows)?\u001b[39;00m\n\u001b[1;32m-> 3779\u001b[0m indexer \u001b[38;5;241m=\u001b[39m \u001b[43mconvert_to_index_sliceable\u001b[49m\u001b[43m(\u001b[49m\u001b[38;5;28;43mself\u001b[39;49m\u001b[43m,\u001b[49m\u001b[43m \u001b[49m\u001b[43mkey\u001b[49m\u001b[43m)\u001b[49m\n\u001b[0;32m   3780\u001b[0m \u001b[38;5;28;01mif\u001b[39;00m indexer \u001b[38;5;129;01mis\u001b[39;00m \u001b[38;5;129;01mnot\u001b[39;00m \u001b[38;5;28;01mNone\u001b[39;00m:\n\u001b[0;32m   3781\u001b[0m     \u001b[38;5;28;01mif\u001b[39;00m \u001b[38;5;28misinstance\u001b[39m(indexer, np\u001b[38;5;241m.\u001b[39mndarray):\n",
      "File \u001b[1;32m~\\ve311\\Lib\\site-packages\\pandas\\core\\indexing.py:2494\u001b[0m, in \u001b[0;36mconvert_to_index_sliceable\u001b[1;34m(obj, key)\u001b[0m\n\u001b[0;32m   2492\u001b[0m idx \u001b[38;5;241m=\u001b[39m obj\u001b[38;5;241m.\u001b[39mindex\n\u001b[0;32m   2493\u001b[0m \u001b[38;5;28;01mif\u001b[39;00m \u001b[38;5;28misinstance\u001b[39m(key, \u001b[38;5;28mslice\u001b[39m):\n\u001b[1;32m-> 2494\u001b[0m     \u001b[38;5;28;01mreturn\u001b[39;00m \u001b[43midx\u001b[49m\u001b[38;5;241;43m.\u001b[39;49m\u001b[43m_convert_slice_indexer\u001b[49m\u001b[43m(\u001b[49m\u001b[43mkey\u001b[49m\u001b[43m,\u001b[49m\u001b[43m \u001b[49m\u001b[43mkind\u001b[49m\u001b[38;5;241;43m=\u001b[39;49m\u001b[38;5;124;43m\"\u001b[39;49m\u001b[38;5;124;43mgetitem\u001b[39;49m\u001b[38;5;124;43m\"\u001b[39;49m\u001b[43m)\u001b[49m\n\u001b[0;32m   2496\u001b[0m \u001b[38;5;28;01melif\u001b[39;00m \u001b[38;5;28misinstance\u001b[39m(key, \u001b[38;5;28mstr\u001b[39m):\n\u001b[0;32m   2497\u001b[0m \n\u001b[0;32m   2498\u001b[0m     \u001b[38;5;66;03m# we are an actual column\u001b[39;00m\n\u001b[0;32m   2499\u001b[0m     \u001b[38;5;28;01mif\u001b[39;00m key \u001b[38;5;129;01min\u001b[39;00m obj\u001b[38;5;241m.\u001b[39mcolumns:\n",
      "File \u001b[1;32m~\\ve311\\Lib\\site-packages\\pandas\\core\\indexes\\numeric.py:234\u001b[0m, in \u001b[0;36mNumericIndex._convert_slice_indexer\u001b[1;34m(self, key, kind)\u001b[0m\n\u001b[0;32m    228\u001b[0m     \u001b[38;5;66;03m# TODO: can we write this as a condition based on\u001b[39;00m\n\u001b[0;32m    229\u001b[0m     \u001b[38;5;66;03m#  e.g. _should_fallback_to_positional?\u001b[39;00m\n\u001b[0;32m    230\u001b[0m     \u001b[38;5;66;03m# We always treat __getitem__ slicing as label-based\u001b[39;00m\n\u001b[0;32m    231\u001b[0m     \u001b[38;5;66;03m# translate to locations\u001b[39;00m\n\u001b[0;32m    232\u001b[0m     \u001b[38;5;28;01mreturn\u001b[39;00m \u001b[38;5;28mself\u001b[39m\u001b[38;5;241m.\u001b[39mslice_indexer(key\u001b[38;5;241m.\u001b[39mstart, key\u001b[38;5;241m.\u001b[39mstop, key\u001b[38;5;241m.\u001b[39mstep)\n\u001b[1;32m--> 234\u001b[0m \u001b[38;5;28;01mreturn\u001b[39;00m \u001b[38;5;28;43msuper\u001b[39;49m\u001b[43m(\u001b[49m\u001b[43m)\u001b[49m\u001b[38;5;241;43m.\u001b[39;49m\u001b[43m_convert_slice_indexer\u001b[49m\u001b[43m(\u001b[49m\u001b[43mkey\u001b[49m\u001b[43m,\u001b[49m\u001b[43m \u001b[49m\u001b[43mkind\u001b[49m\u001b[38;5;241;43m=\u001b[39;49m\u001b[43mkind\u001b[49m\u001b[43m)\u001b[49m\n",
      "File \u001b[1;32m~\\ve311\\Lib\\site-packages\\pandas\\core\\indexes\\base.py:4250\u001b[0m, in \u001b[0;36mIndex._convert_slice_indexer\u001b[1;34m(self, key, kind)\u001b[0m\n\u001b[0;32m   4246\u001b[0m \u001b[38;5;28;01mif\u001b[39;00m kind \u001b[38;5;241m==\u001b[39m \u001b[38;5;124m\"\u001b[39m\u001b[38;5;124mgetitem\u001b[39m\u001b[38;5;124m\"\u001b[39m:\n\u001b[0;32m   4247\u001b[0m     \u001b[38;5;66;03m# called from the getitem slicers, validate that we are in fact integers\u001b[39;00m\n\u001b[0;32m   4248\u001b[0m     \u001b[38;5;28;01mif\u001b[39;00m \u001b[38;5;28mself\u001b[39m\u001b[38;5;241m.\u001b[39mis_integer() \u001b[38;5;129;01mor\u001b[39;00m is_index_slice:\n\u001b[0;32m   4249\u001b[0m         \u001b[38;5;66;03m# Note: these checks are redundant if we know is_index_slice\u001b[39;00m\n\u001b[1;32m-> 4250\u001b[0m         \u001b[38;5;28;43mself\u001b[39;49m\u001b[38;5;241;43m.\u001b[39;49m\u001b[43m_validate_indexer\u001b[49m\u001b[43m(\u001b[49m\u001b[38;5;124;43m\"\u001b[39;49m\u001b[38;5;124;43mslice\u001b[39;49m\u001b[38;5;124;43m\"\u001b[39;49m\u001b[43m,\u001b[49m\u001b[43m \u001b[49m\u001b[43mkey\u001b[49m\u001b[38;5;241;43m.\u001b[39;49m\u001b[43mstart\u001b[49m\u001b[43m,\u001b[49m\u001b[43m \u001b[49m\u001b[38;5;124;43m\"\u001b[39;49m\u001b[38;5;124;43mgetitem\u001b[39;49m\u001b[38;5;124;43m\"\u001b[39;49m\u001b[43m)\u001b[49m\n\u001b[0;32m   4251\u001b[0m         \u001b[38;5;28mself\u001b[39m\u001b[38;5;241m.\u001b[39m_validate_indexer(\u001b[38;5;124m\"\u001b[39m\u001b[38;5;124mslice\u001b[39m\u001b[38;5;124m\"\u001b[39m, key\u001b[38;5;241m.\u001b[39mstop, \u001b[38;5;124m\"\u001b[39m\u001b[38;5;124mgetitem\u001b[39m\u001b[38;5;124m\"\u001b[39m)\n\u001b[0;32m   4252\u001b[0m         \u001b[38;5;28mself\u001b[39m\u001b[38;5;241m.\u001b[39m_validate_indexer(\u001b[38;5;124m\"\u001b[39m\u001b[38;5;124mslice\u001b[39m\u001b[38;5;124m\"\u001b[39m, key\u001b[38;5;241m.\u001b[39mstep, \u001b[38;5;124m\"\u001b[39m\u001b[38;5;124mgetitem\u001b[39m\u001b[38;5;124m\"\u001b[39m)\n",
      "File \u001b[1;32m~\\ve311\\Lib\\site-packages\\pandas\\core\\indexes\\base.py:6591\u001b[0m, in \u001b[0;36mIndex._validate_indexer\u001b[1;34m(self, form, key, kind)\u001b[0m\n\u001b[0;32m   6588\u001b[0m \u001b[38;5;28;01massert\u001b[39;00m kind \u001b[38;5;129;01min\u001b[39;00m [\u001b[38;5;124m\"\u001b[39m\u001b[38;5;124mgetitem\u001b[39m\u001b[38;5;124m\"\u001b[39m, \u001b[38;5;124m\"\u001b[39m\u001b[38;5;124miloc\u001b[39m\u001b[38;5;124m\"\u001b[39m]\n\u001b[0;32m   6590\u001b[0m \u001b[38;5;28;01mif\u001b[39;00m key \u001b[38;5;129;01mis\u001b[39;00m \u001b[38;5;129;01mnot\u001b[39;00m \u001b[38;5;28;01mNone\u001b[39;00m \u001b[38;5;129;01mand\u001b[39;00m \u001b[38;5;129;01mnot\u001b[39;00m is_integer(key):\n\u001b[1;32m-> 6591\u001b[0m     \u001b[38;5;28;01mraise\u001b[39;00m \u001b[38;5;28mself\u001b[39m\u001b[38;5;241m.\u001b[39m_invalid_indexer(form, key)\n",
      "\u001b[1;31mTypeError\u001b[0m: cannot do slice indexing on RangeIndex with these indexers [거래일] of type str"
     ]
    }
   ],
   "source": [
    "price['거래일':'거래금액']"
   ]
  },
  {
   "cell_type": "code",
   "execution_count": 16,
   "id": "67b3ab56",
   "metadata": {
    "collapsed": true
   },
   "outputs": [
    {
     "data": {
      "text/html": [
       "<div>\n",
       "<style scoped>\n",
       "    .dataframe tbody tr th:only-of-type {\n",
       "        vertical-align: middle;\n",
       "    }\n",
       "\n",
       "    .dataframe tbody tr th {\n",
       "        vertical-align: top;\n",
       "    }\n",
       "\n",
       "    .dataframe thead th {\n",
       "        text-align: right;\n",
       "    }\n",
       "</style>\n",
       "<table border=\"1\" class=\"dataframe\">\n",
       "  <thead>\n",
       "    <tr style=\"text-align: right;\">\n",
       "      <th></th>\n",
       "      <th>거래일</th>\n",
       "      <th>전용면적</th>\n",
       "      <th>층</th>\n",
       "      <th>거래금액</th>\n",
       "    </tr>\n",
       "  </thead>\n",
       "  <tbody>\n",
       "    <tr>\n",
       "      <th>0</th>\n",
       "      <td>2020-01-03</td>\n",
       "      <td>111.97</td>\n",
       "      <td>6</td>\n",
       "      <td>100,000</td>\n",
       "    </tr>\n",
       "    <tr>\n",
       "      <th>1</th>\n",
       "      <td>2020-01-02</td>\n",
       "      <td>163.33</td>\n",
       "      <td>2</td>\n",
       "      <td>162,000</td>\n",
       "    </tr>\n",
       "    <tr>\n",
       "      <th>2</th>\n",
       "      <td>2020-01-06</td>\n",
       "      <td>109.91</td>\n",
       "      <td>11</td>\n",
       "      <td>88,000</td>\n",
       "    </tr>\n",
       "    <tr>\n",
       "      <th>3</th>\n",
       "      <td>2020-01-09</td>\n",
       "      <td>194.43</td>\n",
       "      <td>4</td>\n",
       "      <td>130,000</td>\n",
       "    </tr>\n",
       "    <tr>\n",
       "      <th>4</th>\n",
       "      <td>2020-01-20</td>\n",
       "      <td>148.09</td>\n",
       "      <td>8</td>\n",
       "      <td>149,000</td>\n",
       "    </tr>\n",
       "    <tr>\n",
       "      <th>...</th>\n",
       "      <td>...</td>\n",
       "      <td>...</td>\n",
       "      <td>...</td>\n",
       "      <td>...</td>\n",
       "    </tr>\n",
       "    <tr>\n",
       "      <th>139914</th>\n",
       "      <td>2022-12-03</td>\n",
       "      <td>59.52</td>\n",
       "      <td>8</td>\n",
       "      <td>53,000</td>\n",
       "    </tr>\n",
       "    <tr>\n",
       "      <th>139915</th>\n",
       "      <td>2022-12-06</td>\n",
       "      <td>111.22</td>\n",
       "      <td>10</td>\n",
       "      <td>135,000</td>\n",
       "    </tr>\n",
       "    <tr>\n",
       "      <th>139916</th>\n",
       "      <td>2022-12-10</td>\n",
       "      <td>59.64</td>\n",
       "      <td>17</td>\n",
       "      <td>77,000</td>\n",
       "    </tr>\n",
       "    <tr>\n",
       "      <th>139917</th>\n",
       "      <td>2022-12-06</td>\n",
       "      <td>208.92</td>\n",
       "      <td>18</td>\n",
       "      <td>145,500</td>\n",
       "    </tr>\n",
       "    <tr>\n",
       "      <th>139918</th>\n",
       "      <td>2022-12-29</td>\n",
       "      <td>59.99</td>\n",
       "      <td>7</td>\n",
       "      <td>55,000</td>\n",
       "    </tr>\n",
       "  </tbody>\n",
       "</table>\n",
       "<p>139919 rows × 4 columns</p>\n",
       "</div>"
      ],
      "text/plain": [
       "               거래일    전용면적   층     거래금액\n",
       "0       2020-01-03  111.97   6  100,000\n",
       "1       2020-01-02  163.33   2  162,000\n",
       "2       2020-01-06  109.91  11   88,000\n",
       "3       2020-01-09  194.43   4  130,000\n",
       "4       2020-01-20  148.09   8  149,000\n",
       "...            ...     ...  ..      ...\n",
       "139914  2022-12-03   59.52   8   53,000\n",
       "139915  2022-12-06  111.22  10  135,000\n",
       "139916  2022-12-10   59.64  17   77,000\n",
       "139917  2022-12-06  208.92  18  145,500\n",
       "139918  2022-12-29   59.99   7   55,000\n",
       "\n",
       "[139919 rows x 4 columns]"
      ]
     },
     "execution_count": 16,
     "metadata": {},
     "output_type": "execute_result"
    }
   ],
   "source": [
    "price.loc[:, '거래일':'거래금액']"
   ]
  },
  {
   "cell_type": "code",
   "execution_count": 17,
   "id": "24f960f3",
   "metadata": {},
   "outputs": [
    {
     "data": {
      "text/plain": [
       "지역코드      int64\n",
       "아파트      object\n",
       "시도명      object\n",
       "시군구      object\n",
       "법정동      object\n",
       "지번       object\n",
       "건축년도    float64\n",
       "거래일      object\n",
       "전용면적    float64\n",
       "층         int64\n",
       "거래금액     object\n",
       "dtype: object"
      ]
     },
     "execution_count": 17,
     "metadata": {},
     "output_type": "execute_result"
    }
   ],
   "source": [
    "price.dtypes"
   ]
  },
  {
   "cell_type": "code",
   "execution_count": 18,
   "id": "6fc8ac47",
   "metadata": {
    "collapsed": true
   },
   "outputs": [
    {
     "data": {
      "text/plain": [
       "지역코드     True\n",
       "아파트     False\n",
       "시도명     False\n",
       "시군구     False\n",
       "법정동     False\n",
       "지번      False\n",
       "건축년도    False\n",
       "거래일     False\n",
       "전용면적    False\n",
       "층        True\n",
       "거래금액    False\n",
       "dtype: bool"
      ]
     },
     "execution_count": 18,
     "metadata": {},
     "output_type": "execute_result"
    }
   ],
   "source": [
    "price.dtypes == 'int64'"
   ]
  },
  {
   "cell_type": "code",
   "execution_count": 19,
   "id": "914bd7fb",
   "metadata": {},
   "outputs": [
    {
     "data": {
      "text/html": [
       "<div>\n",
       "<style scoped>\n",
       "    .dataframe tbody tr th:only-of-type {\n",
       "        vertical-align: middle;\n",
       "    }\n",
       "\n",
       "    .dataframe tbody tr th {\n",
       "        vertical-align: top;\n",
       "    }\n",
       "\n",
       "    .dataframe thead th {\n",
       "        text-align: right;\n",
       "    }\n",
       "</style>\n",
       "<table border=\"1\" class=\"dataframe\">\n",
       "  <thead>\n",
       "    <tr style=\"text-align: right;\">\n",
       "      <th></th>\n",
       "      <th>지역코드</th>\n",
       "      <th>층</th>\n",
       "    </tr>\n",
       "  </thead>\n",
       "  <tbody>\n",
       "    <tr>\n",
       "      <th>0</th>\n",
       "      <td>11110</td>\n",
       "      <td>6</td>\n",
       "    </tr>\n",
       "    <tr>\n",
       "      <th>1</th>\n",
       "      <td>11110</td>\n",
       "      <td>2</td>\n",
       "    </tr>\n",
       "    <tr>\n",
       "      <th>2</th>\n",
       "      <td>11110</td>\n",
       "      <td>11</td>\n",
       "    </tr>\n",
       "    <tr>\n",
       "      <th>3</th>\n",
       "      <td>11110</td>\n",
       "      <td>4</td>\n",
       "    </tr>\n",
       "    <tr>\n",
       "      <th>4</th>\n",
       "      <td>11110</td>\n",
       "      <td>8</td>\n",
       "    </tr>\n",
       "    <tr>\n",
       "      <th>...</th>\n",
       "      <td>...</td>\n",
       "      <td>...</td>\n",
       "    </tr>\n",
       "    <tr>\n",
       "      <th>139914</th>\n",
       "      <td>11740</td>\n",
       "      <td>8</td>\n",
       "    </tr>\n",
       "    <tr>\n",
       "      <th>139915</th>\n",
       "      <td>11740</td>\n",
       "      <td>10</td>\n",
       "    </tr>\n",
       "    <tr>\n",
       "      <th>139916</th>\n",
       "      <td>11740</td>\n",
       "      <td>17</td>\n",
       "    </tr>\n",
       "    <tr>\n",
       "      <th>139917</th>\n",
       "      <td>11740</td>\n",
       "      <td>18</td>\n",
       "    </tr>\n",
       "    <tr>\n",
       "      <th>139918</th>\n",
       "      <td>11740</td>\n",
       "      <td>7</td>\n",
       "    </tr>\n",
       "  </tbody>\n",
       "</table>\n",
       "<p>139919 rows × 2 columns</p>\n",
       "</div>"
      ],
      "text/plain": [
       "         지역코드   층\n",
       "0       11110   6\n",
       "1       11110   2\n",
       "2       11110  11\n",
       "3       11110   4\n",
       "4       11110   8\n",
       "...       ...  ..\n",
       "139914  11740   8\n",
       "139915  11740  10\n",
       "139916  11740  17\n",
       "139917  11740  18\n",
       "139918  11740   7\n",
       "\n",
       "[139919 rows x 2 columns]"
      ]
     },
     "execution_count": 19,
     "metadata": {},
     "output_type": "execute_result"
    }
   ],
   "source": [
    "price.loc[:, price.dtypes == 'int64']"
   ]
  },
  {
   "cell_type": "code",
   "execution_count": 20,
   "id": "11273e40",
   "metadata": {},
   "outputs": [
    {
     "data": {
      "text/html": [
       "<div>\n",
       "<style scoped>\n",
       "    .dataframe tbody tr th:only-of-type {\n",
       "        vertical-align: middle;\n",
       "    }\n",
       "\n",
       "    .dataframe tbody tr th {\n",
       "        vertical-align: top;\n",
       "    }\n",
       "\n",
       "    .dataframe thead th {\n",
       "        text-align: right;\n",
       "    }\n",
       "</style>\n",
       "<table border=\"1\" class=\"dataframe\">\n",
       "  <thead>\n",
       "    <tr style=\"text-align: right;\">\n",
       "      <th></th>\n",
       "      <th>건축년도</th>\n",
       "      <th>전용면적</th>\n",
       "    </tr>\n",
       "  </thead>\n",
       "  <tbody>\n",
       "    <tr>\n",
       "      <th>0</th>\n",
       "      <td>2007.0</td>\n",
       "      <td>111.97</td>\n",
       "    </tr>\n",
       "    <tr>\n",
       "      <th>1</th>\n",
       "      <td>2008.0</td>\n",
       "      <td>163.33</td>\n",
       "    </tr>\n",
       "    <tr>\n",
       "      <th>2</th>\n",
       "      <td>1994.0</td>\n",
       "      <td>109.91</td>\n",
       "    </tr>\n",
       "    <tr>\n",
       "      <th>3</th>\n",
       "      <td>2004.0</td>\n",
       "      <td>194.43</td>\n",
       "    </tr>\n",
       "    <tr>\n",
       "      <th>4</th>\n",
       "      <td>2003.0</td>\n",
       "      <td>148.09</td>\n",
       "    </tr>\n",
       "    <tr>\n",
       "      <th>...</th>\n",
       "      <td>...</td>\n",
       "      <td>...</td>\n",
       "    </tr>\n",
       "    <tr>\n",
       "      <th>139914</th>\n",
       "      <td>1998.0</td>\n",
       "      <td>59.52</td>\n",
       "    </tr>\n",
       "    <tr>\n",
       "      <th>139915</th>\n",
       "      <td>2008.0</td>\n",
       "      <td>111.22</td>\n",
       "    </tr>\n",
       "    <tr>\n",
       "      <th>139916</th>\n",
       "      <td>2000.0</td>\n",
       "      <td>59.64</td>\n",
       "    </tr>\n",
       "    <tr>\n",
       "      <th>139917</th>\n",
       "      <td>1996.0</td>\n",
       "      <td>208.92</td>\n",
       "    </tr>\n",
       "    <tr>\n",
       "      <th>139918</th>\n",
       "      <td>2020.0</td>\n",
       "      <td>59.99</td>\n",
       "    </tr>\n",
       "  </tbody>\n",
       "</table>\n",
       "<p>139919 rows × 2 columns</p>\n",
       "</div>"
      ],
      "text/plain": [
       "          건축년도    전용면적\n",
       "0       2007.0  111.97\n",
       "1       2008.0  163.33\n",
       "2       1994.0  109.91\n",
       "3       2004.0  194.43\n",
       "4       2003.0  148.09\n",
       "...        ...     ...\n",
       "139914  1998.0   59.52\n",
       "139915  2008.0  111.22\n",
       "139916  2000.0   59.64\n",
       "139917  1996.0  208.92\n",
       "139918  2020.0   59.99\n",
       "\n",
       "[139919 rows x 2 columns]"
      ]
     },
     "execution_count": 20,
     "metadata": {},
     "output_type": "execute_result"
    }
   ],
   "source": [
    "price.loc[:, price.dtypes == 'float64']"
   ]
  },
  {
   "cell_type": "code",
   "execution_count": 23,
   "id": "71130847",
   "metadata": {},
   "outputs": [],
   "source": [
    "locs = (price.dtypes == 'int64') | (price.dtypes == 'float64')"
   ]
  },
  {
   "cell_type": "code",
   "execution_count": 24,
   "id": "470e0898",
   "metadata": {
    "collapsed": true
   },
   "outputs": [
    {
     "data": {
      "text/html": [
       "<div>\n",
       "<style scoped>\n",
       "    .dataframe tbody tr th:only-of-type {\n",
       "        vertical-align: middle;\n",
       "    }\n",
       "\n",
       "    .dataframe tbody tr th {\n",
       "        vertical-align: top;\n",
       "    }\n",
       "\n",
       "    .dataframe thead th {\n",
       "        text-align: right;\n",
       "    }\n",
       "</style>\n",
       "<table border=\"1\" class=\"dataframe\">\n",
       "  <thead>\n",
       "    <tr style=\"text-align: right;\">\n",
       "      <th></th>\n",
       "      <th>지역코드</th>\n",
       "      <th>건축년도</th>\n",
       "      <th>전용면적</th>\n",
       "      <th>층</th>\n",
       "    </tr>\n",
       "  </thead>\n",
       "  <tbody>\n",
       "    <tr>\n",
       "      <th>0</th>\n",
       "      <td>11110</td>\n",
       "      <td>2007.0</td>\n",
       "      <td>111.97</td>\n",
       "      <td>6</td>\n",
       "    </tr>\n",
       "    <tr>\n",
       "      <th>1</th>\n",
       "      <td>11110</td>\n",
       "      <td>2008.0</td>\n",
       "      <td>163.33</td>\n",
       "      <td>2</td>\n",
       "    </tr>\n",
       "    <tr>\n",
       "      <th>2</th>\n",
       "      <td>11110</td>\n",
       "      <td>1994.0</td>\n",
       "      <td>109.91</td>\n",
       "      <td>11</td>\n",
       "    </tr>\n",
       "    <tr>\n",
       "      <th>3</th>\n",
       "      <td>11110</td>\n",
       "      <td>2004.0</td>\n",
       "      <td>194.43</td>\n",
       "      <td>4</td>\n",
       "    </tr>\n",
       "    <tr>\n",
       "      <th>4</th>\n",
       "      <td>11110</td>\n",
       "      <td>2003.0</td>\n",
       "      <td>148.09</td>\n",
       "      <td>8</td>\n",
       "    </tr>\n",
       "    <tr>\n",
       "      <th>...</th>\n",
       "      <td>...</td>\n",
       "      <td>...</td>\n",
       "      <td>...</td>\n",
       "      <td>...</td>\n",
       "    </tr>\n",
       "    <tr>\n",
       "      <th>139914</th>\n",
       "      <td>11740</td>\n",
       "      <td>1998.0</td>\n",
       "      <td>59.52</td>\n",
       "      <td>8</td>\n",
       "    </tr>\n",
       "    <tr>\n",
       "      <th>139915</th>\n",
       "      <td>11740</td>\n",
       "      <td>2008.0</td>\n",
       "      <td>111.22</td>\n",
       "      <td>10</td>\n",
       "    </tr>\n",
       "    <tr>\n",
       "      <th>139916</th>\n",
       "      <td>11740</td>\n",
       "      <td>2000.0</td>\n",
       "      <td>59.64</td>\n",
       "      <td>17</td>\n",
       "    </tr>\n",
       "    <tr>\n",
       "      <th>139917</th>\n",
       "      <td>11740</td>\n",
       "      <td>1996.0</td>\n",
       "      <td>208.92</td>\n",
       "      <td>18</td>\n",
       "    </tr>\n",
       "    <tr>\n",
       "      <th>139918</th>\n",
       "      <td>11740</td>\n",
       "      <td>2020.0</td>\n",
       "      <td>59.99</td>\n",
       "      <td>7</td>\n",
       "    </tr>\n",
       "  </tbody>\n",
       "</table>\n",
       "<p>139919 rows × 4 columns</p>\n",
       "</div>"
      ],
      "text/plain": [
       "         지역코드    건축년도    전용면적   층\n",
       "0       11110  2007.0  111.97   6\n",
       "1       11110  2008.0  163.33   2\n",
       "2       11110  1994.0  109.91  11\n",
       "3       11110  2004.0  194.43   4\n",
       "4       11110  2003.0  148.09   8\n",
       "...       ...     ...     ...  ..\n",
       "139914  11740  1998.0   59.52   8\n",
       "139915  11740  2008.0  111.22  10\n",
       "139916  11740  2000.0   59.64  17\n",
       "139917  11740  1996.0  208.92  18\n",
       "139918  11740  2020.0   59.99   7\n",
       "\n",
       "[139919 rows x 4 columns]"
      ]
     },
     "execution_count": 24,
     "metadata": {},
     "output_type": "execute_result"
    }
   ],
   "source": [
    "price.loc[:, locs]"
   ]
  },
  {
   "cell_type": "code",
   "execution_count": 29,
   "id": "e22d2559",
   "metadata": {
    "collapsed": true
   },
   "outputs": [
    {
     "data": {
      "text/plain": [
       "지역코드      int64\n",
       "아파트      object\n",
       "시도명      object\n",
       "시군구      object\n",
       "법정동      object\n",
       "지번       object\n",
       "건축년도    float64\n",
       "거래일      object\n",
       "전용면적    float64\n",
       "층         int64\n",
       "거래금액     object\n",
       "dtype: object"
      ]
     },
     "execution_count": 29,
     "metadata": {},
     "output_type": "execute_result"
    }
   ],
   "source": [
    "price.dtypes"
   ]
  },
  {
   "cell_type": "code",
   "execution_count": 30,
   "id": "990c56a2",
   "metadata": {},
   "outputs": [],
   "source": [
    "locs = price.dtypes.astype(str).isin(values = ['int64', 'float64'])"
   ]
  },
  {
   "cell_type": "code",
   "execution_count": 31,
   "id": "98d2c66e",
   "metadata": {
    "collapsed": true
   },
   "outputs": [
    {
     "data": {
      "text/html": [
       "<div>\n",
       "<style scoped>\n",
       "    .dataframe tbody tr th:only-of-type {\n",
       "        vertical-align: middle;\n",
       "    }\n",
       "\n",
       "    .dataframe tbody tr th {\n",
       "        vertical-align: top;\n",
       "    }\n",
       "\n",
       "    .dataframe thead th {\n",
       "        text-align: right;\n",
       "    }\n",
       "</style>\n",
       "<table border=\"1\" class=\"dataframe\">\n",
       "  <thead>\n",
       "    <tr style=\"text-align: right;\">\n",
       "      <th></th>\n",
       "      <th>지역코드</th>\n",
       "      <th>건축년도</th>\n",
       "      <th>전용면적</th>\n",
       "      <th>층</th>\n",
       "    </tr>\n",
       "  </thead>\n",
       "  <tbody>\n",
       "    <tr>\n",
       "      <th>0</th>\n",
       "      <td>11110</td>\n",
       "      <td>2007.0</td>\n",
       "      <td>111.97</td>\n",
       "      <td>6</td>\n",
       "    </tr>\n",
       "    <tr>\n",
       "      <th>1</th>\n",
       "      <td>11110</td>\n",
       "      <td>2008.0</td>\n",
       "      <td>163.33</td>\n",
       "      <td>2</td>\n",
       "    </tr>\n",
       "    <tr>\n",
       "      <th>2</th>\n",
       "      <td>11110</td>\n",
       "      <td>1994.0</td>\n",
       "      <td>109.91</td>\n",
       "      <td>11</td>\n",
       "    </tr>\n",
       "    <tr>\n",
       "      <th>3</th>\n",
       "      <td>11110</td>\n",
       "      <td>2004.0</td>\n",
       "      <td>194.43</td>\n",
       "      <td>4</td>\n",
       "    </tr>\n",
       "    <tr>\n",
       "      <th>4</th>\n",
       "      <td>11110</td>\n",
       "      <td>2003.0</td>\n",
       "      <td>148.09</td>\n",
       "      <td>8</td>\n",
       "    </tr>\n",
       "    <tr>\n",
       "      <th>...</th>\n",
       "      <td>...</td>\n",
       "      <td>...</td>\n",
       "      <td>...</td>\n",
       "      <td>...</td>\n",
       "    </tr>\n",
       "    <tr>\n",
       "      <th>139914</th>\n",
       "      <td>11740</td>\n",
       "      <td>1998.0</td>\n",
       "      <td>59.52</td>\n",
       "      <td>8</td>\n",
       "    </tr>\n",
       "    <tr>\n",
       "      <th>139915</th>\n",
       "      <td>11740</td>\n",
       "      <td>2008.0</td>\n",
       "      <td>111.22</td>\n",
       "      <td>10</td>\n",
       "    </tr>\n",
       "    <tr>\n",
       "      <th>139916</th>\n",
       "      <td>11740</td>\n",
       "      <td>2000.0</td>\n",
       "      <td>59.64</td>\n",
       "      <td>17</td>\n",
       "    </tr>\n",
       "    <tr>\n",
       "      <th>139917</th>\n",
       "      <td>11740</td>\n",
       "      <td>1996.0</td>\n",
       "      <td>208.92</td>\n",
       "      <td>18</td>\n",
       "    </tr>\n",
       "    <tr>\n",
       "      <th>139918</th>\n",
       "      <td>11740</td>\n",
       "      <td>2020.0</td>\n",
       "      <td>59.99</td>\n",
       "      <td>7</td>\n",
       "    </tr>\n",
       "  </tbody>\n",
       "</table>\n",
       "<p>139919 rows × 4 columns</p>\n",
       "</div>"
      ],
      "text/plain": [
       "         지역코드    건축년도    전용면적   층\n",
       "0       11110  2007.0  111.97   6\n",
       "1       11110  2008.0  163.33   2\n",
       "2       11110  1994.0  109.91  11\n",
       "3       11110  2004.0  194.43   4\n",
       "4       11110  2003.0  148.09   8\n",
       "...       ...     ...     ...  ..\n",
       "139914  11740  1998.0   59.52   8\n",
       "139915  11740  2008.0  111.22  10\n",
       "139916  11740  2000.0   59.64  17\n",
       "139917  11740  1996.0  208.92  18\n",
       "139918  11740  2020.0   59.99   7\n",
       "\n",
       "[139919 rows x 4 columns]"
      ]
     },
     "execution_count": 31,
     "metadata": {},
     "output_type": "execute_result"
    }
   ],
   "source": [
    "price.loc[:, locs]"
   ]
  },
  {
   "cell_type": "code",
   "execution_count": 32,
   "id": "217d1df1",
   "metadata": {},
   "outputs": [
    {
     "data": {
      "text/plain": [
       "Index(['지역코드', '아파트', '시도명', '시군구', '법정동', '지번', '건축년도', '거래일', '전용면적', '층',\n",
       "       '거래금액'],\n",
       "      dtype='object')"
      ]
     },
     "execution_count": 32,
     "metadata": {},
     "output_type": "execute_result"
    }
   ],
   "source": [
    "price.columns"
   ]
  },
  {
   "cell_type": "code",
   "execution_count": 33,
   "id": "2f2f99f4",
   "metadata": {},
   "outputs": [
    {
     "data": {
      "text/plain": [
       "array([False, False, False, False, False, False, False,  True, False,\n",
       "       False,  True])"
      ]
     },
     "execution_count": 33,
     "metadata": {},
     "output_type": "execute_result"
    }
   ],
   "source": [
    "price.columns.str.contains('거래')"
   ]
  },
  {
   "cell_type": "code",
   "execution_count": 36,
   "id": "3fd8d6bf",
   "metadata": {},
   "outputs": [
    {
     "data": {
      "text/html": [
       "<div>\n",
       "<style scoped>\n",
       "    .dataframe tbody tr th:only-of-type {\n",
       "        vertical-align: middle;\n",
       "    }\n",
       "\n",
       "    .dataframe tbody tr th {\n",
       "        vertical-align: top;\n",
       "    }\n",
       "\n",
       "    .dataframe thead th {\n",
       "        text-align: right;\n",
       "    }\n",
       "</style>\n",
       "<table border=\"1\" class=\"dataframe\">\n",
       "  <thead>\n",
       "    <tr style=\"text-align: right;\">\n",
       "      <th></th>\n",
       "      <th>시도명</th>\n",
       "      <th>시군구</th>\n",
       "      <th>거래일</th>\n",
       "      <th>거래금액</th>\n",
       "    </tr>\n",
       "  </thead>\n",
       "  <tbody>\n",
       "    <tr>\n",
       "      <th>0</th>\n",
       "      <td>서울특별시</td>\n",
       "      <td>종로구</td>\n",
       "      <td>2020-01-03</td>\n",
       "      <td>100,000</td>\n",
       "    </tr>\n",
       "    <tr>\n",
       "      <th>1</th>\n",
       "      <td>서울특별시</td>\n",
       "      <td>종로구</td>\n",
       "      <td>2020-01-02</td>\n",
       "      <td>162,000</td>\n",
       "    </tr>\n",
       "    <tr>\n",
       "      <th>2</th>\n",
       "      <td>서울특별시</td>\n",
       "      <td>종로구</td>\n",
       "      <td>2020-01-06</td>\n",
       "      <td>88,000</td>\n",
       "    </tr>\n",
       "    <tr>\n",
       "      <th>3</th>\n",
       "      <td>서울특별시</td>\n",
       "      <td>종로구</td>\n",
       "      <td>2020-01-09</td>\n",
       "      <td>130,000</td>\n",
       "    </tr>\n",
       "    <tr>\n",
       "      <th>4</th>\n",
       "      <td>서울특별시</td>\n",
       "      <td>종로구</td>\n",
       "      <td>2020-01-20</td>\n",
       "      <td>149,000</td>\n",
       "    </tr>\n",
       "    <tr>\n",
       "      <th>...</th>\n",
       "      <td>...</td>\n",
       "      <td>...</td>\n",
       "      <td>...</td>\n",
       "      <td>...</td>\n",
       "    </tr>\n",
       "    <tr>\n",
       "      <th>139914</th>\n",
       "      <td>서울특별시</td>\n",
       "      <td>강동구</td>\n",
       "      <td>2022-12-03</td>\n",
       "      <td>53,000</td>\n",
       "    </tr>\n",
       "    <tr>\n",
       "      <th>139915</th>\n",
       "      <td>서울특별시</td>\n",
       "      <td>강동구</td>\n",
       "      <td>2022-12-06</td>\n",
       "      <td>135,000</td>\n",
       "    </tr>\n",
       "    <tr>\n",
       "      <th>139916</th>\n",
       "      <td>서울특별시</td>\n",
       "      <td>강동구</td>\n",
       "      <td>2022-12-10</td>\n",
       "      <td>77,000</td>\n",
       "    </tr>\n",
       "    <tr>\n",
       "      <th>139917</th>\n",
       "      <td>서울특별시</td>\n",
       "      <td>강동구</td>\n",
       "      <td>2022-12-06</td>\n",
       "      <td>145,500</td>\n",
       "    </tr>\n",
       "    <tr>\n",
       "      <th>139918</th>\n",
       "      <td>서울특별시</td>\n",
       "      <td>강동구</td>\n",
       "      <td>2022-12-29</td>\n",
       "      <td>55,000</td>\n",
       "    </tr>\n",
       "  </tbody>\n",
       "</table>\n",
       "<p>139919 rows × 4 columns</p>\n",
       "</div>"
      ],
      "text/plain": [
       "          시도명  시군구         거래일     거래금액\n",
       "0       서울특별시  종로구  2020-01-03  100,000\n",
       "1       서울특별시  종로구  2020-01-02  162,000\n",
       "2       서울특별시  종로구  2020-01-06   88,000\n",
       "3       서울특별시  종로구  2020-01-09  130,000\n",
       "4       서울특별시  종로구  2020-01-20  149,000\n",
       "...       ...  ...         ...      ...\n",
       "139914  서울특별시  강동구  2022-12-03   53,000\n",
       "139915  서울특별시  강동구  2022-12-06  135,000\n",
       "139916  서울특별시  강동구  2022-12-10   77,000\n",
       "139917  서울특별시  강동구  2022-12-06  145,500\n",
       "139918  서울특별시  강동구  2022-12-29   55,000\n",
       "\n",
       "[139919 rows x 4 columns]"
      ]
     },
     "execution_count": 36,
     "metadata": {},
     "output_type": "execute_result"
    }
   ],
   "source": [
    "price.loc[:, price.columns.str.contains('시|거래')]"
   ]
  },
  {
   "cell_type": "code",
   "execution_count": 37,
   "id": "195f41b3",
   "metadata": {},
   "outputs": [],
   "source": [
    "imsi = price.copy()"
   ]
  },
  {
   "cell_type": "code",
   "execution_count": 38,
   "id": "5ff88ce2",
   "metadata": {},
   "outputs": [],
   "source": [
    "imsi.insert(loc = 11, column = '주거래은행', value = np.nan)"
   ]
  },
  {
   "cell_type": "code",
   "execution_count": 39,
   "id": "254b4e9d",
   "metadata": {},
   "outputs": [
    {
     "data": {
      "text/html": [
       "<div>\n",
       "<style scoped>\n",
       "    .dataframe tbody tr th:only-of-type {\n",
       "        vertical-align: middle;\n",
       "    }\n",
       "\n",
       "    .dataframe tbody tr th {\n",
       "        vertical-align: top;\n",
       "    }\n",
       "\n",
       "    .dataframe thead th {\n",
       "        text-align: right;\n",
       "    }\n",
       "</style>\n",
       "<table border=\"1\" class=\"dataframe\">\n",
       "  <thead>\n",
       "    <tr style=\"text-align: right;\">\n",
       "      <th></th>\n",
       "      <th>지역코드</th>\n",
       "      <th>아파트</th>\n",
       "      <th>시도명</th>\n",
       "      <th>시군구</th>\n",
       "      <th>법정동</th>\n",
       "      <th>지번</th>\n",
       "      <th>건축년도</th>\n",
       "      <th>거래일</th>\n",
       "      <th>전용면적</th>\n",
       "      <th>층</th>\n",
       "      <th>거래금액</th>\n",
       "      <th>주거래은행</th>\n",
       "    </tr>\n",
       "  </thead>\n",
       "  <tbody>\n",
       "    <tr>\n",
       "      <th>0</th>\n",
       "      <td>11110</td>\n",
       "      <td>신동아블루아광화문의꿈</td>\n",
       "      <td>서울특별시</td>\n",
       "      <td>종로구</td>\n",
       "      <td>필운동</td>\n",
       "      <td>254</td>\n",
       "      <td>2007.0</td>\n",
       "      <td>2020-01-03</td>\n",
       "      <td>111.97</td>\n",
       "      <td>6</td>\n",
       "      <td>100,000</td>\n",
       "      <td>NaN</td>\n",
       "    </tr>\n",
       "    <tr>\n",
       "      <th>1</th>\n",
       "      <td>11110</td>\n",
       "      <td>광화문스페이스본(106동)</td>\n",
       "      <td>서울특별시</td>\n",
       "      <td>종로구</td>\n",
       "      <td>사직동</td>\n",
       "      <td>9-1</td>\n",
       "      <td>2008.0</td>\n",
       "      <td>2020-01-02</td>\n",
       "      <td>163.33</td>\n",
       "      <td>2</td>\n",
       "      <td>162,000</td>\n",
       "      <td>NaN</td>\n",
       "    </tr>\n",
       "    <tr>\n",
       "      <th>2</th>\n",
       "      <td>11110</td>\n",
       "      <td>세종로대우</td>\n",
       "      <td>서울특별시</td>\n",
       "      <td>종로구</td>\n",
       "      <td>내수동</td>\n",
       "      <td>167</td>\n",
       "      <td>1994.0</td>\n",
       "      <td>2020-01-06</td>\n",
       "      <td>109.91</td>\n",
       "      <td>11</td>\n",
       "      <td>88,000</td>\n",
       "      <td>NaN</td>\n",
       "    </tr>\n",
       "    <tr>\n",
       "      <th>3</th>\n",
       "      <td>11110</td>\n",
       "      <td>킹스매너</td>\n",
       "      <td>서울특별시</td>\n",
       "      <td>종로구</td>\n",
       "      <td>내수동</td>\n",
       "      <td>110-15</td>\n",
       "      <td>2004.0</td>\n",
       "      <td>2020-01-09</td>\n",
       "      <td>194.43</td>\n",
       "      <td>4</td>\n",
       "      <td>130,000</td>\n",
       "      <td>NaN</td>\n",
       "    </tr>\n",
       "    <tr>\n",
       "      <th>4</th>\n",
       "      <td>11110</td>\n",
       "      <td>경희궁파크팰리스</td>\n",
       "      <td>서울특별시</td>\n",
       "      <td>종로구</td>\n",
       "      <td>내수동</td>\n",
       "      <td>95</td>\n",
       "      <td>2003.0</td>\n",
       "      <td>2020-01-20</td>\n",
       "      <td>148.09</td>\n",
       "      <td>8</td>\n",
       "      <td>149,000</td>\n",
       "      <td>NaN</td>\n",
       "    </tr>\n",
       "  </tbody>\n",
       "</table>\n",
       "</div>"
      ],
      "text/plain": [
       "    지역코드             아파트    시도명  시군구  법정동      지번    건축년도         거래일    전용면적  \\\n",
       "0  11110     신동아블루아광화문의꿈  서울특별시  종로구  필운동     254  2007.0  2020-01-03  111.97   \n",
       "1  11110  광화문스페이스본(106동)  서울특별시  종로구  사직동     9-1  2008.0  2020-01-02  163.33   \n",
       "2  11110           세종로대우  서울특별시  종로구  내수동     167  1994.0  2020-01-06  109.91   \n",
       "3  11110            킹스매너  서울특별시  종로구  내수동  110-15  2004.0  2020-01-09  194.43   \n",
       "4  11110        경희궁파크팰리스  서울특별시  종로구  내수동      95  2003.0  2020-01-20  148.09   \n",
       "\n",
       "    층     거래금액  주거래은행  \n",
       "0   6  100,000    NaN  \n",
       "1   2  162,000    NaN  \n",
       "2  11   88,000    NaN  \n",
       "3   4  130,000    NaN  \n",
       "4   8  149,000    NaN  "
      ]
     },
     "execution_count": 39,
     "metadata": {},
     "output_type": "execute_result"
    }
   ],
   "source": [
    "imsi.head()"
   ]
  },
  {
   "cell_type": "code",
   "execution_count": 43,
   "id": "d752db2f",
   "metadata": {},
   "outputs": [],
   "source": [
    "imsi = imsi.rename(columns = {'주거래은행': '주거래'})"
   ]
  },
  {
   "cell_type": "code",
   "execution_count": 44,
   "id": "a12b7ab2",
   "metadata": {
    "collapsed": true
   },
   "outputs": [
    {
     "data": {
      "text/html": [
       "<div>\n",
       "<style scoped>\n",
       "    .dataframe tbody tr th:only-of-type {\n",
       "        vertical-align: middle;\n",
       "    }\n",
       "\n",
       "    .dataframe tbody tr th {\n",
       "        vertical-align: top;\n",
       "    }\n",
       "\n",
       "    .dataframe thead th {\n",
       "        text-align: right;\n",
       "    }\n",
       "</style>\n",
       "<table border=\"1\" class=\"dataframe\">\n",
       "  <thead>\n",
       "    <tr style=\"text-align: right;\">\n",
       "      <th></th>\n",
       "      <th>지역코드</th>\n",
       "      <th>아파트</th>\n",
       "      <th>시도명</th>\n",
       "      <th>시군구</th>\n",
       "      <th>법정동</th>\n",
       "      <th>지번</th>\n",
       "      <th>건축년도</th>\n",
       "      <th>거래일</th>\n",
       "      <th>전용면적</th>\n",
       "      <th>층</th>\n",
       "      <th>거래금액</th>\n",
       "      <th>주거래</th>\n",
       "    </tr>\n",
       "  </thead>\n",
       "  <tbody>\n",
       "    <tr>\n",
       "      <th>0</th>\n",
       "      <td>11110</td>\n",
       "      <td>신동아블루아광화문의꿈</td>\n",
       "      <td>서울특별시</td>\n",
       "      <td>종로구</td>\n",
       "      <td>필운동</td>\n",
       "      <td>254</td>\n",
       "      <td>2007.0</td>\n",
       "      <td>2020-01-03</td>\n",
       "      <td>111.97</td>\n",
       "      <td>6</td>\n",
       "      <td>100,000</td>\n",
       "      <td>NaN</td>\n",
       "    </tr>\n",
       "    <tr>\n",
       "      <th>1</th>\n",
       "      <td>11110</td>\n",
       "      <td>광화문스페이스본(106동)</td>\n",
       "      <td>서울특별시</td>\n",
       "      <td>종로구</td>\n",
       "      <td>사직동</td>\n",
       "      <td>9-1</td>\n",
       "      <td>2008.0</td>\n",
       "      <td>2020-01-02</td>\n",
       "      <td>163.33</td>\n",
       "      <td>2</td>\n",
       "      <td>162,000</td>\n",
       "      <td>NaN</td>\n",
       "    </tr>\n",
       "    <tr>\n",
       "      <th>2</th>\n",
       "      <td>11110</td>\n",
       "      <td>세종로대우</td>\n",
       "      <td>서울특별시</td>\n",
       "      <td>종로구</td>\n",
       "      <td>내수동</td>\n",
       "      <td>167</td>\n",
       "      <td>1994.0</td>\n",
       "      <td>2020-01-06</td>\n",
       "      <td>109.91</td>\n",
       "      <td>11</td>\n",
       "      <td>88,000</td>\n",
       "      <td>NaN</td>\n",
       "    </tr>\n",
       "    <tr>\n",
       "      <th>3</th>\n",
       "      <td>11110</td>\n",
       "      <td>킹스매너</td>\n",
       "      <td>서울특별시</td>\n",
       "      <td>종로구</td>\n",
       "      <td>내수동</td>\n",
       "      <td>110-15</td>\n",
       "      <td>2004.0</td>\n",
       "      <td>2020-01-09</td>\n",
       "      <td>194.43</td>\n",
       "      <td>4</td>\n",
       "      <td>130,000</td>\n",
       "      <td>NaN</td>\n",
       "    </tr>\n",
       "    <tr>\n",
       "      <th>4</th>\n",
       "      <td>11110</td>\n",
       "      <td>경희궁파크팰리스</td>\n",
       "      <td>서울특별시</td>\n",
       "      <td>종로구</td>\n",
       "      <td>내수동</td>\n",
       "      <td>95</td>\n",
       "      <td>2003.0</td>\n",
       "      <td>2020-01-20</td>\n",
       "      <td>148.09</td>\n",
       "      <td>8</td>\n",
       "      <td>149,000</td>\n",
       "      <td>NaN</td>\n",
       "    </tr>\n",
       "  </tbody>\n",
       "</table>\n",
       "</div>"
      ],
      "text/plain": [
       "    지역코드             아파트    시도명  시군구  법정동      지번    건축년도         거래일    전용면적  \\\n",
       "0  11110     신동아블루아광화문의꿈  서울특별시  종로구  필운동     254  2007.0  2020-01-03  111.97   \n",
       "1  11110  광화문스페이스본(106동)  서울특별시  종로구  사직동     9-1  2008.0  2020-01-02  163.33   \n",
       "2  11110           세종로대우  서울특별시  종로구  내수동     167  1994.0  2020-01-06  109.91   \n",
       "3  11110            킹스매너  서울특별시  종로구  내수동  110-15  2004.0  2020-01-09  194.43   \n",
       "4  11110        경희궁파크팰리스  서울특별시  종로구  내수동      95  2003.0  2020-01-20  148.09   \n",
       "\n",
       "    층     거래금액  주거래  \n",
       "0   6  100,000  NaN  \n",
       "1   2  162,000  NaN  \n",
       "2  11   88,000  NaN  \n",
       "3   4  130,000  NaN  \n",
       "4   8  149,000  NaN  "
      ]
     },
     "execution_count": 44,
     "metadata": {},
     "output_type": "execute_result"
    }
   ],
   "source": [
    "imsi.head()"
   ]
  },
  {
   "cell_type": "code",
   "execution_count": 48,
   "id": "bbae9cce",
   "metadata": {},
   "outputs": [],
   "source": [
    "cols = []\n",
    "for col in imsi.columns:\n",
    "    if '거래' in col:\n",
    "        cols.append(col)"
   ]
  },
  {
   "cell_type": "code",
   "execution_count": 49,
   "id": "da17d0f7",
   "metadata": {},
   "outputs": [
    {
     "data": {
      "text/plain": [
       "['거래일', '거래금액', '주거래']"
      ]
     },
     "execution_count": 49,
     "metadata": {},
     "output_type": "execute_result"
    }
   ],
   "source": [
    "cols"
   ]
  },
  {
   "cell_type": "code",
   "execution_count": 50,
   "id": "0ca7fb3b",
   "metadata": {
    "collapsed": true
   },
   "outputs": [
    {
     "data": {
      "text/html": [
       "<div>\n",
       "<style scoped>\n",
       "    .dataframe tbody tr th:only-of-type {\n",
       "        vertical-align: middle;\n",
       "    }\n",
       "\n",
       "    .dataframe tbody tr th {\n",
       "        vertical-align: top;\n",
       "    }\n",
       "\n",
       "    .dataframe thead th {\n",
       "        text-align: right;\n",
       "    }\n",
       "</style>\n",
       "<table border=\"1\" class=\"dataframe\">\n",
       "  <thead>\n",
       "    <tr style=\"text-align: right;\">\n",
       "      <th></th>\n",
       "      <th>거래일</th>\n",
       "      <th>거래금액</th>\n",
       "      <th>주거래</th>\n",
       "    </tr>\n",
       "  </thead>\n",
       "  <tbody>\n",
       "    <tr>\n",
       "      <th>0</th>\n",
       "      <td>2020-01-03</td>\n",
       "      <td>100,000</td>\n",
       "      <td>NaN</td>\n",
       "    </tr>\n",
       "    <tr>\n",
       "      <th>1</th>\n",
       "      <td>2020-01-02</td>\n",
       "      <td>162,000</td>\n",
       "      <td>NaN</td>\n",
       "    </tr>\n",
       "    <tr>\n",
       "      <th>2</th>\n",
       "      <td>2020-01-06</td>\n",
       "      <td>88,000</td>\n",
       "      <td>NaN</td>\n",
       "    </tr>\n",
       "    <tr>\n",
       "      <th>3</th>\n",
       "      <td>2020-01-09</td>\n",
       "      <td>130,000</td>\n",
       "      <td>NaN</td>\n",
       "    </tr>\n",
       "    <tr>\n",
       "      <th>4</th>\n",
       "      <td>2020-01-20</td>\n",
       "      <td>149,000</td>\n",
       "      <td>NaN</td>\n",
       "    </tr>\n",
       "    <tr>\n",
       "      <th>...</th>\n",
       "      <td>...</td>\n",
       "      <td>...</td>\n",
       "      <td>...</td>\n",
       "    </tr>\n",
       "    <tr>\n",
       "      <th>139914</th>\n",
       "      <td>2022-12-03</td>\n",
       "      <td>53,000</td>\n",
       "      <td>NaN</td>\n",
       "    </tr>\n",
       "    <tr>\n",
       "      <th>139915</th>\n",
       "      <td>2022-12-06</td>\n",
       "      <td>135,000</td>\n",
       "      <td>NaN</td>\n",
       "    </tr>\n",
       "    <tr>\n",
       "      <th>139916</th>\n",
       "      <td>2022-12-10</td>\n",
       "      <td>77,000</td>\n",
       "      <td>NaN</td>\n",
       "    </tr>\n",
       "    <tr>\n",
       "      <th>139917</th>\n",
       "      <td>2022-12-06</td>\n",
       "      <td>145,500</td>\n",
       "      <td>NaN</td>\n",
       "    </tr>\n",
       "    <tr>\n",
       "      <th>139918</th>\n",
       "      <td>2022-12-29</td>\n",
       "      <td>55,000</td>\n",
       "      <td>NaN</td>\n",
       "    </tr>\n",
       "  </tbody>\n",
       "</table>\n",
       "<p>139919 rows × 3 columns</p>\n",
       "</div>"
      ],
      "text/plain": [
       "               거래일     거래금액  주거래\n",
       "0       2020-01-03  100,000  NaN\n",
       "1       2020-01-02  162,000  NaN\n",
       "2       2020-01-06   88,000  NaN\n",
       "3       2020-01-09  130,000  NaN\n",
       "4       2020-01-20  149,000  NaN\n",
       "...            ...      ...  ...\n",
       "139914  2022-12-03   53,000  NaN\n",
       "139915  2022-12-06  135,000  NaN\n",
       "139916  2022-12-10   77,000  NaN\n",
       "139917  2022-12-06  145,500  NaN\n",
       "139918  2022-12-29   55,000  NaN\n",
       "\n",
       "[139919 rows x 3 columns]"
      ]
     },
     "execution_count": 50,
     "metadata": {},
     "output_type": "execute_result"
    }
   ],
   "source": [
    "imsi[cols]"
   ]
  },
  {
   "cell_type": "code",
   "execution_count": 45,
   "id": "5e28b074",
   "metadata": {
    "collapsed": true
   },
   "outputs": [
    {
     "data": {
      "text/html": [
       "<div>\n",
       "<style scoped>\n",
       "    .dataframe tbody tr th:only-of-type {\n",
       "        vertical-align: middle;\n",
       "    }\n",
       "\n",
       "    .dataframe tbody tr th {\n",
       "        vertical-align: top;\n",
       "    }\n",
       "\n",
       "    .dataframe thead th {\n",
       "        text-align: right;\n",
       "    }\n",
       "</style>\n",
       "<table border=\"1\" class=\"dataframe\">\n",
       "  <thead>\n",
       "    <tr style=\"text-align: right;\">\n",
       "      <th></th>\n",
       "      <th>주거래</th>\n",
       "    </tr>\n",
       "  </thead>\n",
       "  <tbody>\n",
       "    <tr>\n",
       "      <th>0</th>\n",
       "      <td>NaN</td>\n",
       "    </tr>\n",
       "    <tr>\n",
       "      <th>1</th>\n",
       "      <td>NaN</td>\n",
       "    </tr>\n",
       "    <tr>\n",
       "      <th>2</th>\n",
       "      <td>NaN</td>\n",
       "    </tr>\n",
       "    <tr>\n",
       "      <th>3</th>\n",
       "      <td>NaN</td>\n",
       "    </tr>\n",
       "    <tr>\n",
       "      <th>4</th>\n",
       "      <td>NaN</td>\n",
       "    </tr>\n",
       "    <tr>\n",
       "      <th>...</th>\n",
       "      <td>...</td>\n",
       "    </tr>\n",
       "    <tr>\n",
       "      <th>139914</th>\n",
       "      <td>NaN</td>\n",
       "    </tr>\n",
       "    <tr>\n",
       "      <th>139915</th>\n",
       "      <td>NaN</td>\n",
       "    </tr>\n",
       "    <tr>\n",
       "      <th>139916</th>\n",
       "      <td>NaN</td>\n",
       "    </tr>\n",
       "    <tr>\n",
       "      <th>139917</th>\n",
       "      <td>NaN</td>\n",
       "    </tr>\n",
       "    <tr>\n",
       "      <th>139918</th>\n",
       "      <td>NaN</td>\n",
       "    </tr>\n",
       "  </tbody>\n",
       "</table>\n",
       "<p>139919 rows × 1 columns</p>\n",
       "</div>"
      ],
      "text/plain": [
       "        주거래\n",
       "0       NaN\n",
       "1       NaN\n",
       "2       NaN\n",
       "3       NaN\n",
       "4       NaN\n",
       "...     ...\n",
       "139914  NaN\n",
       "139915  NaN\n",
       "139916  NaN\n",
       "139917  NaN\n",
       "139918  NaN\n",
       "\n",
       "[139919 rows x 1 columns]"
      ]
     },
     "execution_count": 45,
     "metadata": {},
     "output_type": "execute_result"
    }
   ],
   "source": [
    "imsi.loc[:, imsi.columns.str.contains('거래')]"
   ]
  },
  {
   "cell_type": "code",
   "execution_count": null,
   "id": "741206bd",
   "metadata": {},
   "outputs": [],
   "source": [
    "imsi.columns.str.contains"
   ]
  }
 ],
 "metadata": {
  "kernelspec": {
   "display_name": "Python 3 (ipykernel)",
   "language": "python",
   "name": "python3"
  },
  "language_info": {
   "codemirror_mode": {
    "name": "ipython",
    "version": 3
   },
   "file_extension": ".py",
   "mimetype": "text/x-python",
   "name": "python",
   "nbconvert_exporter": "python",
   "pygments_lexer": "ipython3",
   "version": "3.11.1"
  }
 },
 "nbformat": 4,
 "nbformat_minor": 5
}
