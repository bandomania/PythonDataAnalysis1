{
 "cells": [
  {
   "cell_type": "code",
   "execution_count": null,
   "id": "80024cf9",
   "metadata": {},
   "outputs": [],
   "source": [
    "import numpy as np\n",
    "import pandas as pd"
   ]
  },
  {
   "cell_type": "code",
   "execution_count": null,
   "id": "412ea31b",
   "metadata": {},
   "outputs": [],
   "source": [
    "a = [ [1, 2], [3, 4], [5, 6] ]"
   ]
  },
  {
   "cell_type": "code",
   "execution_count": null,
   "id": "5a256783",
   "metadata": {},
   "outputs": [],
   "source": [
    "np.array(a)"
   ]
  },
  {
   "cell_type": "code",
   "execution_count": null,
   "id": "714a41c0",
   "metadata": {},
   "outputs": [],
   "source": [
    "df = pd.DataFrame(data = a)\n",
    "df"
   ]
  },
  {
   "cell_type": "code",
   "execution_count": null,
   "id": "c2db62e8",
   "metadata": {},
   "outputs": [],
   "source": [
    "type(df)"
   ]
  },
  {
   "cell_type": "code",
   "execution_count": null,
   "id": "e2152d98",
   "metadata": {},
   "outputs": [],
   "source": [
    "df = pd.DataFrame(data = a, index = range(1, 4), columns = ['A', 'B'])\n",
    "df"
   ]
  },
  {
   "cell_type": "code",
   "execution_count": null,
   "id": "04f15cca",
   "metadata": {},
   "outputs": [],
   "source": [
    "df.shape"
   ]
  },
  {
   "cell_type": "code",
   "execution_count": null,
   "id": "8cd23e95",
   "metadata": {},
   "outputs": [],
   "source": [
    "df.dtypes"
   ]
  },
  {
   "cell_type": "code",
   "execution_count": null,
   "id": "4c756dc0",
   "metadata": {},
   "outputs": [],
   "source": [
    "df.values"
   ]
  },
  {
   "cell_type": "code",
   "execution_count": null,
   "id": "a75f7178",
   "metadata": {},
   "outputs": [],
   "source": [
    "df.index"
   ]
  },
  {
   "cell_type": "code",
   "execution_count": null,
   "id": "4adeac13",
   "metadata": {},
   "outputs": [],
   "source": [
    "df.columns"
   ]
  },
  {
   "cell_type": "code",
   "execution_count": null,
   "id": "b995f8f1",
   "metadata": {},
   "outputs": [],
   "source": [
    "df.info"
   ]
  },
  {
   "cell_type": "code",
   "execution_count": null,
   "id": "a0e0cf50",
   "metadata": {},
   "outputs": [],
   "source": [
    "df.info()"
   ]
  },
  {
   "cell_type": "code",
   "execution_count": null,
   "id": "be686298",
   "metadata": {},
   "outputs": [],
   "source": [
    "df"
   ]
  },
  {
   "cell_type": "code",
   "execution_count": null,
   "id": "a1293bb7",
   "metadata": {},
   "outputs": [],
   "source": [
    "df.iloc[0]"
   ]
  },
  {
   "cell_type": "code",
   "execution_count": null,
   "id": "a9e07603",
   "metadata": {},
   "outputs": [],
   "source": [
    "df.iloc[[0]]"
   ]
  },
  {
   "cell_type": "code",
   "execution_count": null,
   "id": "96330339",
   "metadata": {},
   "outputs": [],
   "source": [
    "df.iloc[0:2]"
   ]
  },
  {
   "cell_type": "code",
   "execution_count": null,
   "id": "cf82538e",
   "metadata": {},
   "outputs": [],
   "source": [
    "df.iloc[0:2, :]"
   ]
  },
  {
   "cell_type": "code",
   "execution_count": null,
   "id": "31153da5",
   "metadata": {},
   "outputs": [],
   "source": [
    "df.iloc[:, 0:2]"
   ]
  },
  {
   "cell_type": "code",
   "execution_count": null,
   "id": "135a77b3",
   "metadata": {},
   "outputs": [],
   "source": [
    "df.iloc[:, [1, 0]]"
   ]
  },
  {
   "cell_type": "code",
   "execution_count": null,
   "id": "5335a939",
   "metadata": {},
   "outputs": [],
   "source": [
    "df"
   ]
  },
  {
   "cell_type": "code",
   "execution_count": null,
   "id": "5a4aaf79",
   "metadata": {},
   "outputs": [],
   "source": [
    "df.loc[1]"
   ]
  },
  {
   "cell_type": "code",
   "execution_count": null,
   "id": "ee739e96",
   "metadata": {},
   "outputs": [],
   "source": [
    "df.loc[[1]]"
   ]
  },
  {
   "cell_type": "code",
   "execution_count": null,
   "id": "df18b9fc",
   "metadata": {},
   "outputs": [],
   "source": [
    "df.loc[1:3]"
   ]
  },
  {
   "cell_type": "code",
   "execution_count": null,
   "id": "f19f9601",
   "metadata": {},
   "outputs": [],
   "source": [
    "df.loc[1:3, :]"
   ]
  },
  {
   "cell_type": "code",
   "execution_count": null,
   "id": "9e1a0b2b",
   "metadata": {},
   "outputs": [],
   "source": [
    "df.loc[:, 'A':'B']"
   ]
  },
  {
   "cell_type": "code",
   "execution_count": null,
   "id": "147e5441",
   "metadata": {},
   "outputs": [],
   "source": [
    "df.loc[:, ['B', 'A']]"
   ]
  },
  {
   "cell_type": "code",
   "execution_count": null,
   "id": "61ff8487",
   "metadata": {},
   "outputs": [],
   "source": [
    "'C:\\\\Users\\\\hdsce\\\\Documents\\\\PythonDataAnalysis1\\\\data'"
   ]
  },
  {
   "cell_type": "code",
   "execution_count": null,
   "id": "09e89bdf",
   "metadata": {},
   "outputs": [],
   "source": [
    "'C:/Users/hdsce/Documents/PythonDataAnalysis1/data'"
   ]
  },
  {
   "cell_type": "code",
   "execution_count": null,
   "id": "f6ffa6cc",
   "metadata": {},
   "outputs": [],
   "source": [
    "r'C:\\Users\\hdsce\\Documents\\PythonDataAnalysis1\\data'"
   ]
  },
  {
   "cell_type": "code",
   "execution_count": null,
   "id": "fe2e3744",
   "metadata": {},
   "outputs": [],
   "source": [
    "'I\\'m a boy'"
   ]
  },
  {
   "cell_type": "code",
   "execution_count": null,
   "id": "434de6bd",
   "metadata": {},
   "outputs": [],
   "source": [
    "import sys"
   ]
  },
  {
   "cell_type": "code",
   "execution_count": null,
   "id": "fe39ff1c",
   "metadata": {},
   "outputs": [],
   "source": [
    "sys.version"
   ]
  },
  {
   "cell_type": "code",
   "execution_count": null,
   "id": "34fa257e",
   "metadata": {},
   "outputs": [],
   "source": []
  },
  {
   "cell_type": "code",
   "execution_count": null,
   "id": "a274ae86",
   "metadata": {},
   "outputs": [],
   "source": [
    "import os\n",
    "import chardet\n",
    "import numpy as np\n",
    "import pandas as pd\n",
    "import joblib"
   ]
  },
  {
   "cell_type": "code",
   "execution_count": null,
   "id": "ad5997e2",
   "metadata": {},
   "outputs": [],
   "source": [
    "os.getcwd()"
   ]
  },
  {
   "cell_type": "code",
   "execution_count": null,
   "id": "cd323ffb",
   "metadata": {},
   "outputs": [],
   "source": [
    "os.chdir('C:\\\\Users\\\\hdsce\\\\Documents\\\\PythonDataAnalysis1\\\\data')"
   ]
  },
  {
   "cell_type": "code",
   "execution_count": null,
   "id": "bef9b72e",
   "metadata": {},
   "outputs": [],
   "source": [
    "os.getcwd()"
   ]
  },
  {
   "cell_type": "code",
   "execution_count": null,
   "id": "5b3c0f45",
   "metadata": {},
   "outputs": [],
   "source": [
    "os.chdir('..')"
   ]
  },
  {
   "cell_type": "code",
   "execution_count": null,
   "id": "f364ba2e",
   "metadata": {},
   "outputs": [],
   "source": [
    "os.getcwd()"
   ]
  },
  {
   "cell_type": "code",
   "execution_count": null,
   "id": "b1018038",
   "metadata": {},
   "outputs": [],
   "source": [
    "os.chdir('./live')"
   ]
  },
  {
   "cell_type": "code",
   "execution_count": null,
   "id": "03bd4e30",
   "metadata": {},
   "outputs": [],
   "source": [
    "os.getcwd()"
   ]
  },
  {
   "cell_type": "code",
   "execution_count": null,
   "id": "81c475e9",
   "metadata": {},
   "outputs": [],
   "source": [
    "os.chdir('../data')"
   ]
  },
  {
   "cell_type": "code",
   "execution_count": null,
   "id": "177f5db4",
   "metadata": {},
   "outputs": [],
   "source": [
    "os.getcwd()"
   ]
  },
  {
   "cell_type": "code",
   "execution_count": null,
   "id": "05021b70",
   "metadata": {},
   "outputs": [],
   "source": [
    "os.listdir()"
   ]
  },
  {
   "cell_type": "code",
   "execution_count": null,
   "id": "a12d54a6",
   "metadata": {},
   "outputs": [],
   "source": [
    "os.mkdir('./temp')"
   ]
  },
  {
   "cell_type": "code",
   "execution_count": null,
   "id": "b1332747",
   "metadata": {},
   "outputs": [],
   "source": [
    "os.listdir()"
   ]
  },
  {
   "cell_type": "code",
   "execution_count": null,
   "id": "5075d38f",
   "metadata": {},
   "outputs": [],
   "source": [
    "os.path.isdir('Online_Mall.csv')"
   ]
  },
  {
   "cell_type": "code",
   "execution_count": null,
   "id": "d3e59fe7",
   "metadata": {},
   "outputs": [],
   "source": [
    "for file in os.listdir():\n",
    "    if '.xlsx' in file:\n",
    "        print(file)"
   ]
  },
  {
   "cell_type": "code",
   "execution_count": null,
   "id": "c4715c72",
   "metadata": {},
   "outputs": [],
   "source": [
    "result = []\n",
    "for file in os.listdir():\n",
    "    if ('.xlsx' in file) or ('.csv' in file):\n",
    "        result.append(file)"
   ]
  },
  {
   "cell_type": "code",
   "execution_count": null,
   "id": "6bde5cf2",
   "metadata": {},
   "outputs": [],
   "source": [
    "result"
   ]
  },
  {
   "cell_type": "code",
   "execution_count": null,
   "id": "a3a71ba5",
   "metadata": {},
   "outputs": [],
   "source": [
    "[file for file in os.listdir() if 'Price' in file]"
   ]
  },
  {
   "cell_type": "code",
   "execution_count": null,
   "id": "2811900f",
   "metadata": {},
   "outputs": [],
   "source": [
    "pd.read_excel('APT_Price_Seoul_2020_2022.xlsx')"
   ]
  },
  {
   "cell_type": "code",
   "execution_count": null,
   "id": "f6fefb29",
   "metadata": {},
   "outputs": [],
   "source": [
    "pd.read_excel(io = 'APT_Price_Seoul_2020_2022.xlsx', \\\n",
    "              sheet_name = '2022년', \\\n",
    "              usecols = range(1, 12), \\\n",
    "              skiprows = 3, \\\n",
    "              thousands = ',')"
   ]
  },
  {
   "cell_type": "code",
   "execution_count": null,
   "id": "8fdb0dff",
   "metadata": {},
   "outputs": [],
   "source": [
    "%time df1 = pd.read_excel(io = 'APT_Price_Seoul_2020_2022.xlsx', \\\n",
    "                          sheet_name = '2020~2022년')"
   ]
  },
  {
   "cell_type": "code",
   "execution_count": null,
   "id": "4e31ff41",
   "metadata": {},
   "outputs": [],
   "source": [
    "df1.info()"
   ]
  },
  {
   "cell_type": "code",
   "execution_count": null,
   "id": "29714e4c",
   "metadata": {},
   "outputs": [],
   "source": [
    "%time df1.to_excel('test.xlsx', index = False)"
   ]
  },
  {
   "cell_type": "code",
   "execution_count": null,
   "id": "cd25c647",
   "metadata": {},
   "outputs": [],
   "source": [
    "os.mkdir('◆긴급')"
   ]
  },
  {
   "cell_type": "code",
   "execution_count": null,
   "id": "1b8ee6c5",
   "metadata": {},
   "outputs": [],
   "source": [
    "os.mkdir('2021년')"
   ]
  },
  {
   "cell_type": "code",
   "execution_count": null,
   "id": "cad0fdd2",
   "metadata": {},
   "outputs": [],
   "source": [
    "os.listdir()"
   ]
  },
  {
   "cell_type": "code",
   "execution_count": null,
   "id": "dd1af879",
   "metadata": {},
   "outputs": [],
   "source": [
    "%%time\n",
    "df1 = pd.read_excel(io = 'APT_Price_Seoul_2020_2022.xlsx', \n",
    "                    sheet_name = '2020~2022년')"
   ]
  },
  {
   "cell_type": "code",
   "execution_count": null,
   "id": "031e808e",
   "metadata": {},
   "outputs": [],
   "source": [
    "import time"
   ]
  },
  {
   "cell_type": "code",
   "execution_count": null,
   "id": "e85ecf06",
   "metadata": {},
   "outputs": [],
   "source": [
    "start = time.time()\n",
    "df1 = pd.read_excel(io = 'APT_Price_Seoul_2020_2022.xlsx', \n",
    "                    sheet_name = '2020~2022년')\n",
    "end = time.time()"
   ]
  },
  {
   "cell_type": "code",
   "execution_count": null,
   "id": "3e13e829",
   "metadata": {},
   "outputs": [],
   "source": [
    "f'코드 실행 소요 시간: {(end - start):.2f}초'"
   ]
  },
  {
   "cell_type": "code",
   "execution_count": null,
   "id": "24887c46",
   "metadata": {},
   "outputs": [],
   "source": [
    "start"
   ]
  },
  {
   "cell_type": "code",
   "execution_count": null,
   "id": "0507c5af",
   "metadata": {},
   "outputs": [],
   "source": [
    "os.listdir()"
   ]
  },
  {
   "cell_type": "raw",
   "id": "37e59c7a",
   "metadata": {},
   "source": [
    "!pip install tqdm"
   ]
  },
  {
   "cell_type": "code",
   "execution_count": null,
   "id": "16d70a51",
   "metadata": {},
   "outputs": [],
   "source": [
    "from tqdm import tqdm"
   ]
  },
  {
   "cell_type": "code",
   "execution_count": null,
   "id": "f5fc3ab7",
   "metadata": {},
   "outputs": [],
   "source": [
    "dfAll = pd.DataFrame()\n",
    "\n",
    "for i in tqdm(range(3)):\n",
    "    df = pd.read_excel(io = 'APT_Price_Seoul_2020_2022.xlsx',\n",
    "                       sheet_name = i, \n",
    "                       skiprows = 3, \n",
    "                       usecols = range(1, 12), \n",
    "                       thousands = ',')\n",
    "    dfAll = pd.concat(objs = [dfAll, df], ignore_index = True)"
   ]
  },
  {
   "cell_type": "code",
   "execution_count": null,
   "id": "8046f6d8",
   "metadata": {},
   "outputs": [],
   "source": [
    "dfAll.info()"
   ]
  },
  {
   "cell_type": "code",
   "execution_count": null,
   "id": "f0cd5189",
   "metadata": {},
   "outputs": [],
   "source": [
    "df1.info()"
   ]
  },
  {
   "cell_type": "code",
   "execution_count": null,
   "id": "4c9185ee",
   "metadata": {},
   "outputs": [],
   "source": [
    "df1.head()"
   ]
  },
  {
   "cell_type": "code",
   "execution_count": null,
   "id": "e57bf4f5",
   "metadata": {},
   "outputs": [],
   "source": [
    "dfAll"
   ]
  },
  {
   "cell_type": "code",
   "execution_count": null,
   "id": "df098f6d",
   "metadata": {},
   "outputs": [],
   "source": [
    "df.head(n = 10)"
   ]
  },
  {
   "cell_type": "code",
   "execution_count": null,
   "id": "42a0d989",
   "metadata": {},
   "outputs": [],
   "source": [
    "df.tail(n = 10)"
   ]
  },
  {
   "cell_type": "code",
   "execution_count": null,
   "id": "85d7b103",
   "metadata": {},
   "outputs": [],
   "source": [
    "df.sample()"
   ]
  },
  {
   "cell_type": "code",
   "execution_count": null,
   "id": "879e9652",
   "metadata": {},
   "outputs": [],
   "source": [
    "df.sample(random_state = 1234)"
   ]
  },
  {
   "cell_type": "code",
   "execution_count": null,
   "id": "8c922cf0",
   "metadata": {},
   "outputs": [],
   "source": [
    "os.listdir()"
   ]
  },
  {
   "cell_type": "code",
   "execution_count": null,
   "id": "33b4813e",
   "metadata": {},
   "outputs": [],
   "source": [
    "pd.read_excel(io = 'APT_Price_Seoul_2020_2022.xlsx', nrows = 10)"
   ]
  },
  {
   "cell_type": "code",
   "execution_count": null,
   "id": "b98de719",
   "metadata": {},
   "outputs": [],
   "source": [
    "?pd.read_excel"
   ]
  },
  {
   "cell_type": "code",
   "execution_count": null,
   "id": "fcd4cfe7",
   "metadata": {},
   "outputs": [],
   "source": [
    "??pd.read_excel"
   ]
  },
  {
   "cell_type": "code",
   "execution_count": null,
   "id": "60eb0582",
   "metadata": {},
   "outputs": [],
   "source": [
    "[file for file in os.listdir() if '.csv' in file]"
   ]
  },
  {
   "cell_type": "code",
   "execution_count": null,
   "id": "0a7771fd",
   "metadata": {},
   "outputs": [],
   "source": [
    "fileName = 'APT_Price_Seoul_2020_2022.csv'"
   ]
  },
  {
   "cell_type": "code",
   "execution_count": null,
   "id": "ecef3987",
   "metadata": {},
   "outputs": [],
   "source": [
    "pd.read_csv(fileName, encoding = 'CP949')"
   ]
  },
  {
   "cell_type": "code",
   "execution_count": null,
   "id": "953033f9",
   "metadata": {},
   "outputs": [],
   "source": [
    "with open(file = fileName, mode = 'rb') as file:\n",
    "    text = file.read()"
   ]
  },
  {
   "cell_type": "code",
   "execution_count": null,
   "id": "ed88a086",
   "metadata": {},
   "outputs": [],
   "source": [
    "text[:100]"
   ]
  },
  {
   "cell_type": "code",
   "execution_count": null,
   "id": "b3a7ad15",
   "metadata": {},
   "outputs": [],
   "source": [
    "chardet.detect(text[:100])"
   ]
  },
  {
   "cell_type": "code",
   "execution_count": null,
   "id": "72c375c0",
   "metadata": {},
   "outputs": [],
   "source": [
    "chardet.detect(text)"
   ]
  },
  {
   "cell_type": "code",
   "execution_count": null,
   "id": "18735c61",
   "metadata": {},
   "outputs": [],
   "source": [
    "pd.read_csv(fileName, encoding = 'CP949')"
   ]
  },
  {
   "cell_type": "code",
   "execution_count": null,
   "id": "053aeffd",
   "metadata": {},
   "outputs": [],
   "source": [
    "os.listdir()"
   ]
  },
  {
   "cell_type": "code",
   "execution_count": null,
   "id": "35f840a8",
   "metadata": {},
   "outputs": [],
   "source": [
    "dfs = pd.read_excel(\n",
    "    io = 'APT_Price_Seoul_2020_2022.xlsx', \n",
    "    sheet_name = None, \n",
    "    nrows = 10\n",
    ")"
   ]
  },
  {
   "cell_type": "code",
   "execution_count": null,
   "id": "b14d6a2e",
   "metadata": {},
   "outputs": [],
   "source": [
    "type(dfs)"
   ]
  },
  {
   "cell_type": "code",
   "execution_count": null,
   "id": "67ac5b8f",
   "metadata": {},
   "outputs": [],
   "source": [
    "dfs"
   ]
  },
  {
   "cell_type": "code",
   "execution_count": null,
   "id": "b7651f84",
   "metadata": {},
   "outputs": [],
   "source": [
    "dfs.keys()"
   ]
  },
  {
   "cell_type": "code",
   "execution_count": null,
   "id": "0c4a649d",
   "metadata": {},
   "outputs": [],
   "source": [
    "dfAll = pd.DataFrame()\n",
    "for key in dfs.keys():\n",
    "    df = dfs[key]\n",
    "    dfAll = pd.concat(objs = [dfAll, df], ignore_index = True)"
   ]
  },
  {
   "cell_type": "code",
   "execution_count": null,
   "id": "0b0ae83d",
   "metadata": {},
   "outputs": [],
   "source": [
    "dfAll.info()"
   ]
  },
  {
   "cell_type": "code",
   "execution_count": null,
   "id": "bb5009be",
   "metadata": {},
   "outputs": [],
   "source": [
    "os.listdir()"
   ]
  },
  {
   "cell_type": "code",
   "execution_count": null,
   "id": "a8b785d6",
   "metadata": {},
   "outputs": [],
   "source": [
    "pd.read_csv('APT_Price_Seoul_2020_2022.csv', \n",
    "            encoding = 'CP949', \n",
    "            sep = ',', \n",
    "            parse_dates = ['거래일'], \n",
    "            thousands = ',')"
   ]
  },
  {
   "cell_type": "code",
   "execution_count": null,
   "id": "720c5a64",
   "metadata": {},
   "outputs": [],
   "source": [
    "%%time\n",
    "df2 = pd.read_csv(fileName, encoding = 'CP949', parse_dates = ['거래일'])"
   ]
  },
  {
   "cell_type": "code",
   "execution_count": null,
   "id": "fa45d1c5",
   "metadata": {},
   "outputs": [],
   "source": [
    "df2.info()"
   ]
  },
  {
   "cell_type": "code",
   "execution_count": null,
   "id": "6d0fe5ca",
   "metadata": {},
   "outputs": [],
   "source": [
    "%%time\n",
    "df2.to_csv('test.csv', index = False)"
   ]
  },
  {
   "cell_type": "code",
   "execution_count": null,
   "id": "fccf5e85",
   "metadata": {},
   "outputs": [],
   "source": [
    "%time joblib.dump(value = df2, filename = 'test.z')"
   ]
  },
  {
   "cell_type": "code",
   "execution_count": null,
   "id": "46111ecd",
   "metadata": {},
   "outputs": [],
   "source": [
    "%time df3 = joblib.load(filename = 'test.z')"
   ]
  },
  {
   "cell_type": "code",
   "execution_count": null,
   "id": "36cd4377",
   "metadata": {},
   "outputs": [],
   "source": [
    "df3.info()"
   ]
  },
  {
   "cell_type": "code",
   "execution_count": null,
   "id": "cfa52f1d",
   "metadata": {},
   "outputs": [],
   "source": [
    "df4 = pd.read_csv('test.csv')"
   ]
  },
  {
   "cell_type": "code",
   "execution_count": null,
   "id": "4bd0d767",
   "metadata": {},
   "outputs": [],
   "source": [
    "df4.info()"
   ]
  },
  {
   "cell_type": "code",
   "execution_count": null,
   "id": "7d020886",
   "metadata": {},
   "outputs": [],
   "source": [
    "joblib.dump(value = [df1, df2, df3], filename = 'test2.z')"
   ]
  },
  {
   "cell_type": "code",
   "execution_count": null,
   "id": "0a377ae1",
   "metadata": {},
   "outputs": [],
   "source": [
    "df1, df2, df3 = joblib.load(filename = 'test2.z')"
   ]
  },
  {
   "cell_type": "code",
   "execution_count": null,
   "id": "fb522a65",
   "metadata": {},
   "outputs": [],
   "source": [
    "files = [file for file in os.listdir() if 'test' in file]\n",
    "files"
   ]
  },
  {
   "cell_type": "code",
   "execution_count": null,
   "id": "5b5b051f",
   "metadata": {},
   "outputs": [],
   "source": [
    "for file in files:\n",
    "    os.remove(file)"
   ]
  },
  {
   "cell_type": "code",
   "execution_count": null,
   "id": "29958be8",
   "metadata": {},
   "outputs": [],
   "source": [
    "folders = [folder for folder in os.listdir() if os.path.isdir(folder)]\n",
    "folders"
   ]
  },
  {
   "cell_type": "code",
   "execution_count": null,
   "id": "42da7ed8",
   "metadata": {},
   "outputs": [],
   "source": [
    "for folder in folders:\n",
    "    os.rmdir(folder)"
   ]
  },
  {
   "cell_type": "code",
   "execution_count": null,
   "id": "8350add5",
   "metadata": {},
   "outputs": [],
   "source": []
  },
  {
   "cell_type": "code",
   "execution_count": 1,
   "id": "af8a9425",
   "metadata": {},
   "outputs": [],
   "source": [
    "import os\n",
    "import joblib\n",
    "import numpy as np\n",
    "import pandas as pd"
   ]
  },
  {
   "cell_type": "code",
   "execution_count": 2,
   "id": "e8e74271",
   "metadata": {},
   "outputs": [
    {
     "data": {
      "text/plain": [
       "'C:\\\\Users\\\\hdsce\\\\Documents\\\\PythonDataAnalysis1\\\\live'"
      ]
     },
     "execution_count": 2,
     "metadata": {},
     "output_type": "execute_result"
    }
   ],
   "source": [
    "os.getcwd()"
   ]
  },
  {
   "cell_type": "code",
   "execution_count": 3,
   "id": "4646d111",
   "metadata": {},
   "outputs": [],
   "source": [
    "os.chdir('../data')"
   ]
  },
  {
   "cell_type": "code",
   "execution_count": 4,
   "id": "d3959270",
   "metadata": {
    "collapsed": true
   },
   "outputs": [
    {
     "data": {
      "text/plain": [
       "['App_Usage.csv',\n",
       " 'APT_Detail_Seoul_2022.csv',\n",
       " 'APT_Detail_Seoul_2022.xlsx',\n",
       " 'APT_Merged.csv',\n",
       " 'APT_Merged.xlsx',\n",
       " 'APT_Price_Seoul_2020_2022.csv',\n",
       " 'APT_Price_Seoul_2020_2022.xlsx',\n",
       " 'APT_Price_Seoul_Copy.xlsx',\n",
       " 'NA_Sample.xlsx',\n",
       " 'Online_Mall.csv']"
      ]
     },
     "execution_count": 4,
     "metadata": {},
     "output_type": "execute_result"
    }
   ],
   "source": [
    "os.listdir()"
   ]
  },
  {
   "cell_type": "code",
   "execution_count": 5,
   "id": "78623835",
   "metadata": {},
   "outputs": [],
   "source": [
    "price = pd.read_csv('APT_Price_Seoul_2020_2022.csv', encoding = 'CP949')"
   ]
  },
  {
   "cell_type": "code",
   "execution_count": 6,
   "id": "f8c9547a",
   "metadata": {},
   "outputs": [
    {
     "name": "stdout",
     "output_type": "stream",
     "text": [
      "<class 'pandas.core.frame.DataFrame'>\n",
      "RangeIndex: 139919 entries, 0 to 139918\n",
      "Data columns (total 11 columns):\n",
      " #   Column  Non-Null Count   Dtype  \n",
      "---  ------  --------------   -----  \n",
      " 0   지역코드    139919 non-null  int64  \n",
      " 1   아파트     139919 non-null  object \n",
      " 2   시도명     139919 non-null  object \n",
      " 3   시군구     139919 non-null  object \n",
      " 4   법정동     139919 non-null  object \n",
      " 5   지번      139879 non-null  object \n",
      " 6   건축년도    139917 non-null  float64\n",
      " 7   거래일     139919 non-null  object \n",
      " 8   전용면적    139919 non-null  float64\n",
      " 9   층       139919 non-null  int64  \n",
      " 10  거래금액    139919 non-null  object \n",
      "dtypes: float64(2), int64(2), object(7)\n",
      "memory usage: 11.7+ MB\n"
     ]
    }
   ],
   "source": [
    "price.info()"
   ]
  },
  {
   "cell_type": "code",
   "execution_count": 7,
   "id": "5bcde5ff",
   "metadata": {},
   "outputs": [
    {
     "data": {
      "text/html": [
       "<div>\n",
       "<style scoped>\n",
       "    .dataframe tbody tr th:only-of-type {\n",
       "        vertical-align: middle;\n",
       "    }\n",
       "\n",
       "    .dataframe tbody tr th {\n",
       "        vertical-align: top;\n",
       "    }\n",
       "\n",
       "    .dataframe thead th {\n",
       "        text-align: right;\n",
       "    }\n",
       "</style>\n",
       "<table border=\"1\" class=\"dataframe\">\n",
       "  <thead>\n",
       "    <tr style=\"text-align: right;\">\n",
       "      <th></th>\n",
       "      <th>지역코드</th>\n",
       "      <th>아파트</th>\n",
       "      <th>시도명</th>\n",
       "      <th>시군구</th>\n",
       "      <th>법정동</th>\n",
       "      <th>지번</th>\n",
       "      <th>건축년도</th>\n",
       "      <th>거래일</th>\n",
       "      <th>전용면적</th>\n",
       "      <th>층</th>\n",
       "      <th>거래금액</th>\n",
       "    </tr>\n",
       "  </thead>\n",
       "  <tbody>\n",
       "    <tr>\n",
       "      <th>0</th>\n",
       "      <td>11110</td>\n",
       "      <td>신동아블루아광화문의꿈</td>\n",
       "      <td>서울특별시</td>\n",
       "      <td>종로구</td>\n",
       "      <td>필운동</td>\n",
       "      <td>254</td>\n",
       "      <td>2007.0</td>\n",
       "      <td>2020-01-03</td>\n",
       "      <td>111.97</td>\n",
       "      <td>6</td>\n",
       "      <td>100,000</td>\n",
       "    </tr>\n",
       "    <tr>\n",
       "      <th>1</th>\n",
       "      <td>11110</td>\n",
       "      <td>광화문스페이스본(106동)</td>\n",
       "      <td>서울특별시</td>\n",
       "      <td>종로구</td>\n",
       "      <td>사직동</td>\n",
       "      <td>9-1</td>\n",
       "      <td>2008.0</td>\n",
       "      <td>2020-01-02</td>\n",
       "      <td>163.33</td>\n",
       "      <td>2</td>\n",
       "      <td>162,000</td>\n",
       "    </tr>\n",
       "    <tr>\n",
       "      <th>2</th>\n",
       "      <td>11110</td>\n",
       "      <td>세종로대우</td>\n",
       "      <td>서울특별시</td>\n",
       "      <td>종로구</td>\n",
       "      <td>내수동</td>\n",
       "      <td>167</td>\n",
       "      <td>1994.0</td>\n",
       "      <td>2020-01-06</td>\n",
       "      <td>109.91</td>\n",
       "      <td>11</td>\n",
       "      <td>88,000</td>\n",
       "    </tr>\n",
       "    <tr>\n",
       "      <th>3</th>\n",
       "      <td>11110</td>\n",
       "      <td>킹스매너</td>\n",
       "      <td>서울특별시</td>\n",
       "      <td>종로구</td>\n",
       "      <td>내수동</td>\n",
       "      <td>110-15</td>\n",
       "      <td>2004.0</td>\n",
       "      <td>2020-01-09</td>\n",
       "      <td>194.43</td>\n",
       "      <td>4</td>\n",
       "      <td>130,000</td>\n",
       "    </tr>\n",
       "    <tr>\n",
       "      <th>4</th>\n",
       "      <td>11110</td>\n",
       "      <td>경희궁파크팰리스</td>\n",
       "      <td>서울특별시</td>\n",
       "      <td>종로구</td>\n",
       "      <td>내수동</td>\n",
       "      <td>95</td>\n",
       "      <td>2003.0</td>\n",
       "      <td>2020-01-20</td>\n",
       "      <td>148.09</td>\n",
       "      <td>8</td>\n",
       "      <td>149,000</td>\n",
       "    </tr>\n",
       "  </tbody>\n",
       "</table>\n",
       "</div>"
      ],
      "text/plain": [
       "    지역코드             아파트    시도명  시군구  법정동      지번    건축년도         거래일    전용면적  \\\n",
       "0  11110     신동아블루아광화문의꿈  서울특별시  종로구  필운동     254  2007.0  2020-01-03  111.97   \n",
       "1  11110  광화문스페이스본(106동)  서울특별시  종로구  사직동     9-1  2008.0  2020-01-02  163.33   \n",
       "2  11110           세종로대우  서울특별시  종로구  내수동     167  1994.0  2020-01-06  109.91   \n",
       "3  11110            킹스매너  서울특별시  종로구  내수동  110-15  2004.0  2020-01-09  194.43   \n",
       "4  11110        경희궁파크팰리스  서울특별시  종로구  내수동      95  2003.0  2020-01-20  148.09   \n",
       "\n",
       "    층     거래금액  \n",
       "0   6  100,000  \n",
       "1   2  162,000  \n",
       "2  11   88,000  \n",
       "3   4  130,000  \n",
       "4   8  149,000  "
      ]
     },
     "execution_count": 7,
     "metadata": {},
     "output_type": "execute_result"
    }
   ],
   "source": [
    "price.head()"
   ]
  },
  {
   "cell_type": "code",
   "execution_count": 8,
   "id": "88e7e712",
   "metadata": {},
   "outputs": [
    {
     "data": {
      "text/plain": [
       "0         11110\n",
       "1         11110\n",
       "2         11110\n",
       "3         11110\n",
       "4         11110\n",
       "          ...  \n",
       "139914    11740\n",
       "139915    11740\n",
       "139916    11740\n",
       "139917    11740\n",
       "139918    11740\n",
       "Name: 지역코드, Length: 139919, dtype: int64"
      ]
     },
     "execution_count": 8,
     "metadata": {},
     "output_type": "execute_result"
    }
   ],
   "source": [
    "price['지역코드']"
   ]
  },
  {
   "cell_type": "code",
   "execution_count": 9,
   "id": "ae33c9a6",
   "metadata": {},
   "outputs": [
    {
     "data": {
      "text/html": [
       "<div>\n",
       "<style scoped>\n",
       "    .dataframe tbody tr th:only-of-type {\n",
       "        vertical-align: middle;\n",
       "    }\n",
       "\n",
       "    .dataframe tbody tr th {\n",
       "        vertical-align: top;\n",
       "    }\n",
       "\n",
       "    .dataframe thead th {\n",
       "        text-align: right;\n",
       "    }\n",
       "</style>\n",
       "<table border=\"1\" class=\"dataframe\">\n",
       "  <thead>\n",
       "    <tr style=\"text-align: right;\">\n",
       "      <th></th>\n",
       "      <th>지역코드</th>\n",
       "    </tr>\n",
       "  </thead>\n",
       "  <tbody>\n",
       "    <tr>\n",
       "      <th>0</th>\n",
       "      <td>11110</td>\n",
       "    </tr>\n",
       "    <tr>\n",
       "      <th>1</th>\n",
       "      <td>11110</td>\n",
       "    </tr>\n",
       "    <tr>\n",
       "      <th>2</th>\n",
       "      <td>11110</td>\n",
       "    </tr>\n",
       "    <tr>\n",
       "      <th>3</th>\n",
       "      <td>11110</td>\n",
       "    </tr>\n",
       "    <tr>\n",
       "      <th>4</th>\n",
       "      <td>11110</td>\n",
       "    </tr>\n",
       "    <tr>\n",
       "      <th>...</th>\n",
       "      <td>...</td>\n",
       "    </tr>\n",
       "    <tr>\n",
       "      <th>139914</th>\n",
       "      <td>11740</td>\n",
       "    </tr>\n",
       "    <tr>\n",
       "      <th>139915</th>\n",
       "      <td>11740</td>\n",
       "    </tr>\n",
       "    <tr>\n",
       "      <th>139916</th>\n",
       "      <td>11740</td>\n",
       "    </tr>\n",
       "    <tr>\n",
       "      <th>139917</th>\n",
       "      <td>11740</td>\n",
       "    </tr>\n",
       "    <tr>\n",
       "      <th>139918</th>\n",
       "      <td>11740</td>\n",
       "    </tr>\n",
       "  </tbody>\n",
       "</table>\n",
       "<p>139919 rows × 1 columns</p>\n",
       "</div>"
      ],
      "text/plain": [
       "         지역코드\n",
       "0       11110\n",
       "1       11110\n",
       "2       11110\n",
       "3       11110\n",
       "4       11110\n",
       "...       ...\n",
       "139914  11740\n",
       "139915  11740\n",
       "139916  11740\n",
       "139917  11740\n",
       "139918  11740\n",
       "\n",
       "[139919 rows x 1 columns]"
      ]
     },
     "execution_count": 9,
     "metadata": {},
     "output_type": "execute_result"
    }
   ],
   "source": [
    "price[['지역코드']]"
   ]
  },
  {
   "cell_type": "code",
   "execution_count": 10,
   "id": "0076d9af",
   "metadata": {},
   "outputs": [
    {
     "data": {
      "text/html": [
       "<div>\n",
       "<style scoped>\n",
       "    .dataframe tbody tr th:only-of-type {\n",
       "        vertical-align: middle;\n",
       "    }\n",
       "\n",
       "    .dataframe tbody tr th {\n",
       "        vertical-align: top;\n",
       "    }\n",
       "\n",
       "    .dataframe thead th {\n",
       "        text-align: right;\n",
       "    }\n",
       "</style>\n",
       "<table border=\"1\" class=\"dataframe\">\n",
       "  <thead>\n",
       "    <tr style=\"text-align: right;\">\n",
       "      <th></th>\n",
       "      <th>아파트</th>\n",
       "      <th>지역코드</th>\n",
       "    </tr>\n",
       "  </thead>\n",
       "  <tbody>\n",
       "    <tr>\n",
       "      <th>0</th>\n",
       "      <td>신동아블루아광화문의꿈</td>\n",
       "      <td>11110</td>\n",
       "    </tr>\n",
       "    <tr>\n",
       "      <th>1</th>\n",
       "      <td>광화문스페이스본(106동)</td>\n",
       "      <td>11110</td>\n",
       "    </tr>\n",
       "    <tr>\n",
       "      <th>2</th>\n",
       "      <td>세종로대우</td>\n",
       "      <td>11110</td>\n",
       "    </tr>\n",
       "    <tr>\n",
       "      <th>3</th>\n",
       "      <td>킹스매너</td>\n",
       "      <td>11110</td>\n",
       "    </tr>\n",
       "    <tr>\n",
       "      <th>4</th>\n",
       "      <td>경희궁파크팰리스</td>\n",
       "      <td>11110</td>\n",
       "    </tr>\n",
       "    <tr>\n",
       "      <th>...</th>\n",
       "      <td>...</td>\n",
       "      <td>...</td>\n",
       "    </tr>\n",
       "    <tr>\n",
       "      <th>139914</th>\n",
       "      <td>중앙하이츠</td>\n",
       "      <td>11740</td>\n",
       "    </tr>\n",
       "    <tr>\n",
       "      <th>139915</th>\n",
       "      <td>롯데캐슬퍼스트</td>\n",
       "      <td>11740</td>\n",
       "    </tr>\n",
       "    <tr>\n",
       "      <th>139916</th>\n",
       "      <td>선사현대아파트</td>\n",
       "      <td>11740</td>\n",
       "    </tr>\n",
       "    <tr>\n",
       "      <th>139917</th>\n",
       "      <td>파크뷰진도맨션</td>\n",
       "      <td>11740</td>\n",
       "    </tr>\n",
       "    <tr>\n",
       "      <th>139918</th>\n",
       "      <td>강동리버스트4단지</td>\n",
       "      <td>11740</td>\n",
       "    </tr>\n",
       "  </tbody>\n",
       "</table>\n",
       "<p>139919 rows × 2 columns</p>\n",
       "</div>"
      ],
      "text/plain": [
       "                   아파트   지역코드\n",
       "0          신동아블루아광화문의꿈  11110\n",
       "1       광화문스페이스본(106동)  11110\n",
       "2                세종로대우  11110\n",
       "3                 킹스매너  11110\n",
       "4             경희궁파크팰리스  11110\n",
       "...                ...    ...\n",
       "139914           중앙하이츠  11740\n",
       "139915         롯데캐슬퍼스트  11740\n",
       "139916         선사현대아파트  11740\n",
       "139917         파크뷰진도맨션  11740\n",
       "139918       강동리버스트4단지  11740\n",
       "\n",
       "[139919 rows x 2 columns]"
      ]
     },
     "execution_count": 10,
     "metadata": {},
     "output_type": "execute_result"
    }
   ],
   "source": [
    "price[['아파트', '지역코드']]"
   ]
  },
  {
   "cell_type": "code",
   "execution_count": 13,
   "id": "3cd240cf",
   "metadata": {},
   "outputs": [
    {
     "data": {
      "text/plain": [
       "Index(['지역코드', '아파트', '시도명', '시군구', '법정동', '지번', '건축년도', '거래일', '전용면적', '층',\n",
       "       '거래금액'],\n",
       "      dtype='object')"
      ]
     },
     "execution_count": 13,
     "metadata": {},
     "output_type": "execute_result"
    }
   ],
   "source": [
    "price.columns"
   ]
  },
  {
   "cell_type": "code",
   "execution_count": 14,
   "id": "3d232c46",
   "metadata": {},
   "outputs": [
    {
     "data": {
      "text/html": [
       "<div>\n",
       "<style scoped>\n",
       "    .dataframe tbody tr th:only-of-type {\n",
       "        vertical-align: middle;\n",
       "    }\n",
       "\n",
       "    .dataframe tbody tr th {\n",
       "        vertical-align: top;\n",
       "    }\n",
       "\n",
       "    .dataframe thead th {\n",
       "        text-align: right;\n",
       "    }\n",
       "</style>\n",
       "<table border=\"1\" class=\"dataframe\">\n",
       "  <thead>\n",
       "    <tr style=\"text-align: right;\">\n",
       "      <th></th>\n",
       "      <th>거래일</th>\n",
       "      <th>전용면적</th>\n",
       "      <th>층</th>\n",
       "      <th>거래금액</th>\n",
       "    </tr>\n",
       "  </thead>\n",
       "  <tbody>\n",
       "    <tr>\n",
       "      <th>0</th>\n",
       "      <td>2020-01-03</td>\n",
       "      <td>111.97</td>\n",
       "      <td>6</td>\n",
       "      <td>100,000</td>\n",
       "    </tr>\n",
       "    <tr>\n",
       "      <th>1</th>\n",
       "      <td>2020-01-02</td>\n",
       "      <td>163.33</td>\n",
       "      <td>2</td>\n",
       "      <td>162,000</td>\n",
       "    </tr>\n",
       "    <tr>\n",
       "      <th>2</th>\n",
       "      <td>2020-01-06</td>\n",
       "      <td>109.91</td>\n",
       "      <td>11</td>\n",
       "      <td>88,000</td>\n",
       "    </tr>\n",
       "    <tr>\n",
       "      <th>3</th>\n",
       "      <td>2020-01-09</td>\n",
       "      <td>194.43</td>\n",
       "      <td>4</td>\n",
       "      <td>130,000</td>\n",
       "    </tr>\n",
       "    <tr>\n",
       "      <th>4</th>\n",
       "      <td>2020-01-20</td>\n",
       "      <td>148.09</td>\n",
       "      <td>8</td>\n",
       "      <td>149,000</td>\n",
       "    </tr>\n",
       "    <tr>\n",
       "      <th>...</th>\n",
       "      <td>...</td>\n",
       "      <td>...</td>\n",
       "      <td>...</td>\n",
       "      <td>...</td>\n",
       "    </tr>\n",
       "    <tr>\n",
       "      <th>139914</th>\n",
       "      <td>2022-12-03</td>\n",
       "      <td>59.52</td>\n",
       "      <td>8</td>\n",
       "      <td>53,000</td>\n",
       "    </tr>\n",
       "    <tr>\n",
       "      <th>139915</th>\n",
       "      <td>2022-12-06</td>\n",
       "      <td>111.22</td>\n",
       "      <td>10</td>\n",
       "      <td>135,000</td>\n",
       "    </tr>\n",
       "    <tr>\n",
       "      <th>139916</th>\n",
       "      <td>2022-12-10</td>\n",
       "      <td>59.64</td>\n",
       "      <td>17</td>\n",
       "      <td>77,000</td>\n",
       "    </tr>\n",
       "    <tr>\n",
       "      <th>139917</th>\n",
       "      <td>2022-12-06</td>\n",
       "      <td>208.92</td>\n",
       "      <td>18</td>\n",
       "      <td>145,500</td>\n",
       "    </tr>\n",
       "    <tr>\n",
       "      <th>139918</th>\n",
       "      <td>2022-12-29</td>\n",
       "      <td>59.99</td>\n",
       "      <td>7</td>\n",
       "      <td>55,000</td>\n",
       "    </tr>\n",
       "  </tbody>\n",
       "</table>\n",
       "<p>139919 rows × 4 columns</p>\n",
       "</div>"
      ],
      "text/plain": [
       "               거래일    전용면적   층     거래금액\n",
       "0       2020-01-03  111.97   6  100,000\n",
       "1       2020-01-02  163.33   2  162,000\n",
       "2       2020-01-06  109.91  11   88,000\n",
       "3       2020-01-09  194.43   4  130,000\n",
       "4       2020-01-20  148.09   8  149,000\n",
       "...            ...     ...  ..      ...\n",
       "139914  2022-12-03   59.52   8   53,000\n",
       "139915  2022-12-06  111.22  10  135,000\n",
       "139916  2022-12-10   59.64  17   77,000\n",
       "139917  2022-12-06  208.92  18  145,500\n",
       "139918  2022-12-29   59.99   7   55,000\n",
       "\n",
       "[139919 rows x 4 columns]"
      ]
     },
     "execution_count": 14,
     "metadata": {},
     "output_type": "execute_result"
    }
   ],
   "source": [
    "price[['거래일', '전용면적', '층', '거래금액']]"
   ]
  },
  {
   "cell_type": "code",
   "execution_count": 15,
   "id": "ff7d8715",
   "metadata": {
    "collapsed": true
   },
   "outputs": [
    {
     "ename": "TypeError",
     "evalue": "cannot do slice indexing on RangeIndex with these indexers [거래일] of type str",
     "output_type": "error",
     "traceback": [
      "\u001b[1;31m---------------------------------------------------------------------------\u001b[0m",
      "\u001b[1;31mTypeError\u001b[0m                                 Traceback (most recent call last)",
      "Cell \u001b[1;32mIn[15], line 1\u001b[0m\n\u001b[1;32m----> 1\u001b[0m \u001b[43mprice\u001b[49m\u001b[43m[\u001b[49m\u001b[38;5;124;43m'\u001b[39;49m\u001b[38;5;124;43m거래일\u001b[39;49m\u001b[38;5;124;43m'\u001b[39;49m\u001b[43m:\u001b[49m\u001b[38;5;124;43m'\u001b[39;49m\u001b[38;5;124;43m거래금액\u001b[39;49m\u001b[38;5;124;43m'\u001b[39;49m\u001b[43m]\u001b[49m\n",
      "File \u001b[1;32m~\\ve311\\Lib\\site-packages\\pandas\\core\\frame.py:3779\u001b[0m, in \u001b[0;36mDataFrame.__getitem__\u001b[1;34m(self, key)\u001b[0m\n\u001b[0;32m   3777\u001b[0m         \u001b[38;5;28;01mreturn\u001b[39;00m \u001b[38;5;28mself\u001b[39m\u001b[38;5;241m.\u001b[39m_getitem_multilevel(key)\n\u001b[0;32m   3778\u001b[0m \u001b[38;5;66;03m# Do we have a slicer (on rows)?\u001b[39;00m\n\u001b[1;32m-> 3779\u001b[0m indexer \u001b[38;5;241m=\u001b[39m \u001b[43mconvert_to_index_sliceable\u001b[49m\u001b[43m(\u001b[49m\u001b[38;5;28;43mself\u001b[39;49m\u001b[43m,\u001b[49m\u001b[43m \u001b[49m\u001b[43mkey\u001b[49m\u001b[43m)\u001b[49m\n\u001b[0;32m   3780\u001b[0m \u001b[38;5;28;01mif\u001b[39;00m indexer \u001b[38;5;129;01mis\u001b[39;00m \u001b[38;5;129;01mnot\u001b[39;00m \u001b[38;5;28;01mNone\u001b[39;00m:\n\u001b[0;32m   3781\u001b[0m     \u001b[38;5;28;01mif\u001b[39;00m \u001b[38;5;28misinstance\u001b[39m(indexer, np\u001b[38;5;241m.\u001b[39mndarray):\n",
      "File \u001b[1;32m~\\ve311\\Lib\\site-packages\\pandas\\core\\indexing.py:2494\u001b[0m, in \u001b[0;36mconvert_to_index_sliceable\u001b[1;34m(obj, key)\u001b[0m\n\u001b[0;32m   2492\u001b[0m idx \u001b[38;5;241m=\u001b[39m obj\u001b[38;5;241m.\u001b[39mindex\n\u001b[0;32m   2493\u001b[0m \u001b[38;5;28;01mif\u001b[39;00m \u001b[38;5;28misinstance\u001b[39m(key, \u001b[38;5;28mslice\u001b[39m):\n\u001b[1;32m-> 2494\u001b[0m     \u001b[38;5;28;01mreturn\u001b[39;00m \u001b[43midx\u001b[49m\u001b[38;5;241;43m.\u001b[39;49m\u001b[43m_convert_slice_indexer\u001b[49m\u001b[43m(\u001b[49m\u001b[43mkey\u001b[49m\u001b[43m,\u001b[49m\u001b[43m \u001b[49m\u001b[43mkind\u001b[49m\u001b[38;5;241;43m=\u001b[39;49m\u001b[38;5;124;43m\"\u001b[39;49m\u001b[38;5;124;43mgetitem\u001b[39;49m\u001b[38;5;124;43m\"\u001b[39;49m\u001b[43m)\u001b[49m\n\u001b[0;32m   2496\u001b[0m \u001b[38;5;28;01melif\u001b[39;00m \u001b[38;5;28misinstance\u001b[39m(key, \u001b[38;5;28mstr\u001b[39m):\n\u001b[0;32m   2497\u001b[0m \n\u001b[0;32m   2498\u001b[0m     \u001b[38;5;66;03m# we are an actual column\u001b[39;00m\n\u001b[0;32m   2499\u001b[0m     \u001b[38;5;28;01mif\u001b[39;00m key \u001b[38;5;129;01min\u001b[39;00m obj\u001b[38;5;241m.\u001b[39mcolumns:\n",
      "File \u001b[1;32m~\\ve311\\Lib\\site-packages\\pandas\\core\\indexes\\numeric.py:234\u001b[0m, in \u001b[0;36mNumericIndex._convert_slice_indexer\u001b[1;34m(self, key, kind)\u001b[0m\n\u001b[0;32m    228\u001b[0m     \u001b[38;5;66;03m# TODO: can we write this as a condition based on\u001b[39;00m\n\u001b[0;32m    229\u001b[0m     \u001b[38;5;66;03m#  e.g. _should_fallback_to_positional?\u001b[39;00m\n\u001b[0;32m    230\u001b[0m     \u001b[38;5;66;03m# We always treat __getitem__ slicing as label-based\u001b[39;00m\n\u001b[0;32m    231\u001b[0m     \u001b[38;5;66;03m# translate to locations\u001b[39;00m\n\u001b[0;32m    232\u001b[0m     \u001b[38;5;28;01mreturn\u001b[39;00m \u001b[38;5;28mself\u001b[39m\u001b[38;5;241m.\u001b[39mslice_indexer(key\u001b[38;5;241m.\u001b[39mstart, key\u001b[38;5;241m.\u001b[39mstop, key\u001b[38;5;241m.\u001b[39mstep)\n\u001b[1;32m--> 234\u001b[0m \u001b[38;5;28;01mreturn\u001b[39;00m \u001b[38;5;28;43msuper\u001b[39;49m\u001b[43m(\u001b[49m\u001b[43m)\u001b[49m\u001b[38;5;241;43m.\u001b[39;49m\u001b[43m_convert_slice_indexer\u001b[49m\u001b[43m(\u001b[49m\u001b[43mkey\u001b[49m\u001b[43m,\u001b[49m\u001b[43m \u001b[49m\u001b[43mkind\u001b[49m\u001b[38;5;241;43m=\u001b[39;49m\u001b[43mkind\u001b[49m\u001b[43m)\u001b[49m\n",
      "File \u001b[1;32m~\\ve311\\Lib\\site-packages\\pandas\\core\\indexes\\base.py:4250\u001b[0m, in \u001b[0;36mIndex._convert_slice_indexer\u001b[1;34m(self, key, kind)\u001b[0m\n\u001b[0;32m   4246\u001b[0m \u001b[38;5;28;01mif\u001b[39;00m kind \u001b[38;5;241m==\u001b[39m \u001b[38;5;124m\"\u001b[39m\u001b[38;5;124mgetitem\u001b[39m\u001b[38;5;124m\"\u001b[39m:\n\u001b[0;32m   4247\u001b[0m     \u001b[38;5;66;03m# called from the getitem slicers, validate that we are in fact integers\u001b[39;00m\n\u001b[0;32m   4248\u001b[0m     \u001b[38;5;28;01mif\u001b[39;00m \u001b[38;5;28mself\u001b[39m\u001b[38;5;241m.\u001b[39mis_integer() \u001b[38;5;129;01mor\u001b[39;00m is_index_slice:\n\u001b[0;32m   4249\u001b[0m         \u001b[38;5;66;03m# Note: these checks are redundant if we know is_index_slice\u001b[39;00m\n\u001b[1;32m-> 4250\u001b[0m         \u001b[38;5;28;43mself\u001b[39;49m\u001b[38;5;241;43m.\u001b[39;49m\u001b[43m_validate_indexer\u001b[49m\u001b[43m(\u001b[49m\u001b[38;5;124;43m\"\u001b[39;49m\u001b[38;5;124;43mslice\u001b[39;49m\u001b[38;5;124;43m\"\u001b[39;49m\u001b[43m,\u001b[49m\u001b[43m \u001b[49m\u001b[43mkey\u001b[49m\u001b[38;5;241;43m.\u001b[39;49m\u001b[43mstart\u001b[49m\u001b[43m,\u001b[49m\u001b[43m \u001b[49m\u001b[38;5;124;43m\"\u001b[39;49m\u001b[38;5;124;43mgetitem\u001b[39;49m\u001b[38;5;124;43m\"\u001b[39;49m\u001b[43m)\u001b[49m\n\u001b[0;32m   4251\u001b[0m         \u001b[38;5;28mself\u001b[39m\u001b[38;5;241m.\u001b[39m_validate_indexer(\u001b[38;5;124m\"\u001b[39m\u001b[38;5;124mslice\u001b[39m\u001b[38;5;124m\"\u001b[39m, key\u001b[38;5;241m.\u001b[39mstop, \u001b[38;5;124m\"\u001b[39m\u001b[38;5;124mgetitem\u001b[39m\u001b[38;5;124m\"\u001b[39m)\n\u001b[0;32m   4252\u001b[0m         \u001b[38;5;28mself\u001b[39m\u001b[38;5;241m.\u001b[39m_validate_indexer(\u001b[38;5;124m\"\u001b[39m\u001b[38;5;124mslice\u001b[39m\u001b[38;5;124m\"\u001b[39m, key\u001b[38;5;241m.\u001b[39mstep, \u001b[38;5;124m\"\u001b[39m\u001b[38;5;124mgetitem\u001b[39m\u001b[38;5;124m\"\u001b[39m)\n",
      "File \u001b[1;32m~\\ve311\\Lib\\site-packages\\pandas\\core\\indexes\\base.py:6591\u001b[0m, in \u001b[0;36mIndex._validate_indexer\u001b[1;34m(self, form, key, kind)\u001b[0m\n\u001b[0;32m   6588\u001b[0m \u001b[38;5;28;01massert\u001b[39;00m kind \u001b[38;5;129;01min\u001b[39;00m [\u001b[38;5;124m\"\u001b[39m\u001b[38;5;124mgetitem\u001b[39m\u001b[38;5;124m\"\u001b[39m, \u001b[38;5;124m\"\u001b[39m\u001b[38;5;124miloc\u001b[39m\u001b[38;5;124m\"\u001b[39m]\n\u001b[0;32m   6590\u001b[0m \u001b[38;5;28;01mif\u001b[39;00m key \u001b[38;5;129;01mis\u001b[39;00m \u001b[38;5;129;01mnot\u001b[39;00m \u001b[38;5;28;01mNone\u001b[39;00m \u001b[38;5;129;01mand\u001b[39;00m \u001b[38;5;129;01mnot\u001b[39;00m is_integer(key):\n\u001b[1;32m-> 6591\u001b[0m     \u001b[38;5;28;01mraise\u001b[39;00m \u001b[38;5;28mself\u001b[39m\u001b[38;5;241m.\u001b[39m_invalid_indexer(form, key)\n",
      "\u001b[1;31mTypeError\u001b[0m: cannot do slice indexing on RangeIndex with these indexers [거래일] of type str"
     ]
    }
   ],
   "source": [
    "price['거래일':'거래금액']"
   ]
  },
  {
   "cell_type": "code",
   "execution_count": 16,
   "id": "9e4fbff2",
   "metadata": {
    "collapsed": true
   },
   "outputs": [
    {
     "data": {
      "text/html": [
       "<div>\n",
       "<style scoped>\n",
       "    .dataframe tbody tr th:only-of-type {\n",
       "        vertical-align: middle;\n",
       "    }\n",
       "\n",
       "    .dataframe tbody tr th {\n",
       "        vertical-align: top;\n",
       "    }\n",
       "\n",
       "    .dataframe thead th {\n",
       "        text-align: right;\n",
       "    }\n",
       "</style>\n",
       "<table border=\"1\" class=\"dataframe\">\n",
       "  <thead>\n",
       "    <tr style=\"text-align: right;\">\n",
       "      <th></th>\n",
       "      <th>거래일</th>\n",
       "      <th>전용면적</th>\n",
       "      <th>층</th>\n",
       "      <th>거래금액</th>\n",
       "    </tr>\n",
       "  </thead>\n",
       "  <tbody>\n",
       "    <tr>\n",
       "      <th>0</th>\n",
       "      <td>2020-01-03</td>\n",
       "      <td>111.97</td>\n",
       "      <td>6</td>\n",
       "      <td>100,000</td>\n",
       "    </tr>\n",
       "    <tr>\n",
       "      <th>1</th>\n",
       "      <td>2020-01-02</td>\n",
       "      <td>163.33</td>\n",
       "      <td>2</td>\n",
       "      <td>162,000</td>\n",
       "    </tr>\n",
       "    <tr>\n",
       "      <th>2</th>\n",
       "      <td>2020-01-06</td>\n",
       "      <td>109.91</td>\n",
       "      <td>11</td>\n",
       "      <td>88,000</td>\n",
       "    </tr>\n",
       "    <tr>\n",
       "      <th>3</th>\n",
       "      <td>2020-01-09</td>\n",
       "      <td>194.43</td>\n",
       "      <td>4</td>\n",
       "      <td>130,000</td>\n",
       "    </tr>\n",
       "    <tr>\n",
       "      <th>4</th>\n",
       "      <td>2020-01-20</td>\n",
       "      <td>148.09</td>\n",
       "      <td>8</td>\n",
       "      <td>149,000</td>\n",
       "    </tr>\n",
       "    <tr>\n",
       "      <th>...</th>\n",
       "      <td>...</td>\n",
       "      <td>...</td>\n",
       "      <td>...</td>\n",
       "      <td>...</td>\n",
       "    </tr>\n",
       "    <tr>\n",
       "      <th>139914</th>\n",
       "      <td>2022-12-03</td>\n",
       "      <td>59.52</td>\n",
       "      <td>8</td>\n",
       "      <td>53,000</td>\n",
       "    </tr>\n",
       "    <tr>\n",
       "      <th>139915</th>\n",
       "      <td>2022-12-06</td>\n",
       "      <td>111.22</td>\n",
       "      <td>10</td>\n",
       "      <td>135,000</td>\n",
       "    </tr>\n",
       "    <tr>\n",
       "      <th>139916</th>\n",
       "      <td>2022-12-10</td>\n",
       "      <td>59.64</td>\n",
       "      <td>17</td>\n",
       "      <td>77,000</td>\n",
       "    </tr>\n",
       "    <tr>\n",
       "      <th>139917</th>\n",
       "      <td>2022-12-06</td>\n",
       "      <td>208.92</td>\n",
       "      <td>18</td>\n",
       "      <td>145,500</td>\n",
       "    </tr>\n",
       "    <tr>\n",
       "      <th>139918</th>\n",
       "      <td>2022-12-29</td>\n",
       "      <td>59.99</td>\n",
       "      <td>7</td>\n",
       "      <td>55,000</td>\n",
       "    </tr>\n",
       "  </tbody>\n",
       "</table>\n",
       "<p>139919 rows × 4 columns</p>\n",
       "</div>"
      ],
      "text/plain": [
       "               거래일    전용면적   층     거래금액\n",
       "0       2020-01-03  111.97   6  100,000\n",
       "1       2020-01-02  163.33   2  162,000\n",
       "2       2020-01-06  109.91  11   88,000\n",
       "3       2020-01-09  194.43   4  130,000\n",
       "4       2020-01-20  148.09   8  149,000\n",
       "...            ...     ...  ..      ...\n",
       "139914  2022-12-03   59.52   8   53,000\n",
       "139915  2022-12-06  111.22  10  135,000\n",
       "139916  2022-12-10   59.64  17   77,000\n",
       "139917  2022-12-06  208.92  18  145,500\n",
       "139918  2022-12-29   59.99   7   55,000\n",
       "\n",
       "[139919 rows x 4 columns]"
      ]
     },
     "execution_count": 16,
     "metadata": {},
     "output_type": "execute_result"
    }
   ],
   "source": [
    "price.loc[:, '거래일':'거래금액']"
   ]
  },
  {
   "cell_type": "code",
   "execution_count": 17,
   "id": "4f9a6068",
   "metadata": {},
   "outputs": [
    {
     "data": {
      "text/plain": [
       "지역코드      int64\n",
       "아파트      object\n",
       "시도명      object\n",
       "시군구      object\n",
       "법정동      object\n",
       "지번       object\n",
       "건축년도    float64\n",
       "거래일      object\n",
       "전용면적    float64\n",
       "층         int64\n",
       "거래금액     object\n",
       "dtype: object"
      ]
     },
     "execution_count": 17,
     "metadata": {},
     "output_type": "execute_result"
    }
   ],
   "source": [
    "price.dtypes"
   ]
  },
  {
   "cell_type": "code",
   "execution_count": 18,
   "id": "637291e7",
   "metadata": {
    "collapsed": true
   },
   "outputs": [
    {
     "data": {
      "text/plain": [
       "지역코드     True\n",
       "아파트     False\n",
       "시도명     False\n",
       "시군구     False\n",
       "법정동     False\n",
       "지번      False\n",
       "건축년도    False\n",
       "거래일     False\n",
       "전용면적    False\n",
       "층        True\n",
       "거래금액    False\n",
       "dtype: bool"
      ]
     },
     "execution_count": 18,
     "metadata": {},
     "output_type": "execute_result"
    }
   ],
   "source": [
    "price.dtypes == 'int64'"
   ]
  },
  {
   "cell_type": "code",
   "execution_count": 19,
   "id": "75fc2be9",
   "metadata": {},
   "outputs": [
    {
     "data": {
      "text/html": [
       "<div>\n",
       "<style scoped>\n",
       "    .dataframe tbody tr th:only-of-type {\n",
       "        vertical-align: middle;\n",
       "    }\n",
       "\n",
       "    .dataframe tbody tr th {\n",
       "        vertical-align: top;\n",
       "    }\n",
       "\n",
       "    .dataframe thead th {\n",
       "        text-align: right;\n",
       "    }\n",
       "</style>\n",
       "<table border=\"1\" class=\"dataframe\">\n",
       "  <thead>\n",
       "    <tr style=\"text-align: right;\">\n",
       "      <th></th>\n",
       "      <th>지역코드</th>\n",
       "      <th>층</th>\n",
       "    </tr>\n",
       "  </thead>\n",
       "  <tbody>\n",
       "    <tr>\n",
       "      <th>0</th>\n",
       "      <td>11110</td>\n",
       "      <td>6</td>\n",
       "    </tr>\n",
       "    <tr>\n",
       "      <th>1</th>\n",
       "      <td>11110</td>\n",
       "      <td>2</td>\n",
       "    </tr>\n",
       "    <tr>\n",
       "      <th>2</th>\n",
       "      <td>11110</td>\n",
       "      <td>11</td>\n",
       "    </tr>\n",
       "    <tr>\n",
       "      <th>3</th>\n",
       "      <td>11110</td>\n",
       "      <td>4</td>\n",
       "    </tr>\n",
       "    <tr>\n",
       "      <th>4</th>\n",
       "      <td>11110</td>\n",
       "      <td>8</td>\n",
       "    </tr>\n",
       "    <tr>\n",
       "      <th>...</th>\n",
       "      <td>...</td>\n",
       "      <td>...</td>\n",
       "    </tr>\n",
       "    <tr>\n",
       "      <th>139914</th>\n",
       "      <td>11740</td>\n",
       "      <td>8</td>\n",
       "    </tr>\n",
       "    <tr>\n",
       "      <th>139915</th>\n",
       "      <td>11740</td>\n",
       "      <td>10</td>\n",
       "    </tr>\n",
       "    <tr>\n",
       "      <th>139916</th>\n",
       "      <td>11740</td>\n",
       "      <td>17</td>\n",
       "    </tr>\n",
       "    <tr>\n",
       "      <th>139917</th>\n",
       "      <td>11740</td>\n",
       "      <td>18</td>\n",
       "    </tr>\n",
       "    <tr>\n",
       "      <th>139918</th>\n",
       "      <td>11740</td>\n",
       "      <td>7</td>\n",
       "    </tr>\n",
       "  </tbody>\n",
       "</table>\n",
       "<p>139919 rows × 2 columns</p>\n",
       "</div>"
      ],
      "text/plain": [
       "         지역코드   층\n",
       "0       11110   6\n",
       "1       11110   2\n",
       "2       11110  11\n",
       "3       11110   4\n",
       "4       11110   8\n",
       "...       ...  ..\n",
       "139914  11740   8\n",
       "139915  11740  10\n",
       "139916  11740  17\n",
       "139917  11740  18\n",
       "139918  11740   7\n",
       "\n",
       "[139919 rows x 2 columns]"
      ]
     },
     "execution_count": 19,
     "metadata": {},
     "output_type": "execute_result"
    }
   ],
   "source": [
    "price.loc[:, price.dtypes == 'int64']"
   ]
  },
  {
   "cell_type": "code",
   "execution_count": 20,
   "id": "acc0eecb",
   "metadata": {},
   "outputs": [
    {
     "data": {
      "text/html": [
       "<div>\n",
       "<style scoped>\n",
       "    .dataframe tbody tr th:only-of-type {\n",
       "        vertical-align: middle;\n",
       "    }\n",
       "\n",
       "    .dataframe tbody tr th {\n",
       "        vertical-align: top;\n",
       "    }\n",
       "\n",
       "    .dataframe thead th {\n",
       "        text-align: right;\n",
       "    }\n",
       "</style>\n",
       "<table border=\"1\" class=\"dataframe\">\n",
       "  <thead>\n",
       "    <tr style=\"text-align: right;\">\n",
       "      <th></th>\n",
       "      <th>건축년도</th>\n",
       "      <th>전용면적</th>\n",
       "    </tr>\n",
       "  </thead>\n",
       "  <tbody>\n",
       "    <tr>\n",
       "      <th>0</th>\n",
       "      <td>2007.0</td>\n",
       "      <td>111.97</td>\n",
       "    </tr>\n",
       "    <tr>\n",
       "      <th>1</th>\n",
       "      <td>2008.0</td>\n",
       "      <td>163.33</td>\n",
       "    </tr>\n",
       "    <tr>\n",
       "      <th>2</th>\n",
       "      <td>1994.0</td>\n",
       "      <td>109.91</td>\n",
       "    </tr>\n",
       "    <tr>\n",
       "      <th>3</th>\n",
       "      <td>2004.0</td>\n",
       "      <td>194.43</td>\n",
       "    </tr>\n",
       "    <tr>\n",
       "      <th>4</th>\n",
       "      <td>2003.0</td>\n",
       "      <td>148.09</td>\n",
       "    </tr>\n",
       "    <tr>\n",
       "      <th>...</th>\n",
       "      <td>...</td>\n",
       "      <td>...</td>\n",
       "    </tr>\n",
       "    <tr>\n",
       "      <th>139914</th>\n",
       "      <td>1998.0</td>\n",
       "      <td>59.52</td>\n",
       "    </tr>\n",
       "    <tr>\n",
       "      <th>139915</th>\n",
       "      <td>2008.0</td>\n",
       "      <td>111.22</td>\n",
       "    </tr>\n",
       "    <tr>\n",
       "      <th>139916</th>\n",
       "      <td>2000.0</td>\n",
       "      <td>59.64</td>\n",
       "    </tr>\n",
       "    <tr>\n",
       "      <th>139917</th>\n",
       "      <td>1996.0</td>\n",
       "      <td>208.92</td>\n",
       "    </tr>\n",
       "    <tr>\n",
       "      <th>139918</th>\n",
       "      <td>2020.0</td>\n",
       "      <td>59.99</td>\n",
       "    </tr>\n",
       "  </tbody>\n",
       "</table>\n",
       "<p>139919 rows × 2 columns</p>\n",
       "</div>"
      ],
      "text/plain": [
       "          건축년도    전용면적\n",
       "0       2007.0  111.97\n",
       "1       2008.0  163.33\n",
       "2       1994.0  109.91\n",
       "3       2004.0  194.43\n",
       "4       2003.0  148.09\n",
       "...        ...     ...\n",
       "139914  1998.0   59.52\n",
       "139915  2008.0  111.22\n",
       "139916  2000.0   59.64\n",
       "139917  1996.0  208.92\n",
       "139918  2020.0   59.99\n",
       "\n",
       "[139919 rows x 2 columns]"
      ]
     },
     "execution_count": 20,
     "metadata": {},
     "output_type": "execute_result"
    }
   ],
   "source": [
    "price.loc[:, price.dtypes == 'float64']"
   ]
  },
  {
   "cell_type": "code",
   "execution_count": 23,
   "id": "9a263ee0",
   "metadata": {},
   "outputs": [],
   "source": [
    "locs = (price.dtypes == 'int64') | (price.dtypes == 'float64')"
   ]
  },
  {
   "cell_type": "code",
   "execution_count": 24,
   "id": "0c3ed0e0",
   "metadata": {
    "collapsed": true
   },
   "outputs": [
    {
     "data": {
      "text/html": [
       "<div>\n",
       "<style scoped>\n",
       "    .dataframe tbody tr th:only-of-type {\n",
       "        vertical-align: middle;\n",
       "    }\n",
       "\n",
       "    .dataframe tbody tr th {\n",
       "        vertical-align: top;\n",
       "    }\n",
       "\n",
       "    .dataframe thead th {\n",
       "        text-align: right;\n",
       "    }\n",
       "</style>\n",
       "<table border=\"1\" class=\"dataframe\">\n",
       "  <thead>\n",
       "    <tr style=\"text-align: right;\">\n",
       "      <th></th>\n",
       "      <th>지역코드</th>\n",
       "      <th>건축년도</th>\n",
       "      <th>전용면적</th>\n",
       "      <th>층</th>\n",
       "    </tr>\n",
       "  </thead>\n",
       "  <tbody>\n",
       "    <tr>\n",
       "      <th>0</th>\n",
       "      <td>11110</td>\n",
       "      <td>2007.0</td>\n",
       "      <td>111.97</td>\n",
       "      <td>6</td>\n",
       "    </tr>\n",
       "    <tr>\n",
       "      <th>1</th>\n",
       "      <td>11110</td>\n",
       "      <td>2008.0</td>\n",
       "      <td>163.33</td>\n",
       "      <td>2</td>\n",
       "    </tr>\n",
       "    <tr>\n",
       "      <th>2</th>\n",
       "      <td>11110</td>\n",
       "      <td>1994.0</td>\n",
       "      <td>109.91</td>\n",
       "      <td>11</td>\n",
       "    </tr>\n",
       "    <tr>\n",
       "      <th>3</th>\n",
       "      <td>11110</td>\n",
       "      <td>2004.0</td>\n",
       "      <td>194.43</td>\n",
       "      <td>4</td>\n",
       "    </tr>\n",
       "    <tr>\n",
       "      <th>4</th>\n",
       "      <td>11110</td>\n",
       "      <td>2003.0</td>\n",
       "      <td>148.09</td>\n",
       "      <td>8</td>\n",
       "    </tr>\n",
       "    <tr>\n",
       "      <th>...</th>\n",
       "      <td>...</td>\n",
       "      <td>...</td>\n",
       "      <td>...</td>\n",
       "      <td>...</td>\n",
       "    </tr>\n",
       "    <tr>\n",
       "      <th>139914</th>\n",
       "      <td>11740</td>\n",
       "      <td>1998.0</td>\n",
       "      <td>59.52</td>\n",
       "      <td>8</td>\n",
       "    </tr>\n",
       "    <tr>\n",
       "      <th>139915</th>\n",
       "      <td>11740</td>\n",
       "      <td>2008.0</td>\n",
       "      <td>111.22</td>\n",
       "      <td>10</td>\n",
       "    </tr>\n",
       "    <tr>\n",
       "      <th>139916</th>\n",
       "      <td>11740</td>\n",
       "      <td>2000.0</td>\n",
       "      <td>59.64</td>\n",
       "      <td>17</td>\n",
       "    </tr>\n",
       "    <tr>\n",
       "      <th>139917</th>\n",
       "      <td>11740</td>\n",
       "      <td>1996.0</td>\n",
       "      <td>208.92</td>\n",
       "      <td>18</td>\n",
       "    </tr>\n",
       "    <tr>\n",
       "      <th>139918</th>\n",
       "      <td>11740</td>\n",
       "      <td>2020.0</td>\n",
       "      <td>59.99</td>\n",
       "      <td>7</td>\n",
       "    </tr>\n",
       "  </tbody>\n",
       "</table>\n",
       "<p>139919 rows × 4 columns</p>\n",
       "</div>"
      ],
      "text/plain": [
       "         지역코드    건축년도    전용면적   층\n",
       "0       11110  2007.0  111.97   6\n",
       "1       11110  2008.0  163.33   2\n",
       "2       11110  1994.0  109.91  11\n",
       "3       11110  2004.0  194.43   4\n",
       "4       11110  2003.0  148.09   8\n",
       "...       ...     ...     ...  ..\n",
       "139914  11740  1998.0   59.52   8\n",
       "139915  11740  2008.0  111.22  10\n",
       "139916  11740  2000.0   59.64  17\n",
       "139917  11740  1996.0  208.92  18\n",
       "139918  11740  2020.0   59.99   7\n",
       "\n",
       "[139919 rows x 4 columns]"
      ]
     },
     "execution_count": 24,
     "metadata": {},
     "output_type": "execute_result"
    }
   ],
   "source": [
    "price.loc[:, locs]"
   ]
  },
  {
   "cell_type": "code",
   "execution_count": 29,
   "id": "f26cbb06",
   "metadata": {
    "collapsed": true
   },
   "outputs": [
    {
     "data": {
      "text/plain": [
       "지역코드      int64\n",
       "아파트      object\n",
       "시도명      object\n",
       "시군구      object\n",
       "법정동      object\n",
       "지번       object\n",
       "건축년도    float64\n",
       "거래일      object\n",
       "전용면적    float64\n",
       "층         int64\n",
       "거래금액     object\n",
       "dtype: object"
      ]
     },
     "execution_count": 29,
     "metadata": {},
     "output_type": "execute_result"
    }
   ],
   "source": [
    "price.dtypes"
   ]
  },
  {
   "cell_type": "code",
   "execution_count": 30,
   "id": "94534c12",
   "metadata": {},
   "outputs": [],
   "source": [
    "locs = price.dtypes.astype(str).isin(values = ['int64', 'float64'])"
   ]
  },
  {
   "cell_type": "code",
   "execution_count": 31,
   "id": "68d7e074",
   "metadata": {
    "collapsed": true
   },
   "outputs": [
    {
     "data": {
      "text/html": [
       "<div>\n",
       "<style scoped>\n",
       "    .dataframe tbody tr th:only-of-type {\n",
       "        vertical-align: middle;\n",
       "    }\n",
       "\n",
       "    .dataframe tbody tr th {\n",
       "        vertical-align: top;\n",
       "    }\n",
       "\n",
       "    .dataframe thead th {\n",
       "        text-align: right;\n",
       "    }\n",
       "</style>\n",
       "<table border=\"1\" class=\"dataframe\">\n",
       "  <thead>\n",
       "    <tr style=\"text-align: right;\">\n",
       "      <th></th>\n",
       "      <th>지역코드</th>\n",
       "      <th>건축년도</th>\n",
       "      <th>전용면적</th>\n",
       "      <th>층</th>\n",
       "    </tr>\n",
       "  </thead>\n",
       "  <tbody>\n",
       "    <tr>\n",
       "      <th>0</th>\n",
       "      <td>11110</td>\n",
       "      <td>2007.0</td>\n",
       "      <td>111.97</td>\n",
       "      <td>6</td>\n",
       "    </tr>\n",
       "    <tr>\n",
       "      <th>1</th>\n",
       "      <td>11110</td>\n",
       "      <td>2008.0</td>\n",
       "      <td>163.33</td>\n",
       "      <td>2</td>\n",
       "    </tr>\n",
       "    <tr>\n",
       "      <th>2</th>\n",
       "      <td>11110</td>\n",
       "      <td>1994.0</td>\n",
       "      <td>109.91</td>\n",
       "      <td>11</td>\n",
       "    </tr>\n",
       "    <tr>\n",
       "      <th>3</th>\n",
       "      <td>11110</td>\n",
       "      <td>2004.0</td>\n",
       "      <td>194.43</td>\n",
       "      <td>4</td>\n",
       "    </tr>\n",
       "    <tr>\n",
       "      <th>4</th>\n",
       "      <td>11110</td>\n",
       "      <td>2003.0</td>\n",
       "      <td>148.09</td>\n",
       "      <td>8</td>\n",
       "    </tr>\n",
       "    <tr>\n",
       "      <th>...</th>\n",
       "      <td>...</td>\n",
       "      <td>...</td>\n",
       "      <td>...</td>\n",
       "      <td>...</td>\n",
       "    </tr>\n",
       "    <tr>\n",
       "      <th>139914</th>\n",
       "      <td>11740</td>\n",
       "      <td>1998.0</td>\n",
       "      <td>59.52</td>\n",
       "      <td>8</td>\n",
       "    </tr>\n",
       "    <tr>\n",
       "      <th>139915</th>\n",
       "      <td>11740</td>\n",
       "      <td>2008.0</td>\n",
       "      <td>111.22</td>\n",
       "      <td>10</td>\n",
       "    </tr>\n",
       "    <tr>\n",
       "      <th>139916</th>\n",
       "      <td>11740</td>\n",
       "      <td>2000.0</td>\n",
       "      <td>59.64</td>\n",
       "      <td>17</td>\n",
       "    </tr>\n",
       "    <tr>\n",
       "      <th>139917</th>\n",
       "      <td>11740</td>\n",
       "      <td>1996.0</td>\n",
       "      <td>208.92</td>\n",
       "      <td>18</td>\n",
       "    </tr>\n",
       "    <tr>\n",
       "      <th>139918</th>\n",
       "      <td>11740</td>\n",
       "      <td>2020.0</td>\n",
       "      <td>59.99</td>\n",
       "      <td>7</td>\n",
       "    </tr>\n",
       "  </tbody>\n",
       "</table>\n",
       "<p>139919 rows × 4 columns</p>\n",
       "</div>"
      ],
      "text/plain": [
       "         지역코드    건축년도    전용면적   층\n",
       "0       11110  2007.0  111.97   6\n",
       "1       11110  2008.0  163.33   2\n",
       "2       11110  1994.0  109.91  11\n",
       "3       11110  2004.0  194.43   4\n",
       "4       11110  2003.0  148.09   8\n",
       "...       ...     ...     ...  ..\n",
       "139914  11740  1998.0   59.52   8\n",
       "139915  11740  2008.0  111.22  10\n",
       "139916  11740  2000.0   59.64  17\n",
       "139917  11740  1996.0  208.92  18\n",
       "139918  11740  2020.0   59.99   7\n",
       "\n",
       "[139919 rows x 4 columns]"
      ]
     },
     "execution_count": 31,
     "metadata": {},
     "output_type": "execute_result"
    }
   ],
   "source": [
    "price.loc[:, locs]"
   ]
  },
  {
   "cell_type": "code",
   "execution_count": 32,
   "id": "25e04046",
   "metadata": {},
   "outputs": [
    {
     "data": {
      "text/plain": [
       "Index(['지역코드', '아파트', '시도명', '시군구', '법정동', '지번', '건축년도', '거래일', '전용면적', '층',\n",
       "       '거래금액'],\n",
       "      dtype='object')"
      ]
     },
     "execution_count": 32,
     "metadata": {},
     "output_type": "execute_result"
    }
   ],
   "source": [
    "price.columns"
   ]
  },
  {
   "cell_type": "code",
   "execution_count": 33,
   "id": "cfffb613",
   "metadata": {},
   "outputs": [
    {
     "data": {
      "text/plain": [
       "array([False, False, False, False, False, False, False,  True, False,\n",
       "       False,  True])"
      ]
     },
     "execution_count": 33,
     "metadata": {},
     "output_type": "execute_result"
    }
   ],
   "source": [
    "price.columns.str.contains('거래')"
   ]
  },
  {
   "cell_type": "code",
   "execution_count": 36,
   "id": "25b91634",
   "metadata": {},
   "outputs": [
    {
     "data": {
      "text/html": [
       "<div>\n",
       "<style scoped>\n",
       "    .dataframe tbody tr th:only-of-type {\n",
       "        vertical-align: middle;\n",
       "    }\n",
       "\n",
       "    .dataframe tbody tr th {\n",
       "        vertical-align: top;\n",
       "    }\n",
       "\n",
       "    .dataframe thead th {\n",
       "        text-align: right;\n",
       "    }\n",
       "</style>\n",
       "<table border=\"1\" class=\"dataframe\">\n",
       "  <thead>\n",
       "    <tr style=\"text-align: right;\">\n",
       "      <th></th>\n",
       "      <th>시도명</th>\n",
       "      <th>시군구</th>\n",
       "      <th>거래일</th>\n",
       "      <th>거래금액</th>\n",
       "    </tr>\n",
       "  </thead>\n",
       "  <tbody>\n",
       "    <tr>\n",
       "      <th>0</th>\n",
       "      <td>서울특별시</td>\n",
       "      <td>종로구</td>\n",
       "      <td>2020-01-03</td>\n",
       "      <td>100,000</td>\n",
       "    </tr>\n",
       "    <tr>\n",
       "      <th>1</th>\n",
       "      <td>서울특별시</td>\n",
       "      <td>종로구</td>\n",
       "      <td>2020-01-02</td>\n",
       "      <td>162,000</td>\n",
       "    </tr>\n",
       "    <tr>\n",
       "      <th>2</th>\n",
       "      <td>서울특별시</td>\n",
       "      <td>종로구</td>\n",
       "      <td>2020-01-06</td>\n",
       "      <td>88,000</td>\n",
       "    </tr>\n",
       "    <tr>\n",
       "      <th>3</th>\n",
       "      <td>서울특별시</td>\n",
       "      <td>종로구</td>\n",
       "      <td>2020-01-09</td>\n",
       "      <td>130,000</td>\n",
       "    </tr>\n",
       "    <tr>\n",
       "      <th>4</th>\n",
       "      <td>서울특별시</td>\n",
       "      <td>종로구</td>\n",
       "      <td>2020-01-20</td>\n",
       "      <td>149,000</td>\n",
       "    </tr>\n",
       "    <tr>\n",
       "      <th>...</th>\n",
       "      <td>...</td>\n",
       "      <td>...</td>\n",
       "      <td>...</td>\n",
       "      <td>...</td>\n",
       "    </tr>\n",
       "    <tr>\n",
       "      <th>139914</th>\n",
       "      <td>서울특별시</td>\n",
       "      <td>강동구</td>\n",
       "      <td>2022-12-03</td>\n",
       "      <td>53,000</td>\n",
       "    </tr>\n",
       "    <tr>\n",
       "      <th>139915</th>\n",
       "      <td>서울특별시</td>\n",
       "      <td>강동구</td>\n",
       "      <td>2022-12-06</td>\n",
       "      <td>135,000</td>\n",
       "    </tr>\n",
       "    <tr>\n",
       "      <th>139916</th>\n",
       "      <td>서울특별시</td>\n",
       "      <td>강동구</td>\n",
       "      <td>2022-12-10</td>\n",
       "      <td>77,000</td>\n",
       "    </tr>\n",
       "    <tr>\n",
       "      <th>139917</th>\n",
       "      <td>서울특별시</td>\n",
       "      <td>강동구</td>\n",
       "      <td>2022-12-06</td>\n",
       "      <td>145,500</td>\n",
       "    </tr>\n",
       "    <tr>\n",
       "      <th>139918</th>\n",
       "      <td>서울특별시</td>\n",
       "      <td>강동구</td>\n",
       "      <td>2022-12-29</td>\n",
       "      <td>55,000</td>\n",
       "    </tr>\n",
       "  </tbody>\n",
       "</table>\n",
       "<p>139919 rows × 4 columns</p>\n",
       "</div>"
      ],
      "text/plain": [
       "          시도명  시군구         거래일     거래금액\n",
       "0       서울특별시  종로구  2020-01-03  100,000\n",
       "1       서울특별시  종로구  2020-01-02  162,000\n",
       "2       서울특별시  종로구  2020-01-06   88,000\n",
       "3       서울특별시  종로구  2020-01-09  130,000\n",
       "4       서울특별시  종로구  2020-01-20  149,000\n",
       "...       ...  ...         ...      ...\n",
       "139914  서울특별시  강동구  2022-12-03   53,000\n",
       "139915  서울특별시  강동구  2022-12-06  135,000\n",
       "139916  서울특별시  강동구  2022-12-10   77,000\n",
       "139917  서울특별시  강동구  2022-12-06  145,500\n",
       "139918  서울특별시  강동구  2022-12-29   55,000\n",
       "\n",
       "[139919 rows x 4 columns]"
      ]
     },
     "execution_count": 36,
     "metadata": {},
     "output_type": "execute_result"
    }
   ],
   "source": [
    "price.loc[:, price.columns.str.contains('시|거래')]"
   ]
  },
  {
   "cell_type": "code",
   "execution_count": 37,
   "id": "e11300ed",
   "metadata": {},
   "outputs": [],
   "source": [
    "imsi = price.copy()"
   ]
  },
  {
   "cell_type": "code",
   "execution_count": 38,
   "id": "3199250a",
   "metadata": {},
   "outputs": [],
   "source": [
    "imsi.insert(loc = 11, column = '주거래은행', value = np.nan)"
   ]
  },
  {
   "cell_type": "code",
   "execution_count": 39,
   "id": "46f1c266",
   "metadata": {},
   "outputs": [
    {
     "data": {
      "text/html": [
       "<div>\n",
       "<style scoped>\n",
       "    .dataframe tbody tr th:only-of-type {\n",
       "        vertical-align: middle;\n",
       "    }\n",
       "\n",
       "    .dataframe tbody tr th {\n",
       "        vertical-align: top;\n",
       "    }\n",
       "\n",
       "    .dataframe thead th {\n",
       "        text-align: right;\n",
       "    }\n",
       "</style>\n",
       "<table border=\"1\" class=\"dataframe\">\n",
       "  <thead>\n",
       "    <tr style=\"text-align: right;\">\n",
       "      <th></th>\n",
       "      <th>지역코드</th>\n",
       "      <th>아파트</th>\n",
       "      <th>시도명</th>\n",
       "      <th>시군구</th>\n",
       "      <th>법정동</th>\n",
       "      <th>지번</th>\n",
       "      <th>건축년도</th>\n",
       "      <th>거래일</th>\n",
       "      <th>전용면적</th>\n",
       "      <th>층</th>\n",
       "      <th>거래금액</th>\n",
       "      <th>주거래은행</th>\n",
       "    </tr>\n",
       "  </thead>\n",
       "  <tbody>\n",
       "    <tr>\n",
       "      <th>0</th>\n",
       "      <td>11110</td>\n",
       "      <td>신동아블루아광화문의꿈</td>\n",
       "      <td>서울특별시</td>\n",
       "      <td>종로구</td>\n",
       "      <td>필운동</td>\n",
       "      <td>254</td>\n",
       "      <td>2007.0</td>\n",
       "      <td>2020-01-03</td>\n",
       "      <td>111.97</td>\n",
       "      <td>6</td>\n",
       "      <td>100,000</td>\n",
       "      <td>NaN</td>\n",
       "    </tr>\n",
       "    <tr>\n",
       "      <th>1</th>\n",
       "      <td>11110</td>\n",
       "      <td>광화문스페이스본(106동)</td>\n",
       "      <td>서울특별시</td>\n",
       "      <td>종로구</td>\n",
       "      <td>사직동</td>\n",
       "      <td>9-1</td>\n",
       "      <td>2008.0</td>\n",
       "      <td>2020-01-02</td>\n",
       "      <td>163.33</td>\n",
       "      <td>2</td>\n",
       "      <td>162,000</td>\n",
       "      <td>NaN</td>\n",
       "    </tr>\n",
       "    <tr>\n",
       "      <th>2</th>\n",
       "      <td>11110</td>\n",
       "      <td>세종로대우</td>\n",
       "      <td>서울특별시</td>\n",
       "      <td>종로구</td>\n",
       "      <td>내수동</td>\n",
       "      <td>167</td>\n",
       "      <td>1994.0</td>\n",
       "      <td>2020-01-06</td>\n",
       "      <td>109.91</td>\n",
       "      <td>11</td>\n",
       "      <td>88,000</td>\n",
       "      <td>NaN</td>\n",
       "    </tr>\n",
       "    <tr>\n",
       "      <th>3</th>\n",
       "      <td>11110</td>\n",
       "      <td>킹스매너</td>\n",
       "      <td>서울특별시</td>\n",
       "      <td>종로구</td>\n",
       "      <td>내수동</td>\n",
       "      <td>110-15</td>\n",
       "      <td>2004.0</td>\n",
       "      <td>2020-01-09</td>\n",
       "      <td>194.43</td>\n",
       "      <td>4</td>\n",
       "      <td>130,000</td>\n",
       "      <td>NaN</td>\n",
       "    </tr>\n",
       "    <tr>\n",
       "      <th>4</th>\n",
       "      <td>11110</td>\n",
       "      <td>경희궁파크팰리스</td>\n",
       "      <td>서울특별시</td>\n",
       "      <td>종로구</td>\n",
       "      <td>내수동</td>\n",
       "      <td>95</td>\n",
       "      <td>2003.0</td>\n",
       "      <td>2020-01-20</td>\n",
       "      <td>148.09</td>\n",
       "      <td>8</td>\n",
       "      <td>149,000</td>\n",
       "      <td>NaN</td>\n",
       "    </tr>\n",
       "  </tbody>\n",
       "</table>\n",
       "</div>"
      ],
      "text/plain": [
       "    지역코드             아파트    시도명  시군구  법정동      지번    건축년도         거래일    전용면적  \\\n",
       "0  11110     신동아블루아광화문의꿈  서울특별시  종로구  필운동     254  2007.0  2020-01-03  111.97   \n",
       "1  11110  광화문스페이스본(106동)  서울특별시  종로구  사직동     9-1  2008.0  2020-01-02  163.33   \n",
       "2  11110           세종로대우  서울특별시  종로구  내수동     167  1994.0  2020-01-06  109.91   \n",
       "3  11110            킹스매너  서울특별시  종로구  내수동  110-15  2004.0  2020-01-09  194.43   \n",
       "4  11110        경희궁파크팰리스  서울특별시  종로구  내수동      95  2003.0  2020-01-20  148.09   \n",
       "\n",
       "    층     거래금액  주거래은행  \n",
       "0   6  100,000    NaN  \n",
       "1   2  162,000    NaN  \n",
       "2  11   88,000    NaN  \n",
       "3   4  130,000    NaN  \n",
       "4   8  149,000    NaN  "
      ]
     },
     "execution_count": 39,
     "metadata": {},
     "output_type": "execute_result"
    }
   ],
   "source": [
    "imsi.head()"
   ]
  },
  {
   "cell_type": "code",
   "execution_count": 43,
   "id": "03913774",
   "metadata": {},
   "outputs": [],
   "source": [
    "imsi = imsi.rename(columns = {'주거래은행': '주거래'})"
   ]
  },
  {
   "cell_type": "code",
   "execution_count": 44,
   "id": "a0e66669",
   "metadata": {
    "collapsed": true
   },
   "outputs": [
    {
     "data": {
      "text/html": [
       "<div>\n",
       "<style scoped>\n",
       "    .dataframe tbody tr th:only-of-type {\n",
       "        vertical-align: middle;\n",
       "    }\n",
       "\n",
       "    .dataframe tbody tr th {\n",
       "        vertical-align: top;\n",
       "    }\n",
       "\n",
       "    .dataframe thead th {\n",
       "        text-align: right;\n",
       "    }\n",
       "</style>\n",
       "<table border=\"1\" class=\"dataframe\">\n",
       "  <thead>\n",
       "    <tr style=\"text-align: right;\">\n",
       "      <th></th>\n",
       "      <th>지역코드</th>\n",
       "      <th>아파트</th>\n",
       "      <th>시도명</th>\n",
       "      <th>시군구</th>\n",
       "      <th>법정동</th>\n",
       "      <th>지번</th>\n",
       "      <th>건축년도</th>\n",
       "      <th>거래일</th>\n",
       "      <th>전용면적</th>\n",
       "      <th>층</th>\n",
       "      <th>거래금액</th>\n",
       "      <th>주거래</th>\n",
       "    </tr>\n",
       "  </thead>\n",
       "  <tbody>\n",
       "    <tr>\n",
       "      <th>0</th>\n",
       "      <td>11110</td>\n",
       "      <td>신동아블루아광화문의꿈</td>\n",
       "      <td>서울특별시</td>\n",
       "      <td>종로구</td>\n",
       "      <td>필운동</td>\n",
       "      <td>254</td>\n",
       "      <td>2007.0</td>\n",
       "      <td>2020-01-03</td>\n",
       "      <td>111.97</td>\n",
       "      <td>6</td>\n",
       "      <td>100,000</td>\n",
       "      <td>NaN</td>\n",
       "    </tr>\n",
       "    <tr>\n",
       "      <th>1</th>\n",
       "      <td>11110</td>\n",
       "      <td>광화문스페이스본(106동)</td>\n",
       "      <td>서울특별시</td>\n",
       "      <td>종로구</td>\n",
       "      <td>사직동</td>\n",
       "      <td>9-1</td>\n",
       "      <td>2008.0</td>\n",
       "      <td>2020-01-02</td>\n",
       "      <td>163.33</td>\n",
       "      <td>2</td>\n",
       "      <td>162,000</td>\n",
       "      <td>NaN</td>\n",
       "    </tr>\n",
       "    <tr>\n",
       "      <th>2</th>\n",
       "      <td>11110</td>\n",
       "      <td>세종로대우</td>\n",
       "      <td>서울특별시</td>\n",
       "      <td>종로구</td>\n",
       "      <td>내수동</td>\n",
       "      <td>167</td>\n",
       "      <td>1994.0</td>\n",
       "      <td>2020-01-06</td>\n",
       "      <td>109.91</td>\n",
       "      <td>11</td>\n",
       "      <td>88,000</td>\n",
       "      <td>NaN</td>\n",
       "    </tr>\n",
       "    <tr>\n",
       "      <th>3</th>\n",
       "      <td>11110</td>\n",
       "      <td>킹스매너</td>\n",
       "      <td>서울특별시</td>\n",
       "      <td>종로구</td>\n",
       "      <td>내수동</td>\n",
       "      <td>110-15</td>\n",
       "      <td>2004.0</td>\n",
       "      <td>2020-01-09</td>\n",
       "      <td>194.43</td>\n",
       "      <td>4</td>\n",
       "      <td>130,000</td>\n",
       "      <td>NaN</td>\n",
       "    </tr>\n",
       "    <tr>\n",
       "      <th>4</th>\n",
       "      <td>11110</td>\n",
       "      <td>경희궁파크팰리스</td>\n",
       "      <td>서울특별시</td>\n",
       "      <td>종로구</td>\n",
       "      <td>내수동</td>\n",
       "      <td>95</td>\n",
       "      <td>2003.0</td>\n",
       "      <td>2020-01-20</td>\n",
       "      <td>148.09</td>\n",
       "      <td>8</td>\n",
       "      <td>149,000</td>\n",
       "      <td>NaN</td>\n",
       "    </tr>\n",
       "  </tbody>\n",
       "</table>\n",
       "</div>"
      ],
      "text/plain": [
       "    지역코드             아파트    시도명  시군구  법정동      지번    건축년도         거래일    전용면적  \\\n",
       "0  11110     신동아블루아광화문의꿈  서울특별시  종로구  필운동     254  2007.0  2020-01-03  111.97   \n",
       "1  11110  광화문스페이스본(106동)  서울특별시  종로구  사직동     9-1  2008.0  2020-01-02  163.33   \n",
       "2  11110           세종로대우  서울특별시  종로구  내수동     167  1994.0  2020-01-06  109.91   \n",
       "3  11110            킹스매너  서울특별시  종로구  내수동  110-15  2004.0  2020-01-09  194.43   \n",
       "4  11110        경희궁파크팰리스  서울특별시  종로구  내수동      95  2003.0  2020-01-20  148.09   \n",
       "\n",
       "    층     거래금액  주거래  \n",
       "0   6  100,000  NaN  \n",
       "1   2  162,000  NaN  \n",
       "2  11   88,000  NaN  \n",
       "3   4  130,000  NaN  \n",
       "4   8  149,000  NaN  "
      ]
     },
     "execution_count": 44,
     "metadata": {},
     "output_type": "execute_result"
    }
   ],
   "source": [
    "imsi.head()"
   ]
  },
  {
   "cell_type": "code",
   "execution_count": 48,
   "id": "cf660acb",
   "metadata": {},
   "outputs": [],
   "source": [
    "cols = []\n",
    "for col in imsi.columns:\n",
    "    if '거래' in col:\n",
    "        cols.append(col)"
   ]
  },
  {
   "cell_type": "code",
   "execution_count": 49,
   "id": "876cc48d",
   "metadata": {},
   "outputs": [
    {
     "data": {
      "text/plain": [
       "['거래일', '거래금액', '주거래']"
      ]
     },
     "execution_count": 49,
     "metadata": {},
     "output_type": "execute_result"
    }
   ],
   "source": [
    "cols"
   ]
  },
  {
   "cell_type": "code",
   "execution_count": 50,
   "id": "16d7fe4d",
   "metadata": {
    "collapsed": true
   },
   "outputs": [
    {
     "data": {
      "text/html": [
       "<div>\n",
       "<style scoped>\n",
       "    .dataframe tbody tr th:only-of-type {\n",
       "        vertical-align: middle;\n",
       "    }\n",
       "\n",
       "    .dataframe tbody tr th {\n",
       "        vertical-align: top;\n",
       "    }\n",
       "\n",
       "    .dataframe thead th {\n",
       "        text-align: right;\n",
       "    }\n",
       "</style>\n",
       "<table border=\"1\" class=\"dataframe\">\n",
       "  <thead>\n",
       "    <tr style=\"text-align: right;\">\n",
       "      <th></th>\n",
       "      <th>거래일</th>\n",
       "      <th>거래금액</th>\n",
       "      <th>주거래</th>\n",
       "    </tr>\n",
       "  </thead>\n",
       "  <tbody>\n",
       "    <tr>\n",
       "      <th>0</th>\n",
       "      <td>2020-01-03</td>\n",
       "      <td>100,000</td>\n",
       "      <td>NaN</td>\n",
       "    </tr>\n",
       "    <tr>\n",
       "      <th>1</th>\n",
       "      <td>2020-01-02</td>\n",
       "      <td>162,000</td>\n",
       "      <td>NaN</td>\n",
       "    </tr>\n",
       "    <tr>\n",
       "      <th>2</th>\n",
       "      <td>2020-01-06</td>\n",
       "      <td>88,000</td>\n",
       "      <td>NaN</td>\n",
       "    </tr>\n",
       "    <tr>\n",
       "      <th>3</th>\n",
       "      <td>2020-01-09</td>\n",
       "      <td>130,000</td>\n",
       "      <td>NaN</td>\n",
       "    </tr>\n",
       "    <tr>\n",
       "      <th>4</th>\n",
       "      <td>2020-01-20</td>\n",
       "      <td>149,000</td>\n",
       "      <td>NaN</td>\n",
       "    </tr>\n",
       "    <tr>\n",
       "      <th>...</th>\n",
       "      <td>...</td>\n",
       "      <td>...</td>\n",
       "      <td>...</td>\n",
       "    </tr>\n",
       "    <tr>\n",
       "      <th>139914</th>\n",
       "      <td>2022-12-03</td>\n",
       "      <td>53,000</td>\n",
       "      <td>NaN</td>\n",
       "    </tr>\n",
       "    <tr>\n",
       "      <th>139915</th>\n",
       "      <td>2022-12-06</td>\n",
       "      <td>135,000</td>\n",
       "      <td>NaN</td>\n",
       "    </tr>\n",
       "    <tr>\n",
       "      <th>139916</th>\n",
       "      <td>2022-12-10</td>\n",
       "      <td>77,000</td>\n",
       "      <td>NaN</td>\n",
       "    </tr>\n",
       "    <tr>\n",
       "      <th>139917</th>\n",
       "      <td>2022-12-06</td>\n",
       "      <td>145,500</td>\n",
       "      <td>NaN</td>\n",
       "    </tr>\n",
       "    <tr>\n",
       "      <th>139918</th>\n",
       "      <td>2022-12-29</td>\n",
       "      <td>55,000</td>\n",
       "      <td>NaN</td>\n",
       "    </tr>\n",
       "  </tbody>\n",
       "</table>\n",
       "<p>139919 rows × 3 columns</p>\n",
       "</div>"
      ],
      "text/plain": [
       "               거래일     거래금액  주거래\n",
       "0       2020-01-03  100,000  NaN\n",
       "1       2020-01-02  162,000  NaN\n",
       "2       2020-01-06   88,000  NaN\n",
       "3       2020-01-09  130,000  NaN\n",
       "4       2020-01-20  149,000  NaN\n",
       "...            ...      ...  ...\n",
       "139914  2022-12-03   53,000  NaN\n",
       "139915  2022-12-06  135,000  NaN\n",
       "139916  2022-12-10   77,000  NaN\n",
       "139917  2022-12-06  145,500  NaN\n",
       "139918  2022-12-29   55,000  NaN\n",
       "\n",
       "[139919 rows x 3 columns]"
      ]
     },
     "execution_count": 50,
     "metadata": {},
     "output_type": "execute_result"
    }
   ],
   "source": [
    "imsi[cols]"
   ]
  },
  {
   "cell_type": "code",
   "execution_count": 45,
   "id": "46e7ac39",
   "metadata": {
    "collapsed": true
   },
   "outputs": [
    {
     "data": {
      "text/html": [
       "<div>\n",
       "<style scoped>\n",
       "    .dataframe tbody tr th:only-of-type {\n",
       "        vertical-align: middle;\n",
       "    }\n",
       "\n",
       "    .dataframe tbody tr th {\n",
       "        vertical-align: top;\n",
       "    }\n",
       "\n",
       "    .dataframe thead th {\n",
       "        text-align: right;\n",
       "    }\n",
       "</style>\n",
       "<table border=\"1\" class=\"dataframe\">\n",
       "  <thead>\n",
       "    <tr style=\"text-align: right;\">\n",
       "      <th></th>\n",
       "      <th>주거래</th>\n",
       "    </tr>\n",
       "  </thead>\n",
       "  <tbody>\n",
       "    <tr>\n",
       "      <th>0</th>\n",
       "      <td>NaN</td>\n",
       "    </tr>\n",
       "    <tr>\n",
       "      <th>1</th>\n",
       "      <td>NaN</td>\n",
       "    </tr>\n",
       "    <tr>\n",
       "      <th>2</th>\n",
       "      <td>NaN</td>\n",
       "    </tr>\n",
       "    <tr>\n",
       "      <th>3</th>\n",
       "      <td>NaN</td>\n",
       "    </tr>\n",
       "    <tr>\n",
       "      <th>4</th>\n",
       "      <td>NaN</td>\n",
       "    </tr>\n",
       "    <tr>\n",
       "      <th>...</th>\n",
       "      <td>...</td>\n",
       "    </tr>\n",
       "    <tr>\n",
       "      <th>139914</th>\n",
       "      <td>NaN</td>\n",
       "    </tr>\n",
       "    <tr>\n",
       "      <th>139915</th>\n",
       "      <td>NaN</td>\n",
       "    </tr>\n",
       "    <tr>\n",
       "      <th>139916</th>\n",
       "      <td>NaN</td>\n",
       "    </tr>\n",
       "    <tr>\n",
       "      <th>139917</th>\n",
       "      <td>NaN</td>\n",
       "    </tr>\n",
       "    <tr>\n",
       "      <th>139918</th>\n",
       "      <td>NaN</td>\n",
       "    </tr>\n",
       "  </tbody>\n",
       "</table>\n",
       "<p>139919 rows × 1 columns</p>\n",
       "</div>"
      ],
      "text/plain": [
       "        주거래\n",
       "0       NaN\n",
       "1       NaN\n",
       "2       NaN\n",
       "3       NaN\n",
       "4       NaN\n",
       "...     ...\n",
       "139914  NaN\n",
       "139915  NaN\n",
       "139916  NaN\n",
       "139917  NaN\n",
       "139918  NaN\n",
       "\n",
       "[139919 rows x 1 columns]"
      ]
     },
     "execution_count": 45,
     "metadata": {},
     "output_type": "execute_result"
    }
   ],
   "source": [
    "imsi.loc[:, imsi.columns.str.contains('거래')]"
   ]
  },
  {
   "cell_type": "code",
   "execution_count": 55,
   "id": "a5970df3",
   "metadata": {},
   "outputs": [
    {
     "data": {
      "text/html": [
       "<div>\n",
       "<style scoped>\n",
       "    .dataframe tbody tr th:only-of-type {\n",
       "        vertical-align: middle;\n",
       "    }\n",
       "\n",
       "    .dataframe tbody tr th {\n",
       "        vertical-align: top;\n",
       "    }\n",
       "\n",
       "    .dataframe thead th {\n",
       "        text-align: right;\n",
       "    }\n",
       "</style>\n",
       "<table border=\"1\" class=\"dataframe\">\n",
       "  <thead>\n",
       "    <tr style=\"text-align: right;\">\n",
       "      <th></th>\n",
       "      <th>총거래금액</th>\n",
       "      <th>현재총계약금액</th>\n",
       "      <th>잔존금액</th>\n",
       "      <th>잔존총금액</th>\n",
       "      <th>총계약금액2020</th>\n",
       "    </tr>\n",
       "  </thead>\n",
       "  <tbody>\n",
       "  </tbody>\n",
       "</table>\n",
       "</div>"
      ],
      "text/plain": [
       "Empty DataFrame\n",
       "Columns: [총거래금액, 현재총계약금액, 잔존금액, 잔존총금액, 총계약금액2020]\n",
       "Index: []"
      ]
     },
     "execution_count": 55,
     "metadata": {},
     "output_type": "execute_result"
    }
   ],
   "source": [
    "cols = ['총거래금액', '현재총계약금액', '잔존금액', '잔존총금액', '총계약금액2020']\n",
    "imsi = pd.DataFrame(columns = cols)\n",
    "imsi.head()"
   ]
  },
  {
   "cell_type": "code",
   "execution_count": 56,
   "id": "e3681462",
   "metadata": {},
   "outputs": [
    {
     "data": {
      "text/html": [
       "<div>\n",
       "<style scoped>\n",
       "    .dataframe tbody tr th:only-of-type {\n",
       "        vertical-align: middle;\n",
       "    }\n",
       "\n",
       "    .dataframe tbody tr th {\n",
       "        vertical-align: top;\n",
       "    }\n",
       "\n",
       "    .dataframe thead th {\n",
       "        text-align: right;\n",
       "    }\n",
       "</style>\n",
       "<table border=\"1\" class=\"dataframe\">\n",
       "  <thead>\n",
       "    <tr style=\"text-align: right;\">\n",
       "      <th></th>\n",
       "      <th>잔존총금액</th>\n",
       "    </tr>\n",
       "  </thead>\n",
       "  <tbody>\n",
       "  </tbody>\n",
       "</table>\n",
       "</div>"
      ],
      "text/plain": [
       "Empty DataFrame\n",
       "Columns: [잔존총금액]\n",
       "Index: []"
      ]
     },
     "execution_count": 56,
     "metadata": {},
     "output_type": "execute_result"
    }
   ],
   "source": [
    "imsi.loc[:, imsi.columns.str.contains('총금액')]"
   ]
  },
  {
   "cell_type": "code",
   "execution_count": 57,
   "id": "b628578e",
   "metadata": {},
   "outputs": [
    {
     "data": {
      "text/html": [
       "<div>\n",
       "<style scoped>\n",
       "    .dataframe tbody tr th:only-of-type {\n",
       "        vertical-align: middle;\n",
       "    }\n",
       "\n",
       "    .dataframe tbody tr th {\n",
       "        vertical-align: top;\n",
       "    }\n",
       "\n",
       "    .dataframe thead th {\n",
       "        text-align: right;\n",
       "    }\n",
       "</style>\n",
       "<table border=\"1\" class=\"dataframe\">\n",
       "  <thead>\n",
       "    <tr style=\"text-align: right;\">\n",
       "      <th></th>\n",
       "      <th>총거래금액</th>\n",
       "      <th>현재총계약금액</th>\n",
       "      <th>총계약금액2020</th>\n",
       "    </tr>\n",
       "  </thead>\n",
       "  <tbody>\n",
       "  </tbody>\n",
       "</table>\n",
       "</div>"
      ],
      "text/plain": [
       "Empty DataFrame\n",
       "Columns: [총거래금액, 현재총계약금액, 총계약금액2020]\n",
       "Index: []"
      ]
     },
     "execution_count": 57,
     "metadata": {},
     "output_type": "execute_result"
    }
   ],
   "source": [
    "imsi.loc[:, imsi.columns.str.contains('총.+금액')]"
   ]
  },
  {
   "cell_type": "code",
   "execution_count": 59,
   "id": "1b7fc52f",
   "metadata": {},
   "outputs": [
    {
     "data": {
      "text/html": [
       "<div>\n",
       "<style scoped>\n",
       "    .dataframe tbody tr th:only-of-type {\n",
       "        vertical-align: middle;\n",
       "    }\n",
       "\n",
       "    .dataframe tbody tr th {\n",
       "        vertical-align: top;\n",
       "    }\n",
       "\n",
       "    .dataframe thead th {\n",
       "        text-align: right;\n",
       "    }\n",
       "</style>\n",
       "<table border=\"1\" class=\"dataframe\">\n",
       "  <thead>\n",
       "    <tr style=\"text-align: right;\">\n",
       "      <th></th>\n",
       "      <th>총거래금액</th>\n",
       "      <th>총계약금액2020</th>\n",
       "    </tr>\n",
       "  </thead>\n",
       "  <tbody>\n",
       "  </tbody>\n",
       "</table>\n",
       "</div>"
      ],
      "text/plain": [
       "Empty DataFrame\n",
       "Columns: [총거래금액, 총계약금액2020]\n",
       "Index: []"
      ]
     },
     "execution_count": 59,
     "metadata": {},
     "output_type": "execute_result"
    }
   ],
   "source": [
    "imsi.loc[:, imsi.columns.str.contains('^총.+금액')]"
   ]
  },
  {
   "cell_type": "code",
   "execution_count": 60,
   "id": "7cbe2348",
   "metadata": {},
   "outputs": [
    {
     "data": {
      "text/html": [
       "<div>\n",
       "<style scoped>\n",
       "    .dataframe tbody tr th:only-of-type {\n",
       "        vertical-align: middle;\n",
       "    }\n",
       "\n",
       "    .dataframe tbody tr th {\n",
       "        vertical-align: top;\n",
       "    }\n",
       "\n",
       "    .dataframe thead th {\n",
       "        text-align: right;\n",
       "    }\n",
       "</style>\n",
       "<table border=\"1\" class=\"dataframe\">\n",
       "  <thead>\n",
       "    <tr style=\"text-align: right;\">\n",
       "      <th></th>\n",
       "      <th>총거래금액</th>\n",
       "      <th>현재총계약금액</th>\n",
       "    </tr>\n",
       "  </thead>\n",
       "  <tbody>\n",
       "  </tbody>\n",
       "</table>\n",
       "</div>"
      ],
      "text/plain": [
       "Empty DataFrame\n",
       "Columns: [총거래금액, 현재총계약금액]\n",
       "Index: []"
      ]
     },
     "execution_count": 60,
     "metadata": {},
     "output_type": "execute_result"
    }
   ],
   "source": [
    "imsi.loc[:, imsi.columns.str.contains('총.+금액$')]"
   ]
  },
  {
   "cell_type": "code",
   "execution_count": 61,
   "id": "26582d7a",
   "metadata": {
    "collapsed": true
   },
   "outputs": [
    {
     "data": {
      "text/html": [
       "<div>\n",
       "<style scoped>\n",
       "    .dataframe tbody tr th:only-of-type {\n",
       "        vertical-align: middle;\n",
       "    }\n",
       "\n",
       "    .dataframe tbody tr th {\n",
       "        vertical-align: top;\n",
       "    }\n",
       "\n",
       "    .dataframe thead th {\n",
       "        text-align: right;\n",
       "    }\n",
       "</style>\n",
       "<table border=\"1\" class=\"dataframe\">\n",
       "  <thead>\n",
       "    <tr style=\"text-align: right;\">\n",
       "      <th></th>\n",
       "      <th>아파트</th>\n",
       "      <th>시도명</th>\n",
       "      <th>시군구</th>\n",
       "      <th>법정동</th>\n",
       "      <th>지번</th>\n",
       "      <th>건축년도</th>\n",
       "      <th>거래일</th>\n",
       "      <th>전용면적</th>\n",
       "      <th>층</th>\n",
       "      <th>거래금액</th>\n",
       "    </tr>\n",
       "  </thead>\n",
       "  <tbody>\n",
       "    <tr>\n",
       "      <th>0</th>\n",
       "      <td>신동아블루아광화문의꿈</td>\n",
       "      <td>서울특별시</td>\n",
       "      <td>종로구</td>\n",
       "      <td>필운동</td>\n",
       "      <td>254</td>\n",
       "      <td>2007.0</td>\n",
       "      <td>2020-01-03</td>\n",
       "      <td>111.97</td>\n",
       "      <td>6</td>\n",
       "      <td>100,000</td>\n",
       "    </tr>\n",
       "    <tr>\n",
       "      <th>1</th>\n",
       "      <td>광화문스페이스본(106동)</td>\n",
       "      <td>서울특별시</td>\n",
       "      <td>종로구</td>\n",
       "      <td>사직동</td>\n",
       "      <td>9-1</td>\n",
       "      <td>2008.0</td>\n",
       "      <td>2020-01-02</td>\n",
       "      <td>163.33</td>\n",
       "      <td>2</td>\n",
       "      <td>162,000</td>\n",
       "    </tr>\n",
       "    <tr>\n",
       "      <th>2</th>\n",
       "      <td>세종로대우</td>\n",
       "      <td>서울특별시</td>\n",
       "      <td>종로구</td>\n",
       "      <td>내수동</td>\n",
       "      <td>167</td>\n",
       "      <td>1994.0</td>\n",
       "      <td>2020-01-06</td>\n",
       "      <td>109.91</td>\n",
       "      <td>11</td>\n",
       "      <td>88,000</td>\n",
       "    </tr>\n",
       "    <tr>\n",
       "      <th>3</th>\n",
       "      <td>킹스매너</td>\n",
       "      <td>서울특별시</td>\n",
       "      <td>종로구</td>\n",
       "      <td>내수동</td>\n",
       "      <td>110-15</td>\n",
       "      <td>2004.0</td>\n",
       "      <td>2020-01-09</td>\n",
       "      <td>194.43</td>\n",
       "      <td>4</td>\n",
       "      <td>130,000</td>\n",
       "    </tr>\n",
       "    <tr>\n",
       "      <th>4</th>\n",
       "      <td>경희궁파크팰리스</td>\n",
       "      <td>서울특별시</td>\n",
       "      <td>종로구</td>\n",
       "      <td>내수동</td>\n",
       "      <td>95</td>\n",
       "      <td>2003.0</td>\n",
       "      <td>2020-01-20</td>\n",
       "      <td>148.09</td>\n",
       "      <td>8</td>\n",
       "      <td>149,000</td>\n",
       "    </tr>\n",
       "    <tr>\n",
       "      <th>...</th>\n",
       "      <td>...</td>\n",
       "      <td>...</td>\n",
       "      <td>...</td>\n",
       "      <td>...</td>\n",
       "      <td>...</td>\n",
       "      <td>...</td>\n",
       "      <td>...</td>\n",
       "      <td>...</td>\n",
       "      <td>...</td>\n",
       "      <td>...</td>\n",
       "    </tr>\n",
       "    <tr>\n",
       "      <th>139914</th>\n",
       "      <td>중앙하이츠</td>\n",
       "      <td>서울특별시</td>\n",
       "      <td>강동구</td>\n",
       "      <td>암사동</td>\n",
       "      <td>493-14</td>\n",
       "      <td>1998.0</td>\n",
       "      <td>2022-12-03</td>\n",
       "      <td>59.52</td>\n",
       "      <td>8</td>\n",
       "      <td>53,000</td>\n",
       "    </tr>\n",
       "    <tr>\n",
       "      <th>139915</th>\n",
       "      <td>롯데캐슬퍼스트</td>\n",
       "      <td>서울특별시</td>\n",
       "      <td>강동구</td>\n",
       "      <td>암사동</td>\n",
       "      <td>414-2</td>\n",
       "      <td>2008.0</td>\n",
       "      <td>2022-12-06</td>\n",
       "      <td>111.22</td>\n",
       "      <td>10</td>\n",
       "      <td>135,000</td>\n",
       "    </tr>\n",
       "    <tr>\n",
       "      <th>139916</th>\n",
       "      <td>선사현대아파트</td>\n",
       "      <td>서울특별시</td>\n",
       "      <td>강동구</td>\n",
       "      <td>암사동</td>\n",
       "      <td>509</td>\n",
       "      <td>2000.0</td>\n",
       "      <td>2022-12-10</td>\n",
       "      <td>59.64</td>\n",
       "      <td>17</td>\n",
       "      <td>77,000</td>\n",
       "    </tr>\n",
       "    <tr>\n",
       "      <th>139917</th>\n",
       "      <td>파크뷰진도맨션</td>\n",
       "      <td>서울특별시</td>\n",
       "      <td>강동구</td>\n",
       "      <td>성내동</td>\n",
       "      <td>452-2</td>\n",
       "      <td>1996.0</td>\n",
       "      <td>2022-12-06</td>\n",
       "      <td>208.92</td>\n",
       "      <td>18</td>\n",
       "      <td>145,500</td>\n",
       "    </tr>\n",
       "    <tr>\n",
       "      <th>139918</th>\n",
       "      <td>강동리버스트4단지</td>\n",
       "      <td>서울특별시</td>\n",
       "      <td>강동구</td>\n",
       "      <td>강일동</td>\n",
       "      <td>114</td>\n",
       "      <td>2020.0</td>\n",
       "      <td>2022-12-29</td>\n",
       "      <td>59.99</td>\n",
       "      <td>7</td>\n",
       "      <td>55,000</td>\n",
       "    </tr>\n",
       "  </tbody>\n",
       "</table>\n",
       "<p>139919 rows × 10 columns</p>\n",
       "</div>"
      ],
      "text/plain": [
       "                   아파트    시도명  시군구  법정동      지번    건축년도         거래일    전용면적  \\\n",
       "0          신동아블루아광화문의꿈  서울특별시  종로구  필운동     254  2007.0  2020-01-03  111.97   \n",
       "1       광화문스페이스본(106동)  서울특별시  종로구  사직동     9-1  2008.0  2020-01-02  163.33   \n",
       "2                세종로대우  서울특별시  종로구  내수동     167  1994.0  2020-01-06  109.91   \n",
       "3                 킹스매너  서울특별시  종로구  내수동  110-15  2004.0  2020-01-09  194.43   \n",
       "4             경희궁파크팰리스  서울특별시  종로구  내수동      95  2003.0  2020-01-20  148.09   \n",
       "...                ...    ...  ...  ...     ...     ...         ...     ...   \n",
       "139914           중앙하이츠  서울특별시  강동구  암사동  493-14  1998.0  2022-12-03   59.52   \n",
       "139915         롯데캐슬퍼스트  서울특별시  강동구  암사동   414-2  2008.0  2022-12-06  111.22   \n",
       "139916         선사현대아파트  서울특별시  강동구  암사동     509  2000.0  2022-12-10   59.64   \n",
       "139917         파크뷰진도맨션  서울특별시  강동구  성내동   452-2  1996.0  2022-12-06  208.92   \n",
       "139918       강동리버스트4단지  서울특별시  강동구  강일동     114  2020.0  2022-12-29   59.99   \n",
       "\n",
       "         층     거래금액  \n",
       "0        6  100,000  \n",
       "1        2  162,000  \n",
       "2       11   88,000  \n",
       "3        4  130,000  \n",
       "4        8  149,000  \n",
       "...     ..      ...  \n",
       "139914   8   53,000  \n",
       "139915  10  135,000  \n",
       "139916  17   77,000  \n",
       "139917  18  145,500  \n",
       "139918   7   55,000  \n",
       "\n",
       "[139919 rows x 10 columns]"
      ]
     },
     "execution_count": 61,
     "metadata": {},
     "output_type": "execute_result"
    }
   ],
   "source": [
    "price.drop(columns = ['지역코드'])"
   ]
  },
  {
   "cell_type": "code",
   "execution_count": 62,
   "id": "7efe508f",
   "metadata": {
    "collapsed": true
   },
   "outputs": [
    {
     "data": {
      "text/html": [
       "<div>\n",
       "<style scoped>\n",
       "    .dataframe tbody tr th:only-of-type {\n",
       "        vertical-align: middle;\n",
       "    }\n",
       "\n",
       "    .dataframe tbody tr th {\n",
       "        vertical-align: top;\n",
       "    }\n",
       "\n",
       "    .dataframe thead th {\n",
       "        text-align: right;\n",
       "    }\n",
       "</style>\n",
       "<table border=\"1\" class=\"dataframe\">\n",
       "  <thead>\n",
       "    <tr style=\"text-align: right;\">\n",
       "      <th></th>\n",
       "      <th>지역코드</th>\n",
       "      <th>아파트</th>\n",
       "      <th>시도명</th>\n",
       "      <th>시군구</th>\n",
       "      <th>법정동</th>\n",
       "      <th>지번</th>\n",
       "      <th>건축년도</th>\n",
       "      <th>거래일</th>\n",
       "      <th>전용면적</th>\n",
       "      <th>층</th>\n",
       "      <th>거래금액</th>\n",
       "    </tr>\n",
       "  </thead>\n",
       "  <tbody>\n",
       "    <tr>\n",
       "      <th>0</th>\n",
       "      <td>11110</td>\n",
       "      <td>신동아블루아광화문의꿈</td>\n",
       "      <td>서울특별시</td>\n",
       "      <td>종로구</td>\n",
       "      <td>필운동</td>\n",
       "      <td>254</td>\n",
       "      <td>2007.0</td>\n",
       "      <td>2020-01-03</td>\n",
       "      <td>111.97</td>\n",
       "      <td>6</td>\n",
       "      <td>100,000</td>\n",
       "    </tr>\n",
       "    <tr>\n",
       "      <th>1</th>\n",
       "      <td>11110</td>\n",
       "      <td>광화문스페이스본(106동)</td>\n",
       "      <td>서울특별시</td>\n",
       "      <td>종로구</td>\n",
       "      <td>사직동</td>\n",
       "      <td>9-1</td>\n",
       "      <td>2008.0</td>\n",
       "      <td>2020-01-02</td>\n",
       "      <td>163.33</td>\n",
       "      <td>2</td>\n",
       "      <td>162,000</td>\n",
       "    </tr>\n",
       "    <tr>\n",
       "      <th>2</th>\n",
       "      <td>11110</td>\n",
       "      <td>세종로대우</td>\n",
       "      <td>서울특별시</td>\n",
       "      <td>종로구</td>\n",
       "      <td>내수동</td>\n",
       "      <td>167</td>\n",
       "      <td>1994.0</td>\n",
       "      <td>2020-01-06</td>\n",
       "      <td>109.91</td>\n",
       "      <td>11</td>\n",
       "      <td>88,000</td>\n",
       "    </tr>\n",
       "    <tr>\n",
       "      <th>3</th>\n",
       "      <td>11110</td>\n",
       "      <td>킹스매너</td>\n",
       "      <td>서울특별시</td>\n",
       "      <td>종로구</td>\n",
       "      <td>내수동</td>\n",
       "      <td>110-15</td>\n",
       "      <td>2004.0</td>\n",
       "      <td>2020-01-09</td>\n",
       "      <td>194.43</td>\n",
       "      <td>4</td>\n",
       "      <td>130,000</td>\n",
       "    </tr>\n",
       "    <tr>\n",
       "      <th>4</th>\n",
       "      <td>11110</td>\n",
       "      <td>경희궁파크팰리스</td>\n",
       "      <td>서울특별시</td>\n",
       "      <td>종로구</td>\n",
       "      <td>내수동</td>\n",
       "      <td>95</td>\n",
       "      <td>2003.0</td>\n",
       "      <td>2020-01-20</td>\n",
       "      <td>148.09</td>\n",
       "      <td>8</td>\n",
       "      <td>149,000</td>\n",
       "    </tr>\n",
       "  </tbody>\n",
       "</table>\n",
       "</div>"
      ],
      "text/plain": [
       "    지역코드             아파트    시도명  시군구  법정동      지번    건축년도         거래일    전용면적  \\\n",
       "0  11110     신동아블루아광화문의꿈  서울특별시  종로구  필운동     254  2007.0  2020-01-03  111.97   \n",
       "1  11110  광화문스페이스본(106동)  서울특별시  종로구  사직동     9-1  2008.0  2020-01-02  163.33   \n",
       "2  11110           세종로대우  서울특별시  종로구  내수동     167  1994.0  2020-01-06  109.91   \n",
       "3  11110            킹스매너  서울특별시  종로구  내수동  110-15  2004.0  2020-01-09  194.43   \n",
       "4  11110        경희궁파크팰리스  서울특별시  종로구  내수동      95  2003.0  2020-01-20  148.09   \n",
       "\n",
       "    층     거래금액  \n",
       "0   6  100,000  \n",
       "1   2  162,000  \n",
       "2  11   88,000  \n",
       "3   4  130,000  \n",
       "4   8  149,000  "
      ]
     },
     "execution_count": 62,
     "metadata": {},
     "output_type": "execute_result"
    }
   ],
   "source": [
    "price.head()"
   ]
  },
  {
   "cell_type": "code",
   "execution_count": 63,
   "id": "7ad00473",
   "metadata": {},
   "outputs": [],
   "source": [
    "price = price.drop(columns = ['지역코드'])"
   ]
  },
  {
   "cell_type": "code",
   "execution_count": 64,
   "id": "d8beb1ef",
   "metadata": {},
   "outputs": [
    {
     "data": {
      "text/html": [
       "<div>\n",
       "<style scoped>\n",
       "    .dataframe tbody tr th:only-of-type {\n",
       "        vertical-align: middle;\n",
       "    }\n",
       "\n",
       "    .dataframe tbody tr th {\n",
       "        vertical-align: top;\n",
       "    }\n",
       "\n",
       "    .dataframe thead th {\n",
       "        text-align: right;\n",
       "    }\n",
       "</style>\n",
       "<table border=\"1\" class=\"dataframe\">\n",
       "  <thead>\n",
       "    <tr style=\"text-align: right;\">\n",
       "      <th></th>\n",
       "      <th>아파트</th>\n",
       "      <th>시도명</th>\n",
       "      <th>시군구</th>\n",
       "      <th>법정동</th>\n",
       "      <th>지번</th>\n",
       "      <th>건축년도</th>\n",
       "      <th>거래일</th>\n",
       "      <th>전용면적</th>\n",
       "      <th>층</th>\n",
       "      <th>거래금액</th>\n",
       "    </tr>\n",
       "  </thead>\n",
       "  <tbody>\n",
       "    <tr>\n",
       "      <th>0</th>\n",
       "      <td>신동아블루아광화문의꿈</td>\n",
       "      <td>서울특별시</td>\n",
       "      <td>종로구</td>\n",
       "      <td>필운동</td>\n",
       "      <td>254</td>\n",
       "      <td>2007.0</td>\n",
       "      <td>2020-01-03</td>\n",
       "      <td>111.97</td>\n",
       "      <td>6</td>\n",
       "      <td>100,000</td>\n",
       "    </tr>\n",
       "    <tr>\n",
       "      <th>1</th>\n",
       "      <td>광화문스페이스본(106동)</td>\n",
       "      <td>서울특별시</td>\n",
       "      <td>종로구</td>\n",
       "      <td>사직동</td>\n",
       "      <td>9-1</td>\n",
       "      <td>2008.0</td>\n",
       "      <td>2020-01-02</td>\n",
       "      <td>163.33</td>\n",
       "      <td>2</td>\n",
       "      <td>162,000</td>\n",
       "    </tr>\n",
       "    <tr>\n",
       "      <th>2</th>\n",
       "      <td>세종로대우</td>\n",
       "      <td>서울특별시</td>\n",
       "      <td>종로구</td>\n",
       "      <td>내수동</td>\n",
       "      <td>167</td>\n",
       "      <td>1994.0</td>\n",
       "      <td>2020-01-06</td>\n",
       "      <td>109.91</td>\n",
       "      <td>11</td>\n",
       "      <td>88,000</td>\n",
       "    </tr>\n",
       "    <tr>\n",
       "      <th>3</th>\n",
       "      <td>킹스매너</td>\n",
       "      <td>서울특별시</td>\n",
       "      <td>종로구</td>\n",
       "      <td>내수동</td>\n",
       "      <td>110-15</td>\n",
       "      <td>2004.0</td>\n",
       "      <td>2020-01-09</td>\n",
       "      <td>194.43</td>\n",
       "      <td>4</td>\n",
       "      <td>130,000</td>\n",
       "    </tr>\n",
       "    <tr>\n",
       "      <th>4</th>\n",
       "      <td>경희궁파크팰리스</td>\n",
       "      <td>서울특별시</td>\n",
       "      <td>종로구</td>\n",
       "      <td>내수동</td>\n",
       "      <td>95</td>\n",
       "      <td>2003.0</td>\n",
       "      <td>2020-01-20</td>\n",
       "      <td>148.09</td>\n",
       "      <td>8</td>\n",
       "      <td>149,000</td>\n",
       "    </tr>\n",
       "  </tbody>\n",
       "</table>\n",
       "</div>"
      ],
      "text/plain": [
       "              아파트    시도명  시군구  법정동      지번    건축년도         거래일    전용면적   층  \\\n",
       "0     신동아블루아광화문의꿈  서울특별시  종로구  필운동     254  2007.0  2020-01-03  111.97   6   \n",
       "1  광화문스페이스본(106동)  서울특별시  종로구  사직동     9-1  2008.0  2020-01-02  163.33   2   \n",
       "2           세종로대우  서울특별시  종로구  내수동     167  1994.0  2020-01-06  109.91  11   \n",
       "3            킹스매너  서울특별시  종로구  내수동  110-15  2004.0  2020-01-09  194.43   4   \n",
       "4        경희궁파크팰리스  서울특별시  종로구  내수동      95  2003.0  2020-01-20  148.09   8   \n",
       "\n",
       "      거래금액  \n",
       "0  100,000  \n",
       "1  162,000  \n",
       "2   88,000  \n",
       "3  130,000  \n",
       "4  149,000  "
      ]
     },
     "execution_count": 64,
     "metadata": {},
     "output_type": "execute_result"
    }
   ],
   "source": [
    "price.head()"
   ]
  },
  {
   "cell_type": "code",
   "execution_count": 65,
   "id": "fe34b069",
   "metadata": {
    "collapsed": true
   },
   "outputs": [
    {
     "data": {
      "text/html": [
       "<div>\n",
       "<style scoped>\n",
       "    .dataframe tbody tr th:only-of-type {\n",
       "        vertical-align: middle;\n",
       "    }\n",
       "\n",
       "    .dataframe tbody tr th {\n",
       "        vertical-align: top;\n",
       "    }\n",
       "\n",
       "    .dataframe thead th {\n",
       "        text-align: right;\n",
       "    }\n",
       "</style>\n",
       "<table border=\"1\" class=\"dataframe\">\n",
       "  <thead>\n",
       "    <tr style=\"text-align: right;\">\n",
       "      <th></th>\n",
       "      <th>아파트</th>\n",
       "      <th>시</th>\n",
       "      <th>구</th>\n",
       "      <th>동</th>\n",
       "      <th>지번</th>\n",
       "      <th>건축년도</th>\n",
       "      <th>거래일</th>\n",
       "      <th>전용면적</th>\n",
       "      <th>층</th>\n",
       "      <th>거래금액</th>\n",
       "    </tr>\n",
       "  </thead>\n",
       "  <tbody>\n",
       "    <tr>\n",
       "      <th>0</th>\n",
       "      <td>신동아블루아광화문의꿈</td>\n",
       "      <td>서울특별시</td>\n",
       "      <td>종로구</td>\n",
       "      <td>필운동</td>\n",
       "      <td>254</td>\n",
       "      <td>2007.0</td>\n",
       "      <td>2020-01-03</td>\n",
       "      <td>111.97</td>\n",
       "      <td>6</td>\n",
       "      <td>100,000</td>\n",
       "    </tr>\n",
       "    <tr>\n",
       "      <th>1</th>\n",
       "      <td>광화문스페이스본(106동)</td>\n",
       "      <td>서울특별시</td>\n",
       "      <td>종로구</td>\n",
       "      <td>사직동</td>\n",
       "      <td>9-1</td>\n",
       "      <td>2008.0</td>\n",
       "      <td>2020-01-02</td>\n",
       "      <td>163.33</td>\n",
       "      <td>2</td>\n",
       "      <td>162,000</td>\n",
       "    </tr>\n",
       "    <tr>\n",
       "      <th>2</th>\n",
       "      <td>세종로대우</td>\n",
       "      <td>서울특별시</td>\n",
       "      <td>종로구</td>\n",
       "      <td>내수동</td>\n",
       "      <td>167</td>\n",
       "      <td>1994.0</td>\n",
       "      <td>2020-01-06</td>\n",
       "      <td>109.91</td>\n",
       "      <td>11</td>\n",
       "      <td>88,000</td>\n",
       "    </tr>\n",
       "    <tr>\n",
       "      <th>3</th>\n",
       "      <td>킹스매너</td>\n",
       "      <td>서울특별시</td>\n",
       "      <td>종로구</td>\n",
       "      <td>내수동</td>\n",
       "      <td>110-15</td>\n",
       "      <td>2004.0</td>\n",
       "      <td>2020-01-09</td>\n",
       "      <td>194.43</td>\n",
       "      <td>4</td>\n",
       "      <td>130,000</td>\n",
       "    </tr>\n",
       "    <tr>\n",
       "      <th>4</th>\n",
       "      <td>경희궁파크팰리스</td>\n",
       "      <td>서울특별시</td>\n",
       "      <td>종로구</td>\n",
       "      <td>내수동</td>\n",
       "      <td>95</td>\n",
       "      <td>2003.0</td>\n",
       "      <td>2020-01-20</td>\n",
       "      <td>148.09</td>\n",
       "      <td>8</td>\n",
       "      <td>149,000</td>\n",
       "    </tr>\n",
       "    <tr>\n",
       "      <th>...</th>\n",
       "      <td>...</td>\n",
       "      <td>...</td>\n",
       "      <td>...</td>\n",
       "      <td>...</td>\n",
       "      <td>...</td>\n",
       "      <td>...</td>\n",
       "      <td>...</td>\n",
       "      <td>...</td>\n",
       "      <td>...</td>\n",
       "      <td>...</td>\n",
       "    </tr>\n",
       "    <tr>\n",
       "      <th>139914</th>\n",
       "      <td>중앙하이츠</td>\n",
       "      <td>서울특별시</td>\n",
       "      <td>강동구</td>\n",
       "      <td>암사동</td>\n",
       "      <td>493-14</td>\n",
       "      <td>1998.0</td>\n",
       "      <td>2022-12-03</td>\n",
       "      <td>59.52</td>\n",
       "      <td>8</td>\n",
       "      <td>53,000</td>\n",
       "    </tr>\n",
       "    <tr>\n",
       "      <th>139915</th>\n",
       "      <td>롯데캐슬퍼스트</td>\n",
       "      <td>서울특별시</td>\n",
       "      <td>강동구</td>\n",
       "      <td>암사동</td>\n",
       "      <td>414-2</td>\n",
       "      <td>2008.0</td>\n",
       "      <td>2022-12-06</td>\n",
       "      <td>111.22</td>\n",
       "      <td>10</td>\n",
       "      <td>135,000</td>\n",
       "    </tr>\n",
       "    <tr>\n",
       "      <th>139916</th>\n",
       "      <td>선사현대아파트</td>\n",
       "      <td>서울특별시</td>\n",
       "      <td>강동구</td>\n",
       "      <td>암사동</td>\n",
       "      <td>509</td>\n",
       "      <td>2000.0</td>\n",
       "      <td>2022-12-10</td>\n",
       "      <td>59.64</td>\n",
       "      <td>17</td>\n",
       "      <td>77,000</td>\n",
       "    </tr>\n",
       "    <tr>\n",
       "      <th>139917</th>\n",
       "      <td>파크뷰진도맨션</td>\n",
       "      <td>서울특별시</td>\n",
       "      <td>강동구</td>\n",
       "      <td>성내동</td>\n",
       "      <td>452-2</td>\n",
       "      <td>1996.0</td>\n",
       "      <td>2022-12-06</td>\n",
       "      <td>208.92</td>\n",
       "      <td>18</td>\n",
       "      <td>145,500</td>\n",
       "    </tr>\n",
       "    <tr>\n",
       "      <th>139918</th>\n",
       "      <td>강동리버스트4단지</td>\n",
       "      <td>서울특별시</td>\n",
       "      <td>강동구</td>\n",
       "      <td>강일동</td>\n",
       "      <td>114</td>\n",
       "      <td>2020.0</td>\n",
       "      <td>2022-12-29</td>\n",
       "      <td>59.99</td>\n",
       "      <td>7</td>\n",
       "      <td>55,000</td>\n",
       "    </tr>\n",
       "  </tbody>\n",
       "</table>\n",
       "<p>139919 rows × 10 columns</p>\n",
       "</div>"
      ],
      "text/plain": [
       "                   아파트      시    구    동      지번    건축년도         거래일    전용면적  \\\n",
       "0          신동아블루아광화문의꿈  서울특별시  종로구  필운동     254  2007.0  2020-01-03  111.97   \n",
       "1       광화문스페이스본(106동)  서울특별시  종로구  사직동     9-1  2008.0  2020-01-02  163.33   \n",
       "2                세종로대우  서울특별시  종로구  내수동     167  1994.0  2020-01-06  109.91   \n",
       "3                 킹스매너  서울특별시  종로구  내수동  110-15  2004.0  2020-01-09  194.43   \n",
       "4             경희궁파크팰리스  서울특별시  종로구  내수동      95  2003.0  2020-01-20  148.09   \n",
       "...                ...    ...  ...  ...     ...     ...         ...     ...   \n",
       "139914           중앙하이츠  서울특별시  강동구  암사동  493-14  1998.0  2022-12-03   59.52   \n",
       "139915         롯데캐슬퍼스트  서울특별시  강동구  암사동   414-2  2008.0  2022-12-06  111.22   \n",
       "139916         선사현대아파트  서울특별시  강동구  암사동     509  2000.0  2022-12-10   59.64   \n",
       "139917         파크뷰진도맨션  서울특별시  강동구  성내동   452-2  1996.0  2022-12-06  208.92   \n",
       "139918       강동리버스트4단지  서울특별시  강동구  강일동     114  2020.0  2022-12-29   59.99   \n",
       "\n",
       "         층     거래금액  \n",
       "0        6  100,000  \n",
       "1        2  162,000  \n",
       "2       11   88,000  \n",
       "3        4  130,000  \n",
       "4        8  149,000  \n",
       "...     ..      ...  \n",
       "139914   8   53,000  \n",
       "139915  10  135,000  \n",
       "139916  17   77,000  \n",
       "139917  18  145,500  \n",
       "139918   7   55,000  \n",
       "\n",
       "[139919 rows x 10 columns]"
      ]
     },
     "execution_count": 65,
     "metadata": {},
     "output_type": "execute_result"
    }
   ],
   "source": [
    "price.rename(columns = {'시도명': '시', '시군구': '구', '법정동': '동'})"
   ]
  },
  {
   "cell_type": "code",
   "execution_count": 66,
   "id": "fa0a516c",
   "metadata": {},
   "outputs": [
    {
     "data": {
      "text/plain": [
       "Index(['아파트', '시도명', '시군구', '법정동', '지번', '건축년도', '거래일', '전용면적', '층', '거래금액'], dtype='object')"
      ]
     },
     "execution_count": 66,
     "metadata": {},
     "output_type": "execute_result"
    }
   ],
   "source": [
    "price.columns"
   ]
  },
  {
   "cell_type": "code",
   "execution_count": 67,
   "id": "b9a2ef3e",
   "metadata": {},
   "outputs": [],
   "source": [
    "price.columns = ['아파트', '시', '구', '동', '지번', '건축년도', \n",
    "                 '거래일', '전용면적', '층', '거래금액']"
   ]
  },
  {
   "cell_type": "code",
   "execution_count": 68,
   "id": "56dd5eb9",
   "metadata": {},
   "outputs": [
    {
     "data": {
      "text/html": [
       "<div>\n",
       "<style scoped>\n",
       "    .dataframe tbody tr th:only-of-type {\n",
       "        vertical-align: middle;\n",
       "    }\n",
       "\n",
       "    .dataframe tbody tr th {\n",
       "        vertical-align: top;\n",
       "    }\n",
       "\n",
       "    .dataframe thead th {\n",
       "        text-align: right;\n",
       "    }\n",
       "</style>\n",
       "<table border=\"1\" class=\"dataframe\">\n",
       "  <thead>\n",
       "    <tr style=\"text-align: right;\">\n",
       "      <th></th>\n",
       "      <th>아파트</th>\n",
       "      <th>시</th>\n",
       "      <th>구</th>\n",
       "      <th>동</th>\n",
       "      <th>지번</th>\n",
       "      <th>건축년도</th>\n",
       "      <th>거래일</th>\n",
       "      <th>전용면적</th>\n",
       "      <th>층</th>\n",
       "      <th>거래금액</th>\n",
       "    </tr>\n",
       "  </thead>\n",
       "  <tbody>\n",
       "    <tr>\n",
       "      <th>0</th>\n",
       "      <td>신동아블루아광화문의꿈</td>\n",
       "      <td>서울특별시</td>\n",
       "      <td>종로구</td>\n",
       "      <td>필운동</td>\n",
       "      <td>254</td>\n",
       "      <td>2007.0</td>\n",
       "      <td>2020-01-03</td>\n",
       "      <td>111.97</td>\n",
       "      <td>6</td>\n",
       "      <td>100,000</td>\n",
       "    </tr>\n",
       "    <tr>\n",
       "      <th>1</th>\n",
       "      <td>광화문스페이스본(106동)</td>\n",
       "      <td>서울특별시</td>\n",
       "      <td>종로구</td>\n",
       "      <td>사직동</td>\n",
       "      <td>9-1</td>\n",
       "      <td>2008.0</td>\n",
       "      <td>2020-01-02</td>\n",
       "      <td>163.33</td>\n",
       "      <td>2</td>\n",
       "      <td>162,000</td>\n",
       "    </tr>\n",
       "    <tr>\n",
       "      <th>2</th>\n",
       "      <td>세종로대우</td>\n",
       "      <td>서울특별시</td>\n",
       "      <td>종로구</td>\n",
       "      <td>내수동</td>\n",
       "      <td>167</td>\n",
       "      <td>1994.0</td>\n",
       "      <td>2020-01-06</td>\n",
       "      <td>109.91</td>\n",
       "      <td>11</td>\n",
       "      <td>88,000</td>\n",
       "    </tr>\n",
       "    <tr>\n",
       "      <th>3</th>\n",
       "      <td>킹스매너</td>\n",
       "      <td>서울특별시</td>\n",
       "      <td>종로구</td>\n",
       "      <td>내수동</td>\n",
       "      <td>110-15</td>\n",
       "      <td>2004.0</td>\n",
       "      <td>2020-01-09</td>\n",
       "      <td>194.43</td>\n",
       "      <td>4</td>\n",
       "      <td>130,000</td>\n",
       "    </tr>\n",
       "    <tr>\n",
       "      <th>4</th>\n",
       "      <td>경희궁파크팰리스</td>\n",
       "      <td>서울특별시</td>\n",
       "      <td>종로구</td>\n",
       "      <td>내수동</td>\n",
       "      <td>95</td>\n",
       "      <td>2003.0</td>\n",
       "      <td>2020-01-20</td>\n",
       "      <td>148.09</td>\n",
       "      <td>8</td>\n",
       "      <td>149,000</td>\n",
       "    </tr>\n",
       "  </tbody>\n",
       "</table>\n",
       "</div>"
      ],
      "text/plain": [
       "              아파트      시    구    동      지번    건축년도         거래일    전용면적   층  \\\n",
       "0     신동아블루아광화문의꿈  서울특별시  종로구  필운동     254  2007.0  2020-01-03  111.97   6   \n",
       "1  광화문스페이스본(106동)  서울특별시  종로구  사직동     9-1  2008.0  2020-01-02  163.33   2   \n",
       "2           세종로대우  서울특별시  종로구  내수동     167  1994.0  2020-01-06  109.91  11   \n",
       "3            킹스매너  서울특별시  종로구  내수동  110-15  2004.0  2020-01-09  194.43   4   \n",
       "4        경희궁파크팰리스  서울특별시  종로구  내수동      95  2003.0  2020-01-20  148.09   8   \n",
       "\n",
       "      거래금액  \n",
       "0  100,000  \n",
       "1  162,000  \n",
       "2   88,000  \n",
       "3  130,000  \n",
       "4  149,000  "
      ]
     },
     "execution_count": 68,
     "metadata": {},
     "output_type": "execute_result"
    }
   ],
   "source": [
    "price.head()"
   ]
  },
  {
   "cell_type": "code",
   "execution_count": 69,
   "id": "5760f0c1",
   "metadata": {
    "collapsed": true
   },
   "outputs": [
    {
     "ename": "ValueError",
     "evalue": "could not convert string to float: '100,000'",
     "output_type": "error",
     "traceback": [
      "\u001b[1;31m---------------------------------------------------------------------------\u001b[0m",
      "\u001b[1;31mValueError\u001b[0m                                Traceback (most recent call last)",
      "Cell \u001b[1;32mIn[69], line 1\u001b[0m\n\u001b[1;32m----> 1\u001b[0m \u001b[43mprice\u001b[49m\u001b[43m[\u001b[49m\u001b[38;5;124;43m'\u001b[39;49m\u001b[38;5;124;43m거래금액\u001b[39;49m\u001b[38;5;124;43m'\u001b[39;49m\u001b[43m]\u001b[49m\u001b[38;5;241;43m.\u001b[39;49m\u001b[43mastype\u001b[49m\u001b[43m(\u001b[49m\u001b[38;5;28;43mfloat\u001b[39;49m\u001b[43m)\u001b[49m\n",
      "File \u001b[1;32m~\\ve311\\Lib\\site-packages\\pandas\\core\\generic.py:6240\u001b[0m, in \u001b[0;36mNDFrame.astype\u001b[1;34m(self, dtype, copy, errors)\u001b[0m\n\u001b[0;32m   6233\u001b[0m     results \u001b[38;5;241m=\u001b[39m [\n\u001b[0;32m   6234\u001b[0m         \u001b[38;5;28mself\u001b[39m\u001b[38;5;241m.\u001b[39miloc[:, i]\u001b[38;5;241m.\u001b[39mastype(dtype, copy\u001b[38;5;241m=\u001b[39mcopy)\n\u001b[0;32m   6235\u001b[0m         \u001b[38;5;28;01mfor\u001b[39;00m i \u001b[38;5;129;01min\u001b[39;00m \u001b[38;5;28mrange\u001b[39m(\u001b[38;5;28mlen\u001b[39m(\u001b[38;5;28mself\u001b[39m\u001b[38;5;241m.\u001b[39mcolumns))\n\u001b[0;32m   6236\u001b[0m     ]\n\u001b[0;32m   6238\u001b[0m \u001b[38;5;28;01melse\u001b[39;00m:\n\u001b[0;32m   6239\u001b[0m     \u001b[38;5;66;03m# else, only a single dtype is given\u001b[39;00m\n\u001b[1;32m-> 6240\u001b[0m     new_data \u001b[38;5;241m=\u001b[39m \u001b[38;5;28;43mself\u001b[39;49m\u001b[38;5;241;43m.\u001b[39;49m\u001b[43m_mgr\u001b[49m\u001b[38;5;241;43m.\u001b[39;49m\u001b[43mastype\u001b[49m\u001b[43m(\u001b[49m\u001b[43mdtype\u001b[49m\u001b[38;5;241;43m=\u001b[39;49m\u001b[43mdtype\u001b[49m\u001b[43m,\u001b[49m\u001b[43m \u001b[49m\u001b[43mcopy\u001b[49m\u001b[38;5;241;43m=\u001b[39;49m\u001b[43mcopy\u001b[49m\u001b[43m,\u001b[49m\u001b[43m \u001b[49m\u001b[43merrors\u001b[49m\u001b[38;5;241;43m=\u001b[39;49m\u001b[43merrors\u001b[49m\u001b[43m)\u001b[49m\n\u001b[0;32m   6241\u001b[0m     \u001b[38;5;28;01mreturn\u001b[39;00m \u001b[38;5;28mself\u001b[39m\u001b[38;5;241m.\u001b[39m_constructor(new_data)\u001b[38;5;241m.\u001b[39m__finalize__(\u001b[38;5;28mself\u001b[39m, method\u001b[38;5;241m=\u001b[39m\u001b[38;5;124m\"\u001b[39m\u001b[38;5;124mastype\u001b[39m\u001b[38;5;124m\"\u001b[39m)\n\u001b[0;32m   6243\u001b[0m \u001b[38;5;66;03m# GH 33113: handle empty frame or series\u001b[39;00m\n",
      "File \u001b[1;32m~\\ve311\\Lib\\site-packages\\pandas\\core\\internals\\managers.py:448\u001b[0m, in \u001b[0;36mBaseBlockManager.astype\u001b[1;34m(self, dtype, copy, errors)\u001b[0m\n\u001b[0;32m    447\u001b[0m \u001b[38;5;28;01mdef\u001b[39;00m \u001b[38;5;21mastype\u001b[39m(\u001b[38;5;28mself\u001b[39m: T, dtype, copy: \u001b[38;5;28mbool\u001b[39m \u001b[38;5;241m=\u001b[39m \u001b[38;5;28;01mFalse\u001b[39;00m, errors: \u001b[38;5;28mstr\u001b[39m \u001b[38;5;241m=\u001b[39m \u001b[38;5;124m\"\u001b[39m\u001b[38;5;124mraise\u001b[39m\u001b[38;5;124m\"\u001b[39m) \u001b[38;5;241m-\u001b[39m\u001b[38;5;241m>\u001b[39m T:\n\u001b[1;32m--> 448\u001b[0m     \u001b[38;5;28;01mreturn\u001b[39;00m \u001b[38;5;28;43mself\u001b[39;49m\u001b[38;5;241;43m.\u001b[39;49m\u001b[43mapply\u001b[49m\u001b[43m(\u001b[49m\u001b[38;5;124;43m\"\u001b[39;49m\u001b[38;5;124;43mastype\u001b[39;49m\u001b[38;5;124;43m\"\u001b[39;49m\u001b[43m,\u001b[49m\u001b[43m \u001b[49m\u001b[43mdtype\u001b[49m\u001b[38;5;241;43m=\u001b[39;49m\u001b[43mdtype\u001b[49m\u001b[43m,\u001b[49m\u001b[43m \u001b[49m\u001b[43mcopy\u001b[49m\u001b[38;5;241;43m=\u001b[39;49m\u001b[43mcopy\u001b[49m\u001b[43m,\u001b[49m\u001b[43m \u001b[49m\u001b[43merrors\u001b[49m\u001b[38;5;241;43m=\u001b[39;49m\u001b[43merrors\u001b[49m\u001b[43m)\u001b[49m\n",
      "File \u001b[1;32m~\\ve311\\Lib\\site-packages\\pandas\\core\\internals\\managers.py:352\u001b[0m, in \u001b[0;36mBaseBlockManager.apply\u001b[1;34m(self, f, align_keys, ignore_failures, **kwargs)\u001b[0m\n\u001b[0;32m    350\u001b[0m         applied \u001b[38;5;241m=\u001b[39m b\u001b[38;5;241m.\u001b[39mapply(f, \u001b[38;5;241m*\u001b[39m\u001b[38;5;241m*\u001b[39mkwargs)\n\u001b[0;32m    351\u001b[0m     \u001b[38;5;28;01melse\u001b[39;00m:\n\u001b[1;32m--> 352\u001b[0m         applied \u001b[38;5;241m=\u001b[39m \u001b[38;5;28;43mgetattr\u001b[39;49m\u001b[43m(\u001b[49m\u001b[43mb\u001b[49m\u001b[43m,\u001b[49m\u001b[43m \u001b[49m\u001b[43mf\u001b[49m\u001b[43m)\u001b[49m\u001b[43m(\u001b[49m\u001b[38;5;241;43m*\u001b[39;49m\u001b[38;5;241;43m*\u001b[39;49m\u001b[43mkwargs\u001b[49m\u001b[43m)\u001b[49m\n\u001b[0;32m    353\u001b[0m \u001b[38;5;28;01mexcept\u001b[39;00m (\u001b[38;5;167;01mTypeError\u001b[39;00m, \u001b[38;5;167;01mNotImplementedError\u001b[39;00m):\n\u001b[0;32m    354\u001b[0m     \u001b[38;5;28;01mif\u001b[39;00m \u001b[38;5;129;01mnot\u001b[39;00m ignore_failures:\n",
      "File \u001b[1;32m~\\ve311\\Lib\\site-packages\\pandas\\core\\internals\\blocks.py:526\u001b[0m, in \u001b[0;36mBlock.astype\u001b[1;34m(self, dtype, copy, errors)\u001b[0m\n\u001b[0;32m    508\u001b[0m \u001b[38;5;250m\u001b[39m\u001b[38;5;124;03m\"\"\"\u001b[39;00m\n\u001b[0;32m    509\u001b[0m \u001b[38;5;124;03mCoerce to the new dtype.\u001b[39;00m\n\u001b[0;32m    510\u001b[0m \n\u001b[1;32m   (...)\u001b[0m\n\u001b[0;32m    522\u001b[0m \u001b[38;5;124;03mBlock\u001b[39;00m\n\u001b[0;32m    523\u001b[0m \u001b[38;5;124;03m\"\"\"\u001b[39;00m\n\u001b[0;32m    524\u001b[0m values \u001b[38;5;241m=\u001b[39m \u001b[38;5;28mself\u001b[39m\u001b[38;5;241m.\u001b[39mvalues\n\u001b[1;32m--> 526\u001b[0m new_values \u001b[38;5;241m=\u001b[39m \u001b[43mastype_array_safe\u001b[49m\u001b[43m(\u001b[49m\u001b[43mvalues\u001b[49m\u001b[43m,\u001b[49m\u001b[43m \u001b[49m\u001b[43mdtype\u001b[49m\u001b[43m,\u001b[49m\u001b[43m \u001b[49m\u001b[43mcopy\u001b[49m\u001b[38;5;241;43m=\u001b[39;49m\u001b[43mcopy\u001b[49m\u001b[43m,\u001b[49m\u001b[43m \u001b[49m\u001b[43merrors\u001b[49m\u001b[38;5;241;43m=\u001b[39;49m\u001b[43merrors\u001b[49m\u001b[43m)\u001b[49m\n\u001b[0;32m    528\u001b[0m new_values \u001b[38;5;241m=\u001b[39m maybe_coerce_values(new_values)\n\u001b[0;32m    529\u001b[0m newb \u001b[38;5;241m=\u001b[39m \u001b[38;5;28mself\u001b[39m\u001b[38;5;241m.\u001b[39mmake_block(new_values)\n",
      "File \u001b[1;32m~\\ve311\\Lib\\site-packages\\pandas\\core\\dtypes\\astype.py:299\u001b[0m, in \u001b[0;36mastype_array_safe\u001b[1;34m(values, dtype, copy, errors)\u001b[0m\n\u001b[0;32m    296\u001b[0m     \u001b[38;5;28;01mreturn\u001b[39;00m values\u001b[38;5;241m.\u001b[39mcopy()\n\u001b[0;32m    298\u001b[0m \u001b[38;5;28;01mtry\u001b[39;00m:\n\u001b[1;32m--> 299\u001b[0m     new_values \u001b[38;5;241m=\u001b[39m \u001b[43mastype_array\u001b[49m\u001b[43m(\u001b[49m\u001b[43mvalues\u001b[49m\u001b[43m,\u001b[49m\u001b[43m \u001b[49m\u001b[43mdtype\u001b[49m\u001b[43m,\u001b[49m\u001b[43m \u001b[49m\u001b[43mcopy\u001b[49m\u001b[38;5;241;43m=\u001b[39;49m\u001b[43mcopy\u001b[49m\u001b[43m)\u001b[49m\n\u001b[0;32m    300\u001b[0m \u001b[38;5;28;01mexcept\u001b[39;00m (\u001b[38;5;167;01mValueError\u001b[39;00m, \u001b[38;5;167;01mTypeError\u001b[39;00m):\n\u001b[0;32m    301\u001b[0m     \u001b[38;5;66;03m# e.g. astype_nansafe can fail on object-dtype of strings\u001b[39;00m\n\u001b[0;32m    302\u001b[0m     \u001b[38;5;66;03m#  trying to convert to float\u001b[39;00m\n\u001b[0;32m    303\u001b[0m     \u001b[38;5;28;01mif\u001b[39;00m errors \u001b[38;5;241m==\u001b[39m \u001b[38;5;124m\"\u001b[39m\u001b[38;5;124mignore\u001b[39m\u001b[38;5;124m\"\u001b[39m:\n",
      "File \u001b[1;32m~\\ve311\\Lib\\site-packages\\pandas\\core\\dtypes\\astype.py:230\u001b[0m, in \u001b[0;36mastype_array\u001b[1;34m(values, dtype, copy)\u001b[0m\n\u001b[0;32m    227\u001b[0m     values \u001b[38;5;241m=\u001b[39m values\u001b[38;5;241m.\u001b[39mastype(dtype, copy\u001b[38;5;241m=\u001b[39mcopy)\n\u001b[0;32m    229\u001b[0m \u001b[38;5;28;01melse\u001b[39;00m:\n\u001b[1;32m--> 230\u001b[0m     values \u001b[38;5;241m=\u001b[39m \u001b[43mastype_nansafe\u001b[49m\u001b[43m(\u001b[49m\u001b[43mvalues\u001b[49m\u001b[43m,\u001b[49m\u001b[43m \u001b[49m\u001b[43mdtype\u001b[49m\u001b[43m,\u001b[49m\u001b[43m \u001b[49m\u001b[43mcopy\u001b[49m\u001b[38;5;241;43m=\u001b[39;49m\u001b[43mcopy\u001b[49m\u001b[43m)\u001b[49m\n\u001b[0;32m    232\u001b[0m \u001b[38;5;66;03m# in pandas we don't store numpy str dtypes, so convert to object\u001b[39;00m\n\u001b[0;32m    233\u001b[0m \u001b[38;5;28;01mif\u001b[39;00m \u001b[38;5;28misinstance\u001b[39m(dtype, np\u001b[38;5;241m.\u001b[39mdtype) \u001b[38;5;129;01mand\u001b[39;00m \u001b[38;5;28missubclass\u001b[39m(values\u001b[38;5;241m.\u001b[39mdtype\u001b[38;5;241m.\u001b[39mtype, \u001b[38;5;28mstr\u001b[39m):\n",
      "File \u001b[1;32m~\\ve311\\Lib\\site-packages\\pandas\\core\\dtypes\\astype.py:170\u001b[0m, in \u001b[0;36mastype_nansafe\u001b[1;34m(arr, dtype, copy, skipna)\u001b[0m\n\u001b[0;32m    166\u001b[0m     \u001b[38;5;28;01mraise\u001b[39;00m \u001b[38;5;167;01mValueError\u001b[39;00m(msg)\n\u001b[0;32m    168\u001b[0m \u001b[38;5;28;01mif\u001b[39;00m copy \u001b[38;5;129;01mor\u001b[39;00m is_object_dtype(arr\u001b[38;5;241m.\u001b[39mdtype) \u001b[38;5;129;01mor\u001b[39;00m is_object_dtype(dtype):\n\u001b[0;32m    169\u001b[0m     \u001b[38;5;66;03m# Explicit copy, or required since NumPy can't view from / to object.\u001b[39;00m\n\u001b[1;32m--> 170\u001b[0m     \u001b[38;5;28;01mreturn\u001b[39;00m \u001b[43marr\u001b[49m\u001b[38;5;241;43m.\u001b[39;49m\u001b[43mastype\u001b[49m\u001b[43m(\u001b[49m\u001b[43mdtype\u001b[49m\u001b[43m,\u001b[49m\u001b[43m \u001b[49m\u001b[43mcopy\u001b[49m\u001b[38;5;241;43m=\u001b[39;49m\u001b[38;5;28;43;01mTrue\u001b[39;49;00m\u001b[43m)\u001b[49m\n\u001b[0;32m    172\u001b[0m \u001b[38;5;28;01mreturn\u001b[39;00m arr\u001b[38;5;241m.\u001b[39mastype(dtype, copy\u001b[38;5;241m=\u001b[39mcopy)\n",
      "\u001b[1;31mValueError\u001b[0m: could not convert string to float: '100,000'"
     ]
    }
   ],
   "source": [
    "price['거래금액'].astype(float)"
   ]
  },
  {
   "cell_type": "code",
   "execution_count": 72,
   "id": "81ed3377",
   "metadata": {},
   "outputs": [],
   "source": [
    "price['거래금액'] = price['거래금액'].str.replace(',', '').astype(float)"
   ]
  },
  {
   "cell_type": "code",
   "execution_count": 73,
   "id": "d511c407",
   "metadata": {},
   "outputs": [
    {
     "data": {
      "text/plain": [
       "아파트      object\n",
       "시        object\n",
       "구        object\n",
       "동        object\n",
       "지번       object\n",
       "건축년도    float64\n",
       "거래일      object\n",
       "전용면적    float64\n",
       "층         int64\n",
       "거래금액    float64\n",
       "dtype: object"
      ]
     },
     "execution_count": 73,
     "metadata": {},
     "output_type": "execute_result"
    }
   ],
   "source": [
    "price.dtypes"
   ]
  },
  {
   "cell_type": "raw",
   "id": "5bbd7b4f",
   "metadata": {},
   "source": [
    "price['거래일'] = price['거래일'].astype('datetime64[ns]')\n",
    "price['층'] = price['층'].astype(float)"
   ]
  },
  {
   "cell_type": "code",
   "execution_count": 76,
   "id": "93758b5e",
   "metadata": {},
   "outputs": [],
   "source": [
    "price = price.astype({'거래일': 'datetime64[ns]', '층': float})"
   ]
  },
  {
   "cell_type": "code",
   "execution_count": 77,
   "id": "7b20aff1",
   "metadata": {},
   "outputs": [
    {
     "data": {
      "text/plain": [
       "아파트             object\n",
       "시               object\n",
       "구               object\n",
       "동               object\n",
       "지번              object\n",
       "건축년도           float64\n",
       "거래일     datetime64[ns]\n",
       "전용면적           float64\n",
       "층              float64\n",
       "거래금액           float64\n",
       "dtype: object"
      ]
     },
     "execution_count": 77,
     "metadata": {},
     "output_type": "execute_result"
    }
   ],
   "source": [
    "price.dtypes"
   ]
  },
  {
   "cell_type": "raw",
   "id": "1d1386a3",
   "metadata": {},
   "source": [
    "price = price.astype({'층': int, '거래금액': int})"
   ]
  },
  {
   "cell_type": "code",
   "execution_count": 79,
   "id": "6eb9bd44",
   "metadata": {
    "collapsed": true
   },
   "outputs": [
    {
     "data": {
      "text/html": [
       "<div>\n",
       "<style scoped>\n",
       "    .dataframe tbody tr th:only-of-type {\n",
       "        vertical-align: middle;\n",
       "    }\n",
       "\n",
       "    .dataframe tbody tr th {\n",
       "        vertical-align: top;\n",
       "    }\n",
       "\n",
       "    .dataframe thead th {\n",
       "        text-align: right;\n",
       "    }\n",
       "</style>\n",
       "<table border=\"1\" class=\"dataframe\">\n",
       "  <thead>\n",
       "    <tr style=\"text-align: right;\">\n",
       "      <th></th>\n",
       "      <th>층</th>\n",
       "      <th>거래금액</th>\n",
       "    </tr>\n",
       "  </thead>\n",
       "  <tbody>\n",
       "    <tr>\n",
       "      <th>0</th>\n",
       "      <td>6.0</td>\n",
       "      <td>100000.0</td>\n",
       "    </tr>\n",
       "    <tr>\n",
       "      <th>1</th>\n",
       "      <td>2.0</td>\n",
       "      <td>162000.0</td>\n",
       "    </tr>\n",
       "    <tr>\n",
       "      <th>2</th>\n",
       "      <td>11.0</td>\n",
       "      <td>88000.0</td>\n",
       "    </tr>\n",
       "    <tr>\n",
       "      <th>3</th>\n",
       "      <td>4.0</td>\n",
       "      <td>130000.0</td>\n",
       "    </tr>\n",
       "    <tr>\n",
       "      <th>4</th>\n",
       "      <td>8.0</td>\n",
       "      <td>149000.0</td>\n",
       "    </tr>\n",
       "    <tr>\n",
       "      <th>...</th>\n",
       "      <td>...</td>\n",
       "      <td>...</td>\n",
       "    </tr>\n",
       "    <tr>\n",
       "      <th>139914</th>\n",
       "      <td>8.0</td>\n",
       "      <td>53000.0</td>\n",
       "    </tr>\n",
       "    <tr>\n",
       "      <th>139915</th>\n",
       "      <td>10.0</td>\n",
       "      <td>135000.0</td>\n",
       "    </tr>\n",
       "    <tr>\n",
       "      <th>139916</th>\n",
       "      <td>17.0</td>\n",
       "      <td>77000.0</td>\n",
       "    </tr>\n",
       "    <tr>\n",
       "      <th>139917</th>\n",
       "      <td>18.0</td>\n",
       "      <td>145500.0</td>\n",
       "    </tr>\n",
       "    <tr>\n",
       "      <th>139918</th>\n",
       "      <td>7.0</td>\n",
       "      <td>55000.0</td>\n",
       "    </tr>\n",
       "  </tbody>\n",
       "</table>\n",
       "<p>139919 rows × 2 columns</p>\n",
       "</div>"
      ],
      "text/plain": [
       "           층      거래금액\n",
       "0        6.0  100000.0\n",
       "1        2.0  162000.0\n",
       "2       11.0   88000.0\n",
       "3        4.0  130000.0\n",
       "4        8.0  149000.0\n",
       "...      ...       ...\n",
       "139914   8.0   53000.0\n",
       "139915  10.0  135000.0\n",
       "139916  17.0   77000.0\n",
       "139917  18.0  145500.0\n",
       "139918   7.0   55000.0\n",
       "\n",
       "[139919 rows x 2 columns]"
      ]
     },
     "execution_count": 79,
     "metadata": {},
     "output_type": "execute_result"
    }
   ],
   "source": [
    "cols = ['층', '거래금액']\n",
    "price[cols]"
   ]
  },
  {
   "cell_type": "code",
   "execution_count": 83,
   "id": "e3e37f3e",
   "metadata": {},
   "outputs": [],
   "source": [
    "price[cols] = price[cols].astype(int)"
   ]
  },
  {
   "cell_type": "code",
   "execution_count": 84,
   "id": "6c941fa6",
   "metadata": {},
   "outputs": [
    {
     "data": {
      "text/plain": [
       "아파트             object\n",
       "시               object\n",
       "구               object\n",
       "동               object\n",
       "지번              object\n",
       "건축년도           float64\n",
       "거래일     datetime64[ns]\n",
       "전용면적           float64\n",
       "층                int32\n",
       "거래금액             int32\n",
       "dtype: object"
      ]
     },
     "execution_count": 84,
     "metadata": {},
     "output_type": "execute_result"
    }
   ],
   "source": [
    "price.dtypes"
   ]
  },
  {
   "cell_type": "code",
   "execution_count": 89,
   "id": "8100d1d3",
   "metadata": {},
   "outputs": [
    {
     "data": {
      "text/plain": [
       "0    2000년 1월 1일\n",
       "1    99년 12월 31일\n",
       "dtype: object"
      ]
     },
     "execution_count": 89,
     "metadata": {},
     "output_type": "execute_result"
    }
   ],
   "source": [
    "birth = pd.Series(['2000년 1월 1일', '99년 12월 31일'])\n",
    "birth"
   ]
  },
  {
   "cell_type": "code",
   "execution_count": 90,
   "id": "128b874c",
   "metadata": {
    "collapsed": true
   },
   "outputs": [
    {
     "name": "stdout",
     "output_type": "stream",
     "text": [
      "Unexpected exception formatting exception. Falling back to standard exception\n"
     ]
    },
    {
     "name": "stderr",
     "output_type": "stream",
     "text": [
      "Traceback (most recent call last):\n",
      "  File \"pandas\\_libs\\tslib.pyx\", line 605, in pandas._libs.tslib.array_to_datetime\n",
      "  File \"pandas\\_libs\\tslibs\\parsing.pyx\", line 318, in pandas._libs.tslibs.parsing.parse_datetime_string\n",
      "  File \"C:\\Users\\hdsce\\ve311\\Lib\\site-packages\\dateutil\\parser\\_parser.py\", line 1368, in parse\n",
      "    return DEFAULTPARSER.parse(timestr, **kwargs)\n",
      "           ^^^^^^^^^^^^^^^^^^^^^^^^^^^^^^^^^^^^^^\n",
      "  File \"C:\\Users\\hdsce\\ve311\\Lib\\site-packages\\dateutil\\parser\\_parser.py\", line 643, in parse\n",
      "    raise ParserError(\"Unknown string format: %s\", timestr)\n",
      "dateutil.parser._parser.ParserError: Unknown string format: 2000년 1월 1일\n",
      "\n",
      "During handling of the above exception, another exception occurred:\n",
      "\n",
      "Traceback (most recent call last):\n",
      "  File \"pandas\\_libs\\tslib.pyx\", line 616, in pandas._libs.tslib.array_to_datetime\n",
      "TypeError: invalid string coercion to datetime for \"2000년 1월 1일\" at position 0\n",
      "\n",
      "During handling of the above exception, another exception occurred:\n",
      "\n",
      "Traceback (most recent call last):\n",
      "  File \"C:\\Users\\hdsce\\ve311\\Lib\\site-packages\\IPython\\core\\interactiveshell.py\", line 3460, in run_code\n",
      "    exec(code_obj, self.user_global_ns, self.user_ns)\n",
      "  File \"C:\\Users\\hdsce\\AppData\\Local\\Temp\\ipykernel_12080\\187672406.py\", line 1, in <module>\n",
      "    birth.astype('datetime64[ns]')\n",
      "  File \"C:\\Users\\hdsce\\ve311\\Lib\\site-packages\\pandas\\core\\generic.py\", line 6240, in astype\n",
      "    new_data = self._mgr.astype(dtype=dtype, copy=copy, errors=errors)\n",
      "               ^^^^^^^^^^^^^^^^^^^^^^^^^^^^^^^^^^^^^^^^^^^^^^^^^^^^^^^\n",
      "  File \"C:\\Users\\hdsce\\ve311\\Lib\\site-packages\\pandas\\core\\internals\\managers.py\", line 448, in astype\n",
      "    return self.apply(\"astype\", dtype=dtype, copy=copy, errors=errors)\n",
      "           ^^^^^^^^^^^^^^^^^^^^^^^^^^^^^^^^^^^^^^^^^^^^^^^^^^^^^^^^^^^\n",
      "  File \"C:\\Users\\hdsce\\ve311\\Lib\\site-packages\\pandas\\core\\internals\\managers.py\", line 352, in apply\n",
      "    applied = getattr(b, f)(**kwargs)\n",
      "              ^^^^^^^^^^^^^^^^^^^^^^^\n",
      "  File \"C:\\Users\\hdsce\\ve311\\Lib\\site-packages\\pandas\\core\\internals\\blocks.py\", line 526, in astype\n",
      "    new_values = astype_array_safe(values, dtype, copy=copy, errors=errors)\n",
      "                 ^^^^^^^^^^^^^^^^^^^^^^^^^^^^^^^^^^^^^^^^^^^^^^^^^^^^^^^^^^\n",
      "  File \"C:\\Users\\hdsce\\ve311\\Lib\\site-packages\\pandas\\core\\dtypes\\astype.py\", line 299, in astype_array_safe\n",
      "    new_values = astype_array(values, dtype, copy=copy)\n",
      "                 ^^^^^^^^^^^^^^^^^^^^^^^^^^^^^^^^^^^^^^\n",
      "  File \"C:\\Users\\hdsce\\ve311\\Lib\\site-packages\\pandas\\core\\dtypes\\astype.py\", line 230, in astype_array\n",
      "    values = astype_nansafe(values, dtype, copy=copy)\n",
      "             ^^^^^^^^^^^^^^^^^^^^^^^^^^^^^^^^^^^^^^^^\n",
      "  File \"C:\\Users\\hdsce\\ve311\\Lib\\site-packages\\pandas\\core\\dtypes\\astype.py\", line 151, in astype_nansafe\n",
      "    to_datetime(arr.ravel()).values.reshape(arr.shape),\n",
      "    ^^^^^^^^^^^^^^^^^^^^^^^^\n",
      "  File \"C:\\Users\\hdsce\\ve311\\Lib\\site-packages\\pandas\\core\\tools\\datetimes.py\", line 1100, in to_datetime\n",
      "    result = convert_listlike(argc, format)\n",
      "             ^^^^^^^^^^^^^^^^^^^^^^^^^^^^^^\n",
      "  File \"C:\\Users\\hdsce\\ve311\\Lib\\site-packages\\pandas\\core\\tools\\datetimes.py\", line 438, in _convert_listlike_datetimes\n",
      "    result, tz_parsed = objects_to_datetime64ns(\n",
      "                        ^^^^^^^^^^^^^^^^^^^^^^^^\n",
      "  File \"C:\\Users\\hdsce\\ve311\\Lib\\site-packages\\pandas\\core\\arrays\\datetimes.py\", line 2177, in objects_to_datetime64ns\n",
      "    result, tz_parsed = tslib.array_to_datetime(\n",
      "                        ^^^^^^^^^^^^^^^^^^^^^^^^\n",
      "  File \"pandas\\_libs\\tslib.pyx\", line 427, in pandas._libs.tslib.array_to_datetime\n",
      "  File \"pandas\\_libs\\tslib.pyx\", line 683, in pandas._libs.tslib.array_to_datetime\n",
      "  File \"pandas\\_libs\\tslib.pyx\", line 829, in pandas._libs.tslib._array_to_datetime_object\n",
      "  File \"pandas\\_libs\\tslib.pyx\", line 819, in pandas._libs.tslib._array_to_datetime_object\n",
      "  File \"pandas\\_libs\\tslibs\\parsing.pyx\", line 318, in pandas._libs.tslibs.parsing.parse_datetime_string\n",
      "  File \"C:\\Users\\hdsce\\ve311\\Lib\\site-packages\\dateutil\\parser\\_parser.py\", line 1368, in parse\n",
      "    return DEFAULTPARSER.parse(timestr, **kwargs)\n",
      "           ^^^^^^^^^^^^^^^^^^^^^^^^^^^^^^^^^^^^^^\n",
      "  File \"C:\\Users\\hdsce\\ve311\\Lib\\site-packages\\dateutil\\parser\\_parser.py\", line 643, in parse\n",
      "    raise ParserError(\"Unknown string format: %s\", timestr)\n",
      "dateutil.parser._parser.ParserError: Unknown string format: 2000년 1월 1일 present at position 0\n",
      "\n",
      "During handling of the above exception, another exception occurred:\n",
      "\n",
      "Traceback (most recent call last):\n",
      "  File \"C:\\Users\\hdsce\\ve311\\Lib\\site-packages\\IPython\\core\\interactiveshell.py\", line 2057, in showtraceback\n",
      "    stb = self.InteractiveTB.structured_traceback(\n",
      "          ^^^^^^^^^^^^^^^^^^^^^^^^^^^^^^^^^^^^^^^^\n",
      "  File \"C:\\Users\\hdsce\\ve311\\Lib\\site-packages\\IPython\\core\\ultratb.py\", line 1288, in structured_traceback\n",
      "    return FormattedTB.structured_traceback(\n",
      "           ^^^^^^^^^^^^^^^^^^^^^^^^^^^^^^^^^\n",
      "  File \"C:\\Users\\hdsce\\ve311\\Lib\\site-packages\\IPython\\core\\ultratb.py\", line 1177, in structured_traceback\n",
      "    return VerboseTB.structured_traceback(\n",
      "           ^^^^^^^^^^^^^^^^^^^^^^^^^^^^^^^\n",
      "  File \"C:\\Users\\hdsce\\ve311\\Lib\\site-packages\\IPython\\core\\ultratb.py\", line 1049, in structured_traceback\n",
      "    formatted_exceptions += self.format_exception_as_a_whole(etype, evalue, etb, lines_of_context,\n",
      "                            ^^^^^^^^^^^^^^^^^^^^^^^^^^^^^^^^^^^^^^^^^^^^^^^^^^^^^^^^^^^^^^^^^^^^^^\n",
      "  File \"C:\\Users\\hdsce\\ve311\\Lib\\site-packages\\IPython\\core\\ultratb.py\", line 935, in format_exception_as_a_whole\n",
      "    self.get_records(etb, number_of_lines_of_context, tb_offset) if etb else []\n",
      "    ^^^^^^^^^^^^^^^^^^^^^^^^^^^^^^^^^^^^^^^^^^^^^^^^^^^^^^^^^^^^\n",
      "  File \"C:\\Users\\hdsce\\ve311\\Lib\\site-packages\\IPython\\core\\ultratb.py\", line 1003, in get_records\n",
      "    lines, first = inspect.getsourcelines(etb.tb_frame)\n",
      "                   ^^^^^^^^^^^^^^^^^^^^^^^^^^^^^^^^^^^^\n",
      "  File \"C:\\Users\\hdsce\\AppData\\Local\\Programs\\Python\\Python311\\Lib\\inspect.py\", line 1252, in getsourcelines\n",
      "    lines, lnum = findsource(object)\n",
      "                  ^^^^^^^^^^^^^^^^^^\n",
      "  File \"C:\\Users\\hdsce\\AppData\\Local\\Programs\\Python\\Python311\\Lib\\inspect.py\", line 1081, in findsource\n",
      "    raise OSError('could not get source code')\n",
      "OSError: could not get source code\n"
     ]
    }
   ],
   "source": [
    "birth.astype('datetime64[ns]')"
   ]
  },
  {
   "cell_type": "code",
   "execution_count": 93,
   "id": "55caf768",
   "metadata": {},
   "outputs": [
    {
     "name": "stderr",
     "output_type": "stream",
     "text": [
      "C:\\Users\\hdsce\\AppData\\Local\\Temp\\ipykernel_12080\\1670785435.py:1: FutureWarning: The default value of regex will change from True to False in a future version.\n",
      "  birth = birth.str.replace('^20', '')\n"
     ]
    }
   ],
   "source": [
    "birth = birth.str.replace('^20', '')"
   ]
  },
  {
   "cell_type": "code",
   "execution_count": 94,
   "id": "7dca13af",
   "metadata": {},
   "outputs": [
    {
     "data": {
      "text/plain": [
       "0      00년 1월 1일\n",
       "1    99년 12월 31일\n",
       "dtype: object"
      ]
     },
     "execution_count": 94,
     "metadata": {},
     "output_type": "execute_result"
    }
   ],
   "source": [
    "birth"
   ]
  },
  {
   "cell_type": "code",
   "execution_count": 95,
   "id": "4c1bfd27",
   "metadata": {},
   "outputs": [
    {
     "data": {
      "text/plain": [
       "0   2000-01-01\n",
       "1   1999-12-31\n",
       "dtype: datetime64[ns]"
      ]
     },
     "execution_count": 95,
     "metadata": {},
     "output_type": "execute_result"
    }
   ],
   "source": [
    "birth = pd.to_datetime(birth, format = '%y년 %m월 %d일')\n",
    "birth"
   ]
  },
  {
   "cell_type": "code",
   "execution_count": 97,
   "id": "a4d257f1",
   "metadata": {},
   "outputs": [
    {
     "data": {
      "text/plain": [
       "946684800.0"
      ]
     },
     "execution_count": 97,
     "metadata": {},
     "output_type": "execute_result"
    }
   ],
   "source": [
    "birth.iloc[0].timestamp()"
   ]
  },
  {
   "cell_type": "code",
   "execution_count": 98,
   "id": "972a0f66",
   "metadata": {},
   "outputs": [
    {
     "data": {
      "text/plain": [
       "Timestamp('2023-04-05 14:44:39.059987')"
      ]
     },
     "execution_count": 98,
     "metadata": {},
     "output_type": "execute_result"
    }
   ],
   "source": [
    "today = pd.Timestamp.today()\n",
    "today"
   ]
  },
  {
   "cell_type": "code",
   "execution_count": 100,
   "id": "7b33b23a",
   "metadata": {},
   "outputs": [],
   "source": [
    "dtGap = today - birth.iloc[0]"
   ]
  },
  {
   "cell_type": "code",
   "execution_count": 103,
   "id": "6ad806e6",
   "metadata": {},
   "outputs": [
    {
     "data": {
      "text/plain": [
       "178395000"
      ]
     },
     "execution_count": 103,
     "metadata": {},
     "output_type": "execute_result"
    }
   ],
   "source": [
    "dtGap.days * 3 * 7000"
   ]
  },
  {
   "cell_type": "code",
   "execution_count": 104,
   "id": "0f0d801f",
   "metadata": {
    "collapsed": true
   },
   "outputs": [
    {
     "data": {
      "text/plain": [
       "0         2020\n",
       "1         2020\n",
       "2         2020\n",
       "3         2020\n",
       "4         2020\n",
       "          ... \n",
       "139914    2022\n",
       "139915    2022\n",
       "139916    2022\n",
       "139917    2022\n",
       "139918    2022\n",
       "Name: 거래일, Length: 139919, dtype: int64"
      ]
     },
     "execution_count": 104,
     "metadata": {},
     "output_type": "execute_result"
    }
   ],
   "source": [
    "price['거래일'].dt.year"
   ]
  },
  {
   "cell_type": "code",
   "execution_count": 105,
   "id": "ab0cb301",
   "metadata": {
    "collapsed": true
   },
   "outputs": [
    {
     "data": {
      "text/plain": [
       "0          1\n",
       "1          1\n",
       "2          1\n",
       "3          1\n",
       "4          1\n",
       "          ..\n",
       "139914    12\n",
       "139915    12\n",
       "139916    12\n",
       "139917    12\n",
       "139918    12\n",
       "Name: 거래일, Length: 139919, dtype: int64"
      ]
     },
     "execution_count": 105,
     "metadata": {},
     "output_type": "execute_result"
    }
   ],
   "source": [
    "price['거래일'].dt.month"
   ]
  },
  {
   "cell_type": "code",
   "execution_count": 106,
   "id": "20fd699a",
   "metadata": {
    "collapsed": true
   },
   "outputs": [
    {
     "data": {
      "text/plain": [
       "0          3\n",
       "1          2\n",
       "2          6\n",
       "3          9\n",
       "4         20\n",
       "          ..\n",
       "139914     3\n",
       "139915     6\n",
       "139916    10\n",
       "139917     6\n",
       "139918    29\n",
       "Name: 거래일, Length: 139919, dtype: int64"
      ]
     },
     "execution_count": 106,
     "metadata": {},
     "output_type": "execute_result"
    }
   ],
   "source": [
    "price['거래일'].dt.day"
   ]
  },
  {
   "cell_type": "code",
   "execution_count": 107,
   "id": "5336bc2e",
   "metadata": {
    "collapsed": true
   },
   "outputs": [
    {
     "data": {
      "text/plain": [
       "0           Friday\n",
       "1         Thursday\n",
       "2           Monday\n",
       "3         Thursday\n",
       "4           Monday\n",
       "            ...   \n",
       "139914    Saturday\n",
       "139915     Tuesday\n",
       "139916    Saturday\n",
       "139917     Tuesday\n",
       "139918    Thursday\n",
       "Name: 거래일, Length: 139919, dtype: object"
      ]
     },
     "execution_count": 107,
     "metadata": {},
     "output_type": "execute_result"
    }
   ],
   "source": [
    "price['거래일'].dt.day_name()"
   ]
  },
  {
   "cell_type": "code",
   "execution_count": 108,
   "id": "c20acb29",
   "metadata": {
    "collapsed": true
   },
   "outputs": [
    {
     "data": {
      "text/plain": [
       "0         금요일\n",
       "1         목요일\n",
       "2         월요일\n",
       "3         목요일\n",
       "4         월요일\n",
       "         ... \n",
       "139914    토요일\n",
       "139915    화요일\n",
       "139916    토요일\n",
       "139917    화요일\n",
       "139918    목요일\n",
       "Name: 거래일, Length: 139919, dtype: object"
      ]
     },
     "execution_count": 108,
     "metadata": {},
     "output_type": "execute_result"
    }
   ],
   "source": [
    "price['거래일'].dt.day_name(locale = 'ko_KR')"
   ]
  },
  {
   "cell_type": "code",
   "execution_count": 114,
   "id": "d6014553",
   "metadata": {},
   "outputs": [
    {
     "data": {
      "text/plain": [
       "0         2020년 01월 03일 Fri\n",
       "1         2020년 01월 02일 Thu\n",
       "2         2020년 01월 06일 Mon\n",
       "3         2020년 01월 09일 Thu\n",
       "4         2020년 01월 20일 Mon\n",
       "                ...        \n",
       "139914    2022년 12월 03일 Sat\n",
       "139915    2022년 12월 06일 Tue\n",
       "139916    2022년 12월 10일 Sat\n",
       "139917    2022년 12월 06일 Tue\n",
       "139918    2022년 12월 29일 Thu\n",
       "Name: 거래일, Length: 139919, dtype: object"
      ]
     },
     "execution_count": 114,
     "metadata": {},
     "output_type": "execute_result"
    }
   ],
   "source": [
    "price['거래일'].dt.strftime('%Y년 %m월 %d일 %a')"
   ]
  },
  {
   "cell_type": "code",
   "execution_count": 115,
   "id": "a0c99e85",
   "metadata": {},
   "outputs": [
    {
     "data": {
      "text/html": [
       "<div>\n",
       "<style scoped>\n",
       "    .dataframe tbody tr th:only-of-type {\n",
       "        vertical-align: middle;\n",
       "    }\n",
       "\n",
       "    .dataframe tbody tr th {\n",
       "        vertical-align: top;\n",
       "    }\n",
       "\n",
       "    .dataframe thead th {\n",
       "        text-align: right;\n",
       "    }\n",
       "</style>\n",
       "<table border=\"1\" class=\"dataframe\">\n",
       "  <thead>\n",
       "    <tr style=\"text-align: right;\">\n",
       "      <th></th>\n",
       "      <th>아파트</th>\n",
       "      <th>시</th>\n",
       "      <th>구</th>\n",
       "      <th>동</th>\n",
       "      <th>지번</th>\n",
       "      <th>건축년도</th>\n",
       "      <th>거래일</th>\n",
       "      <th>전용면적</th>\n",
       "      <th>층</th>\n",
       "      <th>거래금액</th>\n",
       "    </tr>\n",
       "  </thead>\n",
       "  <tbody>\n",
       "    <tr>\n",
       "      <th>126596</th>\n",
       "      <td>파르크한남</td>\n",
       "      <td>서울특별시</td>\n",
       "      <td>용산구</td>\n",
       "      <td>한남동</td>\n",
       "      <td>410</td>\n",
       "      <td>2020.0</td>\n",
       "      <td>2021-12-13</td>\n",
       "      <td>268.950</td>\n",
       "      <td>2</td>\n",
       "      <td>1200000</td>\n",
       "    </tr>\n",
       "    <tr>\n",
       "      <th>131285</th>\n",
       "      <td>파르크한남</td>\n",
       "      <td>서울특별시</td>\n",
       "      <td>용산구</td>\n",
       "      <td>한남동</td>\n",
       "      <td>410</td>\n",
       "      <td>2020.0</td>\n",
       "      <td>2022-04-30</td>\n",
       "      <td>268.670</td>\n",
       "      <td>5</td>\n",
       "      <td>1350000</td>\n",
       "    </tr>\n",
       "    <tr>\n",
       "      <th>132781</th>\n",
       "      <td>PH129</td>\n",
       "      <td>서울특별시</td>\n",
       "      <td>강남구</td>\n",
       "      <td>청담동</td>\n",
       "      <td>129</td>\n",
       "      <td>2020.0</td>\n",
       "      <td>2022-04-28</td>\n",
       "      <td>273.960</td>\n",
       "      <td>16</td>\n",
       "      <td>1450000</td>\n",
       "    </tr>\n",
       "    <tr>\n",
       "      <th>137420</th>\n",
       "      <td>아크로서울포레스트</td>\n",
       "      <td>서울특별시</td>\n",
       "      <td>성동구</td>\n",
       "      <td>성수동1가</td>\n",
       "      <td>685-700</td>\n",
       "      <td>2020.0</td>\n",
       "      <td>2022-09-30</td>\n",
       "      <td>264.546</td>\n",
       "      <td>47</td>\n",
       "      <td>1300000</td>\n",
       "    </tr>\n",
       "  </tbody>\n",
       "</table>\n",
       "</div>"
      ],
      "text/plain": [
       "              아파트      시    구      동       지번    건축년도        거래일     전용면적   층  \\\n",
       "126596      파르크한남  서울특별시  용산구    한남동      410  2020.0 2021-12-13  268.950   2   \n",
       "131285      파르크한남  서울특별시  용산구    한남동      410  2020.0 2022-04-30  268.670   5   \n",
       "132781      PH129  서울특별시  강남구    청담동      129  2020.0 2022-04-28  273.960  16   \n",
       "137420  아크로서울포레스트  서울특별시  성동구  성수동1가  685-700  2020.0 2022-09-30  264.546  47   \n",
       "\n",
       "           거래금액  \n",
       "126596  1200000  \n",
       "131285  1350000  \n",
       "132781  1450000  \n",
       "137420  1300000  "
      ]
     },
     "execution_count": 115,
     "metadata": {},
     "output_type": "execute_result"
    }
   ],
   "source": [
    "df1 = price.loc[price['거래금액'] >= 1200000]\n",
    "df1"
   ]
  },
  {
   "cell_type": "code",
   "execution_count": 116,
   "id": "6dc0c558",
   "metadata": {},
   "outputs": [
    {
     "data": {
      "text/html": [
       "<div>\n",
       "<style scoped>\n",
       "    .dataframe tbody tr th:only-of-type {\n",
       "        vertical-align: middle;\n",
       "    }\n",
       "\n",
       "    .dataframe tbody tr th {\n",
       "        vertical-align: top;\n",
       "    }\n",
       "\n",
       "    .dataframe thead th {\n",
       "        text-align: right;\n",
       "    }\n",
       "</style>\n",
       "<table border=\"1\" class=\"dataframe\">\n",
       "  <thead>\n",
       "    <tr style=\"text-align: right;\">\n",
       "      <th></th>\n",
       "      <th>아파트</th>\n",
       "      <th>시</th>\n",
       "      <th>구</th>\n",
       "      <th>동</th>\n",
       "      <th>지번</th>\n",
       "      <th>건축년도</th>\n",
       "      <th>거래일</th>\n",
       "      <th>전용면적</th>\n",
       "      <th>층</th>\n",
       "      <th>거래금액</th>\n",
       "    </tr>\n",
       "  </thead>\n",
       "  <tbody>\n",
       "    <tr>\n",
       "      <th>50867</th>\n",
       "      <td>현대하이페리온</td>\n",
       "      <td>서울특별시</td>\n",
       "      <td>양천구</td>\n",
       "      <td>목동</td>\n",
       "      <td>916</td>\n",
       "      <td>2003.0</td>\n",
       "      <td>2020-07-03</td>\n",
       "      <td>154.050</td>\n",
       "      <td>66</td>\n",
       "      <td>240000</td>\n",
       "    </tr>\n",
       "    <tr>\n",
       "      <th>55000</th>\n",
       "      <td>타워팰리스3</td>\n",
       "      <td>서울특별시</td>\n",
       "      <td>강남구</td>\n",
       "      <td>도곡동</td>\n",
       "      <td>467-29</td>\n",
       "      <td>2004.0</td>\n",
       "      <td>2020-07-25</td>\n",
       "      <td>235.740</td>\n",
       "      <td>67</td>\n",
       "      <td>542500</td>\n",
       "    </tr>\n",
       "    <tr>\n",
       "      <th>69573</th>\n",
       "      <td>타워팰리스3</td>\n",
       "      <td>서울특별시</td>\n",
       "      <td>강남구</td>\n",
       "      <td>도곡동</td>\n",
       "      <td>467-29</td>\n",
       "      <td>2004.0</td>\n",
       "      <td>2020-10-27</td>\n",
       "      <td>185.622</td>\n",
       "      <td>66</td>\n",
       "      <td>380000</td>\n",
       "    </tr>\n",
       "    <tr>\n",
       "      <th>110650</th>\n",
       "      <td>타워팰리스3</td>\n",
       "      <td>서울특별시</td>\n",
       "      <td>강남구</td>\n",
       "      <td>도곡동</td>\n",
       "      <td>467-29</td>\n",
       "      <td>2004.0</td>\n",
       "      <td>2021-06-24</td>\n",
       "      <td>214.967</td>\n",
       "      <td>66</td>\n",
       "      <td>458000</td>\n",
       "    </tr>\n",
       "  </tbody>\n",
       "</table>\n",
       "</div>"
      ],
      "text/plain": [
       "            아파트      시    구    동      지번    건축년도        거래일     전용면적   층  \\\n",
       "50867   현대하이페리온  서울특별시  양천구   목동     916  2003.0 2020-07-03  154.050  66   \n",
       "55000    타워팰리스3  서울특별시  강남구  도곡동  467-29  2004.0 2020-07-25  235.740  67   \n",
       "69573    타워팰리스3  서울특별시  강남구  도곡동  467-29  2004.0 2020-10-27  185.622  66   \n",
       "110650   타워팰리스3  서울특별시  강남구  도곡동  467-29  2004.0 2021-06-24  214.967  66   \n",
       "\n",
       "          거래금액  \n",
       "50867   240000  \n",
       "55000   542500  \n",
       "69573   380000  \n",
       "110650  458000  "
      ]
     },
     "execution_count": 116,
     "metadata": {},
     "output_type": "execute_result"
    }
   ],
   "source": [
    "df2 = price.loc[(price['거래금액'] < 1200000) & (price['층'] >= 65)]\n",
    "df2"
   ]
  },
  {
   "cell_type": "code",
   "execution_count": 118,
   "id": "152b2548",
   "metadata": {},
   "outputs": [
    {
     "data": {
      "text/plain": [
       "4"
      ]
     },
     "execution_count": 118,
     "metadata": {},
     "output_type": "execute_result"
    }
   ],
   "source": [
    "price['층'].gt(65).sum()"
   ]
  },
  {
   "cell_type": "code",
   "execution_count": 119,
   "id": "7f578c42",
   "metadata": {},
   "outputs": [
    {
     "data": {
      "text/plain": [
       "4"
      ]
     },
     "execution_count": 119,
     "metadata": {},
     "output_type": "execute_result"
    }
   ],
   "source": [
    "price['층'].ge(65).sum()"
   ]
  },
  {
   "cell_type": "code",
   "execution_count": 120,
   "id": "0c478b0e",
   "metadata": {},
   "outputs": [
    {
     "data": {
      "text/plain": [
       "139915"
      ]
     },
     "execution_count": 120,
     "metadata": {},
     "output_type": "execute_result"
    }
   ],
   "source": [
    "price['층'].lt(65).sum()"
   ]
  },
  {
   "cell_type": "code",
   "execution_count": 121,
   "id": "ec7bd0bd",
   "metadata": {},
   "outputs": [
    {
     "data": {
      "text/plain": [
       "139915"
      ]
     },
     "execution_count": 121,
     "metadata": {},
     "output_type": "execute_result"
    }
   ],
   "source": [
    "price['층'].le(65).sum()"
   ]
  },
  {
   "cell_type": "code",
   "execution_count": 122,
   "id": "7c5b0e8d",
   "metadata": {},
   "outputs": [
    {
     "data": {
      "text/plain": [
       "0"
      ]
     },
     "execution_count": 122,
     "metadata": {},
     "output_type": "execute_result"
    }
   ],
   "source": [
    "price['층'].eq(65).sum()"
   ]
  },
  {
   "cell_type": "code",
   "execution_count": 123,
   "id": "27ed6afd",
   "metadata": {},
   "outputs": [
    {
     "data": {
      "text/plain": [
       "139919"
      ]
     },
     "execution_count": 123,
     "metadata": {},
     "output_type": "execute_result"
    }
   ],
   "source": [
    "price['층'].ne(65).sum()"
   ]
  },
  {
   "cell_type": "code",
   "execution_count": 124,
   "id": "6ad6c03b",
   "metadata": {},
   "outputs": [
    {
     "data": {
      "text/plain": [
       "0         False\n",
       "1         False\n",
       "2         False\n",
       "3         False\n",
       "4         False\n",
       "          ...  \n",
       "139914    False\n",
       "139915    False\n",
       "139916    False\n",
       "139917    False\n",
       "139918    False\n",
       "Length: 139919, dtype: bool"
      ]
     },
     "execution_count": 124,
     "metadata": {},
     "output_type": "execute_result"
    }
   ],
   "source": [
    "price['거래금액'].lt(1200000) & price['층'].ge(65)"
   ]
  },
  {
   "cell_type": "code",
   "execution_count": 125,
   "id": "eaeaa1dd",
   "metadata": {
    "collapsed": true
   },
   "outputs": [
    {
     "data": {
      "text/html": [
       "<div>\n",
       "<style scoped>\n",
       "    .dataframe tbody tr th:only-of-type {\n",
       "        vertical-align: middle;\n",
       "    }\n",
       "\n",
       "    .dataframe tbody tr th {\n",
       "        vertical-align: top;\n",
       "    }\n",
       "\n",
       "    .dataframe thead th {\n",
       "        text-align: right;\n",
       "    }\n",
       "</style>\n",
       "<table border=\"1\" class=\"dataframe\">\n",
       "  <thead>\n",
       "    <tr style=\"text-align: right;\">\n",
       "      <th></th>\n",
       "      <th>아파트</th>\n",
       "      <th>시</th>\n",
       "      <th>구</th>\n",
       "      <th>동</th>\n",
       "      <th>지번</th>\n",
       "      <th>건축년도</th>\n",
       "      <th>거래일</th>\n",
       "      <th>전용면적</th>\n",
       "      <th>층</th>\n",
       "      <th>거래금액</th>\n",
       "    </tr>\n",
       "  </thead>\n",
       "  <tbody>\n",
       "    <tr>\n",
       "      <th>5819</th>\n",
       "      <td>현대하이츠</td>\n",
       "      <td>서울특별시</td>\n",
       "      <td>강남구</td>\n",
       "      <td>역삼동</td>\n",
       "      <td>775-15</td>\n",
       "      <td>2004.0</td>\n",
       "      <td>2020-01-03</td>\n",
       "      <td>99.220</td>\n",
       "      <td>4</td>\n",
       "      <td>77000</td>\n",
       "    </tr>\n",
       "    <tr>\n",
       "      <th>5820</th>\n",
       "      <td>우림루미아트1</td>\n",
       "      <td>서울특별시</td>\n",
       "      <td>강남구</td>\n",
       "      <td>역삼동</td>\n",
       "      <td>706-11</td>\n",
       "      <td>2003.0</td>\n",
       "      <td>2020-01-03</td>\n",
       "      <td>24.000</td>\n",
       "      <td>8</td>\n",
       "      <td>20200</td>\n",
       "    </tr>\n",
       "    <tr>\n",
       "      <th>5821</th>\n",
       "      <td>한스빌(836)</td>\n",
       "      <td>서울특별시</td>\n",
       "      <td>강남구</td>\n",
       "      <td>역삼동</td>\n",
       "      <td>836</td>\n",
       "      <td>1996.0</td>\n",
       "      <td>2020-01-04</td>\n",
       "      <td>41.950</td>\n",
       "      <td>11</td>\n",
       "      <td>39500</td>\n",
       "    </tr>\n",
       "    <tr>\n",
       "      <th>5822</th>\n",
       "      <td>동부센트레빌</td>\n",
       "      <td>서울특별시</td>\n",
       "      <td>강남구</td>\n",
       "      <td>역삼동</td>\n",
       "      <td>716</td>\n",
       "      <td>1998.0</td>\n",
       "      <td>2020-01-06</td>\n",
       "      <td>59.820</td>\n",
       "      <td>21</td>\n",
       "      <td>148800</td>\n",
       "    </tr>\n",
       "    <tr>\n",
       "      <th>5823</th>\n",
       "      <td>강남서해더블루</td>\n",
       "      <td>서울특별시</td>\n",
       "      <td>강남구</td>\n",
       "      <td>역삼동</td>\n",
       "      <td>796-29</td>\n",
       "      <td>2012.0</td>\n",
       "      <td>2020-01-06</td>\n",
       "      <td>62.260</td>\n",
       "      <td>10</td>\n",
       "      <td>85000</td>\n",
       "    </tr>\n",
       "    <tr>\n",
       "      <th>...</th>\n",
       "      <td>...</td>\n",
       "      <td>...</td>\n",
       "      <td>...</td>\n",
       "      <td>...</td>\n",
       "      <td>...</td>\n",
       "      <td>...</td>\n",
       "      <td>...</td>\n",
       "      <td>...</td>\n",
       "      <td>...</td>\n",
       "      <td>...</td>\n",
       "    </tr>\n",
       "    <tr>\n",
       "      <th>139839</th>\n",
       "      <td>목련타운</td>\n",
       "      <td>서울특별시</td>\n",
       "      <td>강남구</td>\n",
       "      <td>일원동</td>\n",
       "      <td>716</td>\n",
       "      <td>1993.0</td>\n",
       "      <td>2022-12-09</td>\n",
       "      <td>134.710</td>\n",
       "      <td>14</td>\n",
       "      <td>210000</td>\n",
       "    </tr>\n",
       "    <tr>\n",
       "      <th>139840</th>\n",
       "      <td>목련타운</td>\n",
       "      <td>서울특별시</td>\n",
       "      <td>강남구</td>\n",
       "      <td>일원동</td>\n",
       "      <td>716</td>\n",
       "      <td>1993.0</td>\n",
       "      <td>2022-12-12</td>\n",
       "      <td>134.710</td>\n",
       "      <td>6</td>\n",
       "      <td>227000</td>\n",
       "    </tr>\n",
       "    <tr>\n",
       "      <th>139841</th>\n",
       "      <td>신동아</td>\n",
       "      <td>서울특별시</td>\n",
       "      <td>강남구</td>\n",
       "      <td>수서동</td>\n",
       "      <td>736</td>\n",
       "      <td>1992.0</td>\n",
       "      <td>2022-12-10</td>\n",
       "      <td>39.510</td>\n",
       "      <td>13</td>\n",
       "      <td>95000</td>\n",
       "    </tr>\n",
       "    <tr>\n",
       "      <th>139842</th>\n",
       "      <td>대림아크로빌</td>\n",
       "      <td>서울특별시</td>\n",
       "      <td>강남구</td>\n",
       "      <td>도곡동</td>\n",
       "      <td>467-6</td>\n",
       "      <td>1999.0</td>\n",
       "      <td>2022-12-09</td>\n",
       "      <td>177.255</td>\n",
       "      <td>22</td>\n",
       "      <td>260000</td>\n",
       "    </tr>\n",
       "    <tr>\n",
       "      <th>139843</th>\n",
       "      <td>대림아크로빌</td>\n",
       "      <td>서울특별시</td>\n",
       "      <td>강남구</td>\n",
       "      <td>도곡동</td>\n",
       "      <td>467-6</td>\n",
       "      <td>1999.0</td>\n",
       "      <td>2022-12-15</td>\n",
       "      <td>172.467</td>\n",
       "      <td>31</td>\n",
       "      <td>260000</td>\n",
       "    </tr>\n",
       "  </tbody>\n",
       "</table>\n",
       "<p>6723 rows × 10 columns</p>\n",
       "</div>"
      ],
      "text/plain": [
       "             아파트      시    구    동      지번    건축년도        거래일     전용면적   층  \\\n",
       "5819       현대하이츠  서울특별시  강남구  역삼동  775-15  2004.0 2020-01-03   99.220   4   \n",
       "5820     우림루미아트1  서울특별시  강남구  역삼동  706-11  2003.0 2020-01-03   24.000   8   \n",
       "5821    한스빌(836)  서울특별시  강남구  역삼동     836  1996.0 2020-01-04   41.950  11   \n",
       "5822      동부센트레빌  서울특별시  강남구  역삼동     716  1998.0 2020-01-06   59.820  21   \n",
       "5823     강남서해더블루  서울특별시  강남구  역삼동  796-29  2012.0 2020-01-06   62.260  10   \n",
       "...          ...    ...  ...  ...     ...     ...        ...      ...  ..   \n",
       "139839      목련타운  서울특별시  강남구  일원동     716  1993.0 2022-12-09  134.710  14   \n",
       "139840      목련타운  서울특별시  강남구  일원동     716  1993.0 2022-12-12  134.710   6   \n",
       "139841       신동아  서울특별시  강남구  수서동     736  1992.0 2022-12-10   39.510  13   \n",
       "139842    대림아크로빌  서울특별시  강남구  도곡동   467-6  1999.0 2022-12-09  177.255  22   \n",
       "139843    대림아크로빌  서울특별시  강남구  도곡동   467-6  1999.0 2022-12-15  172.467  31   \n",
       "\n",
       "          거래금액  \n",
       "5819     77000  \n",
       "5820     20200  \n",
       "5821     39500  \n",
       "5822    148800  \n",
       "5823     85000  \n",
       "...        ...  \n",
       "139839  210000  \n",
       "139840  227000  \n",
       "139841   95000  \n",
       "139842  260000  \n",
       "139843  260000  \n",
       "\n",
       "[6723 rows x 10 columns]"
      ]
     },
     "execution_count": 125,
     "metadata": {},
     "output_type": "execute_result"
    }
   ],
   "source": [
    "# 구가 '강남구'인 행을 선택해보세요. (6723)\n",
    "price[price['구'].eq('강남구')]"
   ]
  },
  {
   "cell_type": "code",
   "execution_count": 126,
   "id": "f789d6e0",
   "metadata": {
    "collapsed": true
   },
   "outputs": [
    {
     "data": {
      "text/html": [
       "<div>\n",
       "<style scoped>\n",
       "    .dataframe tbody tr th:only-of-type {\n",
       "        vertical-align: middle;\n",
       "    }\n",
       "\n",
       "    .dataframe tbody tr th {\n",
       "        vertical-align: top;\n",
       "    }\n",
       "\n",
       "    .dataframe thead th {\n",
       "        text-align: right;\n",
       "    }\n",
       "</style>\n",
       "<table border=\"1\" class=\"dataframe\">\n",
       "  <thead>\n",
       "    <tr style=\"text-align: right;\">\n",
       "      <th></th>\n",
       "      <th>아파트</th>\n",
       "      <th>시</th>\n",
       "      <th>구</th>\n",
       "      <th>동</th>\n",
       "      <th>지번</th>\n",
       "      <th>건축년도</th>\n",
       "      <th>거래일</th>\n",
       "      <th>전용면적</th>\n",
       "      <th>층</th>\n",
       "      <th>거래금액</th>\n",
       "    </tr>\n",
       "  </thead>\n",
       "  <tbody>\n",
       "    <tr>\n",
       "      <th>5696</th>\n",
       "      <td>삼호1동~3동</td>\n",
       "      <td>서울특별시</td>\n",
       "      <td>서초구</td>\n",
       "      <td>방배동</td>\n",
       "      <td>770-1</td>\n",
       "      <td>1975.0</td>\n",
       "      <td>2020-01-03</td>\n",
       "      <td>81.3900</td>\n",
       "      <td>5</td>\n",
       "      <td>127500</td>\n",
       "    </tr>\n",
       "    <tr>\n",
       "      <th>5697</th>\n",
       "      <td>롯데캐슬아르떼</td>\n",
       "      <td>서울특별시</td>\n",
       "      <td>서초구</td>\n",
       "      <td>방배동</td>\n",
       "      <td>424-28</td>\n",
       "      <td>2013.0</td>\n",
       "      <td>2020-01-03</td>\n",
       "      <td>121.6356</td>\n",
       "      <td>12</td>\n",
       "      <td>209000</td>\n",
       "    </tr>\n",
       "    <tr>\n",
       "      <th>5698</th>\n",
       "      <td>신한엔시모</td>\n",
       "      <td>서울특별시</td>\n",
       "      <td>서초구</td>\n",
       "      <td>방배동</td>\n",
       "      <td>802-4</td>\n",
       "      <td>2005.0</td>\n",
       "      <td>2020-01-03</td>\n",
       "      <td>244.2000</td>\n",
       "      <td>3</td>\n",
       "      <td>197500</td>\n",
       "    </tr>\n",
       "    <tr>\n",
       "      <th>5699</th>\n",
       "      <td>삼호1동~3동</td>\n",
       "      <td>서울특별시</td>\n",
       "      <td>서초구</td>\n",
       "      <td>방배동</td>\n",
       "      <td>770-1</td>\n",
       "      <td>1975.0</td>\n",
       "      <td>2020-01-07</td>\n",
       "      <td>116.1300</td>\n",
       "      <td>12</td>\n",
       "      <td>160000</td>\n",
       "    </tr>\n",
       "    <tr>\n",
       "      <th>5700</th>\n",
       "      <td>방배브라운가</td>\n",
       "      <td>서울특별시</td>\n",
       "      <td>서초구</td>\n",
       "      <td>방배동</td>\n",
       "      <td>930-1</td>\n",
       "      <td>2006.0</td>\n",
       "      <td>2020-01-08</td>\n",
       "      <td>84.9400</td>\n",
       "      <td>10</td>\n",
       "      <td>131000</td>\n",
       "    </tr>\n",
       "    <tr>\n",
       "      <th>...</th>\n",
       "      <td>...</td>\n",
       "      <td>...</td>\n",
       "      <td>...</td>\n",
       "      <td>...</td>\n",
       "      <td>...</td>\n",
       "      <td>...</td>\n",
       "      <td>...</td>\n",
       "      <td>...</td>\n",
       "      <td>...</td>\n",
       "      <td>...</td>\n",
       "    </tr>\n",
       "    <tr>\n",
       "      <th>139839</th>\n",
       "      <td>목련타운</td>\n",
       "      <td>서울특별시</td>\n",
       "      <td>강남구</td>\n",
       "      <td>일원동</td>\n",
       "      <td>716</td>\n",
       "      <td>1993.0</td>\n",
       "      <td>2022-12-09</td>\n",
       "      <td>134.7100</td>\n",
       "      <td>14</td>\n",
       "      <td>210000</td>\n",
       "    </tr>\n",
       "    <tr>\n",
       "      <th>139840</th>\n",
       "      <td>목련타운</td>\n",
       "      <td>서울특별시</td>\n",
       "      <td>강남구</td>\n",
       "      <td>일원동</td>\n",
       "      <td>716</td>\n",
       "      <td>1993.0</td>\n",
       "      <td>2022-12-12</td>\n",
       "      <td>134.7100</td>\n",
       "      <td>6</td>\n",
       "      <td>227000</td>\n",
       "    </tr>\n",
       "    <tr>\n",
       "      <th>139841</th>\n",
       "      <td>신동아</td>\n",
       "      <td>서울특별시</td>\n",
       "      <td>강남구</td>\n",
       "      <td>수서동</td>\n",
       "      <td>736</td>\n",
       "      <td>1992.0</td>\n",
       "      <td>2022-12-10</td>\n",
       "      <td>39.5100</td>\n",
       "      <td>13</td>\n",
       "      <td>95000</td>\n",
       "    </tr>\n",
       "    <tr>\n",
       "      <th>139842</th>\n",
       "      <td>대림아크로빌</td>\n",
       "      <td>서울특별시</td>\n",
       "      <td>강남구</td>\n",
       "      <td>도곡동</td>\n",
       "      <td>467-6</td>\n",
       "      <td>1999.0</td>\n",
       "      <td>2022-12-09</td>\n",
       "      <td>177.2550</td>\n",
       "      <td>22</td>\n",
       "      <td>260000</td>\n",
       "    </tr>\n",
       "    <tr>\n",
       "      <th>139843</th>\n",
       "      <td>대림아크로빌</td>\n",
       "      <td>서울특별시</td>\n",
       "      <td>강남구</td>\n",
       "      <td>도곡동</td>\n",
       "      <td>467-6</td>\n",
       "      <td>1999.0</td>\n",
       "      <td>2022-12-15</td>\n",
       "      <td>172.4670</td>\n",
       "      <td>31</td>\n",
       "      <td>260000</td>\n",
       "    </tr>\n",
       "  </tbody>\n",
       "</table>\n",
       "<p>12917 rows × 10 columns</p>\n",
       "</div>"
      ],
      "text/plain": [
       "            아파트      시    구    동      지번    건축년도        거래일      전용면적   층  \\\n",
       "5696    삼호1동~3동  서울특별시  서초구  방배동   770-1  1975.0 2020-01-03   81.3900   5   \n",
       "5697    롯데캐슬아르떼  서울특별시  서초구  방배동  424-28  2013.0 2020-01-03  121.6356  12   \n",
       "5698      신한엔시모  서울특별시  서초구  방배동   802-4  2005.0 2020-01-03  244.2000   3   \n",
       "5699    삼호1동~3동  서울특별시  서초구  방배동   770-1  1975.0 2020-01-07  116.1300  12   \n",
       "5700     방배브라운가  서울특별시  서초구  방배동   930-1  2006.0 2020-01-08   84.9400  10   \n",
       "...         ...    ...  ...  ...     ...     ...        ...       ...  ..   \n",
       "139839     목련타운  서울특별시  강남구  일원동     716  1993.0 2022-12-09  134.7100  14   \n",
       "139840     목련타운  서울특별시  강남구  일원동     716  1993.0 2022-12-12  134.7100   6   \n",
       "139841      신동아  서울특별시  강남구  수서동     736  1992.0 2022-12-10   39.5100  13   \n",
       "139842   대림아크로빌  서울특별시  강남구  도곡동   467-6  1999.0 2022-12-09  177.2550  22   \n",
       "139843   대림아크로빌  서울특별시  강남구  도곡동   467-6  1999.0 2022-12-15  172.4670  31   \n",
       "\n",
       "          거래금액  \n",
       "5696    127500  \n",
       "5697    209000  \n",
       "5698    197500  \n",
       "5699    160000  \n",
       "5700    131000  \n",
       "...        ...  \n",
       "139839  210000  \n",
       "139840  227000  \n",
       "139841   95000  \n",
       "139842  260000  \n",
       "139843  260000  \n",
       "\n",
       "[12917 rows x 10 columns]"
      ]
     },
     "execution_count": 126,
     "metadata": {},
     "output_type": "execute_result"
    }
   ],
   "source": [
    "# 구가 '강남구' 또는 '서초구'인 행을 선택해보세요. (12917)\n",
    "price[price['구'].eq('강남구') | price['구'].eq('서초구')]"
   ]
  },
  {
   "cell_type": "code",
   "execution_count": 127,
   "id": "2d4854c7",
   "metadata": {
    "collapsed": true
   },
   "outputs": [
    {
     "data": {
      "text/html": [
       "<div>\n",
       "<style scoped>\n",
       "    .dataframe tbody tr th:only-of-type {\n",
       "        vertical-align: middle;\n",
       "    }\n",
       "\n",
       "    .dataframe tbody tr th {\n",
       "        vertical-align: top;\n",
       "    }\n",
       "\n",
       "    .dataframe thead th {\n",
       "        text-align: right;\n",
       "    }\n",
       "</style>\n",
       "<table border=\"1\" class=\"dataframe\">\n",
       "  <thead>\n",
       "    <tr style=\"text-align: right;\">\n",
       "      <th></th>\n",
       "      <th>아파트</th>\n",
       "      <th>시</th>\n",
       "      <th>구</th>\n",
       "      <th>동</th>\n",
       "      <th>지번</th>\n",
       "      <th>건축년도</th>\n",
       "      <th>거래일</th>\n",
       "      <th>전용면적</th>\n",
       "      <th>층</th>\n",
       "      <th>거래금액</th>\n",
       "    </tr>\n",
       "  </thead>\n",
       "  <tbody>\n",
       "    <tr>\n",
       "      <th>5696</th>\n",
       "      <td>삼호1동~3동</td>\n",
       "      <td>서울특별시</td>\n",
       "      <td>서초구</td>\n",
       "      <td>방배동</td>\n",
       "      <td>770-1</td>\n",
       "      <td>1975.0</td>\n",
       "      <td>2020-01-03</td>\n",
       "      <td>81.3900</td>\n",
       "      <td>5</td>\n",
       "      <td>127500</td>\n",
       "    </tr>\n",
       "    <tr>\n",
       "      <th>5697</th>\n",
       "      <td>롯데캐슬아르떼</td>\n",
       "      <td>서울특별시</td>\n",
       "      <td>서초구</td>\n",
       "      <td>방배동</td>\n",
       "      <td>424-28</td>\n",
       "      <td>2013.0</td>\n",
       "      <td>2020-01-03</td>\n",
       "      <td>121.6356</td>\n",
       "      <td>12</td>\n",
       "      <td>209000</td>\n",
       "    </tr>\n",
       "    <tr>\n",
       "      <th>5698</th>\n",
       "      <td>신한엔시모</td>\n",
       "      <td>서울특별시</td>\n",
       "      <td>서초구</td>\n",
       "      <td>방배동</td>\n",
       "      <td>802-4</td>\n",
       "      <td>2005.0</td>\n",
       "      <td>2020-01-03</td>\n",
       "      <td>244.2000</td>\n",
       "      <td>3</td>\n",
       "      <td>197500</td>\n",
       "    </tr>\n",
       "    <tr>\n",
       "      <th>5699</th>\n",
       "      <td>삼호1동~3동</td>\n",
       "      <td>서울특별시</td>\n",
       "      <td>서초구</td>\n",
       "      <td>방배동</td>\n",
       "      <td>770-1</td>\n",
       "      <td>1975.0</td>\n",
       "      <td>2020-01-07</td>\n",
       "      <td>116.1300</td>\n",
       "      <td>12</td>\n",
       "      <td>160000</td>\n",
       "    </tr>\n",
       "    <tr>\n",
       "      <th>5700</th>\n",
       "      <td>방배브라운가</td>\n",
       "      <td>서울특별시</td>\n",
       "      <td>서초구</td>\n",
       "      <td>방배동</td>\n",
       "      <td>930-1</td>\n",
       "      <td>2006.0</td>\n",
       "      <td>2020-01-08</td>\n",
       "      <td>84.9400</td>\n",
       "      <td>10</td>\n",
       "      <td>131000</td>\n",
       "    </tr>\n",
       "    <tr>\n",
       "      <th>...</th>\n",
       "      <td>...</td>\n",
       "      <td>...</td>\n",
       "      <td>...</td>\n",
       "      <td>...</td>\n",
       "      <td>...</td>\n",
       "      <td>...</td>\n",
       "      <td>...</td>\n",
       "      <td>...</td>\n",
       "      <td>...</td>\n",
       "      <td>...</td>\n",
       "    </tr>\n",
       "    <tr>\n",
       "      <th>139884</th>\n",
       "      <td>송파파인타운2단지</td>\n",
       "      <td>서울특별시</td>\n",
       "      <td>송파구</td>\n",
       "      <td>장지동</td>\n",
       "      <td>835</td>\n",
       "      <td>2008.0</td>\n",
       "      <td>2022-12-03</td>\n",
       "      <td>84.9500</td>\n",
       "      <td>15</td>\n",
       "      <td>110000</td>\n",
       "    </tr>\n",
       "    <tr>\n",
       "      <th>139885</th>\n",
       "      <td>송파더센트레</td>\n",
       "      <td>서울특별시</td>\n",
       "      <td>송파구</td>\n",
       "      <td>장지동</td>\n",
       "      <td>879</td>\n",
       "      <td>2013.0</td>\n",
       "      <td>2022-12-04</td>\n",
       "      <td>51.8200</td>\n",
       "      <td>13</td>\n",
       "      <td>75000</td>\n",
       "    </tr>\n",
       "    <tr>\n",
       "      <th>139886</th>\n",
       "      <td>대림</td>\n",
       "      <td>서울특별시</td>\n",
       "      <td>송파구</td>\n",
       "      <td>방이동</td>\n",
       "      <td>217</td>\n",
       "      <td>1985.0</td>\n",
       "      <td>2022-12-19</td>\n",
       "      <td>125.0750</td>\n",
       "      <td>12</td>\n",
       "      <td>160000</td>\n",
       "    </tr>\n",
       "    <tr>\n",
       "      <th>139887</th>\n",
       "      <td>상아2차아파트</td>\n",
       "      <td>서울특별시</td>\n",
       "      <td>송파구</td>\n",
       "      <td>오금동</td>\n",
       "      <td>165</td>\n",
       "      <td>1988.0</td>\n",
       "      <td>2022-12-01</td>\n",
       "      <td>45.7700</td>\n",
       "      <td>6</td>\n",
       "      <td>92000</td>\n",
       "    </tr>\n",
       "    <tr>\n",
       "      <th>139888</th>\n",
       "      <td>아남</td>\n",
       "      <td>서울특별시</td>\n",
       "      <td>송파구</td>\n",
       "      <td>오금동</td>\n",
       "      <td>67</td>\n",
       "      <td>1992.0</td>\n",
       "      <td>2022-12-01</td>\n",
       "      <td>84.9300</td>\n",
       "      <td>14</td>\n",
       "      <td>149123</td>\n",
       "    </tr>\n",
       "  </tbody>\n",
       "</table>\n",
       "<p>20349 rows × 10 columns</p>\n",
       "</div>"
      ],
      "text/plain": [
       "              아파트      시    구    동      지번    건축년도        거래일      전용면적   층  \\\n",
       "5696      삼호1동~3동  서울특별시  서초구  방배동   770-1  1975.0 2020-01-03   81.3900   5   \n",
       "5697      롯데캐슬아르떼  서울특별시  서초구  방배동  424-28  2013.0 2020-01-03  121.6356  12   \n",
       "5698        신한엔시모  서울특별시  서초구  방배동   802-4  2005.0 2020-01-03  244.2000   3   \n",
       "5699      삼호1동~3동  서울특별시  서초구  방배동   770-1  1975.0 2020-01-07  116.1300  12   \n",
       "5700       방배브라운가  서울특별시  서초구  방배동   930-1  2006.0 2020-01-08   84.9400  10   \n",
       "...           ...    ...  ...  ...     ...     ...        ...       ...  ..   \n",
       "139884  송파파인타운2단지  서울특별시  송파구  장지동     835  2008.0 2022-12-03   84.9500  15   \n",
       "139885     송파더센트레  서울특별시  송파구  장지동     879  2013.0 2022-12-04   51.8200  13   \n",
       "139886         대림  서울특별시  송파구  방이동     217  1985.0 2022-12-19  125.0750  12   \n",
       "139887    상아2차아파트  서울특별시  송파구  오금동     165  1988.0 2022-12-01   45.7700   6   \n",
       "139888         아남  서울특별시  송파구  오금동      67  1992.0 2022-12-01   84.9300  14   \n",
       "\n",
       "          거래금액  \n",
       "5696    127500  \n",
       "5697    209000  \n",
       "5698    197500  \n",
       "5699    160000  \n",
       "5700    131000  \n",
       "...        ...  \n",
       "139884  110000  \n",
       "139885   75000  \n",
       "139886  160000  \n",
       "139887   92000  \n",
       "139888  149123  \n",
       "\n",
       "[20349 rows x 10 columns]"
      ]
     },
     "execution_count": 127,
     "metadata": {},
     "output_type": "execute_result"
    }
   ],
   "source": [
    "# 구가 '강남구', '서초구' 또는 '송파구'인 행을 선택해보세요. (20349)\n",
    "price[price['구'].eq('강남구') | price['구'].eq('서초구') | price['구'].eq('송파구')]"
   ]
  },
  {
   "cell_type": "code",
   "execution_count": 132,
   "id": "55068faa",
   "metadata": {},
   "outputs": [
    {
     "data": {
      "text/plain": [
       "20349"
      ]
     },
     "execution_count": 132,
     "metadata": {},
     "output_type": "execute_result"
    }
   ],
   "source": [
    "price[price['구'].isin(values = ['강남구', '서초구', '송파구'])].shape[0]"
   ]
  },
  {
   "cell_type": "code",
   "execution_count": 133,
   "id": "fb621211",
   "metadata": {},
   "outputs": [
    {
     "data": {
      "text/plain": [
       "20349"
      ]
     },
     "execution_count": 133,
     "metadata": {},
     "output_type": "execute_result"
    }
   ],
   "source": [
    "price[price['구'].str.contains('강남|서초|송파')].shape[0]"
   ]
  },
  {
   "cell_type": "code",
   "execution_count": 134,
   "id": "5d9be0ae",
   "metadata": {},
   "outputs": [
    {
     "data": {
      "text/plain": [
       "26225"
      ]
     },
     "execution_count": 134,
     "metadata": {},
     "output_type": "execute_result"
    }
   ],
   "source": [
    "price[price['구'].isin(values = ['강남구', '강동구', '강서구', '강북구'])].shape[0]"
   ]
  },
  {
   "cell_type": "code",
   "execution_count": 136,
   "id": "996facd1",
   "metadata": {},
   "outputs": [
    {
     "name": "stderr",
     "output_type": "stream",
     "text": [
      "C:\\Users\\hdsce\\AppData\\Local\\Temp\\ipykernel_12080\\1839988910.py:1: UserWarning: This pattern is interpreted as a regular expression, and has match groups. To actually get the groups, use str.extract.\n",
      "  price[price['구'].str.contains('강(남|동|서|북)')].shape[0]\n"
     ]
    },
    {
     "data": {
      "text/plain": [
       "26225"
      ]
     },
     "execution_count": 136,
     "metadata": {},
     "output_type": "execute_result"
    }
   ],
   "source": [
    "price[price['구'].str.contains('강(남|동|서|북)')].shape[0]"
   ]
  },
  {
   "cell_type": "code",
   "execution_count": 137,
   "id": "5668460a",
   "metadata": {},
   "outputs": [
    {
     "data": {
      "text/plain": [
       "26225"
      ]
     },
     "execution_count": 137,
     "metadata": {},
     "output_type": "execute_result"
    }
   ],
   "source": [
    "price[price['구'].str.contains('강[남동서북]')].shape[0]"
   ]
  },
  {
   "cell_type": "code",
   "execution_count": 138,
   "id": "44cfa66e",
   "metadata": {},
   "outputs": [
    {
     "data": {
      "text/plain": [
       "26225"
      ]
     },
     "execution_count": 138,
     "metadata": {},
     "output_type": "execute_result"
    }
   ],
   "source": [
    "price[price['구'].str.contains('^강')].shape[0]"
   ]
  },
  {
   "cell_type": "code",
   "execution_count": 139,
   "id": "53ddbcd4",
   "metadata": {},
   "outputs": [
    {
     "data": {
      "text/plain": [
       "26225"
      ]
     },
     "execution_count": 139,
     "metadata": {},
     "output_type": "execute_result"
    }
   ],
   "source": [
    "len(price[price['구'].str.contains('^강')])"
   ]
  },
  {
   "cell_type": "code",
   "execution_count": 140,
   "id": "41ec2ad7",
   "metadata": {},
   "outputs": [],
   "source": [
    "addr = pd.Series(data = ['서울특별시 강남구', '경기도 성남시 분당구'])"
   ]
  },
  {
   "cell_type": "code",
   "execution_count": 141,
   "id": "715ce446",
   "metadata": {},
   "outputs": [
    {
     "data": {
      "text/plain": [
       "0     서울특별시강남구\n",
       "1    경기도성남시분당구\n",
       "dtype: object"
      ]
     },
     "execution_count": 141,
     "metadata": {},
     "output_type": "execute_result"
    }
   ],
   "source": [
    "addr.str.replace(' ', '')"
   ]
  },
  {
   "cell_type": "code",
   "execution_count": 143,
   "id": "1a445a40",
   "metadata": {},
   "outputs": [
    {
     "data": {
      "text/html": [
       "<div>\n",
       "<style scoped>\n",
       "    .dataframe tbody tr th:only-of-type {\n",
       "        vertical-align: middle;\n",
       "    }\n",
       "\n",
       "    .dataframe tbody tr th {\n",
       "        vertical-align: top;\n",
       "    }\n",
       "\n",
       "    .dataframe thead th {\n",
       "        text-align: right;\n",
       "    }\n",
       "</style>\n",
       "<table border=\"1\" class=\"dataframe\">\n",
       "  <thead>\n",
       "    <tr style=\"text-align: right;\">\n",
       "      <th></th>\n",
       "      <th>0</th>\n",
       "      <th>1</th>\n",
       "      <th>2</th>\n",
       "    </tr>\n",
       "  </thead>\n",
       "  <tbody>\n",
       "    <tr>\n",
       "      <th>0</th>\n",
       "      <td>서울특별시</td>\n",
       "      <td>강남구</td>\n",
       "      <td>None</td>\n",
       "    </tr>\n",
       "    <tr>\n",
       "      <th>1</th>\n",
       "      <td>경기도</td>\n",
       "      <td>성남시</td>\n",
       "      <td>분당구</td>\n",
       "    </tr>\n",
       "  </tbody>\n",
       "</table>\n",
       "</div>"
      ],
      "text/plain": [
       "       0    1     2\n",
       "0  서울특별시  강남구  None\n",
       "1    경기도  성남시   분당구"
      ]
     },
     "execution_count": 143,
     "metadata": {},
     "output_type": "execute_result"
    }
   ],
   "source": [
    "addr.str.split(' ', expand = True)"
   ]
  },
  {
   "cell_type": "code",
   "execution_count": 147,
   "id": "ea0e1d1a",
   "metadata": {},
   "outputs": [
    {
     "data": {
      "text/html": [
       "<div>\n",
       "<style scoped>\n",
       "    .dataframe tbody tr th:only-of-type {\n",
       "        vertical-align: middle;\n",
       "    }\n",
       "\n",
       "    .dataframe tbody tr th {\n",
       "        vertical-align: top;\n",
       "    }\n",
       "\n",
       "    .dataframe thead th {\n",
       "        text-align: right;\n",
       "    }\n",
       "</style>\n",
       "<table border=\"1\" class=\"dataframe\">\n",
       "  <thead>\n",
       "    <tr style=\"text-align: right;\">\n",
       "      <th></th>\n",
       "      <th>0</th>\n",
       "      <th>1</th>\n",
       "      <th>2</th>\n",
       "    </tr>\n",
       "  </thead>\n",
       "  <tbody>\n",
       "    <tr>\n",
       "      <th>0</th>\n",
       "      <td>2000</td>\n",
       "      <td>01</td>\n",
       "      <td>01</td>\n",
       "    </tr>\n",
       "    <tr>\n",
       "      <th>1</th>\n",
       "      <td>1999</td>\n",
       "      <td>12</td>\n",
       "      <td>31</td>\n",
       "    </tr>\n",
       "  </tbody>\n",
       "</table>\n",
       "</div>"
      ],
      "text/plain": [
       "      0   1   2\n",
       "0  2000  01  01\n",
       "1  1999  12  31"
      ]
     },
     "execution_count": 147,
     "metadata": {},
     "output_type": "execute_result"
    }
   ],
   "source": [
    "birth.astype(str).str.split('-', expand = True)"
   ]
  },
  {
   "cell_type": "code",
   "execution_count": 149,
   "id": "829444b9",
   "metadata": {},
   "outputs": [
    {
     "data": {
      "text/plain": [
       "0      서울특별시 강남구\n",
       "1    경기도 성남시 분당구\n",
       "dtype: object"
      ]
     },
     "execution_count": 149,
     "metadata": {},
     "output_type": "execute_result"
    }
   ],
   "source": [
    "addr"
   ]
  },
  {
   "cell_type": "code",
   "execution_count": 148,
   "id": "de2896d1",
   "metadata": {},
   "outputs": [
    {
     "data": {
      "text/plain": [
       "0    4\n",
       "1    6\n",
       "dtype: int64"
      ]
     },
     "execution_count": 148,
     "metadata": {},
     "output_type": "execute_result"
    }
   ],
   "source": [
    "addr.str.find('시')"
   ]
  },
  {
   "cell_type": "code",
   "execution_count": 150,
   "id": "d26c3b01",
   "metadata": {},
   "outputs": [
    {
     "data": {
      "text/plain": [
       "0    서울\n",
       "1    경기\n",
       "dtype: object"
      ]
     },
     "execution_count": 150,
     "metadata": {},
     "output_type": "execute_result"
    }
   ],
   "source": [
    "addr.str.slice(0, 2)"
   ]
  },
  {
   "cell_type": "code",
   "execution_count": 151,
   "id": "4e36a183",
   "metadata": {},
   "outputs": [
    {
     "data": {
      "text/html": [
       "<div>\n",
       "<style scoped>\n",
       "    .dataframe tbody tr th:only-of-type {\n",
       "        vertical-align: middle;\n",
       "    }\n",
       "\n",
       "    .dataframe tbody tr th {\n",
       "        vertical-align: top;\n",
       "    }\n",
       "\n",
       "    .dataframe thead th {\n",
       "        text-align: right;\n",
       "    }\n",
       "</style>\n",
       "<table border=\"1\" class=\"dataframe\">\n",
       "  <thead>\n",
       "    <tr style=\"text-align: right;\">\n",
       "      <th></th>\n",
       "      <th>0</th>\n",
       "    </tr>\n",
       "  </thead>\n",
       "  <tbody>\n",
       "    <tr>\n",
       "      <th>0</th>\n",
       "      <td>서울특별시</td>\n",
       "    </tr>\n",
       "    <tr>\n",
       "      <th>1</th>\n",
       "      <td>경기도 성남시</td>\n",
       "    </tr>\n",
       "  </tbody>\n",
       "</table>\n",
       "</div>"
      ],
      "text/plain": [
       "         0\n",
       "0    서울특별시\n",
       "1  경기도 성남시"
      ]
     },
     "execution_count": 151,
     "metadata": {},
     "output_type": "execute_result"
    }
   ],
   "source": [
    "addr.str.extract('(.+시)')"
   ]
  },
  {
   "cell_type": "code",
   "execution_count": 162,
   "id": "30feaf15",
   "metadata": {},
   "outputs": [
    {
     "data": {
      "text/plain": [
       "0      서울특별시 강남구\n",
       "1    경기도 성남시 분당구\n",
       "dtype: object"
      ]
     },
     "execution_count": 162,
     "metadata": {},
     "output_type": "execute_result"
    }
   ],
   "source": [
    "addr"
   ]
  },
  {
   "cell_type": "code",
   "execution_count": 164,
   "id": "90b3983a",
   "metadata": {},
   "outputs": [
    {
     "data": {
      "text/html": [
       "<div>\n",
       "<style scoped>\n",
       "    .dataframe tbody tr th:only-of-type {\n",
       "        vertical-align: middle;\n",
       "    }\n",
       "\n",
       "    .dataframe tbody tr th {\n",
       "        vertical-align: top;\n",
       "    }\n",
       "\n",
       "    .dataframe thead th {\n",
       "        text-align: right;\n",
       "    }\n",
       "</style>\n",
       "<table border=\"1\" class=\"dataframe\">\n",
       "  <thead>\n",
       "    <tr style=\"text-align: right;\">\n",
       "      <th></th>\n",
       "      <th>0</th>\n",
       "    </tr>\n",
       "  </thead>\n",
       "  <tbody>\n",
       "    <tr>\n",
       "      <th>0</th>\n",
       "      <td>강남구</td>\n",
       "    </tr>\n",
       "    <tr>\n",
       "      <th>1</th>\n",
       "      <td>분당구</td>\n",
       "    </tr>\n",
       "  </tbody>\n",
       "</table>\n",
       "</div>"
      ],
      "text/plain": [
       "     0\n",
       "0  강남구\n",
       "1  분당구"
      ]
     },
     "execution_count": 164,
     "metadata": {},
     "output_type": "execute_result"
    }
   ],
   "source": [
    "addr.str.extract('([가-힣]+구)')"
   ]
  },
  {
   "cell_type": "code",
   "execution_count": 158,
   "id": "fb48c49c",
   "metadata": {},
   "outputs": [],
   "source": [
    "prods = pd.Series(data = ['55A', '66B', 'OLED77C88'])"
   ]
  },
  {
   "cell_type": "code",
   "execution_count": 161,
   "id": "9a70d79d",
   "metadata": {},
   "outputs": [
    {
     "data": {
      "text/html": [
       "<div>\n",
       "<style scoped>\n",
       "    .dataframe tbody tr th:only-of-type {\n",
       "        vertical-align: middle;\n",
       "    }\n",
       "\n",
       "    .dataframe tbody tr th {\n",
       "        vertical-align: top;\n",
       "    }\n",
       "\n",
       "    .dataframe thead th {\n",
       "        text-align: right;\n",
       "    }\n",
       "</style>\n",
       "<table border=\"1\" class=\"dataframe\">\n",
       "  <thead>\n",
       "    <tr style=\"text-align: right;\">\n",
       "      <th></th>\n",
       "      <th>0</th>\n",
       "    </tr>\n",
       "  </thead>\n",
       "  <tbody>\n",
       "    <tr>\n",
       "      <th>0</th>\n",
       "      <td>NaN</td>\n",
       "    </tr>\n",
       "    <tr>\n",
       "      <th>1</th>\n",
       "      <td>NaN</td>\n",
       "    </tr>\n",
       "    <tr>\n",
       "      <th>2</th>\n",
       "      <td>88</td>\n",
       "    </tr>\n",
       "  </tbody>\n",
       "</table>\n",
       "</div>"
      ],
      "text/plain": [
       "     0\n",
       "0  NaN\n",
       "1  NaN\n",
       "2   88"
      ]
     },
     "execution_count": 161,
     "metadata": {},
     "output_type": "execute_result"
    }
   ],
   "source": [
    "prods.str.extract('([0-9]+$)')"
   ]
  },
  {
   "cell_type": "code",
   "execution_count": 167,
   "id": "c8a63957",
   "metadata": {},
   "outputs": [
    {
     "data": {
      "text/html": [
       "<div>\n",
       "<style scoped>\n",
       "    .dataframe tbody tr th:only-of-type {\n",
       "        vertical-align: middle;\n",
       "    }\n",
       "\n",
       "    .dataframe tbody tr th {\n",
       "        vertical-align: top;\n",
       "    }\n",
       "\n",
       "    .dataframe thead th {\n",
       "        text-align: right;\n",
       "    }\n",
       "</style>\n",
       "<table border=\"1\" class=\"dataframe\">\n",
       "  <thead>\n",
       "    <tr style=\"text-align: right;\">\n",
       "      <th></th>\n",
       "      <th>0</th>\n",
       "    </tr>\n",
       "  </thead>\n",
       "  <tbody>\n",
       "    <tr>\n",
       "      <th>0</th>\n",
       "      <td>NaN</td>\n",
       "    </tr>\n",
       "    <tr>\n",
       "      <th>1</th>\n",
       "      <td>NaN</td>\n",
       "    </tr>\n",
       "    <tr>\n",
       "      <th>2</th>\n",
       "      <td>OLED77</td>\n",
       "    </tr>\n",
       "  </tbody>\n",
       "</table>\n",
       "</div>"
      ],
      "text/plain": [
       "        0\n",
       "0     NaN\n",
       "1     NaN\n",
       "2  OLED77"
      ]
     },
     "execution_count": 167,
     "metadata": {},
     "output_type": "execute_result"
    }
   ],
   "source": [
    "prods.str.extract('(OLED\\\\d+)')"
   ]
  },
  {
   "cell_type": "code",
   "execution_count": 160,
   "id": "cc746077",
   "metadata": {},
   "outputs": [
    {
     "data": {
      "text/html": [
       "<div>\n",
       "<style scoped>\n",
       "    .dataframe tbody tr th:only-of-type {\n",
       "        vertical-align: middle;\n",
       "    }\n",
       "\n",
       "    .dataframe tbody tr th {\n",
       "        vertical-align: top;\n",
       "    }\n",
       "\n",
       "    .dataframe thead th {\n",
       "        text-align: right;\n",
       "    }\n",
       "</style>\n",
       "<table border=\"1\" class=\"dataframe\">\n",
       "  <thead>\n",
       "    <tr style=\"text-align: right;\">\n",
       "      <th></th>\n",
       "      <th>0</th>\n",
       "    </tr>\n",
       "  </thead>\n",
       "  <tbody>\n",
       "    <tr>\n",
       "      <th>0</th>\n",
       "      <td>NaN</td>\n",
       "    </tr>\n",
       "    <tr>\n",
       "      <th>1</th>\n",
       "      <td>NaN</td>\n",
       "    </tr>\n",
       "    <tr>\n",
       "      <th>2</th>\n",
       "      <td>77</td>\n",
       "    </tr>\n",
       "  </tbody>\n",
       "</table>\n",
       "</div>"
      ],
      "text/plain": [
       "     0\n",
       "0  NaN\n",
       "1  NaN\n",
       "2   77"
      ]
     },
     "execution_count": 160,
     "metadata": {},
     "output_type": "execute_result"
    }
   ],
   "source": [
    "prods.str.extract('((?<=OLED)\\\\d+)')"
   ]
  },
  {
   "cell_type": "code",
   "execution_count": 168,
   "id": "a590a9cf",
   "metadata": {
    "collapsed": true
   },
   "outputs": [
    {
     "data": {
      "text/html": [
       "<div>\n",
       "<style scoped>\n",
       "    .dataframe tbody tr th:only-of-type {\n",
       "        vertical-align: middle;\n",
       "    }\n",
       "\n",
       "    .dataframe tbody tr th {\n",
       "        vertical-align: top;\n",
       "    }\n",
       "\n",
       "    .dataframe thead th {\n",
       "        text-align: right;\n",
       "    }\n",
       "</style>\n",
       "<table border=\"1\" class=\"dataframe\">\n",
       "  <thead>\n",
       "    <tr style=\"text-align: right;\">\n",
       "      <th></th>\n",
       "      <th>아파트</th>\n",
       "      <th>시</th>\n",
       "      <th>구</th>\n",
       "      <th>동</th>\n",
       "      <th>지번</th>\n",
       "      <th>건축년도</th>\n",
       "      <th>거래일</th>\n",
       "      <th>전용면적</th>\n",
       "      <th>층</th>\n",
       "      <th>거래금액</th>\n",
       "    </tr>\n",
       "  </thead>\n",
       "  <tbody>\n",
       "    <tr>\n",
       "      <th>126596</th>\n",
       "      <td>파르크한남</td>\n",
       "      <td>서울특별시</td>\n",
       "      <td>용산구</td>\n",
       "      <td>한남동</td>\n",
       "      <td>410</td>\n",
       "      <td>2020.0</td>\n",
       "      <td>2021-12-13</td>\n",
       "      <td>268.950</td>\n",
       "      <td>2</td>\n",
       "      <td>1200000</td>\n",
       "    </tr>\n",
       "    <tr>\n",
       "      <th>131285</th>\n",
       "      <td>파르크한남</td>\n",
       "      <td>서울특별시</td>\n",
       "      <td>용산구</td>\n",
       "      <td>한남동</td>\n",
       "      <td>410</td>\n",
       "      <td>2020.0</td>\n",
       "      <td>2022-04-30</td>\n",
       "      <td>268.670</td>\n",
       "      <td>5</td>\n",
       "      <td>1350000</td>\n",
       "    </tr>\n",
       "    <tr>\n",
       "      <th>132781</th>\n",
       "      <td>PH129</td>\n",
       "      <td>서울특별시</td>\n",
       "      <td>강남구</td>\n",
       "      <td>청담동</td>\n",
       "      <td>129</td>\n",
       "      <td>2020.0</td>\n",
       "      <td>2022-04-28</td>\n",
       "      <td>273.960</td>\n",
       "      <td>16</td>\n",
       "      <td>1450000</td>\n",
       "    </tr>\n",
       "    <tr>\n",
       "      <th>137420</th>\n",
       "      <td>아크로서울포레스트</td>\n",
       "      <td>서울특별시</td>\n",
       "      <td>성동구</td>\n",
       "      <td>성수동1가</td>\n",
       "      <td>685-700</td>\n",
       "      <td>2020.0</td>\n",
       "      <td>2022-09-30</td>\n",
       "      <td>264.546</td>\n",
       "      <td>47</td>\n",
       "      <td>1300000</td>\n",
       "    </tr>\n",
       "  </tbody>\n",
       "</table>\n",
       "</div>"
      ],
      "text/plain": [
       "              아파트      시    구      동       지번    건축년도        거래일     전용면적   층  \\\n",
       "126596      파르크한남  서울특별시  용산구    한남동      410  2020.0 2021-12-13  268.950   2   \n",
       "131285      파르크한남  서울특별시  용산구    한남동      410  2020.0 2022-04-30  268.670   5   \n",
       "132781      PH129  서울특별시  강남구    청담동      129  2020.0 2022-04-28  273.960  16   \n",
       "137420  아크로서울포레스트  서울특별시  성동구  성수동1가  685-700  2020.0 2022-09-30  264.546  47   \n",
       "\n",
       "           거래금액  \n",
       "126596  1200000  \n",
       "131285  1350000  \n",
       "132781  1450000  \n",
       "137420  1300000  "
      ]
     },
     "execution_count": 168,
     "metadata": {},
     "output_type": "execute_result"
    }
   ],
   "source": [
    "df1"
   ]
  },
  {
   "cell_type": "code",
   "execution_count": 169,
   "id": "cdbe41ae",
   "metadata": {
    "collapsed": true
   },
   "outputs": [
    {
     "data": {
      "text/html": [
       "<div>\n",
       "<style scoped>\n",
       "    .dataframe tbody tr th:only-of-type {\n",
       "        vertical-align: middle;\n",
       "    }\n",
       "\n",
       "    .dataframe tbody tr th {\n",
       "        vertical-align: top;\n",
       "    }\n",
       "\n",
       "    .dataframe thead th {\n",
       "        text-align: right;\n",
       "    }\n",
       "</style>\n",
       "<table border=\"1\" class=\"dataframe\">\n",
       "  <thead>\n",
       "    <tr style=\"text-align: right;\">\n",
       "      <th></th>\n",
       "      <th>아파트</th>\n",
       "      <th>시</th>\n",
       "      <th>구</th>\n",
       "      <th>동</th>\n",
       "      <th>지번</th>\n",
       "      <th>건축년도</th>\n",
       "      <th>거래일</th>\n",
       "      <th>전용면적</th>\n",
       "      <th>층</th>\n",
       "      <th>거래금액</th>\n",
       "    </tr>\n",
       "  </thead>\n",
       "  <tbody>\n",
       "    <tr>\n",
       "      <th>132781</th>\n",
       "      <td>PH129</td>\n",
       "      <td>서울특별시</td>\n",
       "      <td>강남구</td>\n",
       "      <td>청담동</td>\n",
       "      <td>129</td>\n",
       "      <td>2020.0</td>\n",
       "      <td>2022-04-28</td>\n",
       "      <td>273.960</td>\n",
       "      <td>16</td>\n",
       "      <td>1450000</td>\n",
       "    </tr>\n",
       "    <tr>\n",
       "      <th>137420</th>\n",
       "      <td>아크로서울포레스트</td>\n",
       "      <td>서울특별시</td>\n",
       "      <td>성동구</td>\n",
       "      <td>성수동1가</td>\n",
       "      <td>685-700</td>\n",
       "      <td>2020.0</td>\n",
       "      <td>2022-09-30</td>\n",
       "      <td>264.546</td>\n",
       "      <td>47</td>\n",
       "      <td>1300000</td>\n",
       "    </tr>\n",
       "  </tbody>\n",
       "</table>\n",
       "</div>"
      ],
      "text/plain": [
       "              아파트      시    구      동       지번    건축년도        거래일     전용면적   층  \\\n",
       "132781      PH129  서울특별시  강남구    청담동      129  2020.0 2022-04-28  273.960  16   \n",
       "137420  아크로서울포레스트  서울특별시  성동구  성수동1가  685-700  2020.0 2022-09-30  264.546  47   \n",
       "\n",
       "           거래금액  \n",
       "132781  1450000  \n",
       "137420  1300000  "
      ]
     },
     "execution_count": 169,
     "metadata": {},
     "output_type": "execute_result"
    }
   ],
   "source": [
    "df1.drop(index = [126596, 131285])"
   ]
  },
  {
   "cell_type": "code",
   "execution_count": 170,
   "id": "42878f67",
   "metadata": {},
   "outputs": [
    {
     "data": {
      "text/plain": [
       "Int64Index([126596, 131285, 132781, 137420], dtype='int64')"
      ]
     },
     "execution_count": 170,
     "metadata": {},
     "output_type": "execute_result"
    }
   ],
   "source": [
    "df1.index"
   ]
  },
  {
   "cell_type": "code",
   "execution_count": 171,
   "id": "662edfbd",
   "metadata": {},
   "outputs": [
    {
     "data": {
      "text/html": [
       "<div>\n",
       "<style scoped>\n",
       "    .dataframe tbody tr th:only-of-type {\n",
       "        vertical-align: middle;\n",
       "    }\n",
       "\n",
       "    .dataframe tbody tr th {\n",
       "        vertical-align: top;\n",
       "    }\n",
       "\n",
       "    .dataframe thead th {\n",
       "        text-align: right;\n",
       "    }\n",
       "</style>\n",
       "<table border=\"1\" class=\"dataframe\">\n",
       "  <thead>\n",
       "    <tr style=\"text-align: right;\">\n",
       "      <th></th>\n",
       "      <th>아파트</th>\n",
       "      <th>시</th>\n",
       "      <th>구</th>\n",
       "      <th>동</th>\n",
       "      <th>지번</th>\n",
       "      <th>건축년도</th>\n",
       "      <th>거래일</th>\n",
       "      <th>전용면적</th>\n",
       "      <th>층</th>\n",
       "      <th>거래금액</th>\n",
       "    </tr>\n",
       "  </thead>\n",
       "  <tbody>\n",
       "    <tr>\n",
       "      <th>132781</th>\n",
       "      <td>PH129</td>\n",
       "      <td>서울특별시</td>\n",
       "      <td>강남구</td>\n",
       "      <td>청담동</td>\n",
       "      <td>129</td>\n",
       "      <td>2020.0</td>\n",
       "      <td>2022-04-28</td>\n",
       "      <td>273.960</td>\n",
       "      <td>16</td>\n",
       "      <td>1450000</td>\n",
       "    </tr>\n",
       "    <tr>\n",
       "      <th>137420</th>\n",
       "      <td>아크로서울포레스트</td>\n",
       "      <td>서울특별시</td>\n",
       "      <td>성동구</td>\n",
       "      <td>성수동1가</td>\n",
       "      <td>685-700</td>\n",
       "      <td>2020.0</td>\n",
       "      <td>2022-09-30</td>\n",
       "      <td>264.546</td>\n",
       "      <td>47</td>\n",
       "      <td>1300000</td>\n",
       "    </tr>\n",
       "  </tbody>\n",
       "</table>\n",
       "</div>"
      ],
      "text/plain": [
       "              아파트      시    구      동       지번    건축년도        거래일     전용면적   층  \\\n",
       "132781      PH129  서울특별시  강남구    청담동      129  2020.0 2022-04-28  273.960  16   \n",
       "137420  아크로서울포레스트  서울특별시  성동구  성수동1가  685-700  2020.0 2022-09-30  264.546  47   \n",
       "\n",
       "           거래금액  \n",
       "132781  1450000  \n",
       "137420  1300000  "
      ]
     },
     "execution_count": 171,
     "metadata": {},
     "output_type": "execute_result"
    }
   ],
   "source": [
    "df1.drop(index = df1.index[0:2])"
   ]
  },
  {
   "cell_type": "code",
   "execution_count": 172,
   "id": "805ca879",
   "metadata": {
    "collapsed": true
   },
   "outputs": [
    {
     "data": {
      "text/html": [
       "<div>\n",
       "<style scoped>\n",
       "    .dataframe tbody tr th:only-of-type {\n",
       "        vertical-align: middle;\n",
       "    }\n",
       "\n",
       "    .dataframe tbody tr th {\n",
       "        vertical-align: top;\n",
       "    }\n",
       "\n",
       "    .dataframe thead th {\n",
       "        text-align: right;\n",
       "    }\n",
       "</style>\n",
       "<table border=\"1\" class=\"dataframe\">\n",
       "  <thead>\n",
       "    <tr style=\"text-align: right;\">\n",
       "      <th></th>\n",
       "      <th>아파트</th>\n",
       "      <th>시</th>\n",
       "      <th>구</th>\n",
       "      <th>동</th>\n",
       "      <th>지번</th>\n",
       "      <th>건축년도</th>\n",
       "      <th>거래일</th>\n",
       "      <th>전용면적</th>\n",
       "      <th>층</th>\n",
       "      <th>거래금액</th>\n",
       "    </tr>\n",
       "  </thead>\n",
       "  <tbody>\n",
       "    <tr>\n",
       "      <th>126596</th>\n",
       "      <td>파르크한남</td>\n",
       "      <td>서울특별시</td>\n",
       "      <td>용산구</td>\n",
       "      <td>한남동</td>\n",
       "      <td>410</td>\n",
       "      <td>2020.0</td>\n",
       "      <td>2021-12-13</td>\n",
       "      <td>268.950</td>\n",
       "      <td>2</td>\n",
       "      <td>1200000</td>\n",
       "    </tr>\n",
       "    <tr>\n",
       "      <th>131285</th>\n",
       "      <td>파르크한남</td>\n",
       "      <td>서울특별시</td>\n",
       "      <td>용산구</td>\n",
       "      <td>한남동</td>\n",
       "      <td>410</td>\n",
       "      <td>2020.0</td>\n",
       "      <td>2022-04-30</td>\n",
       "      <td>268.670</td>\n",
       "      <td>5</td>\n",
       "      <td>1350000</td>\n",
       "    </tr>\n",
       "    <tr>\n",
       "      <th>132781</th>\n",
       "      <td>PH129</td>\n",
       "      <td>서울특별시</td>\n",
       "      <td>강남구</td>\n",
       "      <td>청담동</td>\n",
       "      <td>129</td>\n",
       "      <td>2020.0</td>\n",
       "      <td>2022-04-28</td>\n",
       "      <td>273.960</td>\n",
       "      <td>16</td>\n",
       "      <td>1450000</td>\n",
       "    </tr>\n",
       "    <tr>\n",
       "      <th>137420</th>\n",
       "      <td>아크로서울포레스트</td>\n",
       "      <td>서울특별시</td>\n",
       "      <td>성동구</td>\n",
       "      <td>성수동1가</td>\n",
       "      <td>685-700</td>\n",
       "      <td>2020.0</td>\n",
       "      <td>2022-09-30</td>\n",
       "      <td>264.546</td>\n",
       "      <td>47</td>\n",
       "      <td>1300000</td>\n",
       "    </tr>\n",
       "  </tbody>\n",
       "</table>\n",
       "</div>"
      ],
      "text/plain": [
       "              아파트      시    구      동       지번    건축년도        거래일     전용면적   층  \\\n",
       "126596      파르크한남  서울특별시  용산구    한남동      410  2020.0 2021-12-13  268.950   2   \n",
       "131285      파르크한남  서울특별시  용산구    한남동      410  2020.0 2022-04-30  268.670   5   \n",
       "132781      PH129  서울특별시  강남구    청담동      129  2020.0 2022-04-28  273.960  16   \n",
       "137420  아크로서울포레스트  서울특별시  성동구  성수동1가  685-700  2020.0 2022-09-30  264.546  47   \n",
       "\n",
       "           거래금액  \n",
       "126596  1200000  \n",
       "131285  1350000  \n",
       "132781  1450000  \n",
       "137420  1300000  "
      ]
     },
     "execution_count": 172,
     "metadata": {},
     "output_type": "execute_result"
    }
   ],
   "source": [
    "df1"
   ]
  },
  {
   "cell_type": "code",
   "execution_count": 173,
   "id": "ce1d3acf",
   "metadata": {
    "collapsed": true
   },
   "outputs": [
    {
     "data": {
      "text/html": [
       "<div>\n",
       "<style scoped>\n",
       "    .dataframe tbody tr th:only-of-type {\n",
       "        vertical-align: middle;\n",
       "    }\n",
       "\n",
       "    .dataframe tbody tr th {\n",
       "        vertical-align: top;\n",
       "    }\n",
       "\n",
       "    .dataframe thead th {\n",
       "        text-align: right;\n",
       "    }\n",
       "</style>\n",
       "<table border=\"1\" class=\"dataframe\">\n",
       "  <thead>\n",
       "    <tr style=\"text-align: right;\">\n",
       "      <th></th>\n",
       "      <th>index</th>\n",
       "      <th>아파트</th>\n",
       "      <th>시</th>\n",
       "      <th>구</th>\n",
       "      <th>동</th>\n",
       "      <th>지번</th>\n",
       "      <th>건축년도</th>\n",
       "      <th>거래일</th>\n",
       "      <th>전용면적</th>\n",
       "      <th>층</th>\n",
       "      <th>거래금액</th>\n",
       "    </tr>\n",
       "  </thead>\n",
       "  <tbody>\n",
       "    <tr>\n",
       "      <th>0</th>\n",
       "      <td>126596</td>\n",
       "      <td>파르크한남</td>\n",
       "      <td>서울특별시</td>\n",
       "      <td>용산구</td>\n",
       "      <td>한남동</td>\n",
       "      <td>410</td>\n",
       "      <td>2020.0</td>\n",
       "      <td>2021-12-13</td>\n",
       "      <td>268.950</td>\n",
       "      <td>2</td>\n",
       "      <td>1200000</td>\n",
       "    </tr>\n",
       "    <tr>\n",
       "      <th>1</th>\n",
       "      <td>131285</td>\n",
       "      <td>파르크한남</td>\n",
       "      <td>서울특별시</td>\n",
       "      <td>용산구</td>\n",
       "      <td>한남동</td>\n",
       "      <td>410</td>\n",
       "      <td>2020.0</td>\n",
       "      <td>2022-04-30</td>\n",
       "      <td>268.670</td>\n",
       "      <td>5</td>\n",
       "      <td>1350000</td>\n",
       "    </tr>\n",
       "    <tr>\n",
       "      <th>2</th>\n",
       "      <td>132781</td>\n",
       "      <td>PH129</td>\n",
       "      <td>서울특별시</td>\n",
       "      <td>강남구</td>\n",
       "      <td>청담동</td>\n",
       "      <td>129</td>\n",
       "      <td>2020.0</td>\n",
       "      <td>2022-04-28</td>\n",
       "      <td>273.960</td>\n",
       "      <td>16</td>\n",
       "      <td>1450000</td>\n",
       "    </tr>\n",
       "    <tr>\n",
       "      <th>3</th>\n",
       "      <td>137420</td>\n",
       "      <td>아크로서울포레스트</td>\n",
       "      <td>서울특별시</td>\n",
       "      <td>성동구</td>\n",
       "      <td>성수동1가</td>\n",
       "      <td>685-700</td>\n",
       "      <td>2020.0</td>\n",
       "      <td>2022-09-30</td>\n",
       "      <td>264.546</td>\n",
       "      <td>47</td>\n",
       "      <td>1300000</td>\n",
       "    </tr>\n",
       "  </tbody>\n",
       "</table>\n",
       "</div>"
      ],
      "text/plain": [
       "    index        아파트      시    구      동       지번    건축년도        거래일     전용면적  \\\n",
       "0  126596      파르크한남  서울특별시  용산구    한남동      410  2020.0 2021-12-13  268.950   \n",
       "1  131285      파르크한남  서울특별시  용산구    한남동      410  2020.0 2022-04-30  268.670   \n",
       "2  132781      PH129  서울특별시  강남구    청담동      129  2020.0 2022-04-28  273.960   \n",
       "3  137420  아크로서울포레스트  서울특별시  성동구  성수동1가  685-700  2020.0 2022-09-30  264.546   \n",
       "\n",
       "    층     거래금액  \n",
       "0   2  1200000  \n",
       "1   5  1350000  \n",
       "2  16  1450000  \n",
       "3  47  1300000  "
      ]
     },
     "execution_count": 173,
     "metadata": {},
     "output_type": "execute_result"
    }
   ],
   "source": [
    "df1.reset_index()"
   ]
  },
  {
   "cell_type": "code",
   "execution_count": 174,
   "id": "7e4a984a",
   "metadata": {},
   "outputs": [
    {
     "data": {
      "text/html": [
       "<div>\n",
       "<style scoped>\n",
       "    .dataframe tbody tr th:only-of-type {\n",
       "        vertical-align: middle;\n",
       "    }\n",
       "\n",
       "    .dataframe tbody tr th {\n",
       "        vertical-align: top;\n",
       "    }\n",
       "\n",
       "    .dataframe thead th {\n",
       "        text-align: right;\n",
       "    }\n",
       "</style>\n",
       "<table border=\"1\" class=\"dataframe\">\n",
       "  <thead>\n",
       "    <tr style=\"text-align: right;\">\n",
       "      <th></th>\n",
       "      <th>아파트</th>\n",
       "      <th>시</th>\n",
       "      <th>구</th>\n",
       "      <th>동</th>\n",
       "      <th>지번</th>\n",
       "      <th>건축년도</th>\n",
       "      <th>거래일</th>\n",
       "      <th>전용면적</th>\n",
       "      <th>층</th>\n",
       "      <th>거래금액</th>\n",
       "    </tr>\n",
       "  </thead>\n",
       "  <tbody>\n",
       "    <tr>\n",
       "      <th>0</th>\n",
       "      <td>파르크한남</td>\n",
       "      <td>서울특별시</td>\n",
       "      <td>용산구</td>\n",
       "      <td>한남동</td>\n",
       "      <td>410</td>\n",
       "      <td>2020.0</td>\n",
       "      <td>2021-12-13</td>\n",
       "      <td>268.950</td>\n",
       "      <td>2</td>\n",
       "      <td>1200000</td>\n",
       "    </tr>\n",
       "    <tr>\n",
       "      <th>1</th>\n",
       "      <td>파르크한남</td>\n",
       "      <td>서울특별시</td>\n",
       "      <td>용산구</td>\n",
       "      <td>한남동</td>\n",
       "      <td>410</td>\n",
       "      <td>2020.0</td>\n",
       "      <td>2022-04-30</td>\n",
       "      <td>268.670</td>\n",
       "      <td>5</td>\n",
       "      <td>1350000</td>\n",
       "    </tr>\n",
       "    <tr>\n",
       "      <th>2</th>\n",
       "      <td>PH129</td>\n",
       "      <td>서울특별시</td>\n",
       "      <td>강남구</td>\n",
       "      <td>청담동</td>\n",
       "      <td>129</td>\n",
       "      <td>2020.0</td>\n",
       "      <td>2022-04-28</td>\n",
       "      <td>273.960</td>\n",
       "      <td>16</td>\n",
       "      <td>1450000</td>\n",
       "    </tr>\n",
       "    <tr>\n",
       "      <th>3</th>\n",
       "      <td>아크로서울포레스트</td>\n",
       "      <td>서울특별시</td>\n",
       "      <td>성동구</td>\n",
       "      <td>성수동1가</td>\n",
       "      <td>685-700</td>\n",
       "      <td>2020.0</td>\n",
       "      <td>2022-09-30</td>\n",
       "      <td>264.546</td>\n",
       "      <td>47</td>\n",
       "      <td>1300000</td>\n",
       "    </tr>\n",
       "  </tbody>\n",
       "</table>\n",
       "</div>"
      ],
      "text/plain": [
       "         아파트      시    구      동       지번    건축년도        거래일     전용면적   층  \\\n",
       "0      파르크한남  서울특별시  용산구    한남동      410  2020.0 2021-12-13  268.950   2   \n",
       "1      파르크한남  서울특별시  용산구    한남동      410  2020.0 2022-04-30  268.670   5   \n",
       "2      PH129  서울특별시  강남구    청담동      129  2020.0 2022-04-28  273.960  16   \n",
       "3  아크로서울포레스트  서울특별시  성동구  성수동1가  685-700  2020.0 2022-09-30  264.546  47   \n",
       "\n",
       "      거래금액  \n",
       "0  1200000  \n",
       "1  1350000  \n",
       "2  1450000  \n",
       "3  1300000  "
      ]
     },
     "execution_count": 174,
     "metadata": {},
     "output_type": "execute_result"
    }
   ],
   "source": [
    "df1.reset_index(drop = True)"
   ]
  },
  {
   "cell_type": "code",
   "execution_count": 194,
   "id": "d716ec07",
   "metadata": {},
   "outputs": [
    {
     "data": {
      "text/html": [
       "<div>\n",
       "<style scoped>\n",
       "    .dataframe tbody tr th:only-of-type {\n",
       "        vertical-align: middle;\n",
       "    }\n",
       "\n",
       "    .dataframe tbody tr th {\n",
       "        vertical-align: top;\n",
       "    }\n",
       "\n",
       "    .dataframe thead th {\n",
       "        text-align: right;\n",
       "    }\n",
       "</style>\n",
       "<table border=\"1\" class=\"dataframe\">\n",
       "  <thead>\n",
       "    <tr style=\"text-align: right;\">\n",
       "      <th></th>\n",
       "      <th></th>\n",
       "      <th></th>\n",
       "      <th>구</th>\n",
       "      <th>지번</th>\n",
       "      <th>건축년도</th>\n",
       "      <th>거래일</th>\n",
       "      <th>전용면적</th>\n",
       "      <th>층</th>\n",
       "      <th>거래금액</th>\n",
       "    </tr>\n",
       "    <tr>\n",
       "      <th>아파트</th>\n",
       "      <th>시</th>\n",
       "      <th>동</th>\n",
       "      <th></th>\n",
       "      <th></th>\n",
       "      <th></th>\n",
       "      <th></th>\n",
       "      <th></th>\n",
       "      <th></th>\n",
       "      <th></th>\n",
       "    </tr>\n",
       "  </thead>\n",
       "  <tbody>\n",
       "    <tr>\n",
       "      <th rowspan=\"2\" valign=\"top\">파르크한남</th>\n",
       "      <th rowspan=\"2\" valign=\"top\">서울특별시</th>\n",
       "      <th>한남동</th>\n",
       "      <td>용산구</td>\n",
       "      <td>410</td>\n",
       "      <td>2020.0</td>\n",
       "      <td>2021-12-13</td>\n",
       "      <td>268.950</td>\n",
       "      <td>2</td>\n",
       "      <td>1200000</td>\n",
       "    </tr>\n",
       "    <tr>\n",
       "      <th>한남동</th>\n",
       "      <td>용산구</td>\n",
       "      <td>410</td>\n",
       "      <td>2020.0</td>\n",
       "      <td>2022-04-30</td>\n",
       "      <td>268.670</td>\n",
       "      <td>5</td>\n",
       "      <td>1350000</td>\n",
       "    </tr>\n",
       "    <tr>\n",
       "      <th>PH129</th>\n",
       "      <th>서울특별시</th>\n",
       "      <th>청담동</th>\n",
       "      <td>강남구</td>\n",
       "      <td>129</td>\n",
       "      <td>2020.0</td>\n",
       "      <td>2022-04-28</td>\n",
       "      <td>273.960</td>\n",
       "      <td>16</td>\n",
       "      <td>1450000</td>\n",
       "    </tr>\n",
       "    <tr>\n",
       "      <th>아크로서울포레스트</th>\n",
       "      <th>서울특별시</th>\n",
       "      <th>성수동1가</th>\n",
       "      <td>성동구</td>\n",
       "      <td>685-700</td>\n",
       "      <td>2020.0</td>\n",
       "      <td>2022-09-30</td>\n",
       "      <td>264.546</td>\n",
       "      <td>47</td>\n",
       "      <td>1300000</td>\n",
       "    </tr>\n",
       "  </tbody>\n",
       "</table>\n",
       "</div>"
      ],
      "text/plain": [
       "                         구       지번    건축년도        거래일     전용면적   층     거래금액\n",
       "아파트       시     동                                                           \n",
       "파르크한남     서울특별시 한남동    용산구      410  2020.0 2021-12-13  268.950   2  1200000\n",
       "                한남동    용산구      410  2020.0 2022-04-30  268.670   5  1350000\n",
       "PH129     서울특별시 청담동    강남구      129  2020.0 2022-04-28  273.960  16  1450000\n",
       "아크로서울포레스트 서울특별시 성수동1가  성동구  685-700  2020.0 2022-09-30  264.546  47  1300000"
      ]
     },
     "execution_count": 194,
     "metadata": {},
     "output_type": "execute_result"
    }
   ],
   "source": [
    "df1 = df1.set_index(keys = ['아파트', '시', '동'])\n",
    "df1"
   ]
  },
  {
   "cell_type": "code",
   "execution_count": 195,
   "id": "91282578",
   "metadata": {},
   "outputs": [
    {
     "data": {
      "text/plain": [
       "MultiIndex([(    '파르크한남', '서울특별시',   '한남동'),\n",
       "            (    '파르크한남', '서울특별시',   '한남동'),\n",
       "            (    'PH129', '서울특별시',   '청담동'),\n",
       "            ('아크로서울포레스트', '서울특별시', '성수동1가')],\n",
       "           names=['아파트', '시', '동'])"
      ]
     },
     "execution_count": 195,
     "metadata": {},
     "output_type": "execute_result"
    }
   ],
   "source": [
    "df1.index"
   ]
  },
  {
   "cell_type": "code",
   "execution_count": 198,
   "id": "0d79e661",
   "metadata": {},
   "outputs": [],
   "source": [
    "df1.to_excel('test.xlsx')"
   ]
  },
  {
   "cell_type": "code",
   "execution_count": 199,
   "id": "9412d1e7",
   "metadata": {},
   "outputs": [],
   "source": [
    "df3 = pd.read_excel('test.xlsx')"
   ]
  },
  {
   "cell_type": "code",
   "execution_count": 200,
   "id": "bc5a3e0b",
   "metadata": {},
   "outputs": [
    {
     "data": {
      "text/html": [
       "<div>\n",
       "<style scoped>\n",
       "    .dataframe tbody tr th:only-of-type {\n",
       "        vertical-align: middle;\n",
       "    }\n",
       "\n",
       "    .dataframe tbody tr th {\n",
       "        vertical-align: top;\n",
       "    }\n",
       "\n",
       "    .dataframe thead th {\n",
       "        text-align: right;\n",
       "    }\n",
       "</style>\n",
       "<table border=\"1\" class=\"dataframe\">\n",
       "  <thead>\n",
       "    <tr style=\"text-align: right;\">\n",
       "      <th></th>\n",
       "      <th>아파트</th>\n",
       "      <th>시</th>\n",
       "      <th>동</th>\n",
       "      <th>구</th>\n",
       "      <th>지번</th>\n",
       "      <th>건축년도</th>\n",
       "      <th>거래일</th>\n",
       "      <th>전용면적</th>\n",
       "      <th>층</th>\n",
       "      <th>거래금액</th>\n",
       "    </tr>\n",
       "  </thead>\n",
       "  <tbody>\n",
       "    <tr>\n",
       "      <th>0</th>\n",
       "      <td>파르크한남</td>\n",
       "      <td>서울특별시</td>\n",
       "      <td>한남동</td>\n",
       "      <td>용산구</td>\n",
       "      <td>410</td>\n",
       "      <td>2020</td>\n",
       "      <td>2021-12-13</td>\n",
       "      <td>268.950</td>\n",
       "      <td>2</td>\n",
       "      <td>1200000</td>\n",
       "    </tr>\n",
       "    <tr>\n",
       "      <th>1</th>\n",
       "      <td>NaN</td>\n",
       "      <td>NaN</td>\n",
       "      <td>한남동</td>\n",
       "      <td>용산구</td>\n",
       "      <td>410</td>\n",
       "      <td>2020</td>\n",
       "      <td>2022-04-30</td>\n",
       "      <td>268.670</td>\n",
       "      <td>5</td>\n",
       "      <td>1350000</td>\n",
       "    </tr>\n",
       "    <tr>\n",
       "      <th>2</th>\n",
       "      <td>PH129</td>\n",
       "      <td>서울특별시</td>\n",
       "      <td>청담동</td>\n",
       "      <td>강남구</td>\n",
       "      <td>129</td>\n",
       "      <td>2020</td>\n",
       "      <td>2022-04-28</td>\n",
       "      <td>273.960</td>\n",
       "      <td>16</td>\n",
       "      <td>1450000</td>\n",
       "    </tr>\n",
       "    <tr>\n",
       "      <th>3</th>\n",
       "      <td>아크로서울포레스트</td>\n",
       "      <td>서울특별시</td>\n",
       "      <td>성수동1가</td>\n",
       "      <td>성동구</td>\n",
       "      <td>685-700</td>\n",
       "      <td>2020</td>\n",
       "      <td>2022-09-30</td>\n",
       "      <td>264.546</td>\n",
       "      <td>47</td>\n",
       "      <td>1300000</td>\n",
       "    </tr>\n",
       "  </tbody>\n",
       "</table>\n",
       "</div>"
      ],
      "text/plain": [
       "         아파트      시      동    구       지번  건축년도        거래일     전용면적   층  \\\n",
       "0      파르크한남  서울특별시    한남동  용산구      410  2020 2021-12-13  268.950   2   \n",
       "1        NaN    NaN    한남동  용산구      410  2020 2022-04-30  268.670   5   \n",
       "2      PH129  서울특별시    청담동  강남구      129  2020 2022-04-28  273.960  16   \n",
       "3  아크로서울포레스트  서울특별시  성수동1가  성동구  685-700  2020 2022-09-30  264.546  47   \n",
       "\n",
       "      거래금액  \n",
       "0  1200000  \n",
       "1  1350000  \n",
       "2  1450000  \n",
       "3  1300000  "
      ]
     },
     "execution_count": 200,
     "metadata": {},
     "output_type": "execute_result"
    }
   ],
   "source": [
    "df3"
   ]
  },
  {
   "cell_type": "code",
   "execution_count": 202,
   "id": "c76ca538",
   "metadata": {},
   "outputs": [
    {
     "data": {
      "text/html": [
       "<div>\n",
       "<style scoped>\n",
       "    .dataframe tbody tr th:only-of-type {\n",
       "        vertical-align: middle;\n",
       "    }\n",
       "\n",
       "    .dataframe tbody tr th {\n",
       "        vertical-align: top;\n",
       "    }\n",
       "\n",
       "    .dataframe thead th {\n",
       "        text-align: right;\n",
       "    }\n",
       "</style>\n",
       "<table border=\"1\" class=\"dataframe\">\n",
       "  <thead>\n",
       "    <tr style=\"text-align: right;\">\n",
       "      <th></th>\n",
       "      <th>아파트</th>\n",
       "      <th>시</th>\n",
       "      <th>동</th>\n",
       "      <th>구</th>\n",
       "      <th>지번</th>\n",
       "      <th>건축년도</th>\n",
       "      <th>거래일</th>\n",
       "      <th>전용면적</th>\n",
       "      <th>층</th>\n",
       "      <th>거래금액</th>\n",
       "    </tr>\n",
       "  </thead>\n",
       "  <tbody>\n",
       "    <tr>\n",
       "      <th>0</th>\n",
       "      <td>파르크한남</td>\n",
       "      <td>서울특별시</td>\n",
       "      <td>한남동</td>\n",
       "      <td>용산구</td>\n",
       "      <td>410</td>\n",
       "      <td>2020</td>\n",
       "      <td>2021-12-13</td>\n",
       "      <td>268.950</td>\n",
       "      <td>2</td>\n",
       "      <td>1200000</td>\n",
       "    </tr>\n",
       "    <tr>\n",
       "      <th>1</th>\n",
       "      <td>PH129</td>\n",
       "      <td>서울특별시</td>\n",
       "      <td>한남동</td>\n",
       "      <td>용산구</td>\n",
       "      <td>410</td>\n",
       "      <td>2020</td>\n",
       "      <td>2022-04-30</td>\n",
       "      <td>268.670</td>\n",
       "      <td>5</td>\n",
       "      <td>1350000</td>\n",
       "    </tr>\n",
       "    <tr>\n",
       "      <th>2</th>\n",
       "      <td>PH129</td>\n",
       "      <td>서울특별시</td>\n",
       "      <td>청담동</td>\n",
       "      <td>강남구</td>\n",
       "      <td>129</td>\n",
       "      <td>2020</td>\n",
       "      <td>2022-04-28</td>\n",
       "      <td>273.960</td>\n",
       "      <td>16</td>\n",
       "      <td>1450000</td>\n",
       "    </tr>\n",
       "    <tr>\n",
       "      <th>3</th>\n",
       "      <td>아크로서울포레스트</td>\n",
       "      <td>서울특별시</td>\n",
       "      <td>성수동1가</td>\n",
       "      <td>성동구</td>\n",
       "      <td>685-700</td>\n",
       "      <td>2020</td>\n",
       "      <td>2022-09-30</td>\n",
       "      <td>264.546</td>\n",
       "      <td>47</td>\n",
       "      <td>1300000</td>\n",
       "    </tr>\n",
       "  </tbody>\n",
       "</table>\n",
       "</div>"
      ],
      "text/plain": [
       "         아파트      시      동    구       지번  건축년도        거래일     전용면적   층  \\\n",
       "0      파르크한남  서울특별시    한남동  용산구      410  2020 2021-12-13  268.950   2   \n",
       "1      PH129  서울특별시    한남동  용산구      410  2020 2022-04-30  268.670   5   \n",
       "2      PH129  서울특별시    청담동  강남구      129  2020 2022-04-28  273.960  16   \n",
       "3  아크로서울포레스트  서울특별시  성수동1가  성동구  685-700  2020 2022-09-30  264.546  47   \n",
       "\n",
       "      거래금액  \n",
       "0  1200000  \n",
       "1  1350000  \n",
       "2  1450000  \n",
       "3  1300000  "
      ]
     },
     "execution_count": 202,
     "metadata": {},
     "output_type": "execute_result"
    }
   ],
   "source": [
    "df3.fillna(method = 'bfill')"
   ]
  },
  {
   "cell_type": "code",
   "execution_count": 181,
   "id": "ff8feb22",
   "metadata": {},
   "outputs": [],
   "source": [
    "df1 = df1.reset_index()"
   ]
  },
  {
   "cell_type": "code",
   "execution_count": 185,
   "id": "55e8287d",
   "metadata": {},
   "outputs": [],
   "source": [
    "df1.index.name = '인덱스'"
   ]
  },
  {
   "cell_type": "code",
   "execution_count": 186,
   "id": "088ff0bd",
   "metadata": {
    "collapsed": true
   },
   "outputs": [
    {
     "data": {
      "text/html": [
       "<div>\n",
       "<style scoped>\n",
       "    .dataframe tbody tr th:only-of-type {\n",
       "        vertical-align: middle;\n",
       "    }\n",
       "\n",
       "    .dataframe tbody tr th {\n",
       "        vertical-align: top;\n",
       "    }\n",
       "\n",
       "    .dataframe thead th {\n",
       "        text-align: right;\n",
       "    }\n",
       "</style>\n",
       "<table border=\"1\" class=\"dataframe\">\n",
       "  <thead>\n",
       "    <tr style=\"text-align: right;\">\n",
       "      <th></th>\n",
       "      <th>아파트</th>\n",
       "      <th>시</th>\n",
       "      <th>동</th>\n",
       "      <th>구</th>\n",
       "      <th>지번</th>\n",
       "      <th>건축년도</th>\n",
       "      <th>거래일</th>\n",
       "      <th>전용면적</th>\n",
       "      <th>층</th>\n",
       "      <th>거래금액</th>\n",
       "    </tr>\n",
       "    <tr>\n",
       "      <th>인덱스</th>\n",
       "      <th></th>\n",
       "      <th></th>\n",
       "      <th></th>\n",
       "      <th></th>\n",
       "      <th></th>\n",
       "      <th></th>\n",
       "      <th></th>\n",
       "      <th></th>\n",
       "      <th></th>\n",
       "      <th></th>\n",
       "    </tr>\n",
       "  </thead>\n",
       "  <tbody>\n",
       "    <tr>\n",
       "      <th>0</th>\n",
       "      <td>파르크한남</td>\n",
       "      <td>서울특별시</td>\n",
       "      <td>한남동</td>\n",
       "      <td>용산구</td>\n",
       "      <td>410</td>\n",
       "      <td>2020.0</td>\n",
       "      <td>2021-12-13</td>\n",
       "      <td>268.950</td>\n",
       "      <td>2</td>\n",
       "      <td>1200000</td>\n",
       "    </tr>\n",
       "    <tr>\n",
       "      <th>1</th>\n",
       "      <td>파르크한남</td>\n",
       "      <td>서울특별시</td>\n",
       "      <td>한남동</td>\n",
       "      <td>용산구</td>\n",
       "      <td>410</td>\n",
       "      <td>2020.0</td>\n",
       "      <td>2022-04-30</td>\n",
       "      <td>268.670</td>\n",
       "      <td>5</td>\n",
       "      <td>1350000</td>\n",
       "    </tr>\n",
       "    <tr>\n",
       "      <th>2</th>\n",
       "      <td>PH129</td>\n",
       "      <td>서울특별시</td>\n",
       "      <td>청담동</td>\n",
       "      <td>강남구</td>\n",
       "      <td>129</td>\n",
       "      <td>2020.0</td>\n",
       "      <td>2022-04-28</td>\n",
       "      <td>273.960</td>\n",
       "      <td>16</td>\n",
       "      <td>1450000</td>\n",
       "    </tr>\n",
       "    <tr>\n",
       "      <th>3</th>\n",
       "      <td>아크로서울포레스트</td>\n",
       "      <td>서울특별시</td>\n",
       "      <td>성수동1가</td>\n",
       "      <td>성동구</td>\n",
       "      <td>685-700</td>\n",
       "      <td>2020.0</td>\n",
       "      <td>2022-09-30</td>\n",
       "      <td>264.546</td>\n",
       "      <td>47</td>\n",
       "      <td>1300000</td>\n",
       "    </tr>\n",
       "  </tbody>\n",
       "</table>\n",
       "</div>"
      ],
      "text/plain": [
       "           아파트      시      동    구       지번    건축년도        거래일     전용면적   층  \\\n",
       "인덱스                                                                          \n",
       "0        파르크한남  서울특별시    한남동  용산구      410  2020.0 2021-12-13  268.950   2   \n",
       "1        파르크한남  서울특별시    한남동  용산구      410  2020.0 2022-04-30  268.670   5   \n",
       "2        PH129  서울특별시    청담동  강남구      129  2020.0 2022-04-28  273.960  16   \n",
       "3    아크로서울포레스트  서울특별시  성수동1가  성동구  685-700  2020.0 2022-09-30  264.546  47   \n",
       "\n",
       "        거래금액  \n",
       "인덱스           \n",
       "0    1200000  \n",
       "1    1350000  \n",
       "2    1450000  \n",
       "3    1300000  "
      ]
     },
     "execution_count": 186,
     "metadata": {},
     "output_type": "execute_result"
    }
   ],
   "source": [
    "df1"
   ]
  },
  {
   "cell_type": "code",
   "execution_count": 187,
   "id": "d8c34fe0",
   "metadata": {
    "collapsed": true
   },
   "outputs": [
    {
     "data": {
      "text/html": [
       "<div>\n",
       "<style scoped>\n",
       "    .dataframe tbody tr th:only-of-type {\n",
       "        vertical-align: middle;\n",
       "    }\n",
       "\n",
       "    .dataframe tbody tr th {\n",
       "        vertical-align: top;\n",
       "    }\n",
       "\n",
       "    .dataframe thead th {\n",
       "        text-align: right;\n",
       "    }\n",
       "</style>\n",
       "<table border=\"1\" class=\"dataframe\">\n",
       "  <thead>\n",
       "    <tr style=\"text-align: right;\">\n",
       "      <th></th>\n",
       "      <th>인덱스</th>\n",
       "      <th>아파트</th>\n",
       "      <th>시</th>\n",
       "      <th>동</th>\n",
       "      <th>구</th>\n",
       "      <th>지번</th>\n",
       "      <th>건축년도</th>\n",
       "      <th>거래일</th>\n",
       "      <th>전용면적</th>\n",
       "      <th>층</th>\n",
       "      <th>거래금액</th>\n",
       "    </tr>\n",
       "  </thead>\n",
       "  <tbody>\n",
       "    <tr>\n",
       "      <th>0</th>\n",
       "      <td>0</td>\n",
       "      <td>파르크한남</td>\n",
       "      <td>서울특별시</td>\n",
       "      <td>한남동</td>\n",
       "      <td>용산구</td>\n",
       "      <td>410</td>\n",
       "      <td>2020.0</td>\n",
       "      <td>2021-12-13</td>\n",
       "      <td>268.950</td>\n",
       "      <td>2</td>\n",
       "      <td>1200000</td>\n",
       "    </tr>\n",
       "    <tr>\n",
       "      <th>1</th>\n",
       "      <td>1</td>\n",
       "      <td>파르크한남</td>\n",
       "      <td>서울특별시</td>\n",
       "      <td>한남동</td>\n",
       "      <td>용산구</td>\n",
       "      <td>410</td>\n",
       "      <td>2020.0</td>\n",
       "      <td>2022-04-30</td>\n",
       "      <td>268.670</td>\n",
       "      <td>5</td>\n",
       "      <td>1350000</td>\n",
       "    </tr>\n",
       "    <tr>\n",
       "      <th>2</th>\n",
       "      <td>2</td>\n",
       "      <td>PH129</td>\n",
       "      <td>서울특별시</td>\n",
       "      <td>청담동</td>\n",
       "      <td>강남구</td>\n",
       "      <td>129</td>\n",
       "      <td>2020.0</td>\n",
       "      <td>2022-04-28</td>\n",
       "      <td>273.960</td>\n",
       "      <td>16</td>\n",
       "      <td>1450000</td>\n",
       "    </tr>\n",
       "    <tr>\n",
       "      <th>3</th>\n",
       "      <td>3</td>\n",
       "      <td>아크로서울포레스트</td>\n",
       "      <td>서울특별시</td>\n",
       "      <td>성수동1가</td>\n",
       "      <td>성동구</td>\n",
       "      <td>685-700</td>\n",
       "      <td>2020.0</td>\n",
       "      <td>2022-09-30</td>\n",
       "      <td>264.546</td>\n",
       "      <td>47</td>\n",
       "      <td>1300000</td>\n",
       "    </tr>\n",
       "  </tbody>\n",
       "</table>\n",
       "</div>"
      ],
      "text/plain": [
       "   인덱스        아파트      시      동    구       지번    건축년도        거래일     전용면적   층  \\\n",
       "0    0      파르크한남  서울특별시    한남동  용산구      410  2020.0 2021-12-13  268.950   2   \n",
       "1    1      파르크한남  서울특별시    한남동  용산구      410  2020.0 2022-04-30  268.670   5   \n",
       "2    2      PH129  서울특별시    청담동  강남구      129  2020.0 2022-04-28  273.960  16   \n",
       "3    3  아크로서울포레스트  서울특별시  성수동1가  성동구  685-700  2020.0 2022-09-30  264.546  47   \n",
       "\n",
       "      거래금액  \n",
       "0  1200000  \n",
       "1  1350000  \n",
       "2  1450000  \n",
       "3  1300000  "
      ]
     },
     "execution_count": 187,
     "metadata": {},
     "output_type": "execute_result"
    }
   ],
   "source": [
    "df1.reset_index()"
   ]
  },
  {
   "cell_type": "code",
   "execution_count": 188,
   "id": "ff131cb3",
   "metadata": {},
   "outputs": [],
   "source": [
    "df1.index.name = None"
   ]
  },
  {
   "cell_type": "code",
   "execution_count": 189,
   "id": "467ee34b",
   "metadata": {
    "collapsed": true
   },
   "outputs": [
    {
     "data": {
      "text/html": [
       "<div>\n",
       "<style scoped>\n",
       "    .dataframe tbody tr th:only-of-type {\n",
       "        vertical-align: middle;\n",
       "    }\n",
       "\n",
       "    .dataframe tbody tr th {\n",
       "        vertical-align: top;\n",
       "    }\n",
       "\n",
       "    .dataframe thead th {\n",
       "        text-align: right;\n",
       "    }\n",
       "</style>\n",
       "<table border=\"1\" class=\"dataframe\">\n",
       "  <thead>\n",
       "    <tr style=\"text-align: right;\">\n",
       "      <th></th>\n",
       "      <th>아파트</th>\n",
       "      <th>시</th>\n",
       "      <th>동</th>\n",
       "      <th>구</th>\n",
       "      <th>지번</th>\n",
       "      <th>건축년도</th>\n",
       "      <th>거래일</th>\n",
       "      <th>전용면적</th>\n",
       "      <th>층</th>\n",
       "      <th>거래금액</th>\n",
       "    </tr>\n",
       "  </thead>\n",
       "  <tbody>\n",
       "    <tr>\n",
       "      <th>0</th>\n",
       "      <td>파르크한남</td>\n",
       "      <td>서울특별시</td>\n",
       "      <td>한남동</td>\n",
       "      <td>용산구</td>\n",
       "      <td>410</td>\n",
       "      <td>2020.0</td>\n",
       "      <td>2021-12-13</td>\n",
       "      <td>268.950</td>\n",
       "      <td>2</td>\n",
       "      <td>1200000</td>\n",
       "    </tr>\n",
       "    <tr>\n",
       "      <th>1</th>\n",
       "      <td>파르크한남</td>\n",
       "      <td>서울특별시</td>\n",
       "      <td>한남동</td>\n",
       "      <td>용산구</td>\n",
       "      <td>410</td>\n",
       "      <td>2020.0</td>\n",
       "      <td>2022-04-30</td>\n",
       "      <td>268.670</td>\n",
       "      <td>5</td>\n",
       "      <td>1350000</td>\n",
       "    </tr>\n",
       "    <tr>\n",
       "      <th>2</th>\n",
       "      <td>PH129</td>\n",
       "      <td>서울특별시</td>\n",
       "      <td>청담동</td>\n",
       "      <td>강남구</td>\n",
       "      <td>129</td>\n",
       "      <td>2020.0</td>\n",
       "      <td>2022-04-28</td>\n",
       "      <td>273.960</td>\n",
       "      <td>16</td>\n",
       "      <td>1450000</td>\n",
       "    </tr>\n",
       "    <tr>\n",
       "      <th>3</th>\n",
       "      <td>아크로서울포레스트</td>\n",
       "      <td>서울특별시</td>\n",
       "      <td>성수동1가</td>\n",
       "      <td>성동구</td>\n",
       "      <td>685-700</td>\n",
       "      <td>2020.0</td>\n",
       "      <td>2022-09-30</td>\n",
       "      <td>264.546</td>\n",
       "      <td>47</td>\n",
       "      <td>1300000</td>\n",
       "    </tr>\n",
       "  </tbody>\n",
       "</table>\n",
       "</div>"
      ],
      "text/plain": [
       "         아파트      시      동    구       지번    건축년도        거래일     전용면적   층  \\\n",
       "0      파르크한남  서울특별시    한남동  용산구      410  2020.0 2021-12-13  268.950   2   \n",
       "1      파르크한남  서울특별시    한남동  용산구      410  2020.0 2022-04-30  268.670   5   \n",
       "2      PH129  서울특별시    청담동  강남구      129  2020.0 2022-04-28  273.960  16   \n",
       "3  아크로서울포레스트  서울특별시  성수동1가  성동구  685-700  2020.0 2022-09-30  264.546  47   \n",
       "\n",
       "      거래금액  \n",
       "0  1200000  \n",
       "1  1350000  \n",
       "2  1450000  \n",
       "3  1300000  "
      ]
     },
     "execution_count": 189,
     "metadata": {},
     "output_type": "execute_result"
    }
   ],
   "source": [
    "df1"
   ]
  },
  {
   "cell_type": "code",
   "execution_count": 193,
   "id": "80428811",
   "metadata": {},
   "outputs": [
    {
     "data": {
      "text/html": [
       "<div>\n",
       "<style scoped>\n",
       "    .dataframe tbody tr th:only-of-type {\n",
       "        vertical-align: middle;\n",
       "    }\n",
       "\n",
       "    .dataframe tbody tr th {\n",
       "        vertical-align: top;\n",
       "    }\n",
       "\n",
       "    .dataframe thead th {\n",
       "        text-align: right;\n",
       "    }\n",
       "</style>\n",
       "<table border=\"1\" class=\"dataframe\">\n",
       "  <thead>\n",
       "    <tr style=\"text-align: right;\">\n",
       "      <th></th>\n",
       "      <th>level_0</th>\n",
       "      <th>index</th>\n",
       "      <th>아파트</th>\n",
       "      <th>시</th>\n",
       "      <th>동</th>\n",
       "      <th>구</th>\n",
       "      <th>지번</th>\n",
       "      <th>건축년도</th>\n",
       "      <th>거래일</th>\n",
       "      <th>전용면적</th>\n",
       "      <th>층</th>\n",
       "      <th>거래금액</th>\n",
       "    </tr>\n",
       "  </thead>\n",
       "  <tbody>\n",
       "    <tr>\n",
       "      <th>0</th>\n",
       "      <td>0</td>\n",
       "      <td>0</td>\n",
       "      <td>파르크한남</td>\n",
       "      <td>서울특별시</td>\n",
       "      <td>한남동</td>\n",
       "      <td>용산구</td>\n",
       "      <td>410</td>\n",
       "      <td>2020.0</td>\n",
       "      <td>2021-12-13</td>\n",
       "      <td>268.950</td>\n",
       "      <td>2</td>\n",
       "      <td>1200000</td>\n",
       "    </tr>\n",
       "    <tr>\n",
       "      <th>1</th>\n",
       "      <td>1</td>\n",
       "      <td>1</td>\n",
       "      <td>파르크한남</td>\n",
       "      <td>서울특별시</td>\n",
       "      <td>한남동</td>\n",
       "      <td>용산구</td>\n",
       "      <td>410</td>\n",
       "      <td>2020.0</td>\n",
       "      <td>2022-04-30</td>\n",
       "      <td>268.670</td>\n",
       "      <td>5</td>\n",
       "      <td>1350000</td>\n",
       "    </tr>\n",
       "    <tr>\n",
       "      <th>2</th>\n",
       "      <td>2</td>\n",
       "      <td>2</td>\n",
       "      <td>PH129</td>\n",
       "      <td>서울특별시</td>\n",
       "      <td>청담동</td>\n",
       "      <td>강남구</td>\n",
       "      <td>129</td>\n",
       "      <td>2020.0</td>\n",
       "      <td>2022-04-28</td>\n",
       "      <td>273.960</td>\n",
       "      <td>16</td>\n",
       "      <td>1450000</td>\n",
       "    </tr>\n",
       "    <tr>\n",
       "      <th>3</th>\n",
       "      <td>3</td>\n",
       "      <td>3</td>\n",
       "      <td>아크로서울포레스트</td>\n",
       "      <td>서울특별시</td>\n",
       "      <td>성수동1가</td>\n",
       "      <td>성동구</td>\n",
       "      <td>685-700</td>\n",
       "      <td>2020.0</td>\n",
       "      <td>2022-09-30</td>\n",
       "      <td>264.546</td>\n",
       "      <td>47</td>\n",
       "      <td>1300000</td>\n",
       "    </tr>\n",
       "  </tbody>\n",
       "</table>\n",
       "</div>"
      ],
      "text/plain": [
       "   level_0  index        아파트      시      동    구       지번    건축년도        거래일  \\\n",
       "0        0      0      파르크한남  서울특별시    한남동  용산구      410  2020.0 2021-12-13   \n",
       "1        1      1      파르크한남  서울특별시    한남동  용산구      410  2020.0 2022-04-30   \n",
       "2        2      2      PH129  서울특별시    청담동  강남구      129  2020.0 2022-04-28   \n",
       "3        3      3  아크로서울포레스트  서울특별시  성수동1가  성동구  685-700  2020.0 2022-09-30   \n",
       "\n",
       "      전용면적   층     거래금액  \n",
       "0  268.950   2  1200000  \n",
       "1  268.670   5  1350000  \n",
       "2  273.960  16  1450000  \n",
       "3  264.546  47  1300000  "
      ]
     },
     "execution_count": 193,
     "metadata": {},
     "output_type": "execute_result"
    }
   ],
   "source": [
    "df1.reset_index().reset_index()"
   ]
  },
  {
   "cell_type": "code",
   "execution_count": 203,
   "id": "98917d89",
   "metadata": {
    "collapsed": true
   },
   "outputs": [
    {
     "data": {
      "text/html": [
       "<div>\n",
       "<style scoped>\n",
       "    .dataframe tbody tr th:only-of-type {\n",
       "        vertical-align: middle;\n",
       "    }\n",
       "\n",
       "    .dataframe tbody tr th {\n",
       "        vertical-align: top;\n",
       "    }\n",
       "\n",
       "    .dataframe thead th {\n",
       "        text-align: right;\n",
       "    }\n",
       "</style>\n",
       "<table border=\"1\" class=\"dataframe\">\n",
       "  <thead>\n",
       "    <tr style=\"text-align: right;\">\n",
       "      <th></th>\n",
       "      <th></th>\n",
       "      <th></th>\n",
       "      <th>구</th>\n",
       "      <th>지번</th>\n",
       "      <th>건축년도</th>\n",
       "      <th>거래일</th>\n",
       "      <th>전용면적</th>\n",
       "      <th>층</th>\n",
       "      <th>거래금액</th>\n",
       "    </tr>\n",
       "    <tr>\n",
       "      <th>아파트</th>\n",
       "      <th>시</th>\n",
       "      <th>동</th>\n",
       "      <th></th>\n",
       "      <th></th>\n",
       "      <th></th>\n",
       "      <th></th>\n",
       "      <th></th>\n",
       "      <th></th>\n",
       "      <th></th>\n",
       "    </tr>\n",
       "  </thead>\n",
       "  <tbody>\n",
       "    <tr>\n",
       "      <th rowspan=\"2\" valign=\"top\">파르크한남</th>\n",
       "      <th rowspan=\"2\" valign=\"top\">서울특별시</th>\n",
       "      <th>한남동</th>\n",
       "      <td>용산구</td>\n",
       "      <td>410</td>\n",
       "      <td>2020.0</td>\n",
       "      <td>2021-12-13</td>\n",
       "      <td>268.950</td>\n",
       "      <td>2</td>\n",
       "      <td>1200000</td>\n",
       "    </tr>\n",
       "    <tr>\n",
       "      <th>한남동</th>\n",
       "      <td>용산구</td>\n",
       "      <td>410</td>\n",
       "      <td>2020.0</td>\n",
       "      <td>2022-04-30</td>\n",
       "      <td>268.670</td>\n",
       "      <td>5</td>\n",
       "      <td>1350000</td>\n",
       "    </tr>\n",
       "    <tr>\n",
       "      <th>PH129</th>\n",
       "      <th>서울특별시</th>\n",
       "      <th>청담동</th>\n",
       "      <td>강남구</td>\n",
       "      <td>129</td>\n",
       "      <td>2020.0</td>\n",
       "      <td>2022-04-28</td>\n",
       "      <td>273.960</td>\n",
       "      <td>16</td>\n",
       "      <td>1450000</td>\n",
       "    </tr>\n",
       "    <tr>\n",
       "      <th>아크로서울포레스트</th>\n",
       "      <th>서울특별시</th>\n",
       "      <th>성수동1가</th>\n",
       "      <td>성동구</td>\n",
       "      <td>685-700</td>\n",
       "      <td>2020.0</td>\n",
       "      <td>2022-09-30</td>\n",
       "      <td>264.546</td>\n",
       "      <td>47</td>\n",
       "      <td>1300000</td>\n",
       "    </tr>\n",
       "  </tbody>\n",
       "</table>\n",
       "</div>"
      ],
      "text/plain": [
       "                         구       지번    건축년도        거래일     전용면적   층     거래금액\n",
       "아파트       시     동                                                           \n",
       "파르크한남     서울특별시 한남동    용산구      410  2020.0 2021-12-13  268.950   2  1200000\n",
       "                한남동    용산구      410  2020.0 2022-04-30  268.670   5  1350000\n",
       "PH129     서울특별시 청담동    강남구      129  2020.0 2022-04-28  273.960  16  1450000\n",
       "아크로서울포레스트 서울특별시 성수동1가  성동구  685-700  2020.0 2022-09-30  264.546  47  1300000"
      ]
     },
     "execution_count": 203,
     "metadata": {},
     "output_type": "execute_result"
    }
   ],
   "source": [
    "df1"
   ]
  },
  {
   "cell_type": "code",
   "execution_count": 204,
   "id": "4df06a89",
   "metadata": {},
   "outputs": [],
   "source": [
    "df1 = df1.reset_index()"
   ]
  },
  {
   "cell_type": "code",
   "execution_count": 205,
   "id": "f37a609d",
   "metadata": {},
   "outputs": [
    {
     "data": {
      "text/html": [
       "<div>\n",
       "<style scoped>\n",
       "    .dataframe tbody tr th:only-of-type {\n",
       "        vertical-align: middle;\n",
       "    }\n",
       "\n",
       "    .dataframe tbody tr th {\n",
       "        vertical-align: top;\n",
       "    }\n",
       "\n",
       "    .dataframe thead th {\n",
       "        text-align: right;\n",
       "    }\n",
       "</style>\n",
       "<table border=\"1\" class=\"dataframe\">\n",
       "  <thead>\n",
       "    <tr style=\"text-align: right;\">\n",
       "      <th></th>\n",
       "      <th>아파트</th>\n",
       "      <th>시</th>\n",
       "      <th>동</th>\n",
       "      <th>구</th>\n",
       "      <th>지번</th>\n",
       "      <th>건축년도</th>\n",
       "      <th>거래일</th>\n",
       "      <th>전용면적</th>\n",
       "      <th>층</th>\n",
       "      <th>거래금액</th>\n",
       "    </tr>\n",
       "  </thead>\n",
       "  <tbody>\n",
       "    <tr>\n",
       "      <th>0</th>\n",
       "      <td>파르크한남</td>\n",
       "      <td>서울특별시</td>\n",
       "      <td>한남동</td>\n",
       "      <td>용산구</td>\n",
       "      <td>410</td>\n",
       "      <td>2020.0</td>\n",
       "      <td>2021-12-13</td>\n",
       "      <td>268.950</td>\n",
       "      <td>2</td>\n",
       "      <td>1200000</td>\n",
       "    </tr>\n",
       "    <tr>\n",
       "      <th>1</th>\n",
       "      <td>파르크한남</td>\n",
       "      <td>서울특별시</td>\n",
       "      <td>한남동</td>\n",
       "      <td>용산구</td>\n",
       "      <td>410</td>\n",
       "      <td>2020.0</td>\n",
       "      <td>2022-04-30</td>\n",
       "      <td>268.670</td>\n",
       "      <td>5</td>\n",
       "      <td>1350000</td>\n",
       "    </tr>\n",
       "    <tr>\n",
       "      <th>2</th>\n",
       "      <td>PH129</td>\n",
       "      <td>서울특별시</td>\n",
       "      <td>청담동</td>\n",
       "      <td>강남구</td>\n",
       "      <td>129</td>\n",
       "      <td>2020.0</td>\n",
       "      <td>2022-04-28</td>\n",
       "      <td>273.960</td>\n",
       "      <td>16</td>\n",
       "      <td>1450000</td>\n",
       "    </tr>\n",
       "    <tr>\n",
       "      <th>3</th>\n",
       "      <td>아크로서울포레스트</td>\n",
       "      <td>서울특별시</td>\n",
       "      <td>성수동1가</td>\n",
       "      <td>성동구</td>\n",
       "      <td>685-700</td>\n",
       "      <td>2020.0</td>\n",
       "      <td>2022-09-30</td>\n",
       "      <td>264.546</td>\n",
       "      <td>47</td>\n",
       "      <td>1300000</td>\n",
       "    </tr>\n",
       "  </tbody>\n",
       "</table>\n",
       "</div>"
      ],
      "text/plain": [
       "         아파트      시      동    구       지번    건축년도        거래일     전용면적   층  \\\n",
       "0      파르크한남  서울특별시    한남동  용산구      410  2020.0 2021-12-13  268.950   2   \n",
       "1      파르크한남  서울특별시    한남동  용산구      410  2020.0 2022-04-30  268.670   5   \n",
       "2      PH129  서울특별시    청담동  강남구      129  2020.0 2022-04-28  273.960  16   \n",
       "3  아크로서울포레스트  서울특별시  성수동1가  성동구  685-700  2020.0 2022-09-30  264.546  47   \n",
       "\n",
       "      거래금액  \n",
       "0  1200000  \n",
       "1  1350000  \n",
       "2  1450000  \n",
       "3  1300000  "
      ]
     },
     "execution_count": 205,
     "metadata": {},
     "output_type": "execute_result"
    }
   ],
   "source": [
    "df1"
   ]
  },
  {
   "cell_type": "code",
   "execution_count": null,
   "id": "00b8d2e3",
   "metadata": {},
   "outputs": [],
   "source": [
    "price.isnull()"
   ]
  },
  {
   "cell_type": "code",
   "execution_count": 208,
   "id": "7adb9a55",
   "metadata": {},
   "outputs": [
    {
     "name": "stdout",
     "output_type": "stream",
     "text": [
      "<class 'pandas.core.frame.DataFrame'>\n",
      "RangeIndex: 139919 entries, 0 to 139918\n",
      "Data columns (total 10 columns):\n",
      " #   Column  Non-Null Count   Dtype         \n",
      "---  ------  --------------   -----         \n",
      " 0   아파트     139919 non-null  object        \n",
      " 1   시       139919 non-null  object        \n",
      " 2   구       139919 non-null  object        \n",
      " 3   동       139919 non-null  object        \n",
      " 4   지번      139879 non-null  object        \n",
      " 5   건축년도    139917 non-null  float64       \n",
      " 6   거래일     139919 non-null  datetime64[ns]\n",
      " 7   전용면적    139919 non-null  float64       \n",
      " 8   층       139919 non-null  int32         \n",
      " 9   거래금액    139919 non-null  int32         \n",
      "dtypes: datetime64[ns](1), float64(2), int32(2), object(5)\n",
      "memory usage: 9.6+ MB\n"
     ]
    }
   ],
   "source": [
    "price.info()"
   ]
  },
  {
   "cell_type": "code",
   "execution_count": 207,
   "id": "621e5c91",
   "metadata": {
    "collapsed": true
   },
   "outputs": [
    {
     "data": {
      "text/plain": [
       "아파트      0\n",
       "시        0\n",
       "구        0\n",
       "동        0\n",
       "지번      40\n",
       "건축년도     2\n",
       "거래일      0\n",
       "전용면적     0\n",
       "층        0\n",
       "거래금액     0\n",
       "dtype: int64"
      ]
     },
     "execution_count": 207,
     "metadata": {},
     "output_type": "execute_result"
    }
   ],
   "source": [
    "price.isna().sum()"
   ]
  },
  {
   "cell_type": "code",
   "execution_count": 209,
   "id": "fb0f4869",
   "metadata": {
    "collapsed": true
   },
   "outputs": [
    {
     "data": {
      "text/html": [
       "<div>\n",
       "<style scoped>\n",
       "    .dataframe tbody tr th:only-of-type {\n",
       "        vertical-align: middle;\n",
       "    }\n",
       "\n",
       "    .dataframe tbody tr th {\n",
       "        vertical-align: top;\n",
       "    }\n",
       "\n",
       "    .dataframe thead th {\n",
       "        text-align: right;\n",
       "    }\n",
       "</style>\n",
       "<table border=\"1\" class=\"dataframe\">\n",
       "  <thead>\n",
       "    <tr style=\"text-align: right;\">\n",
       "      <th></th>\n",
       "      <th>아파트</th>\n",
       "      <th>시</th>\n",
       "      <th>구</th>\n",
       "      <th>동</th>\n",
       "      <th>지번</th>\n",
       "      <th>건축년도</th>\n",
       "      <th>거래일</th>\n",
       "      <th>전용면적</th>\n",
       "      <th>층</th>\n",
       "      <th>거래금액</th>\n",
       "    </tr>\n",
       "  </thead>\n",
       "  <tbody>\n",
       "    <tr>\n",
       "      <th>5817</th>\n",
       "      <td>힐스테이트 서초 젠트리스</td>\n",
       "      <td>서울특별시</td>\n",
       "      <td>서초구</td>\n",
       "      <td>신원동</td>\n",
       "      <td>NaN</td>\n",
       "      <td>2014.0</td>\n",
       "      <td>2020-01-20</td>\n",
       "      <td>84.99</td>\n",
       "      <td>3</td>\n",
       "      <td>141000</td>\n",
       "    </tr>\n",
       "    <tr>\n",
       "      <th>5818</th>\n",
       "      <td>힐스테이트 서초 젠트리스</td>\n",
       "      <td>서울특별시</td>\n",
       "      <td>서초구</td>\n",
       "      <td>신원동</td>\n",
       "      <td>NaN</td>\n",
       "      <td>2014.0</td>\n",
       "      <td>2020-01-23</td>\n",
       "      <td>84.95</td>\n",
       "      <td>1</td>\n",
       "      <td>132000</td>\n",
       "    </tr>\n",
       "    <tr>\n",
       "      <th>13920</th>\n",
       "      <td>서초포레스타2단지</td>\n",
       "      <td>서울특별시</td>\n",
       "      <td>서초구</td>\n",
       "      <td>내곡동</td>\n",
       "      <td>NaN</td>\n",
       "      <td>2015.0</td>\n",
       "      <td>2020-02-08</td>\n",
       "      <td>59.21</td>\n",
       "      <td>13</td>\n",
       "      <td>105000</td>\n",
       "    </tr>\n",
       "    <tr>\n",
       "      <th>13925</th>\n",
       "      <td>힐스테이트 서초 젠트리스</td>\n",
       "      <td>서울특별시</td>\n",
       "      <td>서초구</td>\n",
       "      <td>신원동</td>\n",
       "      <td>NaN</td>\n",
       "      <td>2014.0</td>\n",
       "      <td>2020-02-22</td>\n",
       "      <td>114.90</td>\n",
       "      <td>1</td>\n",
       "      <td>147300</td>\n",
       "    </tr>\n",
       "    <tr>\n",
       "      <th>19081</th>\n",
       "      <td>서초포레스타2단지</td>\n",
       "      <td>서울특별시</td>\n",
       "      <td>서초구</td>\n",
       "      <td>내곡동</td>\n",
       "      <td>NaN</td>\n",
       "      <td>2015.0</td>\n",
       "      <td>2020-03-07</td>\n",
       "      <td>84.48</td>\n",
       "      <td>20</td>\n",
       "      <td>126500</td>\n",
       "    </tr>\n",
       "    <tr>\n",
       "      <th>42068</th>\n",
       "      <td>서초포레스타2단지</td>\n",
       "      <td>서울특별시</td>\n",
       "      <td>서초구</td>\n",
       "      <td>내곡동</td>\n",
       "      <td>NaN</td>\n",
       "      <td>2015.0</td>\n",
       "      <td>2020-06-13</td>\n",
       "      <td>84.48</td>\n",
       "      <td>14</td>\n",
       "      <td>130000</td>\n",
       "    </tr>\n",
       "    <tr>\n",
       "      <th>42079</th>\n",
       "      <td>서초포레스타2단지</td>\n",
       "      <td>서울특별시</td>\n",
       "      <td>서초구</td>\n",
       "      <td>내곡동</td>\n",
       "      <td>NaN</td>\n",
       "      <td>2015.0</td>\n",
       "      <td>2020-06-30</td>\n",
       "      <td>84.87</td>\n",
       "      <td>14</td>\n",
       "      <td>130000</td>\n",
       "    </tr>\n",
       "    <tr>\n",
       "      <th>54592</th>\n",
       "      <td>서초포레스타2단지</td>\n",
       "      <td>서울특별시</td>\n",
       "      <td>서초구</td>\n",
       "      <td>내곡동</td>\n",
       "      <td>NaN</td>\n",
       "      <td>2015.0</td>\n",
       "      <td>2020-07-05</td>\n",
       "      <td>84.48</td>\n",
       "      <td>14</td>\n",
       "      <td>134000</td>\n",
       "    </tr>\n",
       "    <tr>\n",
       "      <th>54593</th>\n",
       "      <td>서초포레스타2단지</td>\n",
       "      <td>서울특별시</td>\n",
       "      <td>서초구</td>\n",
       "      <td>내곡동</td>\n",
       "      <td>NaN</td>\n",
       "      <td>2015.0</td>\n",
       "      <td>2020-07-05</td>\n",
       "      <td>84.48</td>\n",
       "      <td>14</td>\n",
       "      <td>134000</td>\n",
       "    </tr>\n",
       "    <tr>\n",
       "      <th>54595</th>\n",
       "      <td>서초포레스타2단지</td>\n",
       "      <td>서울특별시</td>\n",
       "      <td>서초구</td>\n",
       "      <td>내곡동</td>\n",
       "      <td>NaN</td>\n",
       "      <td>2015.0</td>\n",
       "      <td>2020-07-06</td>\n",
       "      <td>84.87</td>\n",
       "      <td>15</td>\n",
       "      <td>133000</td>\n",
       "    </tr>\n",
       "    <tr>\n",
       "      <th>54603</th>\n",
       "      <td>서초포레스타2단지</td>\n",
       "      <td>서울특별시</td>\n",
       "      <td>서초구</td>\n",
       "      <td>내곡동</td>\n",
       "      <td>NaN</td>\n",
       "      <td>2015.0</td>\n",
       "      <td>2020-07-11</td>\n",
       "      <td>84.48</td>\n",
       "      <td>5</td>\n",
       "      <td>130000</td>\n",
       "    </tr>\n",
       "    <tr>\n",
       "      <th>54605</th>\n",
       "      <td>서초포레스타2단지</td>\n",
       "      <td>서울특별시</td>\n",
       "      <td>서초구</td>\n",
       "      <td>내곡동</td>\n",
       "      <td>NaN</td>\n",
       "      <td>2015.0</td>\n",
       "      <td>2020-07-12</td>\n",
       "      <td>59.21</td>\n",
       "      <td>11</td>\n",
       "      <td>115000</td>\n",
       "    </tr>\n",
       "    <tr>\n",
       "      <th>54621</th>\n",
       "      <td>힐스테이트 서초 젠트리스</td>\n",
       "      <td>서울특별시</td>\n",
       "      <td>서초구</td>\n",
       "      <td>신원동</td>\n",
       "      <td>NaN</td>\n",
       "      <td>2014.0</td>\n",
       "      <td>2020-07-09</td>\n",
       "      <td>84.95</td>\n",
       "      <td>4</td>\n",
       "      <td>145000</td>\n",
       "    </tr>\n",
       "    <tr>\n",
       "      <th>54625</th>\n",
       "      <td>힐스테이트 서초 젠트리스</td>\n",
       "      <td>서울특별시</td>\n",
       "      <td>서초구</td>\n",
       "      <td>신원동</td>\n",
       "      <td>NaN</td>\n",
       "      <td>2014.0</td>\n",
       "      <td>2020-07-18</td>\n",
       "      <td>84.95</td>\n",
       "      <td>8</td>\n",
       "      <td>148000</td>\n",
       "    </tr>\n",
       "    <tr>\n",
       "      <th>54628</th>\n",
       "      <td>힐스테이트 서초 젠트리스</td>\n",
       "      <td>서울특별시</td>\n",
       "      <td>서초구</td>\n",
       "      <td>신원동</td>\n",
       "      <td>NaN</td>\n",
       "      <td>2014.0</td>\n",
       "      <td>2020-07-27</td>\n",
       "      <td>101.90</td>\n",
       "      <td>3</td>\n",
       "      <td>163000</td>\n",
       "    </tr>\n",
       "    <tr>\n",
       "      <th>60635</th>\n",
       "      <td>서초포레스타2단지</td>\n",
       "      <td>서울특별시</td>\n",
       "      <td>서초구</td>\n",
       "      <td>내곡동</td>\n",
       "      <td>NaN</td>\n",
       "      <td>2015.0</td>\n",
       "      <td>2020-08-06</td>\n",
       "      <td>59.09</td>\n",
       "      <td>14</td>\n",
       "      <td>124000</td>\n",
       "    </tr>\n",
       "    <tr>\n",
       "      <th>60646</th>\n",
       "      <td>힐스테이트 서초 젠트리스</td>\n",
       "      <td>서울특별시</td>\n",
       "      <td>서초구</td>\n",
       "      <td>신원동</td>\n",
       "      <td>NaN</td>\n",
       "      <td>2014.0</td>\n",
       "      <td>2020-08-26</td>\n",
       "      <td>114.90</td>\n",
       "      <td>5</td>\n",
       "      <td>194000</td>\n",
       "    </tr>\n",
       "    <tr>\n",
       "      <th>60647</th>\n",
       "      <td>힐스테이트 서초 젠트리스</td>\n",
       "      <td>서울특별시</td>\n",
       "      <td>서초구</td>\n",
       "      <td>신원동</td>\n",
       "      <td>NaN</td>\n",
       "      <td>2014.0</td>\n",
       "      <td>2020-08-29</td>\n",
       "      <td>114.90</td>\n",
       "      <td>9</td>\n",
       "      <td>193000</td>\n",
       "    </tr>\n",
       "    <tr>\n",
       "      <th>69376</th>\n",
       "      <td>힐스테이트 서초 젠트리스</td>\n",
       "      <td>서울특별시</td>\n",
       "      <td>서초구</td>\n",
       "      <td>신원동</td>\n",
       "      <td>NaN</td>\n",
       "      <td>2014.0</td>\n",
       "      <td>2020-10-06</td>\n",
       "      <td>84.95</td>\n",
       "      <td>1</td>\n",
       "      <td>155000</td>\n",
       "    </tr>\n",
       "    <tr>\n",
       "      <th>75432</th>\n",
       "      <td>서초포레스타2단지</td>\n",
       "      <td>서울특별시</td>\n",
       "      <td>서초구</td>\n",
       "      <td>내곡동</td>\n",
       "      <td>NaN</td>\n",
       "      <td>2015.0</td>\n",
       "      <td>2020-11-06</td>\n",
       "      <td>59.09</td>\n",
       "      <td>5</td>\n",
       "      <td>125000</td>\n",
       "    </tr>\n",
       "    <tr>\n",
       "      <th>75437</th>\n",
       "      <td>힐스테이트 서초 젠트리스</td>\n",
       "      <td>서울특별시</td>\n",
       "      <td>서초구</td>\n",
       "      <td>신원동</td>\n",
       "      <td>NaN</td>\n",
       "      <td>2014.0</td>\n",
       "      <td>2020-11-18</td>\n",
       "      <td>84.95</td>\n",
       "      <td>9</td>\n",
       "      <td>159000</td>\n",
       "    </tr>\n",
       "    <tr>\n",
       "      <th>82968</th>\n",
       "      <td>서초포레스타2단지</td>\n",
       "      <td>서울특별시</td>\n",
       "      <td>서초구</td>\n",
       "      <td>내곡동</td>\n",
       "      <td>NaN</td>\n",
       "      <td>2015.0</td>\n",
       "      <td>2020-12-05</td>\n",
       "      <td>84.87</td>\n",
       "      <td>17</td>\n",
       "      <td>155000</td>\n",
       "    </tr>\n",
       "    <tr>\n",
       "      <th>82972</th>\n",
       "      <td>힐스테이트 서초 젠트리스</td>\n",
       "      <td>서울특별시</td>\n",
       "      <td>서초구</td>\n",
       "      <td>신원동</td>\n",
       "      <td>NaN</td>\n",
       "      <td>2014.0</td>\n",
       "      <td>2020-12-03</td>\n",
       "      <td>84.95</td>\n",
       "      <td>6</td>\n",
       "      <td>158000</td>\n",
       "    </tr>\n",
       "    <tr>\n",
       "      <th>89342</th>\n",
       "      <td>서초포레스타2단지</td>\n",
       "      <td>서울특별시</td>\n",
       "      <td>서초구</td>\n",
       "      <td>내곡동</td>\n",
       "      <td>NaN</td>\n",
       "      <td>2015.0</td>\n",
       "      <td>2021-01-12</td>\n",
       "      <td>84.48</td>\n",
       "      <td>8</td>\n",
       "      <td>160000</td>\n",
       "    </tr>\n",
       "    <tr>\n",
       "      <th>97584</th>\n",
       "      <td>서초포레스타2단지</td>\n",
       "      <td>서울특별시</td>\n",
       "      <td>서초구</td>\n",
       "      <td>내곡동</td>\n",
       "      <td>NaN</td>\n",
       "      <td>2015.0</td>\n",
       "      <td>2021-03-02</td>\n",
       "      <td>84.48</td>\n",
       "      <td>11</td>\n",
       "      <td>159000</td>\n",
       "    </tr>\n",
       "    <tr>\n",
       "      <th>97585</th>\n",
       "      <td>힐스테이트 서초 젠트리스</td>\n",
       "      <td>서울특별시</td>\n",
       "      <td>서초구</td>\n",
       "      <td>신원동</td>\n",
       "      <td>NaN</td>\n",
       "      <td>2014.0</td>\n",
       "      <td>2021-03-11</td>\n",
       "      <td>84.95</td>\n",
       "      <td>2</td>\n",
       "      <td>163000</td>\n",
       "    </tr>\n",
       "    <tr>\n",
       "      <th>101262</th>\n",
       "      <td>서초포레스타2단지</td>\n",
       "      <td>서울특별시</td>\n",
       "      <td>서초구</td>\n",
       "      <td>내곡동</td>\n",
       "      <td>NaN</td>\n",
       "      <td>2015.0</td>\n",
       "      <td>2021-04-06</td>\n",
       "      <td>84.48</td>\n",
       "      <td>21</td>\n",
       "      <td>154500</td>\n",
       "    </tr>\n",
       "    <tr>\n",
       "      <th>101263</th>\n",
       "      <td>서초포레스타2단지</td>\n",
       "      <td>서울특별시</td>\n",
       "      <td>서초구</td>\n",
       "      <td>내곡동</td>\n",
       "      <td>NaN</td>\n",
       "      <td>2015.0</td>\n",
       "      <td>2021-04-10</td>\n",
       "      <td>59.21</td>\n",
       "      <td>2</td>\n",
       "      <td>135000</td>\n",
       "    </tr>\n",
       "    <tr>\n",
       "      <th>101264</th>\n",
       "      <td>서초포레스타2단지</td>\n",
       "      <td>서울특별시</td>\n",
       "      <td>서초구</td>\n",
       "      <td>내곡동</td>\n",
       "      <td>NaN</td>\n",
       "      <td>2015.0</td>\n",
       "      <td>2021-04-20</td>\n",
       "      <td>84.87</td>\n",
       "      <td>14</td>\n",
       "      <td>155000</td>\n",
       "    </tr>\n",
       "    <tr>\n",
       "      <th>101270</th>\n",
       "      <td>힐스테이트 서초 젠트리스</td>\n",
       "      <td>서울특별시</td>\n",
       "      <td>서초구</td>\n",
       "      <td>신원동</td>\n",
       "      <td>NaN</td>\n",
       "      <td>2014.0</td>\n",
       "      <td>2021-04-15</td>\n",
       "      <td>101.90</td>\n",
       "      <td>4</td>\n",
       "      <td>187500</td>\n",
       "    </tr>\n",
       "    <tr>\n",
       "      <th>101272</th>\n",
       "      <td>힐스테이트 서초 젠트리스</td>\n",
       "      <td>서울특별시</td>\n",
       "      <td>서초구</td>\n",
       "      <td>신원동</td>\n",
       "      <td>NaN</td>\n",
       "      <td>2014.0</td>\n",
       "      <td>2021-04-27</td>\n",
       "      <td>101.90</td>\n",
       "      <td>3</td>\n",
       "      <td>184500</td>\n",
       "    </tr>\n",
       "    <tr>\n",
       "      <th>106151</th>\n",
       "      <td>서초포레스타2단지</td>\n",
       "      <td>서울특별시</td>\n",
       "      <td>서초구</td>\n",
       "      <td>내곡동</td>\n",
       "      <td>NaN</td>\n",
       "      <td>2015.0</td>\n",
       "      <td>2021-05-16</td>\n",
       "      <td>59.21</td>\n",
       "      <td>8</td>\n",
       "      <td>131000</td>\n",
       "    </tr>\n",
       "    <tr>\n",
       "      <th>106152</th>\n",
       "      <td>서초포레스타2단지</td>\n",
       "      <td>서울특별시</td>\n",
       "      <td>서초구</td>\n",
       "      <td>내곡동</td>\n",
       "      <td>NaN</td>\n",
       "      <td>2015.0</td>\n",
       "      <td>2021-05-18</td>\n",
       "      <td>84.87</td>\n",
       "      <td>1</td>\n",
       "      <td>151000</td>\n",
       "    </tr>\n",
       "    <tr>\n",
       "      <th>106156</th>\n",
       "      <td>힐스테이트 서초 젠트리스</td>\n",
       "      <td>서울특별시</td>\n",
       "      <td>서초구</td>\n",
       "      <td>신원동</td>\n",
       "      <td>NaN</td>\n",
       "      <td>2014.0</td>\n",
       "      <td>2021-05-26</td>\n",
       "      <td>84.95</td>\n",
       "      <td>4</td>\n",
       "      <td>165000</td>\n",
       "    </tr>\n",
       "    <tr>\n",
       "      <th>115150</th>\n",
       "      <td>힐스테이트 서초 젠트리스</td>\n",
       "      <td>서울특별시</td>\n",
       "      <td>서초구</td>\n",
       "      <td>신원동</td>\n",
       "      <td>NaN</td>\n",
       "      <td>2014.0</td>\n",
       "      <td>2021-07-26</td>\n",
       "      <td>84.99</td>\n",
       "      <td>7</td>\n",
       "      <td>182000</td>\n",
       "    </tr>\n",
       "    <tr>\n",
       "      <th>124735</th>\n",
       "      <td>서초포레스타2단지</td>\n",
       "      <td>서울특별시</td>\n",
       "      <td>서초구</td>\n",
       "      <td>내곡동</td>\n",
       "      <td>NaN</td>\n",
       "      <td>2015.0</td>\n",
       "      <td>2021-10-13</td>\n",
       "      <td>84.87</td>\n",
       "      <td>10</td>\n",
       "      <td>178000</td>\n",
       "    </tr>\n",
       "    <tr>\n",
       "      <th>126288</th>\n",
       "      <td>서초포레스타2단지</td>\n",
       "      <td>서울특별시</td>\n",
       "      <td>서초구</td>\n",
       "      <td>내곡동</td>\n",
       "      <td>NaN</td>\n",
       "      <td>2015.0</td>\n",
       "      <td>2021-11-11</td>\n",
       "      <td>84.41</td>\n",
       "      <td>9</td>\n",
       "      <td>160000</td>\n",
       "    </tr>\n",
       "    <tr>\n",
       "      <th>129553</th>\n",
       "      <td>서초포레스타2단지</td>\n",
       "      <td>서울특별시</td>\n",
       "      <td>서초구</td>\n",
       "      <td>내곡동</td>\n",
       "      <td>NaN</td>\n",
       "      <td>2015.0</td>\n",
       "      <td>2022-02-05</td>\n",
       "      <td>84.87</td>\n",
       "      <td>10</td>\n",
       "      <td>175000</td>\n",
       "    </tr>\n",
       "    <tr>\n",
       "      <th>135816</th>\n",
       "      <td>힐스테이트 서초 젠트리스</td>\n",
       "      <td>서울특별시</td>\n",
       "      <td>서초구</td>\n",
       "      <td>신원동</td>\n",
       "      <td>NaN</td>\n",
       "      <td>2014.0</td>\n",
       "      <td>2022-06-23</td>\n",
       "      <td>101.90</td>\n",
       "      <td>5</td>\n",
       "      <td>204000</td>\n",
       "    </tr>\n",
       "    <tr>\n",
       "      <th>137927</th>\n",
       "      <td>힐스테이트 서초 젠트리스</td>\n",
       "      <td>서울특별시</td>\n",
       "      <td>서초구</td>\n",
       "      <td>신원동</td>\n",
       "      <td>NaN</td>\n",
       "      <td>2014.0</td>\n",
       "      <td>2022-09-28</td>\n",
       "      <td>84.95</td>\n",
       "      <td>8</td>\n",
       "      <td>173000</td>\n",
       "    </tr>\n",
       "  </tbody>\n",
       "</table>\n",
       "</div>"
      ],
      "text/plain": [
       "                  아파트      시    구    동   지번    건축년도        거래일    전용면적   층  \\\n",
       "5817    힐스테이트 서초 젠트리스  서울특별시  서초구  신원동  NaN  2014.0 2020-01-20   84.99   3   \n",
       "5818    힐스테이트 서초 젠트리스  서울특별시  서초구  신원동  NaN  2014.0 2020-01-23   84.95   1   \n",
       "13920       서초포레스타2단지  서울특별시  서초구  내곡동  NaN  2015.0 2020-02-08   59.21  13   \n",
       "13925   힐스테이트 서초 젠트리스  서울특별시  서초구  신원동  NaN  2014.0 2020-02-22  114.90   1   \n",
       "19081       서초포레스타2단지  서울특별시  서초구  내곡동  NaN  2015.0 2020-03-07   84.48  20   \n",
       "42068       서초포레스타2단지  서울특별시  서초구  내곡동  NaN  2015.0 2020-06-13   84.48  14   \n",
       "42079       서초포레스타2단지  서울특별시  서초구  내곡동  NaN  2015.0 2020-06-30   84.87  14   \n",
       "54592       서초포레스타2단지  서울특별시  서초구  내곡동  NaN  2015.0 2020-07-05   84.48  14   \n",
       "54593       서초포레스타2단지  서울특별시  서초구  내곡동  NaN  2015.0 2020-07-05   84.48  14   \n",
       "54595       서초포레스타2단지  서울특별시  서초구  내곡동  NaN  2015.0 2020-07-06   84.87  15   \n",
       "54603       서초포레스타2단지  서울특별시  서초구  내곡동  NaN  2015.0 2020-07-11   84.48   5   \n",
       "54605       서초포레스타2단지  서울특별시  서초구  내곡동  NaN  2015.0 2020-07-12   59.21  11   \n",
       "54621   힐스테이트 서초 젠트리스  서울특별시  서초구  신원동  NaN  2014.0 2020-07-09   84.95   4   \n",
       "54625   힐스테이트 서초 젠트리스  서울특별시  서초구  신원동  NaN  2014.0 2020-07-18   84.95   8   \n",
       "54628   힐스테이트 서초 젠트리스  서울특별시  서초구  신원동  NaN  2014.0 2020-07-27  101.90   3   \n",
       "60635       서초포레스타2단지  서울특별시  서초구  내곡동  NaN  2015.0 2020-08-06   59.09  14   \n",
       "60646   힐스테이트 서초 젠트리스  서울특별시  서초구  신원동  NaN  2014.0 2020-08-26  114.90   5   \n",
       "60647   힐스테이트 서초 젠트리스  서울특별시  서초구  신원동  NaN  2014.0 2020-08-29  114.90   9   \n",
       "69376   힐스테이트 서초 젠트리스  서울특별시  서초구  신원동  NaN  2014.0 2020-10-06   84.95   1   \n",
       "75432       서초포레스타2단지  서울특별시  서초구  내곡동  NaN  2015.0 2020-11-06   59.09   5   \n",
       "75437   힐스테이트 서초 젠트리스  서울특별시  서초구  신원동  NaN  2014.0 2020-11-18   84.95   9   \n",
       "82968       서초포레스타2단지  서울특별시  서초구  내곡동  NaN  2015.0 2020-12-05   84.87  17   \n",
       "82972   힐스테이트 서초 젠트리스  서울특별시  서초구  신원동  NaN  2014.0 2020-12-03   84.95   6   \n",
       "89342       서초포레스타2단지  서울특별시  서초구  내곡동  NaN  2015.0 2021-01-12   84.48   8   \n",
       "97584       서초포레스타2단지  서울특별시  서초구  내곡동  NaN  2015.0 2021-03-02   84.48  11   \n",
       "97585   힐스테이트 서초 젠트리스  서울특별시  서초구  신원동  NaN  2014.0 2021-03-11   84.95   2   \n",
       "101262      서초포레스타2단지  서울특별시  서초구  내곡동  NaN  2015.0 2021-04-06   84.48  21   \n",
       "101263      서초포레스타2단지  서울특별시  서초구  내곡동  NaN  2015.0 2021-04-10   59.21   2   \n",
       "101264      서초포레스타2단지  서울특별시  서초구  내곡동  NaN  2015.0 2021-04-20   84.87  14   \n",
       "101270  힐스테이트 서초 젠트리스  서울특별시  서초구  신원동  NaN  2014.0 2021-04-15  101.90   4   \n",
       "101272  힐스테이트 서초 젠트리스  서울특별시  서초구  신원동  NaN  2014.0 2021-04-27  101.90   3   \n",
       "106151      서초포레스타2단지  서울특별시  서초구  내곡동  NaN  2015.0 2021-05-16   59.21   8   \n",
       "106152      서초포레스타2단지  서울특별시  서초구  내곡동  NaN  2015.0 2021-05-18   84.87   1   \n",
       "106156  힐스테이트 서초 젠트리스  서울특별시  서초구  신원동  NaN  2014.0 2021-05-26   84.95   4   \n",
       "115150  힐스테이트 서초 젠트리스  서울특별시  서초구  신원동  NaN  2014.0 2021-07-26   84.99   7   \n",
       "124735      서초포레스타2단지  서울특별시  서초구  내곡동  NaN  2015.0 2021-10-13   84.87  10   \n",
       "126288      서초포레스타2단지  서울특별시  서초구  내곡동  NaN  2015.0 2021-11-11   84.41   9   \n",
       "129553      서초포레스타2단지  서울특별시  서초구  내곡동  NaN  2015.0 2022-02-05   84.87  10   \n",
       "135816  힐스테이트 서초 젠트리스  서울특별시  서초구  신원동  NaN  2014.0 2022-06-23  101.90   5   \n",
       "137927  힐스테이트 서초 젠트리스  서울특별시  서초구  신원동  NaN  2014.0 2022-09-28   84.95   8   \n",
       "\n",
       "          거래금액  \n",
       "5817    141000  \n",
       "5818    132000  \n",
       "13920   105000  \n",
       "13925   147300  \n",
       "19081   126500  \n",
       "42068   130000  \n",
       "42079   130000  \n",
       "54592   134000  \n",
       "54593   134000  \n",
       "54595   133000  \n",
       "54603   130000  \n",
       "54605   115000  \n",
       "54621   145000  \n",
       "54625   148000  \n",
       "54628   163000  \n",
       "60635   124000  \n",
       "60646   194000  \n",
       "60647   193000  \n",
       "69376   155000  \n",
       "75432   125000  \n",
       "75437   159000  \n",
       "82968   155000  \n",
       "82972   158000  \n",
       "89342   160000  \n",
       "97584   159000  \n",
       "97585   163000  \n",
       "101262  154500  \n",
       "101263  135000  \n",
       "101264  155000  \n",
       "101270  187500  \n",
       "101272  184500  \n",
       "106151  131000  \n",
       "106152  151000  \n",
       "106156  165000  \n",
       "115150  182000  \n",
       "124735  178000  \n",
       "126288  160000  \n",
       "129553  175000  \n",
       "135816  204000  \n",
       "137927  173000  "
      ]
     },
     "execution_count": 209,
     "metadata": {},
     "output_type": "execute_result"
    }
   ],
   "source": [
    "price[price['지번'].isna()]"
   ]
  },
  {
   "cell_type": "code",
   "execution_count": 211,
   "id": "c95c9a89",
   "metadata": {},
   "outputs": [],
   "source": [
    "price.loc[price['아파트'].eq('서초포레스타2단지'), '지번'] = '384'"
   ]
  },
  {
   "cell_type": "code",
   "execution_count": 213,
   "id": "12440012",
   "metadata": {},
   "outputs": [],
   "source": [
    "price.loc[price['아파트'].eq('힐스테이트 서초 젠트리스'), '지번'] = '557'"
   ]
  },
  {
   "cell_type": "code",
   "execution_count": 214,
   "id": "6cdbd380",
   "metadata": {},
   "outputs": [
    {
     "data": {
      "text/plain": [
       "아파트     0\n",
       "시       0\n",
       "구       0\n",
       "동       0\n",
       "지번      0\n",
       "건축년도    2\n",
       "거래일     0\n",
       "전용면적    0\n",
       "층       0\n",
       "거래금액    0\n",
       "dtype: int64"
      ]
     },
     "execution_count": 214,
     "metadata": {},
     "output_type": "execute_result"
    }
   ],
   "source": [
    "price.isna().sum()"
   ]
  },
  {
   "cell_type": "code",
   "execution_count": 215,
   "id": "bec55c8d",
   "metadata": {},
   "outputs": [
    {
     "data": {
      "text/html": [
       "<div>\n",
       "<style scoped>\n",
       "    .dataframe tbody tr th:only-of-type {\n",
       "        vertical-align: middle;\n",
       "    }\n",
       "\n",
       "    .dataframe tbody tr th {\n",
       "        vertical-align: top;\n",
       "    }\n",
       "\n",
       "    .dataframe thead th {\n",
       "        text-align: right;\n",
       "    }\n",
       "</style>\n",
       "<table border=\"1\" class=\"dataframe\">\n",
       "  <thead>\n",
       "    <tr style=\"text-align: right;\">\n",
       "      <th></th>\n",
       "      <th>아파트</th>\n",
       "      <th>시</th>\n",
       "      <th>구</th>\n",
       "      <th>동</th>\n",
       "      <th>지번</th>\n",
       "      <th>건축년도</th>\n",
       "      <th>거래일</th>\n",
       "      <th>전용면적</th>\n",
       "      <th>층</th>\n",
       "      <th>거래금액</th>\n",
       "    </tr>\n",
       "  </thead>\n",
       "  <tbody>\n",
       "    <tr>\n",
       "      <th>128072</th>\n",
       "      <td>DMCSKVIEW</td>\n",
       "      <td>서울특별시</td>\n",
       "      <td>은평구</td>\n",
       "      <td>수색동</td>\n",
       "      <td>30</td>\n",
       "      <td>NaN</td>\n",
       "      <td>2022-01-28</td>\n",
       "      <td>84.99</td>\n",
       "      <td>7</td>\n",
       "      <td>140000</td>\n",
       "    </tr>\n",
       "    <tr>\n",
       "      <th>129140</th>\n",
       "      <td>DMCSKVIEW</td>\n",
       "      <td>서울특별시</td>\n",
       "      <td>은평구</td>\n",
       "      <td>수색동</td>\n",
       "      <td>30</td>\n",
       "      <td>NaN</td>\n",
       "      <td>2022-02-10</td>\n",
       "      <td>84.99</td>\n",
       "      <td>6</td>\n",
       "      <td>137000</td>\n",
       "    </tr>\n",
       "  </tbody>\n",
       "</table>\n",
       "</div>"
      ],
      "text/plain": [
       "              아파트      시    구    동  지번  건축년도        거래일   전용면적  층    거래금액\n",
       "128072  DMCSKVIEW  서울특별시  은평구  수색동  30   NaN 2022-01-28  84.99  7  140000\n",
       "129140  DMCSKVIEW  서울특별시  은평구  수색동  30   NaN 2022-02-10  84.99  6  137000"
      ]
     },
     "execution_count": 215,
     "metadata": {},
     "output_type": "execute_result"
    }
   ],
   "source": [
    "price[price['건축년도'].isna()]"
   ]
  },
  {
   "cell_type": "code",
   "execution_count": 218,
   "id": "50e835c8",
   "metadata": {},
   "outputs": [
    {
     "data": {
      "text/html": [
       "<div>\n",
       "<style scoped>\n",
       "    .dataframe tbody tr th:only-of-type {\n",
       "        vertical-align: middle;\n",
       "    }\n",
       "\n",
       "    .dataframe tbody tr th {\n",
       "        vertical-align: top;\n",
       "    }\n",
       "\n",
       "    .dataframe thead th {\n",
       "        text-align: right;\n",
       "    }\n",
       "</style>\n",
       "<table border=\"1\" class=\"dataframe\">\n",
       "  <thead>\n",
       "    <tr style=\"text-align: right;\">\n",
       "      <th></th>\n",
       "      <th>아파트</th>\n",
       "      <th>시</th>\n",
       "      <th>구</th>\n",
       "      <th>동</th>\n",
       "      <th>지번</th>\n",
       "      <th>건축년도</th>\n",
       "      <th>거래일</th>\n",
       "      <th>전용면적</th>\n",
       "      <th>층</th>\n",
       "      <th>거래금액</th>\n",
       "    </tr>\n",
       "  </thead>\n",
       "  <tbody>\n",
       "    <tr>\n",
       "      <th>128072</th>\n",
       "      <td>DMCSKVIEW</td>\n",
       "      <td>서울특별시</td>\n",
       "      <td>은평구</td>\n",
       "      <td>수색동</td>\n",
       "      <td>30</td>\n",
       "      <td>9999.0</td>\n",
       "      <td>2022-01-28</td>\n",
       "      <td>84.99</td>\n",
       "      <td>7</td>\n",
       "      <td>140000</td>\n",
       "    </tr>\n",
       "    <tr>\n",
       "      <th>129140</th>\n",
       "      <td>DMCSKVIEW</td>\n",
       "      <td>서울특별시</td>\n",
       "      <td>은평구</td>\n",
       "      <td>수색동</td>\n",
       "      <td>30</td>\n",
       "      <td>9999.0</td>\n",
       "      <td>2022-02-10</td>\n",
       "      <td>84.99</td>\n",
       "      <td>6</td>\n",
       "      <td>137000</td>\n",
       "    </tr>\n",
       "  </tbody>\n",
       "</table>\n",
       "</div>"
      ],
      "text/plain": [
       "              아파트      시    구    동  지번    건축년도        거래일   전용면적  층    거래금액\n",
       "128072  DMCSKVIEW  서울특별시  은평구  수색동  30  9999.0 2022-01-28  84.99  7  140000\n",
       "129140  DMCSKVIEW  서울특별시  은평구  수색동  30  9999.0 2022-02-10  84.99  6  137000"
      ]
     },
     "execution_count": 218,
     "metadata": {},
     "output_type": "execute_result"
    }
   ],
   "source": [
    "price[price['건축년도'].isna()].fillna(value = 9999)"
   ]
  },
  {
   "cell_type": "code",
   "execution_count": 219,
   "id": "0c3b1391",
   "metadata": {
    "collapsed": true
   },
   "outputs": [
    {
     "data": {
      "text/html": [
       "<div>\n",
       "<style scoped>\n",
       "    .dataframe tbody tr th:only-of-type {\n",
       "        vertical-align: middle;\n",
       "    }\n",
       "\n",
       "    .dataframe tbody tr th {\n",
       "        vertical-align: top;\n",
       "    }\n",
       "\n",
       "    .dataframe thead th {\n",
       "        text-align: right;\n",
       "    }\n",
       "</style>\n",
       "<table border=\"1\" class=\"dataframe\">\n",
       "  <thead>\n",
       "    <tr style=\"text-align: right;\">\n",
       "      <th></th>\n",
       "      <th>아파트</th>\n",
       "      <th>시</th>\n",
       "      <th>구</th>\n",
       "      <th>동</th>\n",
       "      <th>지번</th>\n",
       "      <th>건축년도</th>\n",
       "      <th>거래일</th>\n",
       "      <th>전용면적</th>\n",
       "      <th>층</th>\n",
       "      <th>거래금액</th>\n",
       "    </tr>\n",
       "  </thead>\n",
       "  <tbody>\n",
       "    <tr>\n",
       "      <th>0</th>\n",
       "      <td>신동아블루아광화문의꿈</td>\n",
       "      <td>서울특별시</td>\n",
       "      <td>종로구</td>\n",
       "      <td>필운동</td>\n",
       "      <td>254</td>\n",
       "      <td>2007.0</td>\n",
       "      <td>2020-01-03</td>\n",
       "      <td>111.97</td>\n",
       "      <td>6</td>\n",
       "      <td>100000</td>\n",
       "    </tr>\n",
       "    <tr>\n",
       "      <th>1</th>\n",
       "      <td>광화문스페이스본(106동)</td>\n",
       "      <td>서울특별시</td>\n",
       "      <td>종로구</td>\n",
       "      <td>사직동</td>\n",
       "      <td>9-1</td>\n",
       "      <td>2008.0</td>\n",
       "      <td>2020-01-02</td>\n",
       "      <td>163.33</td>\n",
       "      <td>2</td>\n",
       "      <td>162000</td>\n",
       "    </tr>\n",
       "    <tr>\n",
       "      <th>2</th>\n",
       "      <td>세종로대우</td>\n",
       "      <td>서울특별시</td>\n",
       "      <td>종로구</td>\n",
       "      <td>내수동</td>\n",
       "      <td>167</td>\n",
       "      <td>1994.0</td>\n",
       "      <td>2020-01-06</td>\n",
       "      <td>109.91</td>\n",
       "      <td>11</td>\n",
       "      <td>88000</td>\n",
       "    </tr>\n",
       "    <tr>\n",
       "      <th>3</th>\n",
       "      <td>킹스매너</td>\n",
       "      <td>서울특별시</td>\n",
       "      <td>종로구</td>\n",
       "      <td>내수동</td>\n",
       "      <td>110-15</td>\n",
       "      <td>2004.0</td>\n",
       "      <td>2020-01-09</td>\n",
       "      <td>194.43</td>\n",
       "      <td>4</td>\n",
       "      <td>130000</td>\n",
       "    </tr>\n",
       "    <tr>\n",
       "      <th>4</th>\n",
       "      <td>경희궁파크팰리스</td>\n",
       "      <td>서울특별시</td>\n",
       "      <td>종로구</td>\n",
       "      <td>내수동</td>\n",
       "      <td>95</td>\n",
       "      <td>2003.0</td>\n",
       "      <td>2020-01-20</td>\n",
       "      <td>148.09</td>\n",
       "      <td>8</td>\n",
       "      <td>149000</td>\n",
       "    </tr>\n",
       "    <tr>\n",
       "      <th>...</th>\n",
       "      <td>...</td>\n",
       "      <td>...</td>\n",
       "      <td>...</td>\n",
       "      <td>...</td>\n",
       "      <td>...</td>\n",
       "      <td>...</td>\n",
       "      <td>...</td>\n",
       "      <td>...</td>\n",
       "      <td>...</td>\n",
       "      <td>...</td>\n",
       "    </tr>\n",
       "    <tr>\n",
       "      <th>139914</th>\n",
       "      <td>중앙하이츠</td>\n",
       "      <td>서울특별시</td>\n",
       "      <td>강동구</td>\n",
       "      <td>암사동</td>\n",
       "      <td>493-14</td>\n",
       "      <td>1998.0</td>\n",
       "      <td>2022-12-03</td>\n",
       "      <td>59.52</td>\n",
       "      <td>8</td>\n",
       "      <td>53000</td>\n",
       "    </tr>\n",
       "    <tr>\n",
       "      <th>139915</th>\n",
       "      <td>롯데캐슬퍼스트</td>\n",
       "      <td>서울특별시</td>\n",
       "      <td>강동구</td>\n",
       "      <td>암사동</td>\n",
       "      <td>414-2</td>\n",
       "      <td>2008.0</td>\n",
       "      <td>2022-12-06</td>\n",
       "      <td>111.22</td>\n",
       "      <td>10</td>\n",
       "      <td>135000</td>\n",
       "    </tr>\n",
       "    <tr>\n",
       "      <th>139916</th>\n",
       "      <td>선사현대아파트</td>\n",
       "      <td>서울특별시</td>\n",
       "      <td>강동구</td>\n",
       "      <td>암사동</td>\n",
       "      <td>509</td>\n",
       "      <td>2000.0</td>\n",
       "      <td>2022-12-10</td>\n",
       "      <td>59.64</td>\n",
       "      <td>17</td>\n",
       "      <td>77000</td>\n",
       "    </tr>\n",
       "    <tr>\n",
       "      <th>139917</th>\n",
       "      <td>파크뷰진도맨션</td>\n",
       "      <td>서울특별시</td>\n",
       "      <td>강동구</td>\n",
       "      <td>성내동</td>\n",
       "      <td>452-2</td>\n",
       "      <td>1996.0</td>\n",
       "      <td>2022-12-06</td>\n",
       "      <td>208.92</td>\n",
       "      <td>18</td>\n",
       "      <td>145500</td>\n",
       "    </tr>\n",
       "    <tr>\n",
       "      <th>139918</th>\n",
       "      <td>강동리버스트4단지</td>\n",
       "      <td>서울특별시</td>\n",
       "      <td>강동구</td>\n",
       "      <td>강일동</td>\n",
       "      <td>114</td>\n",
       "      <td>2020.0</td>\n",
       "      <td>2022-12-29</td>\n",
       "      <td>59.99</td>\n",
       "      <td>7</td>\n",
       "      <td>55000</td>\n",
       "    </tr>\n",
       "  </tbody>\n",
       "</table>\n",
       "<p>139917 rows × 10 columns</p>\n",
       "</div>"
      ],
      "text/plain": [
       "                   아파트      시    구    동      지번    건축년도        거래일    전용면적  \\\n",
       "0          신동아블루아광화문의꿈  서울특별시  종로구  필운동     254  2007.0 2020-01-03  111.97   \n",
       "1       광화문스페이스본(106동)  서울특별시  종로구  사직동     9-1  2008.0 2020-01-02  163.33   \n",
       "2                세종로대우  서울특별시  종로구  내수동     167  1994.0 2020-01-06  109.91   \n",
       "3                 킹스매너  서울특별시  종로구  내수동  110-15  2004.0 2020-01-09  194.43   \n",
       "4             경희궁파크팰리스  서울특별시  종로구  내수동      95  2003.0 2020-01-20  148.09   \n",
       "...                ...    ...  ...  ...     ...     ...        ...     ...   \n",
       "139914           중앙하이츠  서울특별시  강동구  암사동  493-14  1998.0 2022-12-03   59.52   \n",
       "139915         롯데캐슬퍼스트  서울특별시  강동구  암사동   414-2  2008.0 2022-12-06  111.22   \n",
       "139916         선사현대아파트  서울특별시  강동구  암사동     509  2000.0 2022-12-10   59.64   \n",
       "139917         파크뷰진도맨션  서울특별시  강동구  성내동   452-2  1996.0 2022-12-06  208.92   \n",
       "139918       강동리버스트4단지  서울특별시  강동구  강일동     114  2020.0 2022-12-29   59.99   \n",
       "\n",
       "         층    거래금액  \n",
       "0        6  100000  \n",
       "1        2  162000  \n",
       "2       11   88000  \n",
       "3        4  130000  \n",
       "4        8  149000  \n",
       "...     ..     ...  \n",
       "139914   8   53000  \n",
       "139915  10  135000  \n",
       "139916  17   77000  \n",
       "139917  18  145500  \n",
       "139918   7   55000  \n",
       "\n",
       "[139917 rows x 10 columns]"
      ]
     },
     "execution_count": 219,
     "metadata": {},
     "output_type": "execute_result"
    }
   ],
   "source": [
    "price.dropna()"
   ]
  },
  {
   "cell_type": "code",
   "execution_count": 221,
   "id": "5238121f",
   "metadata": {
    "collapsed": true
   },
   "outputs": [
    {
     "data": {
      "text/html": [
       "<div>\n",
       "<style scoped>\n",
       "    .dataframe tbody tr th:only-of-type {\n",
       "        vertical-align: middle;\n",
       "    }\n",
       "\n",
       "    .dataframe tbody tr th {\n",
       "        vertical-align: top;\n",
       "    }\n",
       "\n",
       "    .dataframe thead th {\n",
       "        text-align: right;\n",
       "    }\n",
       "</style>\n",
       "<table border=\"1\" class=\"dataframe\">\n",
       "  <thead>\n",
       "    <tr style=\"text-align: right;\">\n",
       "      <th></th>\n",
       "      <th>아파트</th>\n",
       "      <th>시</th>\n",
       "      <th>구</th>\n",
       "      <th>동</th>\n",
       "      <th>지번</th>\n",
       "      <th>건축년도</th>\n",
       "      <th>거래일</th>\n",
       "      <th>전용면적</th>\n",
       "      <th>층</th>\n",
       "      <th>거래금액</th>\n",
       "    </tr>\n",
       "  </thead>\n",
       "  <tbody>\n",
       "    <tr>\n",
       "      <th>0</th>\n",
       "      <td>신동아블루아광화문의꿈</td>\n",
       "      <td>서울특별시</td>\n",
       "      <td>종로구</td>\n",
       "      <td>필운동</td>\n",
       "      <td>254</td>\n",
       "      <td>2007.0</td>\n",
       "      <td>2020-01-03</td>\n",
       "      <td>111.97</td>\n",
       "      <td>6</td>\n",
       "      <td>100000</td>\n",
       "    </tr>\n",
       "    <tr>\n",
       "      <th>1</th>\n",
       "      <td>광화문스페이스본(106동)</td>\n",
       "      <td>서울특별시</td>\n",
       "      <td>종로구</td>\n",
       "      <td>사직동</td>\n",
       "      <td>9-1</td>\n",
       "      <td>2008.0</td>\n",
       "      <td>2020-01-02</td>\n",
       "      <td>163.33</td>\n",
       "      <td>2</td>\n",
       "      <td>162000</td>\n",
       "    </tr>\n",
       "    <tr>\n",
       "      <th>2</th>\n",
       "      <td>세종로대우</td>\n",
       "      <td>서울특별시</td>\n",
       "      <td>종로구</td>\n",
       "      <td>내수동</td>\n",
       "      <td>167</td>\n",
       "      <td>1994.0</td>\n",
       "      <td>2020-01-06</td>\n",
       "      <td>109.91</td>\n",
       "      <td>11</td>\n",
       "      <td>88000</td>\n",
       "    </tr>\n",
       "    <tr>\n",
       "      <th>3</th>\n",
       "      <td>킹스매너</td>\n",
       "      <td>서울특별시</td>\n",
       "      <td>종로구</td>\n",
       "      <td>내수동</td>\n",
       "      <td>110-15</td>\n",
       "      <td>2004.0</td>\n",
       "      <td>2020-01-09</td>\n",
       "      <td>194.43</td>\n",
       "      <td>4</td>\n",
       "      <td>130000</td>\n",
       "    </tr>\n",
       "    <tr>\n",
       "      <th>4</th>\n",
       "      <td>경희궁파크팰리스</td>\n",
       "      <td>서울특별시</td>\n",
       "      <td>종로구</td>\n",
       "      <td>내수동</td>\n",
       "      <td>95</td>\n",
       "      <td>2003.0</td>\n",
       "      <td>2020-01-20</td>\n",
       "      <td>148.09</td>\n",
       "      <td>8</td>\n",
       "      <td>149000</td>\n",
       "    </tr>\n",
       "    <tr>\n",
       "      <th>...</th>\n",
       "      <td>...</td>\n",
       "      <td>...</td>\n",
       "      <td>...</td>\n",
       "      <td>...</td>\n",
       "      <td>...</td>\n",
       "      <td>...</td>\n",
       "      <td>...</td>\n",
       "      <td>...</td>\n",
       "      <td>...</td>\n",
       "      <td>...</td>\n",
       "    </tr>\n",
       "    <tr>\n",
       "      <th>139914</th>\n",
       "      <td>중앙하이츠</td>\n",
       "      <td>서울특별시</td>\n",
       "      <td>강동구</td>\n",
       "      <td>암사동</td>\n",
       "      <td>493-14</td>\n",
       "      <td>1998.0</td>\n",
       "      <td>2022-12-03</td>\n",
       "      <td>59.52</td>\n",
       "      <td>8</td>\n",
       "      <td>53000</td>\n",
       "    </tr>\n",
       "    <tr>\n",
       "      <th>139915</th>\n",
       "      <td>롯데캐슬퍼스트</td>\n",
       "      <td>서울특별시</td>\n",
       "      <td>강동구</td>\n",
       "      <td>암사동</td>\n",
       "      <td>414-2</td>\n",
       "      <td>2008.0</td>\n",
       "      <td>2022-12-06</td>\n",
       "      <td>111.22</td>\n",
       "      <td>10</td>\n",
       "      <td>135000</td>\n",
       "    </tr>\n",
       "    <tr>\n",
       "      <th>139916</th>\n",
       "      <td>선사현대아파트</td>\n",
       "      <td>서울특별시</td>\n",
       "      <td>강동구</td>\n",
       "      <td>암사동</td>\n",
       "      <td>509</td>\n",
       "      <td>2000.0</td>\n",
       "      <td>2022-12-10</td>\n",
       "      <td>59.64</td>\n",
       "      <td>17</td>\n",
       "      <td>77000</td>\n",
       "    </tr>\n",
       "    <tr>\n",
       "      <th>139917</th>\n",
       "      <td>파크뷰진도맨션</td>\n",
       "      <td>서울특별시</td>\n",
       "      <td>강동구</td>\n",
       "      <td>성내동</td>\n",
       "      <td>452-2</td>\n",
       "      <td>1996.0</td>\n",
       "      <td>2022-12-06</td>\n",
       "      <td>208.92</td>\n",
       "      <td>18</td>\n",
       "      <td>145500</td>\n",
       "    </tr>\n",
       "    <tr>\n",
       "      <th>139918</th>\n",
       "      <td>강동리버스트4단지</td>\n",
       "      <td>서울특별시</td>\n",
       "      <td>강동구</td>\n",
       "      <td>강일동</td>\n",
       "      <td>114</td>\n",
       "      <td>2020.0</td>\n",
       "      <td>2022-12-29</td>\n",
       "      <td>59.99</td>\n",
       "      <td>7</td>\n",
       "      <td>55000</td>\n",
       "    </tr>\n",
       "  </tbody>\n",
       "</table>\n",
       "<p>139917 rows × 10 columns</p>\n",
       "</div>"
      ],
      "text/plain": [
       "                   아파트      시    구    동      지번    건축년도        거래일    전용면적  \\\n",
       "0          신동아블루아광화문의꿈  서울특별시  종로구  필운동     254  2007.0 2020-01-03  111.97   \n",
       "1       광화문스페이스본(106동)  서울특별시  종로구  사직동     9-1  2008.0 2020-01-02  163.33   \n",
       "2                세종로대우  서울특별시  종로구  내수동     167  1994.0 2020-01-06  109.91   \n",
       "3                 킹스매너  서울특별시  종로구  내수동  110-15  2004.0 2020-01-09  194.43   \n",
       "4             경희궁파크팰리스  서울특별시  종로구  내수동      95  2003.0 2020-01-20  148.09   \n",
       "...                ...    ...  ...  ...     ...     ...        ...     ...   \n",
       "139914           중앙하이츠  서울특별시  강동구  암사동  493-14  1998.0 2022-12-03   59.52   \n",
       "139915         롯데캐슬퍼스트  서울특별시  강동구  암사동   414-2  2008.0 2022-12-06  111.22   \n",
       "139916         선사현대아파트  서울특별시  강동구  암사동     509  2000.0 2022-12-10   59.64   \n",
       "139917         파크뷰진도맨션  서울특별시  강동구  성내동   452-2  1996.0 2022-12-06  208.92   \n",
       "139918       강동리버스트4단지  서울특별시  강동구  강일동     114  2020.0 2022-12-29   59.99   \n",
       "\n",
       "         층    거래금액  \n",
       "0        6  100000  \n",
       "1        2  162000  \n",
       "2       11   88000  \n",
       "3        4  130000  \n",
       "4        8  149000  \n",
       "...     ..     ...  \n",
       "139914   8   53000  \n",
       "139915  10  135000  \n",
       "139916  17   77000  \n",
       "139917  18  145500  \n",
       "139918   7   55000  \n",
       "\n",
       "[139917 rows x 10 columns]"
      ]
     },
     "execution_count": 221,
     "metadata": {},
     "output_type": "execute_result"
    }
   ],
   "source": [
    "price[~price['건축년도'].isna()]"
   ]
  },
  {
   "cell_type": "code",
   "execution_count": 223,
   "id": "0cc22bdb",
   "metadata": {},
   "outputs": [],
   "source": [
    "price = price[price['건축년도'].notna()]"
   ]
  },
  {
   "cell_type": "code",
   "execution_count": 224,
   "id": "96c26d26",
   "metadata": {},
   "outputs": [
    {
     "name": "stderr",
     "output_type": "stream",
     "text": [
      "C:\\Users\\hdsce\\AppData\\Local\\Temp\\ipykernel_12080\\1760775511.py:1: SettingWithCopyWarning: \n",
      "A value is trying to be set on a copy of a slice from a DataFrame.\n",
      "Try using .loc[row_indexer,col_indexer] = value instead\n",
      "\n",
      "See the caveats in the documentation: https://pandas.pydata.org/pandas-docs/stable/user_guide/indexing.html#returning-a-view-versus-a-copy\n",
      "  price['건축년도'] = price['건축년도'].astype(int)\n"
     ]
    }
   ],
   "source": [
    "price['건축년도'] = price['건축년도'].astype(int)"
   ]
  },
  {
   "cell_type": "code",
   "execution_count": 225,
   "id": "2ea79f2c",
   "metadata": {},
   "outputs": [
    {
     "data": {
      "text/plain": [
       "아파트             object\n",
       "시               object\n",
       "구               object\n",
       "동               object\n",
       "지번              object\n",
       "건축년도             int32\n",
       "거래일     datetime64[ns]\n",
       "전용면적           float64\n",
       "층                int32\n",
       "거래금액             int32\n",
       "dtype: object"
      ]
     },
     "execution_count": 225,
     "metadata": {},
     "output_type": "execute_result"
    }
   ],
   "source": [
    "price.dtypes"
   ]
  },
  {
   "cell_type": "code",
   "execution_count": 226,
   "id": "7f85e43b",
   "metadata": {},
   "outputs": [],
   "source": [
    "price.to_csv('APT_Prep.csv', index = False)"
   ]
  },
  {
   "cell_type": "code",
   "execution_count": null,
   "id": "26593738",
   "metadata": {},
   "outputs": [],
   "source": []
  }
 ],
 "metadata": {
  "kernelspec": {
   "display_name": "Python 3 (ipykernel)",
   "language": "python",
   "name": "python3"
  },
  "language_info": {
   "codemirror_mode": {
    "name": "ipython",
    "version": 3
   },
   "file_extension": ".py",
   "mimetype": "text/x-python",
   "name": "python",
   "nbconvert_exporter": "python",
   "pygments_lexer": "ipython3",
   "version": "3.11.1"
  }
 },
 "nbformat": 4,
 "nbformat_minor": 5
}
