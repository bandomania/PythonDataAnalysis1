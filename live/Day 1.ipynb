{
 "cells": [
  {
   "cell_type": "code",
   "execution_count": null,
   "id": "273c3f9d",
   "metadata": {},
   "outputs": [],
   "source": [
    "import numpy as np"
   ]
  },
  {
   "cell_type": "code",
   "execution_count": null,
   "id": "78279297",
   "metadata": {},
   "outputs": [],
   "source": [
    "a = [1, 2, 3]\n",
    "a"
   ]
  },
  {
   "cell_type": "code",
   "execution_count": null,
   "id": "247d57f2",
   "metadata": {},
   "outputs": [],
   "source": [
    "print(a)"
   ]
  },
  {
   "cell_type": "code",
   "execution_count": null,
   "id": "34ede9e8",
   "metadata": {},
   "outputs": [],
   "source": [
    "ar1 = np.array(a)\n",
    "ar1"
   ]
  },
  {
   "cell_type": "code",
   "execution_count": null,
   "id": "d11bef02",
   "metadata": {},
   "outputs": [],
   "source": [
    "print(ar1)"
   ]
  },
  {
   "cell_type": "code",
   "execution_count": null,
   "id": "281e5616",
   "metadata": {},
   "outputs": [],
   "source": [
    "sen = '파이썬이 쉽니? '\n",
    "sen"
   ]
  },
  {
   "cell_type": "code",
   "execution_count": null,
   "id": "7ad7b4bb",
   "metadata": {},
   "outputs": [],
   "source": [
    "print(sen)"
   ]
  },
  {
   "cell_type": "code",
   "execution_count": null,
   "id": "12b0604d",
   "metadata": {},
   "outputs": [],
   "source": [
    "type(a)"
   ]
  },
  {
   "cell_type": "code",
   "execution_count": null,
   "id": "b37199d8",
   "metadata": {},
   "outputs": [],
   "source": [
    "type(ar1)"
   ]
  },
  {
   "cell_type": "code",
   "execution_count": null,
   "id": "746f506a",
   "metadata": {},
   "outputs": [],
   "source": [
    "dir(ar1)"
   ]
  },
  {
   "cell_type": "code",
   "execution_count": null,
   "id": "227dac60",
   "metadata": {},
   "outputs": [],
   "source": [
    "ar1.shape"
   ]
  },
  {
   "cell_type": "code",
   "execution_count": null,
   "id": "56d8daaf",
   "metadata": {},
   "outputs": [],
   "source": [
    "ar1.size"
   ]
  },
  {
   "cell_type": "code",
   "execution_count": null,
   "id": "8f9a2a74",
   "metadata": {},
   "outputs": [],
   "source": [
    "ar1.dtype"
   ]
  },
  {
   "cell_type": "code",
   "execution_count": null,
   "id": "cef0589b",
   "metadata": {},
   "outputs": [],
   "source": [
    "a = [1, 2.0, '3']\n",
    "a"
   ]
  },
  {
   "cell_type": "code",
   "execution_count": null,
   "id": "e29ec0bf",
   "metadata": {},
   "outputs": [],
   "source": [
    "ar1 = np.array(a)\n",
    "ar1"
   ]
  },
  {
   "cell_type": "code",
   "execution_count": null,
   "id": "97229a16",
   "metadata": {},
   "outputs": [],
   "source": [
    "ar1.astype(float)"
   ]
  },
  {
   "cell_type": "code",
   "execution_count": null,
   "id": "aef406c4",
   "metadata": {},
   "outputs": [],
   "source": [
    "ar1.astype(int)"
   ]
  },
  {
   "cell_type": "code",
   "execution_count": null,
   "id": "14032535",
   "metadata": {},
   "outputs": [],
   "source": [
    "ar1.astype(float).astype(int)"
   ]
  },
  {
   "cell_type": "code",
   "execution_count": null,
   "id": "2969fdcd",
   "metadata": {},
   "outputs": [],
   "source": [
    "num = '2.0'"
   ]
  },
  {
   "cell_type": "code",
   "execution_count": null,
   "id": "d6c2e15b",
   "metadata": {},
   "outputs": [],
   "source": [
    "int(float(num))"
   ]
  },
  {
   "cell_type": "code",
   "execution_count": null,
   "id": "9bf64dd3",
   "metadata": {},
   "outputs": [],
   "source": [
    "a"
   ]
  },
  {
   "cell_type": "code",
   "execution_count": null,
   "id": "6bd775a5",
   "metadata": {},
   "outputs": [],
   "source": [
    "np.array(object = a, dtype = float)"
   ]
  },
  {
   "cell_type": "code",
   "execution_count": null,
   "id": "282190bf",
   "metadata": {},
   "outputs": [],
   "source": [
    "np.array(object = a, dtype = int)"
   ]
  },
  {
   "cell_type": "code",
   "execution_count": null,
   "id": "15d61446",
   "metadata": {},
   "outputs": [],
   "source": [
    "np.array(object = a, dtype = str)"
   ]
  },
  {
   "cell_type": "code",
   "execution_count": null,
   "id": "ae779eef",
   "metadata": {},
   "outputs": [],
   "source": [
    "np.array(object = a, dtype = object)"
   ]
  },
  {
   "cell_type": "code",
   "execution_count": null,
   "id": "3344a540",
   "metadata": {},
   "outputs": [],
   "source": [
    "list(range(6))"
   ]
  },
  {
   "cell_type": "code",
   "execution_count": null,
   "id": "75e5fafa",
   "metadata": {},
   "outputs": [],
   "source": [
    "list(range(1, 6))"
   ]
  },
  {
   "cell_type": "code",
   "execution_count": null,
   "id": "e4770b82",
   "metadata": {},
   "outputs": [],
   "source": [
    "list(range(1, 11, 2))"
   ]
  },
  {
   "cell_type": "code",
   "execution_count": null,
   "id": "1d9ed15f",
   "metadata": {},
   "outputs": [],
   "source": [
    "list(range(0, 1, 0.1))"
   ]
  },
  {
   "cell_type": "code",
   "execution_count": null,
   "id": "ea87f780",
   "metadata": {},
   "outputs": [],
   "source": [
    "np.arange(6)"
   ]
  },
  {
   "cell_type": "code",
   "execution_count": null,
   "id": "8efac436",
   "metadata": {},
   "outputs": [],
   "source": [
    "np.arange(1, 6)"
   ]
  },
  {
   "cell_type": "code",
   "execution_count": null,
   "id": "c4f5ca37",
   "metadata": {},
   "outputs": [],
   "source": [
    "np.arange(1, 11, 2)"
   ]
  },
  {
   "cell_type": "code",
   "execution_count": null,
   "id": "91f83960",
   "metadata": {},
   "outputs": [],
   "source": [
    "np.arange(0, 1, 0.1)"
   ]
  },
  {
   "cell_type": "code",
   "execution_count": null,
   "id": "7cdb2674",
   "metadata": {},
   "outputs": [],
   "source": [
    "ar2 = np.arange(0, 1.1, 0.1)"
   ]
  },
  {
   "cell_type": "code",
   "execution_count": null,
   "id": "6d332cc9",
   "metadata": {},
   "outputs": [],
   "source": [
    "ar2 = np.round(ar2, 1)\n",
    "ar2"
   ]
  },
  {
   "cell_type": "code",
   "execution_count": null,
   "id": "8b648b13",
   "metadata": {},
   "outputs": [],
   "source": [
    "for i in ar2:\n",
    "    print(i)"
   ]
  },
  {
   "cell_type": "code",
   "execution_count": null,
   "id": "f371cd05",
   "metadata": {},
   "outputs": [],
   "source": [
    "%precision 2"
   ]
  },
  {
   "cell_type": "code",
   "execution_count": null,
   "id": "de7a59f9",
   "metadata": {},
   "outputs": [],
   "source": [
    "f'{ar2[1]:.2f}'"
   ]
  },
  {
   "cell_type": "code",
   "execution_count": null,
   "id": "92a8d2cd",
   "metadata": {},
   "outputs": [],
   "source": [
    "ar3 = [f'{i:.2f}' for i in ar2]\n",
    "ar3"
   ]
  },
  {
   "cell_type": "code",
   "execution_count": null,
   "id": "201b4494",
   "metadata": {},
   "outputs": [],
   "source": [
    "# 이게 왜 되는 걸까?\n",
    "[float(i) for i in ar3]"
   ]
  },
  {
   "cell_type": "code",
   "execution_count": null,
   "id": "762973e0",
   "metadata": {},
   "outputs": [],
   "source": []
  },
  {
   "cell_type": "code",
   "execution_count": null,
   "id": "466ba5df",
   "metadata": {},
   "outputs": [],
   "source": [
    "np.linspace(0, 1, 10+1)"
   ]
  },
  {
   "cell_type": "code",
   "execution_count": null,
   "id": "5a2c9c01",
   "metadata": {},
   "outputs": [],
   "source": [
    "np.linspace(80, 75, 30+1)"
   ]
  },
  {
   "cell_type": "code",
   "execution_count": null,
   "id": "7cffcd46",
   "metadata": {},
   "outputs": [],
   "source": [
    "np.tile(ar1, 2)"
   ]
  },
  {
   "cell_type": "code",
   "execution_count": null,
   "id": "1dab268d",
   "metadata": {},
   "outputs": [],
   "source": [
    "np.repeat(ar1, 2)"
   ]
  },
  {
   "cell_type": "code",
   "execution_count": null,
   "id": "a840b485",
   "metadata": {},
   "outputs": [],
   "source": [
    "ar1 = np.arange(1, 12, 2)\n",
    "ar1"
   ]
  },
  {
   "cell_type": "code",
   "execution_count": null,
   "id": "c460e895",
   "metadata": {},
   "outputs": [],
   "source": [
    "ar1[0]"
   ]
  },
  {
   "cell_type": "code",
   "execution_count": null,
   "id": "e3579cee",
   "metadata": {},
   "outputs": [],
   "source": [
    "ar1[1]"
   ]
  },
  {
   "cell_type": "code",
   "execution_count": null,
   "id": "1df847c6",
   "metadata": {},
   "outputs": [],
   "source": [
    "ar1[-1]"
   ]
  },
  {
   "cell_type": "code",
   "execution_count": null,
   "id": "5c9ffd69",
   "metadata": {},
   "outputs": [],
   "source": [
    "%precision 3"
   ]
  },
  {
   "cell_type": "code",
   "execution_count": null,
   "id": "6be4dd95",
   "metadata": {},
   "outputs": [],
   "source": [
    "a"
   ]
  },
  {
   "cell_type": "code",
   "execution_count": null,
   "id": "98a436cd",
   "metadata": {},
   "outputs": [],
   "source": [
    "a[0]"
   ]
  },
  {
   "cell_type": "code",
   "execution_count": null,
   "id": "b4e6c3b5",
   "metadata": {},
   "outputs": [],
   "source": [
    "a[1]"
   ]
  },
  {
   "cell_type": "code",
   "execution_count": null,
   "id": "da05cf14",
   "metadata": {},
   "outputs": [],
   "source": [
    "a[2]"
   ]
  },
  {
   "cell_type": "code",
   "execution_count": null,
   "id": "fe60980c",
   "metadata": {},
   "outputs": [],
   "source": [
    "ar1[:3]"
   ]
  },
  {
   "cell_type": "code",
   "execution_count": null,
   "id": "f2fbdf75",
   "metadata": {},
   "outputs": [],
   "source": [
    "ar1[3:]"
   ]
  },
  {
   "cell_type": "code",
   "execution_count": null,
   "id": "13ee6b10",
   "metadata": {},
   "outputs": [],
   "source": [
    "ar1[:]"
   ]
  },
  {
   "cell_type": "code",
   "execution_count": null,
   "id": "3efb9fca",
   "metadata": {},
   "outputs": [],
   "source": [
    "a[:2]"
   ]
  },
  {
   "cell_type": "code",
   "execution_count": null,
   "id": "b79de03a",
   "metadata": {},
   "outputs": [],
   "source": [
    "a[2:]"
   ]
  },
  {
   "cell_type": "code",
   "execution_count": null,
   "id": "b4dd8b90",
   "metadata": {},
   "outputs": [],
   "source": [
    "a[:]"
   ]
  },
  {
   "cell_type": "code",
   "execution_count": null,
   "id": "ce0459b3",
   "metadata": {},
   "outputs": [],
   "source": [
    "ar1[ [3, 2, 1] ]"
   ]
  },
  {
   "cell_type": "code",
   "execution_count": null,
   "id": "d69d07b5",
   "metadata": {},
   "outputs": [],
   "source": [
    "ar1[ [3, 3, 3] ]"
   ]
  },
  {
   "cell_type": "code",
   "execution_count": null,
   "id": "b9b60366",
   "metadata": {},
   "outputs": [],
   "source": [
    "a[ [2, 1] ]"
   ]
  },
  {
   "cell_type": "code",
   "execution_count": null,
   "id": "fa3cadf7",
   "metadata": {},
   "outputs": [],
   "source": [
    "ar2 = np.array([ [1, 2, 3], [4, 5, 6] ])\n",
    "ar2"
   ]
  },
  {
   "cell_type": "code",
   "execution_count": null,
   "id": "932cb18c",
   "metadata": {},
   "outputs": [],
   "source": [
    "type(ar2)"
   ]
  },
  {
   "cell_type": "code",
   "execution_count": null,
   "id": "ddbe8531",
   "metadata": {},
   "outputs": [],
   "source": [
    "ar2.shape"
   ]
  },
  {
   "cell_type": "code",
   "execution_count": null,
   "id": "f2665f9b",
   "metadata": {},
   "outputs": [],
   "source": [
    "ar2.size"
   ]
  },
  {
   "cell_type": "code",
   "execution_count": null,
   "id": "63471fb6",
   "metadata": {},
   "outputs": [],
   "source": [
    "ar2.dtype"
   ]
  },
  {
   "cell_type": "code",
   "execution_count": null,
   "id": "1f309407",
   "metadata": {},
   "outputs": [],
   "source": [
    "ar1 = np.arange(12)\n",
    "ar1"
   ]
  },
  {
   "cell_type": "code",
   "execution_count": null,
   "id": "060a5751",
   "metadata": {},
   "outputs": [],
   "source": [
    "ar1.reshape(4, 3)"
   ]
  },
  {
   "cell_type": "code",
   "execution_count": null,
   "id": "cbe8a0fe",
   "metadata": {},
   "outputs": [],
   "source": [
    "ar1.reshape(4, 3, order = 'F')"
   ]
  },
  {
   "cell_type": "code",
   "execution_count": null,
   "id": "2b9f6672",
   "metadata": {},
   "outputs": [],
   "source": [
    "ar2 = ar1.reshape(4, -1)\n",
    "ar2"
   ]
  },
  {
   "cell_type": "code",
   "execution_count": null,
   "id": "cc5f6a79",
   "metadata": {},
   "outputs": [],
   "source": [
    "ar2.flatten()"
   ]
  },
  {
   "cell_type": "code",
   "execution_count": null,
   "id": "5a8b7ae3",
   "metadata": {},
   "outputs": [],
   "source": [
    "ar2"
   ]
  },
  {
   "cell_type": "code",
   "execution_count": null,
   "id": "a0980069",
   "metadata": {},
   "outputs": [],
   "source": [
    "ar2[0, 0]"
   ]
  },
  {
   "cell_type": "code",
   "execution_count": null,
   "id": "29de1173",
   "metadata": {},
   "outputs": [],
   "source": [
    "ar2[1, 1]"
   ]
  },
  {
   "cell_type": "code",
   "execution_count": null,
   "id": "f34af196",
   "metadata": {},
   "outputs": [],
   "source": [
    "ar2[0:2, 0:2]"
   ]
  },
  {
   "cell_type": "code",
   "execution_count": null,
   "id": "cd3b7aed",
   "metadata": {},
   "outputs": [],
   "source": [
    "ar2[:, 1:3]"
   ]
  },
  {
   "cell_type": "code",
   "execution_count": null,
   "id": "9afe8a18",
   "metadata": {},
   "outputs": [],
   "source": [
    "ar2[:, [2, 1]]"
   ]
  },
  {
   "cell_type": "code",
   "execution_count": null,
   "id": "86a5607d",
   "metadata": {},
   "outputs": [],
   "source": [
    "ar1 = np.arange(3)\n",
    "ar1"
   ]
  },
  {
   "cell_type": "code",
   "execution_count": null,
   "id": "d80b6869",
   "metadata": {},
   "outputs": [],
   "source": [
    "ar2 = ar1.reshape(-1, 1)\n",
    "ar2"
   ]
  },
  {
   "cell_type": "code",
   "execution_count": null,
   "id": "bcacf382",
   "metadata": {},
   "outputs": [],
   "source": [
    "ar1 + 1"
   ]
  },
  {
   "cell_type": "code",
   "execution_count": null,
   "id": "de557608",
   "metadata": {},
   "outputs": [],
   "source": [
    "ar2 * 2"
   ]
  },
  {
   "cell_type": "code",
   "execution_count": null,
   "id": "672a9e4f",
   "metadata": {},
   "outputs": [],
   "source": []
  },
  {
   "cell_type": "code",
   "execution_count": 1,
   "id": "38846627",
   "metadata": {},
   "outputs": [],
   "source": [
    "import numpy as np\n",
    "import pandas as pd"
   ]
  },
  {
   "cell_type": "code",
   "execution_count": 2,
   "id": "7adfa265",
   "metadata": {},
   "outputs": [
    {
     "data": {
      "text/plain": [
       "array([1, 3, 5])"
      ]
     },
     "execution_count": 2,
     "metadata": {},
     "output_type": "execute_result"
    }
   ],
   "source": [
    "ar1 = np.arange(1, 6, 2)\n",
    "ar1"
   ]
  },
  {
   "cell_type": "code",
   "execution_count": 3,
   "id": "345d57ed",
   "metadata": {},
   "outputs": [
    {
     "data": {
      "text/plain": [
       "0    1\n",
       "1    3\n",
       "2    5\n",
       "dtype: int32"
      ]
     },
     "execution_count": 3,
     "metadata": {},
     "output_type": "execute_result"
    }
   ],
   "source": [
    "sr = pd.Series(ar1)\n",
    "sr"
   ]
  },
  {
   "cell_type": "code",
   "execution_count": 4,
   "id": "3ee73b12",
   "metadata": {},
   "outputs": [
    {
     "data": {
      "text/plain": [
       "pandas.core.series.Series"
      ]
     },
     "execution_count": 4,
     "metadata": {},
     "output_type": "execute_result"
    }
   ],
   "source": [
    "type(sr)"
   ]
  },
  {
   "cell_type": "code",
   "execution_count": 5,
   "id": "ad989f97",
   "metadata": {},
   "outputs": [
    {
     "data": {
      "text/plain": [
       "(3,)"
      ]
     },
     "execution_count": 5,
     "metadata": {},
     "output_type": "execute_result"
    }
   ],
   "source": [
    "sr.shape"
   ]
  },
  {
   "cell_type": "code",
   "execution_count": 6,
   "id": "165a37ad",
   "metadata": {},
   "outputs": [
    {
     "data": {
      "text/plain": [
       "3"
      ]
     },
     "execution_count": 6,
     "metadata": {},
     "output_type": "execute_result"
    }
   ],
   "source": [
    "sr.size"
   ]
  },
  {
   "cell_type": "code",
   "execution_count": 7,
   "id": "58cfcedf",
   "metadata": {},
   "outputs": [
    {
     "data": {
      "text/plain": [
       "dtype('int32')"
      ]
     },
     "execution_count": 7,
     "metadata": {},
     "output_type": "execute_result"
    }
   ],
   "source": [
    "sr.dtype"
   ]
  },
  {
   "cell_type": "code",
   "execution_count": 8,
   "id": "ebbc9e58",
   "metadata": {},
   "outputs": [
    {
     "data": {
      "text/plain": [
       "a      1\n",
       "b    2.0\n",
       "c      3\n",
       "dtype: object"
      ]
     },
     "execution_count": 8,
     "metadata": {},
     "output_type": "execute_result"
    }
   ],
   "source": [
    "sr1 = pd.Series(data = [1, 2.0, '3'], index = ['a', 'b', 'c'])\n",
    "sr1"
   ]
  },
  {
   "cell_type": "code",
   "execution_count": 10,
   "id": "d8fb4bbd",
   "metadata": {},
   "outputs": [
    {
     "name": "stdout",
     "output_type": "stream",
     "text": [
      "<class 'int'>\n",
      "<class 'float'>\n",
      "<class 'str'>\n"
     ]
    }
   ],
   "source": [
    "for i in sr1:\n",
    "    print(type(i))"
   ]
  },
  {
   "cell_type": "code",
   "execution_count": 14,
   "id": "1518a030",
   "metadata": {},
   "outputs": [
    {
     "data": {
      "text/plain": [
       "a    2.0\n",
       "b    3.0\n",
       "c    4.0\n",
       "dtype: float64"
      ]
     },
     "execution_count": 14,
     "metadata": {},
     "output_type": "execute_result"
    }
   ],
   "source": [
    "sr1.astype(float) + 1"
   ]
  },
  {
   "cell_type": "code",
   "execution_count": 15,
   "id": "0483b230",
   "metadata": {},
   "outputs": [
    {
     "data": {
      "text/plain": [
       "a      11\n",
       "b    2.01\n",
       "c      31\n",
       "dtype: object"
      ]
     },
     "execution_count": 15,
     "metadata": {},
     "output_type": "execute_result"
    }
   ],
   "source": [
    "sr1.astype(str) + '1'"
   ]
  },
  {
   "cell_type": "code",
   "execution_count": 16,
   "id": "22fadace",
   "metadata": {},
   "outputs": [
    {
     "data": {
      "text/plain": [
       "a    1\n",
       "b    3\n",
       "c    5\n",
       "dtype: int64"
      ]
     },
     "execution_count": 16,
     "metadata": {},
     "output_type": "execute_result"
    }
   ],
   "source": [
    "pd.Series(data = {'a': 1, 'b': 3, 'c': 5})"
   ]
  },
  {
   "cell_type": "code",
   "execution_count": 17,
   "id": "73bc0444",
   "metadata": {},
   "outputs": [
    {
     "data": {
      "text/plain": [
       "0    1\n",
       "1    3\n",
       "2    5\n",
       "dtype: int32"
      ]
     },
     "execution_count": 17,
     "metadata": {},
     "output_type": "execute_result"
    }
   ],
   "source": [
    "sr"
   ]
  },
  {
   "cell_type": "code",
   "execution_count": 18,
   "id": "31ab04c3",
   "metadata": {},
   "outputs": [
    {
     "data": {
      "text/plain": [
       "array([1, 3, 5])"
      ]
     },
     "execution_count": 18,
     "metadata": {},
     "output_type": "execute_result"
    }
   ],
   "source": [
    "sr.values"
   ]
  },
  {
   "cell_type": "code",
   "execution_count": 19,
   "id": "69517718",
   "metadata": {},
   "outputs": [
    {
     "data": {
      "text/plain": [
       "RangeIndex(start=0, stop=3, step=1)"
      ]
     },
     "execution_count": 19,
     "metadata": {},
     "output_type": "execute_result"
    }
   ],
   "source": [
    "sr.index"
   ]
  },
  {
   "cell_type": "code",
   "execution_count": 20,
   "id": "a801bb8e",
   "metadata": {},
   "outputs": [
    {
     "data": {
      "text/plain": [
       "1    1\n",
       "2    3\n",
       "3    5\n",
       "dtype: int32"
      ]
     },
     "execution_count": 20,
     "metadata": {},
     "output_type": "execute_result"
    }
   ],
   "source": [
    "sr.index = [1, 2, 3]\n",
    "sr"
   ]
  },
  {
   "cell_type": "code",
   "execution_count": 21,
   "id": "d4a4d36b",
   "metadata": {},
   "outputs": [
    {
     "data": {
      "text/plain": [
       "a    1\n",
       "b    3\n",
       "c    5\n",
       "dtype: int32"
      ]
     },
     "execution_count": 21,
     "metadata": {},
     "output_type": "execute_result"
    }
   ],
   "source": [
    "sr.index = ['a', 'b', 'c']\n",
    "sr"
   ]
  },
  {
   "cell_type": "code",
   "execution_count": 22,
   "id": "bbe1f998",
   "metadata": {},
   "outputs": [
    {
     "data": {
      "text/plain": [
       "a    1\n",
       "b    3\n",
       "c    5\n",
       "dtype: int32"
      ]
     },
     "execution_count": 22,
     "metadata": {},
     "output_type": "execute_result"
    }
   ],
   "source": [
    "sr"
   ]
  },
  {
   "cell_type": "code",
   "execution_count": 23,
   "id": "0dd83b33",
   "metadata": {},
   "outputs": [
    {
     "data": {
      "text/plain": [
       "b    3\n",
       "dtype: int32"
      ]
     },
     "execution_count": 23,
     "metadata": {},
     "output_type": "execute_result"
    }
   ],
   "source": [
    "sr.iloc[[1]]"
   ]
  },
  {
   "cell_type": "code",
   "execution_count": 24,
   "id": "ba58bb4b",
   "metadata": {},
   "outputs": [
    {
     "data": {
      "text/plain": [
       "a    1\n",
       "b    3\n",
       "c    5\n",
       "dtype: int32"
      ]
     },
     "execution_count": 24,
     "metadata": {},
     "output_type": "execute_result"
    }
   ],
   "source": [
    "sr"
   ]
  },
  {
   "cell_type": "code",
   "execution_count": 25,
   "id": "e8d8862b",
   "metadata": {},
   "outputs": [
    {
     "data": {
      "text/plain": [
       "1"
      ]
     },
     "execution_count": 25,
     "metadata": {},
     "output_type": "execute_result"
    }
   ],
   "source": [
    "sr.iloc[0]"
   ]
  },
  {
   "cell_type": "code",
   "execution_count": 26,
   "id": "4123b636",
   "metadata": {},
   "outputs": [
    {
     "data": {
      "text/plain": [
       "a    1\n",
       "dtype: int32"
      ]
     },
     "execution_count": 26,
     "metadata": {},
     "output_type": "execute_result"
    }
   ],
   "source": [
    "sr.iloc[[0]]"
   ]
  },
  {
   "cell_type": "code",
   "execution_count": 27,
   "id": "ace55ab9",
   "metadata": {},
   "outputs": [
    {
     "data": {
      "text/plain": [
       "a    1\n",
       "c    5\n",
       "dtype: int32"
      ]
     },
     "execution_count": 27,
     "metadata": {},
     "output_type": "execute_result"
    }
   ],
   "source": [
    "sr.iloc[[0, 2]]"
   ]
  },
  {
   "cell_type": "code",
   "execution_count": 28,
   "id": "b7a554eb",
   "metadata": {},
   "outputs": [
    {
     "data": {
      "text/plain": [
       "a    1\n",
       "b    3\n",
       "dtype: int32"
      ]
     },
     "execution_count": 28,
     "metadata": {},
     "output_type": "execute_result"
    }
   ],
   "source": [
    "sr.iloc[0:2]"
   ]
  },
  {
   "cell_type": "code",
   "execution_count": 29,
   "id": "6d83d806",
   "metadata": {},
   "outputs": [
    {
     "data": {
      "text/plain": [
       "a    1\n",
       "b    3\n",
       "c    5\n",
       "dtype: int32"
      ]
     },
     "execution_count": 29,
     "metadata": {},
     "output_type": "execute_result"
    }
   ],
   "source": [
    "sr"
   ]
  },
  {
   "cell_type": "code",
   "execution_count": 30,
   "id": "b0058e85",
   "metadata": {},
   "outputs": [
    {
     "data": {
      "text/plain": [
       "1"
      ]
     },
     "execution_count": 30,
     "metadata": {},
     "output_type": "execute_result"
    }
   ],
   "source": [
    "sr.loc['a']"
   ]
  },
  {
   "cell_type": "code",
   "execution_count": 31,
   "id": "f620f57a",
   "metadata": {},
   "outputs": [
    {
     "data": {
      "text/plain": [
       "a    1\n",
       "dtype: int32"
      ]
     },
     "execution_count": 31,
     "metadata": {},
     "output_type": "execute_result"
    }
   ],
   "source": [
    "sr.loc[['a']]"
   ]
  },
  {
   "cell_type": "code",
   "execution_count": 32,
   "id": "c00cbf65",
   "metadata": {},
   "outputs": [
    {
     "data": {
      "text/plain": [
       "a    1\n",
       "c    5\n",
       "dtype: int32"
      ]
     },
     "execution_count": 32,
     "metadata": {},
     "output_type": "execute_result"
    }
   ],
   "source": [
    "sr.loc[['a', 'c']]"
   ]
  },
  {
   "cell_type": "code",
   "execution_count": 33,
   "id": "8a106850",
   "metadata": {},
   "outputs": [
    {
     "data": {
      "text/plain": [
       "a    1\n",
       "b    3\n",
       "c    5\n",
       "dtype: int32"
      ]
     },
     "execution_count": 33,
     "metadata": {},
     "output_type": "execute_result"
    }
   ],
   "source": [
    "sr.loc['a':'c']"
   ]
  },
  {
   "cell_type": "code",
   "execution_count": 34,
   "id": "6ce4741a",
   "metadata": {},
   "outputs": [
    {
     "data": {
      "text/plain": [
       "1    0\n",
       "2    1\n",
       "3    2\n",
       "dtype: int64"
      ]
     },
     "execution_count": 34,
     "metadata": {},
     "output_type": "execute_result"
    }
   ],
   "source": [
    "sr2 = pd.Series(data = range(3), index = range(1, 4))\n",
    "sr2"
   ]
  },
  {
   "cell_type": "code",
   "execution_count": 35,
   "id": "6b2fcc6e",
   "metadata": {
    "collapsed": true
   },
   "outputs": [
    {
     "ename": "KeyError",
     "evalue": "0",
     "output_type": "error",
     "traceback": [
      "\u001b[1;31m---------------------------------------------------------------------------\u001b[0m",
      "\u001b[1;31mValueError\u001b[0m                                Traceback (most recent call last)",
      "File \u001b[1;32m~\\ve310\\lib\\site-packages\\pandas\\core\\indexes\\range.py:391\u001b[0m, in \u001b[0;36mRangeIndex.get_loc\u001b[1;34m(self, key, method, tolerance)\u001b[0m\n\u001b[0;32m    390\u001b[0m \u001b[38;5;28;01mtry\u001b[39;00m:\n\u001b[1;32m--> 391\u001b[0m     \u001b[38;5;28;01mreturn\u001b[39;00m \u001b[38;5;28;43mself\u001b[39;49m\u001b[38;5;241;43m.\u001b[39;49m\u001b[43m_range\u001b[49m\u001b[38;5;241;43m.\u001b[39;49m\u001b[43mindex\u001b[49m\u001b[43m(\u001b[49m\u001b[43mnew_key\u001b[49m\u001b[43m)\u001b[49m\n\u001b[0;32m    392\u001b[0m \u001b[38;5;28;01mexcept\u001b[39;00m \u001b[38;5;167;01mValueError\u001b[39;00m \u001b[38;5;28;01mas\u001b[39;00m err:\n",
      "\u001b[1;31mValueError\u001b[0m: 0 is not in range",
      "\nThe above exception was the direct cause of the following exception:\n",
      "\u001b[1;31mKeyError\u001b[0m                                  Traceback (most recent call last)",
      "Cell \u001b[1;32mIn[35], line 1\u001b[0m\n\u001b[1;32m----> 1\u001b[0m \u001b[43msr2\u001b[49m\u001b[43m[\u001b[49m\u001b[38;5;241;43m0\u001b[39;49m\u001b[43m]\u001b[49m\n",
      "File \u001b[1;32m~\\ve310\\lib\\site-packages\\pandas\\core\\series.py:981\u001b[0m, in \u001b[0;36mSeries.__getitem__\u001b[1;34m(self, key)\u001b[0m\n\u001b[0;32m    978\u001b[0m     \u001b[38;5;28;01mreturn\u001b[39;00m \u001b[38;5;28mself\u001b[39m\u001b[38;5;241m.\u001b[39m_values[key]\n\u001b[0;32m    980\u001b[0m \u001b[38;5;28;01melif\u001b[39;00m key_is_scalar:\n\u001b[1;32m--> 981\u001b[0m     \u001b[38;5;28;01mreturn\u001b[39;00m \u001b[38;5;28;43mself\u001b[39;49m\u001b[38;5;241;43m.\u001b[39;49m\u001b[43m_get_value\u001b[49m\u001b[43m(\u001b[49m\u001b[43mkey\u001b[49m\u001b[43m)\u001b[49m\n\u001b[0;32m    983\u001b[0m \u001b[38;5;28;01mif\u001b[39;00m is_hashable(key):\n\u001b[0;32m    984\u001b[0m     \u001b[38;5;66;03m# Otherwise index.get_value will raise InvalidIndexError\u001b[39;00m\n\u001b[0;32m    985\u001b[0m     \u001b[38;5;28;01mtry\u001b[39;00m:\n\u001b[0;32m    986\u001b[0m         \u001b[38;5;66;03m# For labels that don't resolve as scalars like tuples and frozensets\u001b[39;00m\n",
      "File \u001b[1;32m~\\ve310\\lib\\site-packages\\pandas\\core\\series.py:1089\u001b[0m, in \u001b[0;36mSeries._get_value\u001b[1;34m(self, label, takeable)\u001b[0m\n\u001b[0;32m   1086\u001b[0m     \u001b[38;5;28;01mreturn\u001b[39;00m \u001b[38;5;28mself\u001b[39m\u001b[38;5;241m.\u001b[39m_values[label]\n\u001b[0;32m   1088\u001b[0m \u001b[38;5;66;03m# Similar to Index.get_value, but we do not fall back to positional\u001b[39;00m\n\u001b[1;32m-> 1089\u001b[0m loc \u001b[38;5;241m=\u001b[39m \u001b[38;5;28;43mself\u001b[39;49m\u001b[38;5;241;43m.\u001b[39;49m\u001b[43mindex\u001b[49m\u001b[38;5;241;43m.\u001b[39;49m\u001b[43mget_loc\u001b[49m\u001b[43m(\u001b[49m\u001b[43mlabel\u001b[49m\u001b[43m)\u001b[49m\n\u001b[0;32m   1090\u001b[0m \u001b[38;5;28;01mreturn\u001b[39;00m \u001b[38;5;28mself\u001b[39m\u001b[38;5;241m.\u001b[39mindex\u001b[38;5;241m.\u001b[39m_get_values_for_loc(\u001b[38;5;28mself\u001b[39m, loc, label)\n",
      "File \u001b[1;32m~\\ve310\\lib\\site-packages\\pandas\\core\\indexes\\range.py:393\u001b[0m, in \u001b[0;36mRangeIndex.get_loc\u001b[1;34m(self, key, method, tolerance)\u001b[0m\n\u001b[0;32m    391\u001b[0m         \u001b[38;5;28;01mreturn\u001b[39;00m \u001b[38;5;28mself\u001b[39m\u001b[38;5;241m.\u001b[39m_range\u001b[38;5;241m.\u001b[39mindex(new_key)\n\u001b[0;32m    392\u001b[0m     \u001b[38;5;28;01mexcept\u001b[39;00m \u001b[38;5;167;01mValueError\u001b[39;00m \u001b[38;5;28;01mas\u001b[39;00m err:\n\u001b[1;32m--> 393\u001b[0m         \u001b[38;5;28;01mraise\u001b[39;00m \u001b[38;5;167;01mKeyError\u001b[39;00m(key) \u001b[38;5;28;01mfrom\u001b[39;00m \u001b[38;5;21;01merr\u001b[39;00m\n\u001b[0;32m    394\u001b[0m \u001b[38;5;28mself\u001b[39m\u001b[38;5;241m.\u001b[39m_check_indexing_error(key)\n\u001b[0;32m    395\u001b[0m \u001b[38;5;28;01mraise\u001b[39;00m \u001b[38;5;167;01mKeyError\u001b[39;00m(key)\n",
      "\u001b[1;31mKeyError\u001b[0m: 0"
     ]
    }
   ],
   "source": [
    "sr2[0]"
   ]
  },
  {
   "cell_type": "code",
   "execution_count": 36,
   "id": "c4b06ca1",
   "metadata": {},
   "outputs": [
    {
     "data": {
      "text/plain": [
       "0"
      ]
     },
     "execution_count": 36,
     "metadata": {},
     "output_type": "execute_result"
    }
   ],
   "source": [
    "sr2.loc[1]"
   ]
  },
  {
   "cell_type": "code",
   "execution_count": 37,
   "id": "dd3f9198",
   "metadata": {},
   "outputs": [
    {
     "data": {
      "text/plain": [
       "0"
      ]
     },
     "execution_count": 37,
     "metadata": {},
     "output_type": "execute_result"
    }
   ],
   "source": [
    "sr2.iloc[0]"
   ]
  },
  {
   "cell_type": "code",
   "execution_count": 38,
   "id": "c7a863f5",
   "metadata": {},
   "outputs": [
    {
     "data": {
      "text/plain": [
       "1    0\n",
       "1    1\n",
       "1    2\n",
       "dtype: int64"
      ]
     },
     "execution_count": 38,
     "metadata": {},
     "output_type": "execute_result"
    }
   ],
   "source": [
    "sr3 = pd.Series(data = range(3), index = np.tile(1, 3))\n",
    "sr3"
   ]
  },
  {
   "cell_type": "code",
   "execution_count": 39,
   "id": "38c6cd70",
   "metadata": {},
   "outputs": [
    {
     "data": {
      "text/plain": [
       "1    0\n",
       "1    1\n",
       "1    2\n",
       "dtype: int64"
      ]
     },
     "execution_count": 39,
     "metadata": {},
     "output_type": "execute_result"
    }
   ],
   "source": [
    "sr3.loc[1]"
   ]
  },
  {
   "cell_type": "code",
   "execution_count": 40,
   "id": "26626769",
   "metadata": {},
   "outputs": [
    {
     "data": {
      "text/plain": [
       "0"
      ]
     },
     "execution_count": 40,
     "metadata": {},
     "output_type": "execute_result"
    }
   ],
   "source": [
    "sr3.iloc[0]"
   ]
  },
  {
   "cell_type": "code",
   "execution_count": 41,
   "id": "e91c8101",
   "metadata": {},
   "outputs": [
    {
     "data": {
      "text/plain": [
       "a    1\n",
       "b    3\n",
       "c    5\n",
       "dtype: int32"
      ]
     },
     "execution_count": 41,
     "metadata": {},
     "output_type": "execute_result"
    }
   ],
   "source": [
    "sr"
   ]
  },
  {
   "cell_type": "code",
   "execution_count": 42,
   "id": "c518ecec",
   "metadata": {},
   "outputs": [
    {
     "data": {
      "text/plain": [
       "a    False\n",
       "b     True\n",
       "c     True\n",
       "dtype: bool"
      ]
     },
     "execution_count": 42,
     "metadata": {},
     "output_type": "execute_result"
    }
   ],
   "source": [
    "sr >= 3"
   ]
  },
  {
   "cell_type": "code",
   "execution_count": 43,
   "id": "b6caca8e",
   "metadata": {},
   "outputs": [
    {
     "data": {
      "text/plain": [
       "a     True\n",
       "b     True\n",
       "c    False\n",
       "dtype: bool"
      ]
     },
     "execution_count": 43,
     "metadata": {},
     "output_type": "execute_result"
    }
   ],
   "source": [
    "sr < 5"
   ]
  },
  {
   "cell_type": "code",
   "execution_count": 45,
   "id": "f62c4a58",
   "metadata": {},
   "outputs": [
    {
     "ename": "ValueError",
     "evalue": "The truth value of a Series is ambiguous. Use a.empty, a.bool(), a.item(), a.any() or a.all().",
     "output_type": "error",
     "traceback": [
      "\u001b[1;31m---------------------------------------------------------------------------\u001b[0m",
      "\u001b[1;31mValueError\u001b[0m                                Traceback (most recent call last)",
      "Cell \u001b[1;32mIn[45], line 1\u001b[0m\n\u001b[1;32m----> 1\u001b[0m (sr \u001b[38;5;241m>\u001b[39m\u001b[38;5;241m=\u001b[39m \u001b[38;5;241m3\u001b[39m) \u001b[38;5;129;01mand\u001b[39;00m (sr \u001b[38;5;241m<\u001b[39m \u001b[38;5;241m5\u001b[39m)\n",
      "File \u001b[1;32m~\\ve310\\lib\\site-packages\\pandas\\core\\generic.py:1527\u001b[0m, in \u001b[0;36mNDFrame.__nonzero__\u001b[1;34m(self)\u001b[0m\n\u001b[0;32m   1525\u001b[0m \u001b[38;5;129m@final\u001b[39m\n\u001b[0;32m   1526\u001b[0m \u001b[38;5;28;01mdef\u001b[39;00m \u001b[38;5;21m__nonzero__\u001b[39m(\u001b[38;5;28mself\u001b[39m) \u001b[38;5;241m-\u001b[39m\u001b[38;5;241m>\u001b[39m NoReturn:\n\u001b[1;32m-> 1527\u001b[0m     \u001b[38;5;28;01mraise\u001b[39;00m \u001b[38;5;167;01mValueError\u001b[39;00m(\n\u001b[0;32m   1528\u001b[0m         \u001b[38;5;124mf\u001b[39m\u001b[38;5;124m\"\u001b[39m\u001b[38;5;124mThe truth value of a \u001b[39m\u001b[38;5;132;01m{\u001b[39;00m\u001b[38;5;28mtype\u001b[39m(\u001b[38;5;28mself\u001b[39m)\u001b[38;5;241m.\u001b[39m\u001b[38;5;18m__name__\u001b[39m\u001b[38;5;132;01m}\u001b[39;00m\u001b[38;5;124m is ambiguous. \u001b[39m\u001b[38;5;124m\"\u001b[39m\n\u001b[0;32m   1529\u001b[0m         \u001b[38;5;124m\"\u001b[39m\u001b[38;5;124mUse a.empty, a.bool(), a.item(), a.any() or a.all().\u001b[39m\u001b[38;5;124m\"\u001b[39m\n\u001b[0;32m   1530\u001b[0m     )\n",
      "\u001b[1;31mValueError\u001b[0m: The truth value of a Series is ambiguous. Use a.empty, a.bool(), a.item(), a.any() or a.all()."
     ]
    }
   ],
   "source": [
    "(sr >= 3) and (sr < 5)"
   ]
  },
  {
   "cell_type": "code",
   "execution_count": 46,
   "id": "dd52b56a",
   "metadata": {},
   "outputs": [
    {
     "data": {
      "text/plain": [
       "False"
      ]
     },
     "execution_count": 46,
     "metadata": {},
     "output_type": "execute_result"
    }
   ],
   "source": [
    "(sr.iloc[0] >= 3) and (sr.iloc[0] < 5)"
   ]
  },
  {
   "cell_type": "code",
   "execution_count": 48,
   "id": "272924d2",
   "metadata": {},
   "outputs": [
    {
     "ename": "ValueError",
     "evalue": "The truth value of a Series is ambiguous. Use a.empty, a.bool(), a.item(), a.any() or a.all().",
     "output_type": "error",
     "traceback": [
      "\u001b[1;31m---------------------------------------------------------------------------\u001b[0m",
      "\u001b[1;31mValueError\u001b[0m                                Traceback (most recent call last)",
      "Cell \u001b[1;32mIn[48], line 1\u001b[0m\n\u001b[1;32m----> 1\u001b[0m sr \u001b[38;5;241m>\u001b[39m\u001b[38;5;241m=\u001b[39m \u001b[38;5;241m3\u001b[39m \u001b[38;5;241m&\u001b[39m sr \u001b[38;5;241m<\u001b[39m \u001b[38;5;241m5\u001b[39m\n",
      "File \u001b[1;32m~\\ve310\\lib\\site-packages\\pandas\\core\\generic.py:1527\u001b[0m, in \u001b[0;36mNDFrame.__nonzero__\u001b[1;34m(self)\u001b[0m\n\u001b[0;32m   1525\u001b[0m \u001b[38;5;129m@final\u001b[39m\n\u001b[0;32m   1526\u001b[0m \u001b[38;5;28;01mdef\u001b[39;00m \u001b[38;5;21m__nonzero__\u001b[39m(\u001b[38;5;28mself\u001b[39m) \u001b[38;5;241m-\u001b[39m\u001b[38;5;241m>\u001b[39m NoReturn:\n\u001b[1;32m-> 1527\u001b[0m     \u001b[38;5;28;01mraise\u001b[39;00m \u001b[38;5;167;01mValueError\u001b[39;00m(\n\u001b[0;32m   1528\u001b[0m         \u001b[38;5;124mf\u001b[39m\u001b[38;5;124m\"\u001b[39m\u001b[38;5;124mThe truth value of a \u001b[39m\u001b[38;5;132;01m{\u001b[39;00m\u001b[38;5;28mtype\u001b[39m(\u001b[38;5;28mself\u001b[39m)\u001b[38;5;241m.\u001b[39m\u001b[38;5;18m__name__\u001b[39m\u001b[38;5;132;01m}\u001b[39;00m\u001b[38;5;124m is ambiguous. \u001b[39m\u001b[38;5;124m\"\u001b[39m\n\u001b[0;32m   1529\u001b[0m         \u001b[38;5;124m\"\u001b[39m\u001b[38;5;124mUse a.empty, a.bool(), a.item(), a.any() or a.all().\u001b[39m\u001b[38;5;124m\"\u001b[39m\n\u001b[0;32m   1530\u001b[0m     )\n",
      "\u001b[1;31mValueError\u001b[0m: The truth value of a Series is ambiguous. Use a.empty, a.bool(), a.item(), a.any() or a.all()."
     ]
    }
   ],
   "source": [
    "sr >= 3 & sr < 5"
   ]
  },
  {
   "cell_type": "code",
   "execution_count": 47,
   "id": "99872c75",
   "metadata": {},
   "outputs": [
    {
     "data": {
      "text/plain": [
       "a    False\n",
       "b     True\n",
       "c    False\n",
       "dtype: bool"
      ]
     },
     "execution_count": 47,
     "metadata": {},
     "output_type": "execute_result"
    }
   ],
   "source": [
    "(sr >= 3) & (sr < 5)"
   ]
  },
  {
   "cell_type": "code",
   "execution_count": 49,
   "id": "a28bd041",
   "metadata": {},
   "outputs": [
    {
     "data": {
      "text/plain": [
       "a    True\n",
       "b    True\n",
       "c    True\n",
       "dtype: bool"
      ]
     },
     "execution_count": 49,
     "metadata": {},
     "output_type": "execute_result"
    }
   ],
   "source": [
    "(sr >= 3) | (sr < 5)"
   ]
  },
  {
   "cell_type": "code",
   "execution_count": 50,
   "id": "5e532680",
   "metadata": {},
   "outputs": [
    {
     "data": {
      "text/plain": [
       "a     True\n",
       "b    False\n",
       "c     True\n",
       "dtype: bool"
      ]
     },
     "execution_count": 50,
     "metadata": {},
     "output_type": "execute_result"
    }
   ],
   "source": [
    "(sr >= 3) ^ (sr < 5)"
   ]
  },
  {
   "cell_type": "code",
   "execution_count": 51,
   "id": "32d7520d",
   "metadata": {},
   "outputs": [
    {
     "data": {
      "text/plain": [
       "a     True\n",
       "b    False\n",
       "c    False\n",
       "dtype: bool"
      ]
     },
     "execution_count": 51,
     "metadata": {},
     "output_type": "execute_result"
    }
   ],
   "source": [
    "~ (sr >= 3)"
   ]
  },
  {
   "cell_type": "code",
   "execution_count": 53,
   "id": "f3082b45",
   "metadata": {},
   "outputs": [
    {
     "data": {
      "text/plain": [
       "a    1\n",
       "b    3\n",
       "c    5\n",
       "dtype: int32"
      ]
     },
     "execution_count": 53,
     "metadata": {},
     "output_type": "execute_result"
    }
   ],
   "source": [
    "sr"
   ]
  },
  {
   "cell_type": "code",
   "execution_count": 54,
   "id": "31c3c845",
   "metadata": {},
   "outputs": [
    {
     "data": {
      "text/plain": [
       "a    False\n",
       "b     True\n",
       "c     True\n",
       "dtype: bool"
      ]
     },
     "execution_count": 54,
     "metadata": {},
     "output_type": "execute_result"
    }
   ],
   "source": [
    "sr >= 3"
   ]
  },
  {
   "cell_type": "code",
   "execution_count": 52,
   "id": "ecea1ab8",
   "metadata": {},
   "outputs": [
    {
     "data": {
      "text/plain": [
       "b    3\n",
       "c    5\n",
       "dtype: int32"
      ]
     },
     "execution_count": 52,
     "metadata": {},
     "output_type": "execute_result"
    }
   ],
   "source": [
    "sr.loc[sr >= 3]"
   ]
  },
  {
   "cell_type": "code",
   "execution_count": 55,
   "id": "2d242428",
   "metadata": {
    "collapsed": true
   },
   "outputs": [
    {
     "ename": "ValueError",
     "evalue": "iLocation based boolean indexing cannot use an indexable as a mask",
     "output_type": "error",
     "traceback": [
      "\u001b[1;31m---------------------------------------------------------------------------\u001b[0m",
      "\u001b[1;31mValueError\u001b[0m                                Traceback (most recent call last)",
      "Cell \u001b[1;32mIn[55], line 1\u001b[0m\n\u001b[1;32m----> 1\u001b[0m \u001b[43msr\u001b[49m\u001b[38;5;241;43m.\u001b[39;49m\u001b[43miloc\u001b[49m\u001b[43m[\u001b[49m\u001b[43msr\u001b[49m\u001b[43m \u001b[49m\u001b[38;5;241;43m>\u001b[39;49m\u001b[38;5;241;43m=\u001b[39;49m\u001b[43m \u001b[49m\u001b[38;5;241;43m3\u001b[39;49m\u001b[43m]\u001b[49m\n",
      "File \u001b[1;32m~\\ve310\\lib\\site-packages\\pandas\\core\\indexing.py:1073\u001b[0m, in \u001b[0;36m_LocationIndexer.__getitem__\u001b[1;34m(self, key)\u001b[0m\n\u001b[0;32m   1070\u001b[0m axis \u001b[38;5;241m=\u001b[39m \u001b[38;5;28mself\u001b[39m\u001b[38;5;241m.\u001b[39maxis \u001b[38;5;129;01mor\u001b[39;00m \u001b[38;5;241m0\u001b[39m\n\u001b[0;32m   1072\u001b[0m maybe_callable \u001b[38;5;241m=\u001b[39m com\u001b[38;5;241m.\u001b[39mapply_if_callable(key, \u001b[38;5;28mself\u001b[39m\u001b[38;5;241m.\u001b[39mobj)\n\u001b[1;32m-> 1073\u001b[0m \u001b[38;5;28;01mreturn\u001b[39;00m \u001b[38;5;28;43mself\u001b[39;49m\u001b[38;5;241;43m.\u001b[39;49m\u001b[43m_getitem_axis\u001b[49m\u001b[43m(\u001b[49m\u001b[43mmaybe_callable\u001b[49m\u001b[43m,\u001b[49m\u001b[43m \u001b[49m\u001b[43maxis\u001b[49m\u001b[38;5;241;43m=\u001b[39;49m\u001b[43maxis\u001b[49m\u001b[43m)\u001b[49m\n",
      "File \u001b[1;32m~\\ve310\\lib\\site-packages\\pandas\\core\\indexing.py:1611\u001b[0m, in \u001b[0;36m_iLocIndexer._getitem_axis\u001b[1;34m(self, key, axis)\u001b[0m\n\u001b[0;32m   1608\u001b[0m     key \u001b[38;5;241m=\u001b[39m np\u001b[38;5;241m.\u001b[39masarray(key)\n\u001b[0;32m   1610\u001b[0m \u001b[38;5;28;01mif\u001b[39;00m com\u001b[38;5;241m.\u001b[39mis_bool_indexer(key):\n\u001b[1;32m-> 1611\u001b[0m     \u001b[38;5;28;43mself\u001b[39;49m\u001b[38;5;241;43m.\u001b[39;49m\u001b[43m_validate_key\u001b[49m\u001b[43m(\u001b[49m\u001b[43mkey\u001b[49m\u001b[43m,\u001b[49m\u001b[43m \u001b[49m\u001b[43maxis\u001b[49m\u001b[43m)\u001b[49m\n\u001b[0;32m   1612\u001b[0m     \u001b[38;5;28;01mreturn\u001b[39;00m \u001b[38;5;28mself\u001b[39m\u001b[38;5;241m.\u001b[39m_getbool_axis(key, axis\u001b[38;5;241m=\u001b[39maxis)\n\u001b[0;32m   1614\u001b[0m \u001b[38;5;66;03m# a list of integers\u001b[39;00m\n",
      "File \u001b[1;32m~\\ve310\\lib\\site-packages\\pandas\\core\\indexing.py:1457\u001b[0m, in \u001b[0;36m_iLocIndexer._validate_key\u001b[1;34m(self, key, axis)\u001b[0m\n\u001b[0;32m   1451\u001b[0m         \u001b[38;5;28;01mif\u001b[39;00m key\u001b[38;5;241m.\u001b[39mindex\u001b[38;5;241m.\u001b[39minferred_type \u001b[38;5;241m==\u001b[39m \u001b[38;5;124m\"\u001b[39m\u001b[38;5;124minteger\u001b[39m\u001b[38;5;124m\"\u001b[39m:\n\u001b[0;32m   1452\u001b[0m             \u001b[38;5;28;01mraise\u001b[39;00m \u001b[38;5;167;01mNotImplementedError\u001b[39;00m(\n\u001b[0;32m   1453\u001b[0m                 \u001b[38;5;124m\"\u001b[39m\u001b[38;5;124miLocation based boolean \u001b[39m\u001b[38;5;124m\"\u001b[39m\n\u001b[0;32m   1454\u001b[0m                 \u001b[38;5;124m\"\u001b[39m\u001b[38;5;124mindexing on an integer type \u001b[39m\u001b[38;5;124m\"\u001b[39m\n\u001b[0;32m   1455\u001b[0m                 \u001b[38;5;124m\"\u001b[39m\u001b[38;5;124mis not available\u001b[39m\u001b[38;5;124m\"\u001b[39m\n\u001b[0;32m   1456\u001b[0m             )\n\u001b[1;32m-> 1457\u001b[0m         \u001b[38;5;28;01mraise\u001b[39;00m \u001b[38;5;167;01mValueError\u001b[39;00m(\n\u001b[0;32m   1458\u001b[0m             \u001b[38;5;124m\"\u001b[39m\u001b[38;5;124miLocation based boolean indexing cannot use \u001b[39m\u001b[38;5;124m\"\u001b[39m\n\u001b[0;32m   1459\u001b[0m             \u001b[38;5;124m\"\u001b[39m\u001b[38;5;124man indexable as a mask\u001b[39m\u001b[38;5;124m\"\u001b[39m\n\u001b[0;32m   1460\u001b[0m         )\n\u001b[0;32m   1461\u001b[0m     \u001b[38;5;28;01mreturn\u001b[39;00m\n\u001b[0;32m   1463\u001b[0m \u001b[38;5;28;01mif\u001b[39;00m \u001b[38;5;28misinstance\u001b[39m(key, \u001b[38;5;28mslice\u001b[39m):\n",
      "\u001b[1;31mValueError\u001b[0m: iLocation based boolean indexing cannot use an indexable as a mask"
     ]
    }
   ],
   "source": [
    "sr.iloc[sr >= 3]"
   ]
  },
  {
   "cell_type": "code",
   "execution_count": 58,
   "id": "759ae49e",
   "metadata": {},
   "outputs": [
    {
     "data": {
      "text/plain": [
       "b    3\n",
       "dtype: int32"
      ]
     },
     "execution_count": 58,
     "metadata": {},
     "output_type": "execute_result"
    }
   ],
   "source": [
    "sr.loc[(sr >= 3) & (sr < 5)]"
   ]
  },
  {
   "cell_type": "code",
   "execution_count": 59,
   "id": "675ad4a3",
   "metadata": {},
   "outputs": [
    {
     "data": {
      "text/plain": [
       "a    1\n",
       "b    3\n",
       "c    5\n",
       "dtype: int32"
      ]
     },
     "execution_count": 59,
     "metadata": {},
     "output_type": "execute_result"
    }
   ],
   "source": [
    "sr.loc[(sr >= 3) | (sr < 5)]"
   ]
  },
  {
   "cell_type": "code",
   "execution_count": 60,
   "id": "431d96db",
   "metadata": {},
   "outputs": [
    {
     "data": {
      "text/plain": [
       "Series([], dtype: int32)"
      ]
     },
     "execution_count": 60,
     "metadata": {},
     "output_type": "execute_result"
    }
   ],
   "source": [
    "sr.loc[~ ((sr >= 3) | (sr < 5))]"
   ]
  },
  {
   "cell_type": "code",
   "execution_count": 61,
   "id": "136dc4cb",
   "metadata": {},
   "outputs": [],
   "source": [
    "sr4 = sr1"
   ]
  },
  {
   "cell_type": "code",
   "execution_count": 62,
   "id": "44547d2b",
   "metadata": {},
   "outputs": [
    {
     "data": {
      "text/plain": [
       "2078927594416"
      ]
     },
     "execution_count": 62,
     "metadata": {},
     "output_type": "execute_result"
    }
   ],
   "source": [
    "id(sr1)"
   ]
  },
  {
   "cell_type": "code",
   "execution_count": 63,
   "id": "c473432c",
   "metadata": {},
   "outputs": [
    {
     "data": {
      "text/plain": [
       "2078927594416"
      ]
     },
     "execution_count": 63,
     "metadata": {},
     "output_type": "execute_result"
    }
   ],
   "source": [
    "id(sr4)"
   ]
  },
  {
   "cell_type": "code",
   "execution_count": 64,
   "id": "a1337755",
   "metadata": {},
   "outputs": [
    {
     "data": {
      "text/plain": [
       "a      1\n",
       "b    2.0\n",
       "c      3\n",
       "dtype: object"
      ]
     },
     "execution_count": 64,
     "metadata": {},
     "output_type": "execute_result"
    }
   ],
   "source": [
    "sr4"
   ]
  },
  {
   "cell_type": "code",
   "execution_count": 65,
   "id": "f2fc1fda",
   "metadata": {},
   "outputs": [],
   "source": [
    "sr4.iloc[0] = 2"
   ]
  },
  {
   "cell_type": "code",
   "execution_count": 66,
   "id": "e671ca70",
   "metadata": {},
   "outputs": [
    {
     "data": {
      "text/plain": [
       "a      2\n",
       "b    2.0\n",
       "c      3\n",
       "dtype: object"
      ]
     },
     "execution_count": 66,
     "metadata": {},
     "output_type": "execute_result"
    }
   ],
   "source": [
    "sr4"
   ]
  },
  {
   "cell_type": "code",
   "execution_count": 67,
   "id": "98cb0ecd",
   "metadata": {},
   "outputs": [
    {
     "data": {
      "text/plain": [
       "a      2\n",
       "b    2.0\n",
       "c      3\n",
       "dtype: object"
      ]
     },
     "execution_count": 67,
     "metadata": {},
     "output_type": "execute_result"
    }
   ],
   "source": [
    "sr1"
   ]
  },
  {
   "cell_type": "code",
   "execution_count": 68,
   "id": "39f255e3",
   "metadata": {},
   "outputs": [],
   "source": [
    "sr5 = sr1.copy()"
   ]
  },
  {
   "cell_type": "code",
   "execution_count": 69,
   "id": "a0ab8ecc",
   "metadata": {},
   "outputs": [
    {
     "data": {
      "text/plain": [
       "2078927594416"
      ]
     },
     "execution_count": 69,
     "metadata": {},
     "output_type": "execute_result"
    }
   ],
   "source": [
    "id(sr1)"
   ]
  },
  {
   "cell_type": "code",
   "execution_count": 70,
   "id": "f43c01be",
   "metadata": {},
   "outputs": [
    {
     "data": {
      "text/plain": [
       "2079242659552"
      ]
     },
     "execution_count": 70,
     "metadata": {},
     "output_type": "execute_result"
    }
   ],
   "source": [
    "id(sr5)"
   ]
  },
  {
   "cell_type": "code",
   "execution_count": 71,
   "id": "5474639d",
   "metadata": {},
   "outputs": [
    {
     "data": {
      "text/plain": [
       "a      2\n",
       "b    2.0\n",
       "c      3\n",
       "dtype: object"
      ]
     },
     "execution_count": 71,
     "metadata": {},
     "output_type": "execute_result"
    }
   ],
   "source": [
    "sr5"
   ]
  },
  {
   "cell_type": "code",
   "execution_count": 72,
   "id": "01ffd2f7",
   "metadata": {},
   "outputs": [],
   "source": [
    "sr5.iloc[0] = 1"
   ]
  },
  {
   "cell_type": "code",
   "execution_count": 73,
   "id": "3d16ea06",
   "metadata": {},
   "outputs": [
    {
     "data": {
      "text/plain": [
       "a      1\n",
       "b    2.0\n",
       "c      3\n",
       "dtype: object"
      ]
     },
     "execution_count": 73,
     "metadata": {},
     "output_type": "execute_result"
    }
   ],
   "source": [
    "sr5"
   ]
  },
  {
   "cell_type": "code",
   "execution_count": 74,
   "id": "1295133a",
   "metadata": {},
   "outputs": [
    {
     "data": {
      "text/plain": [
       "a      2\n",
       "b    2.0\n",
       "c      3\n",
       "dtype: object"
      ]
     },
     "execution_count": 74,
     "metadata": {},
     "output_type": "execute_result"
    }
   ],
   "source": [
    "sr1"
   ]
  },
  {
   "cell_type": "code",
   "execution_count": 75,
   "id": "827da3c8",
   "metadata": {},
   "outputs": [
    {
     "data": {
      "text/plain": [
       "array([[1, 2],\n",
       "       [3, 4],\n",
       "       [5, 6]])"
      ]
     },
     "execution_count": 75,
     "metadata": {},
     "output_type": "execute_result"
    }
   ],
   "source": [
    "ar2 = np.arange(1, 7).reshape(3, -1)\n",
    "ar2"
   ]
  },
  {
   "cell_type": "code",
   "execution_count": 76,
   "id": "6295f84c",
   "metadata": {},
   "outputs": [
    {
     "data": {
      "text/html": [
       "<div>\n",
       "<style scoped>\n",
       "    .dataframe tbody tr th:only-of-type {\n",
       "        vertical-align: middle;\n",
       "    }\n",
       "\n",
       "    .dataframe tbody tr th {\n",
       "        vertical-align: top;\n",
       "    }\n",
       "\n",
       "    .dataframe thead th {\n",
       "        text-align: right;\n",
       "    }\n",
       "</style>\n",
       "<table border=\"1\" class=\"dataframe\">\n",
       "  <thead>\n",
       "    <tr style=\"text-align: right;\">\n",
       "      <th></th>\n",
       "      <th>0</th>\n",
       "      <th>1</th>\n",
       "    </tr>\n",
       "  </thead>\n",
       "  <tbody>\n",
       "    <tr>\n",
       "      <th>0</th>\n",
       "      <td>1</td>\n",
       "      <td>2</td>\n",
       "    </tr>\n",
       "    <tr>\n",
       "      <th>1</th>\n",
       "      <td>3</td>\n",
       "      <td>4</td>\n",
       "    </tr>\n",
       "    <tr>\n",
       "      <th>2</th>\n",
       "      <td>5</td>\n",
       "      <td>6</td>\n",
       "    </tr>\n",
       "  </tbody>\n",
       "</table>\n",
       "</div>"
      ],
      "text/plain": [
       "   0  1\n",
       "0  1  2\n",
       "1  3  4\n",
       "2  5  6"
      ]
     },
     "execution_count": 76,
     "metadata": {},
     "output_type": "execute_result"
    }
   ],
   "source": [
    "df = pd.DataFrame(ar2)\n",
    "df"
   ]
  },
  {
   "cell_type": "code",
   "execution_count": 77,
   "id": "ab8198ea",
   "metadata": {},
   "outputs": [
    {
     "data": {
      "text/plain": [
       "pandas.core.frame.DataFrame"
      ]
     },
     "execution_count": 77,
     "metadata": {},
     "output_type": "execute_result"
    }
   ],
   "source": [
    "type(df)"
   ]
  },
  {
   "cell_type": "code",
   "execution_count": 78,
   "id": "c67a9a87",
   "metadata": {},
   "outputs": [
    {
     "data": {
      "text/html": [
       "<div>\n",
       "<style scoped>\n",
       "    .dataframe tbody tr th:only-of-type {\n",
       "        vertical-align: middle;\n",
       "    }\n",
       "\n",
       "    .dataframe tbody tr th {\n",
       "        vertical-align: top;\n",
       "    }\n",
       "\n",
       "    .dataframe thead th {\n",
       "        text-align: right;\n",
       "    }\n",
       "</style>\n",
       "<table border=\"1\" class=\"dataframe\">\n",
       "  <thead>\n",
       "    <tr style=\"text-align: right;\">\n",
       "      <th></th>\n",
       "      <th>A</th>\n",
       "      <th>B</th>\n",
       "    </tr>\n",
       "  </thead>\n",
       "  <tbody>\n",
       "    <tr>\n",
       "      <th>1</th>\n",
       "      <td>1</td>\n",
       "      <td>2</td>\n",
       "    </tr>\n",
       "    <tr>\n",
       "      <th>2</th>\n",
       "      <td>3</td>\n",
       "      <td>4</td>\n",
       "    </tr>\n",
       "    <tr>\n",
       "      <th>3</th>\n",
       "      <td>5</td>\n",
       "      <td>6</td>\n",
       "    </tr>\n",
       "  </tbody>\n",
       "</table>\n",
       "</div>"
      ],
      "text/plain": [
       "   A  B\n",
       "1  1  2\n",
       "2  3  4\n",
       "3  5  6"
      ]
     },
     "execution_count": 78,
     "metadata": {},
     "output_type": "execute_result"
    }
   ],
   "source": [
    "df = pd.DataFrame(data = ar2, index = range(1, 4), columns = ['A', 'B'])\n",
    "df"
   ]
  },
  {
   "cell_type": "code",
   "execution_count": 79,
   "id": "b5a898c0",
   "metadata": {},
   "outputs": [
    {
     "data": {
      "text/plain": [
       "(3, 2)"
      ]
     },
     "execution_count": 79,
     "metadata": {},
     "output_type": "execute_result"
    }
   ],
   "source": [
    "df.shape"
   ]
  },
  {
   "cell_type": "code",
   "execution_count": 80,
   "id": "8a39b8a6",
   "metadata": {},
   "outputs": [
    {
     "data": {
      "text/plain": [
       "A    int32\n",
       "B    int32\n",
       "dtype: object"
      ]
     },
     "execution_count": 80,
     "metadata": {},
     "output_type": "execute_result"
    }
   ],
   "source": [
    "df.dtypes"
   ]
  },
  {
   "cell_type": "code",
   "execution_count": 81,
   "id": "218bb9e2",
   "metadata": {},
   "outputs": [
    {
     "data": {
      "text/plain": [
       "array([[1, 2],\n",
       "       [3, 4],\n",
       "       [5, 6]])"
      ]
     },
     "execution_count": 81,
     "metadata": {},
     "output_type": "execute_result"
    }
   ],
   "source": [
    "df.values"
   ]
  },
  {
   "cell_type": "code",
   "execution_count": 82,
   "id": "2232720b",
   "metadata": {},
   "outputs": [
    {
     "data": {
      "text/plain": [
       "RangeIndex(start=1, stop=4, step=1)"
      ]
     },
     "execution_count": 82,
     "metadata": {},
     "output_type": "execute_result"
    }
   ],
   "source": [
    "df.index"
   ]
  },
  {
   "cell_type": "code",
   "execution_count": 83,
   "id": "466d90b8",
   "metadata": {},
   "outputs": [
    {
     "data": {
      "text/plain": [
       "Index(['A', 'B'], dtype='object')"
      ]
     },
     "execution_count": 83,
     "metadata": {},
     "output_type": "execute_result"
    }
   ],
   "source": [
    "df.columns"
   ]
  },
  {
   "cell_type": "code",
   "execution_count": 84,
   "id": "f4d5be92",
   "metadata": {},
   "outputs": [
    {
     "name": "stdout",
     "output_type": "stream",
     "text": [
      "<class 'pandas.core.frame.DataFrame'>\n",
      "RangeIndex: 3 entries, 1 to 3\n",
      "Data columns (total 2 columns):\n",
      " #   Column  Non-Null Count  Dtype\n",
      "---  ------  --------------  -----\n",
      " 0   A       3 non-null      int32\n",
      " 1   B       3 non-null      int32\n",
      "dtypes: int32(2)\n",
      "memory usage: 156.0 bytes\n"
     ]
    }
   ],
   "source": [
    "df.info()"
   ]
  },
  {
   "cell_type": "code",
   "execution_count": 85,
   "id": "fa9e1cd1",
   "metadata": {},
   "outputs": [
    {
     "data": {
      "text/html": [
       "<div>\n",
       "<style scoped>\n",
       "    .dataframe tbody tr th:only-of-type {\n",
       "        vertical-align: middle;\n",
       "    }\n",
       "\n",
       "    .dataframe tbody tr th {\n",
       "        vertical-align: top;\n",
       "    }\n",
       "\n",
       "    .dataframe thead th {\n",
       "        text-align: right;\n",
       "    }\n",
       "</style>\n",
       "<table border=\"1\" class=\"dataframe\">\n",
       "  <thead>\n",
       "    <tr style=\"text-align: right;\">\n",
       "      <th></th>\n",
       "      <th>A</th>\n",
       "      <th>B</th>\n",
       "    </tr>\n",
       "  </thead>\n",
       "  <tbody>\n",
       "    <tr>\n",
       "      <th>1</th>\n",
       "      <td>1</td>\n",
       "      <td>2</td>\n",
       "    </tr>\n",
       "    <tr>\n",
       "      <th>2</th>\n",
       "      <td>3</td>\n",
       "      <td>4</td>\n",
       "    </tr>\n",
       "    <tr>\n",
       "      <th>3</th>\n",
       "      <td>5</td>\n",
       "      <td>6</td>\n",
       "    </tr>\n",
       "  </tbody>\n",
       "</table>\n",
       "</div>"
      ],
      "text/plain": [
       "   A  B\n",
       "1  1  2\n",
       "2  3  4\n",
       "3  5  6"
      ]
     },
     "execution_count": 85,
     "metadata": {},
     "output_type": "execute_result"
    }
   ],
   "source": [
    "df"
   ]
  },
  {
   "cell_type": "code",
   "execution_count": 86,
   "id": "fb27fb03",
   "metadata": {},
   "outputs": [
    {
     "data": {
      "text/plain": [
       "A    1\n",
       "B    2\n",
       "Name: 1, dtype: int32"
      ]
     },
     "execution_count": 86,
     "metadata": {},
     "output_type": "execute_result"
    }
   ],
   "source": [
    "df.iloc[0]"
   ]
  },
  {
   "cell_type": "code",
   "execution_count": 87,
   "id": "b35333e1",
   "metadata": {},
   "outputs": [
    {
     "data": {
      "text/html": [
       "<div>\n",
       "<style scoped>\n",
       "    .dataframe tbody tr th:only-of-type {\n",
       "        vertical-align: middle;\n",
       "    }\n",
       "\n",
       "    .dataframe tbody tr th {\n",
       "        vertical-align: top;\n",
       "    }\n",
       "\n",
       "    .dataframe thead th {\n",
       "        text-align: right;\n",
       "    }\n",
       "</style>\n",
       "<table border=\"1\" class=\"dataframe\">\n",
       "  <thead>\n",
       "    <tr style=\"text-align: right;\">\n",
       "      <th></th>\n",
       "      <th>A</th>\n",
       "      <th>B</th>\n",
       "    </tr>\n",
       "  </thead>\n",
       "  <tbody>\n",
       "    <tr>\n",
       "      <th>1</th>\n",
       "      <td>1</td>\n",
       "      <td>2</td>\n",
       "    </tr>\n",
       "  </tbody>\n",
       "</table>\n",
       "</div>"
      ],
      "text/plain": [
       "   A  B\n",
       "1  1  2"
      ]
     },
     "execution_count": 87,
     "metadata": {},
     "output_type": "execute_result"
    }
   ],
   "source": [
    "df.iloc[[0]]"
   ]
  },
  {
   "cell_type": "code",
   "execution_count": 88,
   "id": "bc7c8997",
   "metadata": {},
   "outputs": [
    {
     "data": {
      "text/html": [
       "<div>\n",
       "<style scoped>\n",
       "    .dataframe tbody tr th:only-of-type {\n",
       "        vertical-align: middle;\n",
       "    }\n",
       "\n",
       "    .dataframe tbody tr th {\n",
       "        vertical-align: top;\n",
       "    }\n",
       "\n",
       "    .dataframe thead th {\n",
       "        text-align: right;\n",
       "    }\n",
       "</style>\n",
       "<table border=\"1\" class=\"dataframe\">\n",
       "  <thead>\n",
       "    <tr style=\"text-align: right;\">\n",
       "      <th></th>\n",
       "      <th>A</th>\n",
       "      <th>B</th>\n",
       "    </tr>\n",
       "  </thead>\n",
       "  <tbody>\n",
       "    <tr>\n",
       "      <th>1</th>\n",
       "      <td>1</td>\n",
       "      <td>2</td>\n",
       "    </tr>\n",
       "    <tr>\n",
       "      <th>2</th>\n",
       "      <td>3</td>\n",
       "      <td>4</td>\n",
       "    </tr>\n",
       "  </tbody>\n",
       "</table>\n",
       "</div>"
      ],
      "text/plain": [
       "   A  B\n",
       "1  1  2\n",
       "2  3  4"
      ]
     },
     "execution_count": 88,
     "metadata": {},
     "output_type": "execute_result"
    }
   ],
   "source": [
    "df.iloc[0:2]"
   ]
  },
  {
   "cell_type": "code",
   "execution_count": 89,
   "id": "5775bcde",
   "metadata": {},
   "outputs": [
    {
     "data": {
      "text/html": [
       "<div>\n",
       "<style scoped>\n",
       "    .dataframe tbody tr th:only-of-type {\n",
       "        vertical-align: middle;\n",
       "    }\n",
       "\n",
       "    .dataframe tbody tr th {\n",
       "        vertical-align: top;\n",
       "    }\n",
       "\n",
       "    .dataframe thead th {\n",
       "        text-align: right;\n",
       "    }\n",
       "</style>\n",
       "<table border=\"1\" class=\"dataframe\">\n",
       "  <thead>\n",
       "    <tr style=\"text-align: right;\">\n",
       "      <th></th>\n",
       "      <th>A</th>\n",
       "      <th>B</th>\n",
       "    </tr>\n",
       "  </thead>\n",
       "  <tbody>\n",
       "    <tr>\n",
       "      <th>1</th>\n",
       "      <td>1</td>\n",
       "      <td>2</td>\n",
       "    </tr>\n",
       "    <tr>\n",
       "      <th>2</th>\n",
       "      <td>3</td>\n",
       "      <td>4</td>\n",
       "    </tr>\n",
       "  </tbody>\n",
       "</table>\n",
       "</div>"
      ],
      "text/plain": [
       "   A  B\n",
       "1  1  2\n",
       "2  3  4"
      ]
     },
     "execution_count": 89,
     "metadata": {},
     "output_type": "execute_result"
    }
   ],
   "source": [
    "df.iloc[0:2, :]"
   ]
  },
  {
   "cell_type": "code",
   "execution_count": 90,
   "id": "793677b1",
   "metadata": {},
   "outputs": [
    {
     "data": {
      "text/html": [
       "<div>\n",
       "<style scoped>\n",
       "    .dataframe tbody tr th:only-of-type {\n",
       "        vertical-align: middle;\n",
       "    }\n",
       "\n",
       "    .dataframe tbody tr th {\n",
       "        vertical-align: top;\n",
       "    }\n",
       "\n",
       "    .dataframe thead th {\n",
       "        text-align: right;\n",
       "    }\n",
       "</style>\n",
       "<table border=\"1\" class=\"dataframe\">\n",
       "  <thead>\n",
       "    <tr style=\"text-align: right;\">\n",
       "      <th></th>\n",
       "      <th>A</th>\n",
       "      <th>B</th>\n",
       "    </tr>\n",
       "  </thead>\n",
       "  <tbody>\n",
       "    <tr>\n",
       "      <th>1</th>\n",
       "      <td>1</td>\n",
       "      <td>2</td>\n",
       "    </tr>\n",
       "    <tr>\n",
       "      <th>2</th>\n",
       "      <td>3</td>\n",
       "      <td>4</td>\n",
       "    </tr>\n",
       "  </tbody>\n",
       "</table>\n",
       "</div>"
      ],
      "text/plain": [
       "   A  B\n",
       "1  1  2\n",
       "2  3  4"
      ]
     },
     "execution_count": 90,
     "metadata": {},
     "output_type": "execute_result"
    }
   ],
   "source": [
    "df.iloc[0:2, 0:2]"
   ]
  },
  {
   "cell_type": "code",
   "execution_count": 91,
   "id": "6e7c28d7",
   "metadata": {},
   "outputs": [
    {
     "data": {
      "text/html": [
       "<div>\n",
       "<style scoped>\n",
       "    .dataframe tbody tr th:only-of-type {\n",
       "        vertical-align: middle;\n",
       "    }\n",
       "\n",
       "    .dataframe tbody tr th {\n",
       "        vertical-align: top;\n",
       "    }\n",
       "\n",
       "    .dataframe thead th {\n",
       "        text-align: right;\n",
       "    }\n",
       "</style>\n",
       "<table border=\"1\" class=\"dataframe\">\n",
       "  <thead>\n",
       "    <tr style=\"text-align: right;\">\n",
       "      <th></th>\n",
       "      <th>B</th>\n",
       "      <th>A</th>\n",
       "    </tr>\n",
       "  </thead>\n",
       "  <tbody>\n",
       "    <tr>\n",
       "      <th>1</th>\n",
       "      <td>2</td>\n",
       "      <td>1</td>\n",
       "    </tr>\n",
       "    <tr>\n",
       "      <th>2</th>\n",
       "      <td>4</td>\n",
       "      <td>3</td>\n",
       "    </tr>\n",
       "    <tr>\n",
       "      <th>3</th>\n",
       "      <td>6</td>\n",
       "      <td>5</td>\n",
       "    </tr>\n",
       "  </tbody>\n",
       "</table>\n",
       "</div>"
      ],
      "text/plain": [
       "   B  A\n",
       "1  2  1\n",
       "2  4  3\n",
       "3  6  5"
      ]
     },
     "execution_count": 91,
     "metadata": {},
     "output_type": "execute_result"
    }
   ],
   "source": [
    "df.iloc[:, [1, 0]]"
   ]
  },
  {
   "cell_type": "code",
   "execution_count": 92,
   "id": "08e0459e",
   "metadata": {},
   "outputs": [
    {
     "data": {
      "text/html": [
       "<div>\n",
       "<style scoped>\n",
       "    .dataframe tbody tr th:only-of-type {\n",
       "        vertical-align: middle;\n",
       "    }\n",
       "\n",
       "    .dataframe tbody tr th {\n",
       "        vertical-align: top;\n",
       "    }\n",
       "\n",
       "    .dataframe thead th {\n",
       "        text-align: right;\n",
       "    }\n",
       "</style>\n",
       "<table border=\"1\" class=\"dataframe\">\n",
       "  <thead>\n",
       "    <tr style=\"text-align: right;\">\n",
       "      <th></th>\n",
       "      <th>A</th>\n",
       "      <th>B</th>\n",
       "    </tr>\n",
       "  </thead>\n",
       "  <tbody>\n",
       "    <tr>\n",
       "      <th>1</th>\n",
       "      <td>1</td>\n",
       "      <td>2</td>\n",
       "    </tr>\n",
       "    <tr>\n",
       "      <th>2</th>\n",
       "      <td>3</td>\n",
       "      <td>4</td>\n",
       "    </tr>\n",
       "    <tr>\n",
       "      <th>3</th>\n",
       "      <td>5</td>\n",
       "      <td>6</td>\n",
       "    </tr>\n",
       "  </tbody>\n",
       "</table>\n",
       "</div>"
      ],
      "text/plain": [
       "   A  B\n",
       "1  1  2\n",
       "2  3  4\n",
       "3  5  6"
      ]
     },
     "execution_count": 92,
     "metadata": {},
     "output_type": "execute_result"
    }
   ],
   "source": [
    "df"
   ]
  },
  {
   "cell_type": "code",
   "execution_count": 93,
   "id": "f9bdd0fd",
   "metadata": {},
   "outputs": [
    {
     "data": {
      "text/plain": [
       "A    1\n",
       "B    2\n",
       "Name: 1, dtype: int32"
      ]
     },
     "execution_count": 93,
     "metadata": {},
     "output_type": "execute_result"
    }
   ],
   "source": [
    "df.loc[1]"
   ]
  },
  {
   "cell_type": "code",
   "execution_count": 94,
   "id": "58ea98dc",
   "metadata": {},
   "outputs": [
    {
     "data": {
      "text/html": [
       "<div>\n",
       "<style scoped>\n",
       "    .dataframe tbody tr th:only-of-type {\n",
       "        vertical-align: middle;\n",
       "    }\n",
       "\n",
       "    .dataframe tbody tr th {\n",
       "        vertical-align: top;\n",
       "    }\n",
       "\n",
       "    .dataframe thead th {\n",
       "        text-align: right;\n",
       "    }\n",
       "</style>\n",
       "<table border=\"1\" class=\"dataframe\">\n",
       "  <thead>\n",
       "    <tr style=\"text-align: right;\">\n",
       "      <th></th>\n",
       "      <th>A</th>\n",
       "      <th>B</th>\n",
       "    </tr>\n",
       "  </thead>\n",
       "  <tbody>\n",
       "    <tr>\n",
       "      <th>1</th>\n",
       "      <td>1</td>\n",
       "      <td>2</td>\n",
       "    </tr>\n",
       "  </tbody>\n",
       "</table>\n",
       "</div>"
      ],
      "text/plain": [
       "   A  B\n",
       "1  1  2"
      ]
     },
     "execution_count": 94,
     "metadata": {},
     "output_type": "execute_result"
    }
   ],
   "source": [
    "df.loc[[1]]"
   ]
  },
  {
   "cell_type": "code",
   "execution_count": 97,
   "id": "4315ebca",
   "metadata": {},
   "outputs": [
    {
     "data": {
      "text/html": [
       "<div>\n",
       "<style scoped>\n",
       "    .dataframe tbody tr th:only-of-type {\n",
       "        vertical-align: middle;\n",
       "    }\n",
       "\n",
       "    .dataframe tbody tr th {\n",
       "        vertical-align: top;\n",
       "    }\n",
       "\n",
       "    .dataframe thead th {\n",
       "        text-align: right;\n",
       "    }\n",
       "</style>\n",
       "<table border=\"1\" class=\"dataframe\">\n",
       "  <thead>\n",
       "    <tr style=\"text-align: right;\">\n",
       "      <th></th>\n",
       "      <th>A</th>\n",
       "      <th>B</th>\n",
       "    </tr>\n",
       "  </thead>\n",
       "  <tbody>\n",
       "    <tr>\n",
       "      <th>1</th>\n",
       "      <td>1</td>\n",
       "      <td>2</td>\n",
       "    </tr>\n",
       "    <tr>\n",
       "      <th>2</th>\n",
       "      <td>3</td>\n",
       "      <td>4</td>\n",
       "    </tr>\n",
       "  </tbody>\n",
       "</table>\n",
       "</div>"
      ],
      "text/plain": [
       "   A  B\n",
       "1  1  2\n",
       "2  3  4"
      ]
     },
     "execution_count": 97,
     "metadata": {},
     "output_type": "execute_result"
    }
   ],
   "source": [
    "df.loc[1:2]"
   ]
  },
  {
   "cell_type": "code",
   "execution_count": 98,
   "id": "cb33a880",
   "metadata": {},
   "outputs": [
    {
     "data": {
      "text/html": [
       "<div>\n",
       "<style scoped>\n",
       "    .dataframe tbody tr th:only-of-type {\n",
       "        vertical-align: middle;\n",
       "    }\n",
       "\n",
       "    .dataframe tbody tr th {\n",
       "        vertical-align: top;\n",
       "    }\n",
       "\n",
       "    .dataframe thead th {\n",
       "        text-align: right;\n",
       "    }\n",
       "</style>\n",
       "<table border=\"1\" class=\"dataframe\">\n",
       "  <thead>\n",
       "    <tr style=\"text-align: right;\">\n",
       "      <th></th>\n",
       "      <th>A</th>\n",
       "      <th>B</th>\n",
       "    </tr>\n",
       "  </thead>\n",
       "  <tbody>\n",
       "    <tr>\n",
       "      <th>1</th>\n",
       "      <td>1</td>\n",
       "      <td>2</td>\n",
       "    </tr>\n",
       "    <tr>\n",
       "      <th>2</th>\n",
       "      <td>3</td>\n",
       "      <td>4</td>\n",
       "    </tr>\n",
       "  </tbody>\n",
       "</table>\n",
       "</div>"
      ],
      "text/plain": [
       "   A  B\n",
       "1  1  2\n",
       "2  3  4"
      ]
     },
     "execution_count": 98,
     "metadata": {},
     "output_type": "execute_result"
    }
   ],
   "source": [
    "df.loc[1:2, :]"
   ]
  },
  {
   "cell_type": "code",
   "execution_count": 99,
   "id": "a5efe014",
   "metadata": {},
   "outputs": [
    {
     "data": {
      "text/html": [
       "<div>\n",
       "<style scoped>\n",
       "    .dataframe tbody tr th:only-of-type {\n",
       "        vertical-align: middle;\n",
       "    }\n",
       "\n",
       "    .dataframe tbody tr th {\n",
       "        vertical-align: top;\n",
       "    }\n",
       "\n",
       "    .dataframe thead th {\n",
       "        text-align: right;\n",
       "    }\n",
       "</style>\n",
       "<table border=\"1\" class=\"dataframe\">\n",
       "  <thead>\n",
       "    <tr style=\"text-align: right;\">\n",
       "      <th></th>\n",
       "      <th>A</th>\n",
       "      <th>B</th>\n",
       "    </tr>\n",
       "  </thead>\n",
       "  <tbody>\n",
       "    <tr>\n",
       "      <th>1</th>\n",
       "      <td>1</td>\n",
       "      <td>2</td>\n",
       "    </tr>\n",
       "    <tr>\n",
       "      <th>2</th>\n",
       "      <td>3</td>\n",
       "      <td>4</td>\n",
       "    </tr>\n",
       "  </tbody>\n",
       "</table>\n",
       "</div>"
      ],
      "text/plain": [
       "   A  B\n",
       "1  1  2\n",
       "2  3  4"
      ]
     },
     "execution_count": 99,
     "metadata": {},
     "output_type": "execute_result"
    }
   ],
   "source": [
    "df.iloc[0:2, 0:2]"
   ]
  },
  {
   "cell_type": "code",
   "execution_count": 100,
   "id": "3f042147",
   "metadata": {},
   "outputs": [
    {
     "data": {
      "text/html": [
       "<div>\n",
       "<style scoped>\n",
       "    .dataframe tbody tr th:only-of-type {\n",
       "        vertical-align: middle;\n",
       "    }\n",
       "\n",
       "    .dataframe tbody tr th {\n",
       "        vertical-align: top;\n",
       "    }\n",
       "\n",
       "    .dataframe thead th {\n",
       "        text-align: right;\n",
       "    }\n",
       "</style>\n",
       "<table border=\"1\" class=\"dataframe\">\n",
       "  <thead>\n",
       "    <tr style=\"text-align: right;\">\n",
       "      <th></th>\n",
       "      <th>A</th>\n",
       "      <th>B</th>\n",
       "    </tr>\n",
       "  </thead>\n",
       "  <tbody>\n",
       "    <tr>\n",
       "      <th>1</th>\n",
       "      <td>1</td>\n",
       "      <td>2</td>\n",
       "    </tr>\n",
       "    <tr>\n",
       "      <th>2</th>\n",
       "      <td>3</td>\n",
       "      <td>4</td>\n",
       "    </tr>\n",
       "  </tbody>\n",
       "</table>\n",
       "</div>"
      ],
      "text/plain": [
       "   A  B\n",
       "1  1  2\n",
       "2  3  4"
      ]
     },
     "execution_count": 100,
     "metadata": {},
     "output_type": "execute_result"
    }
   ],
   "source": [
    "df.loc[1:2, 'A':'B']"
   ]
  },
  {
   "cell_type": "code",
   "execution_count": 101,
   "id": "9d434179",
   "metadata": {},
   "outputs": [
    {
     "data": {
      "text/html": [
       "<div>\n",
       "<style scoped>\n",
       "    .dataframe tbody tr th:only-of-type {\n",
       "        vertical-align: middle;\n",
       "    }\n",
       "\n",
       "    .dataframe tbody tr th {\n",
       "        vertical-align: top;\n",
       "    }\n",
       "\n",
       "    .dataframe thead th {\n",
       "        text-align: right;\n",
       "    }\n",
       "</style>\n",
       "<table border=\"1\" class=\"dataframe\">\n",
       "  <thead>\n",
       "    <tr style=\"text-align: right;\">\n",
       "      <th></th>\n",
       "      <th>B</th>\n",
       "      <th>A</th>\n",
       "    </tr>\n",
       "  </thead>\n",
       "  <tbody>\n",
       "    <tr>\n",
       "      <th>1</th>\n",
       "      <td>2</td>\n",
       "      <td>1</td>\n",
       "    </tr>\n",
       "    <tr>\n",
       "      <th>2</th>\n",
       "      <td>4</td>\n",
       "      <td>3</td>\n",
       "    </tr>\n",
       "    <tr>\n",
       "      <th>3</th>\n",
       "      <td>6</td>\n",
       "      <td>5</td>\n",
       "    </tr>\n",
       "  </tbody>\n",
       "</table>\n",
       "</div>"
      ],
      "text/plain": [
       "   B  A\n",
       "1  2  1\n",
       "2  4  3\n",
       "3  6  5"
      ]
     },
     "execution_count": 101,
     "metadata": {},
     "output_type": "execute_result"
    }
   ],
   "source": [
    "df.loc[:, ['B', 'A']]"
   ]
  },
  {
   "cell_type": "code",
   "execution_count": null,
   "id": "bb533e61",
   "metadata": {},
   "outputs": [],
   "source": []
  }
 ],
 "metadata": {
  "kernelspec": {
   "display_name": "Python 3 (ipykernel)",
   "language": "python",
   "name": "python3"
  },
  "language_info": {
   "codemirror_mode": {
    "name": "ipython",
    "version": 3
   },
   "file_extension": ".py",
   "mimetype": "text/x-python",
   "name": "python",
   "nbconvert_exporter": "python",
   "pygments_lexer": "ipython3",
   "version": "3.10.9"
  }
 },
 "nbformat": 4,
 "nbformat_minor": 5
}
